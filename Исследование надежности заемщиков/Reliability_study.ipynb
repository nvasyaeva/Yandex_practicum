{
 "cells": [
  {
   "cell_type": "markdown",
   "id": "de6a6596",
   "metadata": {
    "deletable": false,
    "editable": false,
    "id": "c81daeeb"
   },
   "source": [
    "# Исследование надежности заемщиков\n"
   ]
  },
  {
   "cell_type": "markdown",
   "id": "21c1c52d",
   "metadata": {},
   "source": [
    "**Цель работы: исследовать влияет ли семейное положение, количество детей клиента и другие критерии на факт погашения кредита в срок.**\n",
    "\n",
    "Входные данные от банка — статистика о платёжеспособности клиентов. \n",
    "\n",
    "Описание данных  \n",
    "children — количество детей в семье  \n",
    "days_employed — общий трудовой стаж в днях  \n",
    "dob_years — возраст клиента в годах  \n",
    "education — уровень образования клиента  \n",
    "education_id — идентификатор уровня образования  \n",
    "family_status — семейное положение  \n",
    "family_status_id — идентификатор семейного положения  \n",
    "gender — пол клиента  \n",
    "income_type — тип занятости  \n",
    "debt — имел ли задолженность по возврату кредитов  \n",
    "total_income — ежемесячный доход  \n",
    "purpose — цель получения кредита  \n",
    "\n",
    "Работу можно разделить на два раздела: первый - это подготовка входных данных, второй раздел - получение необходимых метрик и выводы. "
   ]
  },
  {
   "cell_type": "markdown",
   "id": "c872a941",
   "metadata": {
    "deletable": false,
    "editable": false,
    "id": "827c20bf"
   },
   "source": [
    "Во второй части проекта вы выполните шаги 3 и 4. Их вручную проверит ревьюер.\n",
    "Чтобы вам не пришлось писать код заново для шагов 1 и 2, мы добавили авторские решения в ячейки с кодом. \n",
    "\n"
   ]
  },
  {
   "cell_type": "markdown",
   "id": "8d17ae12",
   "metadata": {
    "deletable": false,
    "editable": false,
    "id": "744d7639"
   },
   "source": [
    "## Откройте таблицу и изучите общую информацию о данных"
   ]
  },
  {
   "cell_type": "markdown",
   "id": "8842e2c1",
   "metadata": {
    "deletable": false,
    "editable": false,
    "id": "e7a14c31"
   },
   "source": [
    "**Задание 1. Импортируйте библиотеку pandas. Считайте данные из csv-файла в датафрейм и сохраните в переменную `data`. Путь к файлу:**\n",
    "\n",
    "`/datasets/data.csv`"
   ]
  },
  {
   "cell_type": "code",
   "execution_count": 1,
   "id": "f7b5eb65",
   "metadata": {},
   "outputs": [],
   "source": [
    "import pandas as pd\n",
    "import matplotlib.pyplot as plt"
   ]
  },
  {
   "cell_type": "code",
   "execution_count": 2,
   "id": "e0e0e2aa",
   "metadata": {
    "deletable": false,
    "id": "7bcf75c9"
   },
   "outputs": [],
   "source": [
    "try:\n",
    "    data = pd.read_csv('/datasets/data.csv')\n",
    "except:\n",
    "    data = pd.read_csv('https://code.s3.yandex.net/datasets/data.csv')"
   ]
  },
  {
   "cell_type": "markdown",
   "id": "ba07e8f5",
   "metadata": {
    "deletable": false,
    "editable": false,
    "id": "b8038fe3"
   },
   "source": [
    "**Задание 2. Выведите первые 20 строчек датафрейма `data` на экран.**"
   ]
  },
  {
   "cell_type": "code",
   "execution_count": 3,
   "id": "377c2a5d",
   "metadata": {
    "deletable": false,
    "id": "2a7cab99",
    "outputId": "1a8f3ef2-d323-4ec2-ddf7-89670b5944c4"
   },
   "outputs": [
    {
     "data": {
      "text/html": [
       "<div>\n",
       "<style scoped>\n",
       "    .dataframe tbody tr th:only-of-type {\n",
       "        vertical-align: middle;\n",
       "    }\n",
       "\n",
       "    .dataframe tbody tr th {\n",
       "        vertical-align: top;\n",
       "    }\n",
       "\n",
       "    .dataframe thead th {\n",
       "        text-align: right;\n",
       "    }\n",
       "</style>\n",
       "<table border=\"1\" class=\"dataframe\">\n",
       "  <thead>\n",
       "    <tr style=\"text-align: right;\">\n",
       "      <th></th>\n",
       "      <th>children</th>\n",
       "      <th>days_employed</th>\n",
       "      <th>dob_years</th>\n",
       "      <th>education</th>\n",
       "      <th>education_id</th>\n",
       "      <th>family_status</th>\n",
       "      <th>family_status_id</th>\n",
       "      <th>gender</th>\n",
       "      <th>income_type</th>\n",
       "      <th>debt</th>\n",
       "      <th>total_income</th>\n",
       "      <th>purpose</th>\n",
       "    </tr>\n",
       "  </thead>\n",
       "  <tbody>\n",
       "    <tr>\n",
       "      <th>0</th>\n",
       "      <td>1</td>\n",
       "      <td>-8437.673028</td>\n",
       "      <td>42</td>\n",
       "      <td>высшее</td>\n",
       "      <td>0</td>\n",
       "      <td>женат / замужем</td>\n",
       "      <td>0</td>\n",
       "      <td>F</td>\n",
       "      <td>сотрудник</td>\n",
       "      <td>0</td>\n",
       "      <td>253875.639453</td>\n",
       "      <td>покупка жилья</td>\n",
       "    </tr>\n",
       "    <tr>\n",
       "      <th>1</th>\n",
       "      <td>1</td>\n",
       "      <td>-4024.803754</td>\n",
       "      <td>36</td>\n",
       "      <td>среднее</td>\n",
       "      <td>1</td>\n",
       "      <td>женат / замужем</td>\n",
       "      <td>0</td>\n",
       "      <td>F</td>\n",
       "      <td>сотрудник</td>\n",
       "      <td>0</td>\n",
       "      <td>112080.014102</td>\n",
       "      <td>приобретение автомобиля</td>\n",
       "    </tr>\n",
       "    <tr>\n",
       "      <th>2</th>\n",
       "      <td>0</td>\n",
       "      <td>-5623.422610</td>\n",
       "      <td>33</td>\n",
       "      <td>Среднее</td>\n",
       "      <td>1</td>\n",
       "      <td>женат / замужем</td>\n",
       "      <td>0</td>\n",
       "      <td>M</td>\n",
       "      <td>сотрудник</td>\n",
       "      <td>0</td>\n",
       "      <td>145885.952297</td>\n",
       "      <td>покупка жилья</td>\n",
       "    </tr>\n",
       "    <tr>\n",
       "      <th>3</th>\n",
       "      <td>3</td>\n",
       "      <td>-4124.747207</td>\n",
       "      <td>32</td>\n",
       "      <td>среднее</td>\n",
       "      <td>1</td>\n",
       "      <td>женат / замужем</td>\n",
       "      <td>0</td>\n",
       "      <td>M</td>\n",
       "      <td>сотрудник</td>\n",
       "      <td>0</td>\n",
       "      <td>267628.550329</td>\n",
       "      <td>дополнительное образование</td>\n",
       "    </tr>\n",
       "    <tr>\n",
       "      <th>4</th>\n",
       "      <td>0</td>\n",
       "      <td>340266.072047</td>\n",
       "      <td>53</td>\n",
       "      <td>среднее</td>\n",
       "      <td>1</td>\n",
       "      <td>гражданский брак</td>\n",
       "      <td>1</td>\n",
       "      <td>F</td>\n",
       "      <td>пенсионер</td>\n",
       "      <td>0</td>\n",
       "      <td>158616.077870</td>\n",
       "      <td>сыграть свадьбу</td>\n",
       "    </tr>\n",
       "    <tr>\n",
       "      <th>5</th>\n",
       "      <td>0</td>\n",
       "      <td>-926.185831</td>\n",
       "      <td>27</td>\n",
       "      <td>высшее</td>\n",
       "      <td>0</td>\n",
       "      <td>гражданский брак</td>\n",
       "      <td>1</td>\n",
       "      <td>M</td>\n",
       "      <td>компаньон</td>\n",
       "      <td>0</td>\n",
       "      <td>255763.565419</td>\n",
       "      <td>покупка жилья</td>\n",
       "    </tr>\n",
       "    <tr>\n",
       "      <th>6</th>\n",
       "      <td>0</td>\n",
       "      <td>-2879.202052</td>\n",
       "      <td>43</td>\n",
       "      <td>высшее</td>\n",
       "      <td>0</td>\n",
       "      <td>женат / замужем</td>\n",
       "      <td>0</td>\n",
       "      <td>F</td>\n",
       "      <td>компаньон</td>\n",
       "      <td>0</td>\n",
       "      <td>240525.971920</td>\n",
       "      <td>операции с жильем</td>\n",
       "    </tr>\n",
       "    <tr>\n",
       "      <th>7</th>\n",
       "      <td>0</td>\n",
       "      <td>-152.779569</td>\n",
       "      <td>50</td>\n",
       "      <td>СРЕДНЕЕ</td>\n",
       "      <td>1</td>\n",
       "      <td>женат / замужем</td>\n",
       "      <td>0</td>\n",
       "      <td>M</td>\n",
       "      <td>сотрудник</td>\n",
       "      <td>0</td>\n",
       "      <td>135823.934197</td>\n",
       "      <td>образование</td>\n",
       "    </tr>\n",
       "    <tr>\n",
       "      <th>8</th>\n",
       "      <td>2</td>\n",
       "      <td>-6929.865299</td>\n",
       "      <td>35</td>\n",
       "      <td>ВЫСШЕЕ</td>\n",
       "      <td>0</td>\n",
       "      <td>гражданский брак</td>\n",
       "      <td>1</td>\n",
       "      <td>F</td>\n",
       "      <td>сотрудник</td>\n",
       "      <td>0</td>\n",
       "      <td>95856.832424</td>\n",
       "      <td>на проведение свадьбы</td>\n",
       "    </tr>\n",
       "    <tr>\n",
       "      <th>9</th>\n",
       "      <td>0</td>\n",
       "      <td>-2188.756445</td>\n",
       "      <td>41</td>\n",
       "      <td>среднее</td>\n",
       "      <td>1</td>\n",
       "      <td>женат / замужем</td>\n",
       "      <td>0</td>\n",
       "      <td>M</td>\n",
       "      <td>сотрудник</td>\n",
       "      <td>0</td>\n",
       "      <td>144425.938277</td>\n",
       "      <td>покупка жилья для семьи</td>\n",
       "    </tr>\n",
       "    <tr>\n",
       "      <th>10</th>\n",
       "      <td>2</td>\n",
       "      <td>-4171.483647</td>\n",
       "      <td>36</td>\n",
       "      <td>высшее</td>\n",
       "      <td>0</td>\n",
       "      <td>женат / замужем</td>\n",
       "      <td>0</td>\n",
       "      <td>M</td>\n",
       "      <td>компаньон</td>\n",
       "      <td>0</td>\n",
       "      <td>113943.491460</td>\n",
       "      <td>покупка недвижимости</td>\n",
       "    </tr>\n",
       "    <tr>\n",
       "      <th>11</th>\n",
       "      <td>0</td>\n",
       "      <td>-792.701887</td>\n",
       "      <td>40</td>\n",
       "      <td>среднее</td>\n",
       "      <td>1</td>\n",
       "      <td>женат / замужем</td>\n",
       "      <td>0</td>\n",
       "      <td>F</td>\n",
       "      <td>сотрудник</td>\n",
       "      <td>0</td>\n",
       "      <td>77069.234271</td>\n",
       "      <td>покупка коммерческой недвижимости</td>\n",
       "    </tr>\n",
       "    <tr>\n",
       "      <th>12</th>\n",
       "      <td>0</td>\n",
       "      <td>NaN</td>\n",
       "      <td>65</td>\n",
       "      <td>среднее</td>\n",
       "      <td>1</td>\n",
       "      <td>гражданский брак</td>\n",
       "      <td>1</td>\n",
       "      <td>M</td>\n",
       "      <td>пенсионер</td>\n",
       "      <td>0</td>\n",
       "      <td>NaN</td>\n",
       "      <td>сыграть свадьбу</td>\n",
       "    </tr>\n",
       "    <tr>\n",
       "      <th>13</th>\n",
       "      <td>0</td>\n",
       "      <td>-1846.641941</td>\n",
       "      <td>54</td>\n",
       "      <td>неоконченное высшее</td>\n",
       "      <td>2</td>\n",
       "      <td>женат / замужем</td>\n",
       "      <td>0</td>\n",
       "      <td>F</td>\n",
       "      <td>сотрудник</td>\n",
       "      <td>0</td>\n",
       "      <td>130458.228857</td>\n",
       "      <td>приобретение автомобиля</td>\n",
       "    </tr>\n",
       "    <tr>\n",
       "      <th>14</th>\n",
       "      <td>0</td>\n",
       "      <td>-1844.956182</td>\n",
       "      <td>56</td>\n",
       "      <td>высшее</td>\n",
       "      <td>0</td>\n",
       "      <td>гражданский брак</td>\n",
       "      <td>1</td>\n",
       "      <td>F</td>\n",
       "      <td>компаньон</td>\n",
       "      <td>1</td>\n",
       "      <td>165127.911772</td>\n",
       "      <td>покупка жилой недвижимости</td>\n",
       "    </tr>\n",
       "    <tr>\n",
       "      <th>15</th>\n",
       "      <td>1</td>\n",
       "      <td>-972.364419</td>\n",
       "      <td>26</td>\n",
       "      <td>среднее</td>\n",
       "      <td>1</td>\n",
       "      <td>женат / замужем</td>\n",
       "      <td>0</td>\n",
       "      <td>F</td>\n",
       "      <td>сотрудник</td>\n",
       "      <td>0</td>\n",
       "      <td>116820.904450</td>\n",
       "      <td>строительство собственной недвижимости</td>\n",
       "    </tr>\n",
       "    <tr>\n",
       "      <th>16</th>\n",
       "      <td>0</td>\n",
       "      <td>-1719.934226</td>\n",
       "      <td>35</td>\n",
       "      <td>среднее</td>\n",
       "      <td>1</td>\n",
       "      <td>женат / замужем</td>\n",
       "      <td>0</td>\n",
       "      <td>F</td>\n",
       "      <td>сотрудник</td>\n",
       "      <td>0</td>\n",
       "      <td>289202.704229</td>\n",
       "      <td>недвижимость</td>\n",
       "    </tr>\n",
       "    <tr>\n",
       "      <th>17</th>\n",
       "      <td>0</td>\n",
       "      <td>-2369.999720</td>\n",
       "      <td>33</td>\n",
       "      <td>высшее</td>\n",
       "      <td>0</td>\n",
       "      <td>гражданский брак</td>\n",
       "      <td>1</td>\n",
       "      <td>M</td>\n",
       "      <td>сотрудник</td>\n",
       "      <td>0</td>\n",
       "      <td>90410.586745</td>\n",
       "      <td>строительство недвижимости</td>\n",
       "    </tr>\n",
       "    <tr>\n",
       "      <th>18</th>\n",
       "      <td>0</td>\n",
       "      <td>400281.136913</td>\n",
       "      <td>53</td>\n",
       "      <td>среднее</td>\n",
       "      <td>1</td>\n",
       "      <td>вдовец / вдова</td>\n",
       "      <td>2</td>\n",
       "      <td>F</td>\n",
       "      <td>пенсионер</td>\n",
       "      <td>0</td>\n",
       "      <td>56823.777243</td>\n",
       "      <td>на покупку подержанного автомобиля</td>\n",
       "    </tr>\n",
       "    <tr>\n",
       "      <th>19</th>\n",
       "      <td>0</td>\n",
       "      <td>-10038.818549</td>\n",
       "      <td>48</td>\n",
       "      <td>СРЕДНЕЕ</td>\n",
       "      <td>1</td>\n",
       "      <td>в разводе</td>\n",
       "      <td>3</td>\n",
       "      <td>F</td>\n",
       "      <td>сотрудник</td>\n",
       "      <td>0</td>\n",
       "      <td>242831.107982</td>\n",
       "      <td>на покупку своего автомобиля</td>\n",
       "    </tr>\n",
       "  </tbody>\n",
       "</table>\n",
       "</div>"
      ],
      "text/plain": [
       "    children  days_employed  dob_years            education  education_id  \\\n",
       "0          1   -8437.673028         42               высшее             0   \n",
       "1          1   -4024.803754         36              среднее             1   \n",
       "2          0   -5623.422610         33              Среднее             1   \n",
       "3          3   -4124.747207         32              среднее             1   \n",
       "4          0  340266.072047         53              среднее             1   \n",
       "5          0    -926.185831         27               высшее             0   \n",
       "6          0   -2879.202052         43               высшее             0   \n",
       "7          0    -152.779569         50              СРЕДНЕЕ             1   \n",
       "8          2   -6929.865299         35               ВЫСШЕЕ             0   \n",
       "9          0   -2188.756445         41              среднее             1   \n",
       "10         2   -4171.483647         36               высшее             0   \n",
       "11         0    -792.701887         40              среднее             1   \n",
       "12         0            NaN         65              среднее             1   \n",
       "13         0   -1846.641941         54  неоконченное высшее             2   \n",
       "14         0   -1844.956182         56               высшее             0   \n",
       "15         1    -972.364419         26              среднее             1   \n",
       "16         0   -1719.934226         35              среднее             1   \n",
       "17         0   -2369.999720         33               высшее             0   \n",
       "18         0  400281.136913         53              среднее             1   \n",
       "19         0  -10038.818549         48              СРЕДНЕЕ             1   \n",
       "\n",
       "       family_status  family_status_id gender income_type  debt  \\\n",
       "0    женат / замужем                 0      F   сотрудник     0   \n",
       "1    женат / замужем                 0      F   сотрудник     0   \n",
       "2    женат / замужем                 0      M   сотрудник     0   \n",
       "3    женат / замужем                 0      M   сотрудник     0   \n",
       "4   гражданский брак                 1      F   пенсионер     0   \n",
       "5   гражданский брак                 1      M   компаньон     0   \n",
       "6    женат / замужем                 0      F   компаньон     0   \n",
       "7    женат / замужем                 0      M   сотрудник     0   \n",
       "8   гражданский брак                 1      F   сотрудник     0   \n",
       "9    женат / замужем                 0      M   сотрудник     0   \n",
       "10   женат / замужем                 0      M   компаньон     0   \n",
       "11   женат / замужем                 0      F   сотрудник     0   \n",
       "12  гражданский брак                 1      M   пенсионер     0   \n",
       "13   женат / замужем                 0      F   сотрудник     0   \n",
       "14  гражданский брак                 1      F   компаньон     1   \n",
       "15   женат / замужем                 0      F   сотрудник     0   \n",
       "16   женат / замужем                 0      F   сотрудник     0   \n",
       "17  гражданский брак                 1      M   сотрудник     0   \n",
       "18    вдовец / вдова                 2      F   пенсионер     0   \n",
       "19         в разводе                 3      F   сотрудник     0   \n",
       "\n",
       "     total_income                                 purpose  \n",
       "0   253875.639453                           покупка жилья  \n",
       "1   112080.014102                 приобретение автомобиля  \n",
       "2   145885.952297                           покупка жилья  \n",
       "3   267628.550329              дополнительное образование  \n",
       "4   158616.077870                         сыграть свадьбу  \n",
       "5   255763.565419                           покупка жилья  \n",
       "6   240525.971920                       операции с жильем  \n",
       "7   135823.934197                             образование  \n",
       "8    95856.832424                   на проведение свадьбы  \n",
       "9   144425.938277                 покупка жилья для семьи  \n",
       "10  113943.491460                    покупка недвижимости  \n",
       "11   77069.234271       покупка коммерческой недвижимости  \n",
       "12            NaN                         сыграть свадьбу  \n",
       "13  130458.228857                 приобретение автомобиля  \n",
       "14  165127.911772              покупка жилой недвижимости  \n",
       "15  116820.904450  строительство собственной недвижимости  \n",
       "16  289202.704229                            недвижимость  \n",
       "17   90410.586745              строительство недвижимости  \n",
       "18   56823.777243      на покупку подержанного автомобиля  \n",
       "19  242831.107982            на покупку своего автомобиля  "
      ]
     },
     "execution_count": 3,
     "metadata": {},
     "output_type": "execute_result"
    }
   ],
   "source": [
    "data.head(20)"
   ]
  },
  {
   "cell_type": "markdown",
   "id": "754ca1ab",
   "metadata": {
    "deletable": false,
    "editable": false,
    "id": "1c12e233"
   },
   "source": [
    "**Задание 3. Выведите основную информацию о датафрейме с помощью метода `info()`.**"
   ]
  },
  {
   "cell_type": "code",
   "execution_count": 4,
   "id": "e869efb4",
   "metadata": {
    "deletable": false,
    "id": "2b757bca",
    "outputId": "15376089-8dad-46c9-b520-c05248d43158"
   },
   "outputs": [
    {
     "name": "stdout",
     "output_type": "stream",
     "text": [
      "<class 'pandas.core.frame.DataFrame'>\n",
      "RangeIndex: 21525 entries, 0 to 21524\n",
      "Data columns (total 12 columns):\n",
      " #   Column            Non-Null Count  Dtype  \n",
      "---  ------            --------------  -----  \n",
      " 0   children          21525 non-null  int64  \n",
      " 1   days_employed     19351 non-null  float64\n",
      " 2   dob_years         21525 non-null  int64  \n",
      " 3   education         21525 non-null  object \n",
      " 4   education_id      21525 non-null  int64  \n",
      " 5   family_status     21525 non-null  object \n",
      " 6   family_status_id  21525 non-null  int64  \n",
      " 7   gender            21525 non-null  object \n",
      " 8   income_type       21525 non-null  object \n",
      " 9   debt              21525 non-null  int64  \n",
      " 10  total_income      19351 non-null  float64\n",
      " 11  purpose           21525 non-null  object \n",
      "dtypes: float64(2), int64(5), object(5)\n",
      "memory usage: 2.0+ MB\n"
     ]
    }
   ],
   "source": [
    "data.info()"
   ]
  },
  {
   "cell_type": "markdown",
   "id": "a23c34d1",
   "metadata": {
    "deletable": false,
    "editable": false,
    "id": "333ec665"
   },
   "source": [
    "## Предобработка данных"
   ]
  },
  {
   "cell_type": "markdown",
   "id": "62c4458b",
   "metadata": {
    "deletable": false,
    "editable": false,
    "id": "02d92d53"
   },
   "source": [
    "### Удаление пропусков"
   ]
  },
  {
   "cell_type": "markdown",
   "id": "444a521a",
   "metadata": {
    "deletable": false,
    "editable": false,
    "id": "cd84967c"
   },
   "source": [
    "**Задание 4. Выведите количество пропущенных значений для каждого столбца. Используйте комбинацию двух методов.**"
   ]
  },
  {
   "cell_type": "code",
   "execution_count": 5,
   "id": "3933c72c",
   "metadata": {
    "deletable": false,
    "id": "7f9b2309",
    "outputId": "81f4d817-781c-465c-ed15-91ce4446810d"
   },
   "outputs": [
    {
     "data": {
      "text/plain": [
       "children               0\n",
       "days_employed       2174\n",
       "dob_years              0\n",
       "education              0\n",
       "education_id           0\n",
       "family_status          0\n",
       "family_status_id       0\n",
       "gender                 0\n",
       "income_type            0\n",
       "debt                   0\n",
       "total_income        2174\n",
       "purpose                0\n",
       "dtype: int64"
      ]
     },
     "execution_count": 5,
     "metadata": {},
     "output_type": "execute_result"
    }
   ],
   "source": [
    "data.isna().sum()"
   ]
  },
  {
   "cell_type": "markdown",
   "id": "50e217db",
   "metadata": {
    "deletable": false,
    "editable": false,
    "id": "db86e27b"
   },
   "source": [
    "**Задание 5. В двух столбцах есть пропущенные значения. Один из них — `days_employed`. Пропуски в этом столбце вы обработаете на следующем этапе. Другой столбец с пропущенными значениями — `total_income` — хранит данные о доходах. На сумму дохода сильнее всего влияет тип занятости, поэтому заполнить пропуски в этом столбце нужно медианным значением по каждому типу из столбца `income_type`. Например, у человека с типом занятости `сотрудник` пропуск в столбце `total_income` должен быть заполнен медианным доходом среди всех записей с тем же типом.**"
   ]
  },
  {
   "cell_type": "code",
   "execution_count": 6,
   "id": "94f3576b",
   "metadata": {
    "deletable": false,
    "id": "42006a93"
   },
   "outputs": [],
   "source": [
    "for t in data['income_type'].unique():\n",
    "    data.loc[(data['income_type'] == t) & (data['total_income'].isna()), 'total_income'] = \\\n",
    "    data.loc[(data['income_type'] == t), 'total_income'].median()"
   ]
  },
  {
   "cell_type": "markdown",
   "id": "2e8f0856",
   "metadata": {
    "deletable": false,
    "editable": false,
    "id": "89da5ece"
   },
   "source": [
    "### Обработка аномальных значений"
   ]
  },
  {
   "cell_type": "markdown",
   "id": "bfa0bb36",
   "metadata": {
    "deletable": false,
    "editable": false,
    "id": "57964554"
   },
   "source": [
    "**Задание 6. В данных могут встречаться артефакты (аномалии) — значения, которые не отражают действительность и появились по какой-то ошибке. таким артефактом будет отрицательное количество дней трудового стажа в столбце `days_employed`. Для реальных данных это нормально. Обработайте значения в этом столбце: замените все отрицательные значения положительными с помощью метода `abs()`.**"
   ]
  },
  {
   "cell_type": "code",
   "execution_count": 7,
   "id": "f95de80b",
   "metadata": {
    "deletable": false,
    "id": "f6f055bf"
   },
   "outputs": [],
   "source": [
    "data['days_employed'] = data['days_employed'].abs()"
   ]
  },
  {
   "cell_type": "markdown",
   "id": "cdae47e9",
   "metadata": {
    "deletable": false,
    "editable": false,
    "id": "6107dd2f"
   },
   "source": [
    "**Задание 7. Для каждого типа занятости выведите медианное значение трудового стажа `days_employed` в днях.**"
   ]
  },
  {
   "cell_type": "code",
   "execution_count": 8,
   "id": "7a51617e",
   "metadata": {
    "deletable": false,
    "id": "85a5faf6",
    "outputId": "801ef80e-522b-4668-f34e-565af7432bcf"
   },
   "outputs": [
    {
     "data": {
      "text/plain": [
       "income_type\n",
       "безработный        366413.652744\n",
       "в декрете            3296.759962\n",
       "госслужащий          2689.368353\n",
       "компаньон            1547.382223\n",
       "пенсионер          365213.306266\n",
       "предприниматель       520.848083\n",
       "сотрудник            1574.202821\n",
       "студент               578.751554\n",
       "Name: days_employed, dtype: float64"
      ]
     },
     "execution_count": 8,
     "metadata": {},
     "output_type": "execute_result"
    }
   ],
   "source": [
    "data.groupby('income_type')['days_employed'].agg('median')"
   ]
  },
  {
   "cell_type": "markdown",
   "id": "81f41342",
   "metadata": {
    "deletable": false,
    "editable": false,
    "id": "38d1a030"
   },
   "source": [
    "У двух типов (безработные и пенсионеры) получатся аномально большие значения. Исправить такие значения сложно, поэтому оставьте их как есть. Тем более этот столбец не понадобится вам для исследования."
   ]
  },
  {
   "cell_type": "markdown",
   "id": "fb7646c0",
   "metadata": {
    "deletable": false,
    "editable": false,
    "id": "d8a9f147"
   },
   "source": [
    "**Задание 8. Выведите перечень уникальных значений столбца `children`.**"
   ]
  },
  {
   "cell_type": "code",
   "execution_count": 9,
   "id": "e06cc4a7",
   "metadata": {
    "deletable": false,
    "id": "ef5056eb",
    "outputId": "6975b15c-7f95-4697-d16d-a0c79b657b03"
   },
   "outputs": [
    {
     "data": {
      "text/plain": [
       "array([ 1,  0,  3,  2, -1,  4, 20,  5])"
      ]
     },
     "execution_count": 9,
     "metadata": {},
     "output_type": "execute_result"
    }
   ],
   "source": [
    "data['children'].unique()"
   ]
  },
  {
   "cell_type": "markdown",
   "id": "91c451b4",
   "metadata": {
    "deletable": false,
    "editable": false,
    "id": "40b9ebf2"
   },
   "source": [
    "**Задание 9. В столбце `children` есть два аномальных значения. Удалите строки, в которых встречаются такие аномальные значения из датафрейма `data`.**"
   ]
  },
  {
   "cell_type": "code",
   "execution_count": 10,
   "id": "82cdac10",
   "metadata": {
    "deletable": false,
    "id": "3ff9801d"
   },
   "outputs": [],
   "source": [
    "data = data[(data['children'] != -1) & (data['children'] != 20)]"
   ]
  },
  {
   "cell_type": "markdown",
   "id": "d3a94a08",
   "metadata": {
    "deletable": false,
    "editable": false,
    "id": "bbc4d0ce"
   },
   "source": [
    "**Задание 10. Ещё раз выведите перечень уникальных значений столбца `children`, чтобы убедиться, что артефакты удалены.**"
   ]
  },
  {
   "cell_type": "code",
   "execution_count": 11,
   "id": "43fa00e2",
   "metadata": {
    "deletable": false,
    "id": "ad4fa8b7",
    "outputId": "b2097101-d49d-44d9-901b-32a65c9463d1"
   },
   "outputs": [
    {
     "data": {
      "text/plain": [
       "array([1, 0, 3, 2, 4, 5])"
      ]
     },
     "execution_count": 11,
     "metadata": {},
     "output_type": "execute_result"
    }
   ],
   "source": [
    "data['children'].unique()"
   ]
  },
  {
   "cell_type": "markdown",
   "id": "084d8faf",
   "metadata": {
    "deletable": false,
    "editable": false,
    "id": "75440b63"
   },
   "source": [
    "### Удаление пропусков (продолжение)"
   ]
  },
  {
   "cell_type": "markdown",
   "id": "13a7e480",
   "metadata": {
    "deletable": false,
    "editable": false,
    "id": "f4ea573f"
   },
   "source": [
    "**Задание 11. Заполните пропуски в столбце `days_employed` медианными значениями по каждого типа занятости `income_type`.**"
   ]
  },
  {
   "cell_type": "code",
   "execution_count": 12,
   "id": "b3897376",
   "metadata": {
    "deletable": false,
    "id": "af6b1a7e"
   },
   "outputs": [],
   "source": [
    "for t in data['income_type'].unique():\n",
    "    data.loc[(data['income_type'] == t) & (data['days_employed'].isna()), 'days_employed'] = \\\n",
    "    data.loc[(data['income_type'] == t), 'days_employed'].median()"
   ]
  },
  {
   "cell_type": "markdown",
   "id": "20a5ccb9",
   "metadata": {
    "deletable": false,
    "editable": false,
    "id": "2753f40d"
   },
   "source": [
    "**Задание 12. Убедитесь, что все пропуски заполнены. Проверьте себя и ещё раз выведите количество пропущенных значений для каждого столбца с помощью двух методов.**"
   ]
  },
  {
   "cell_type": "code",
   "execution_count": 13,
   "id": "debcb329",
   "metadata": {
    "deletable": false,
    "id": "55f78bc2",
    "outputId": "8da1e4e1-358e-4e87-98c9-f261bce0a7b2"
   },
   "outputs": [
    {
     "data": {
      "text/plain": [
       "children            0\n",
       "days_employed       0\n",
       "dob_years           0\n",
       "education           0\n",
       "education_id        0\n",
       "family_status       0\n",
       "family_status_id    0\n",
       "gender              0\n",
       "income_type         0\n",
       "debt                0\n",
       "total_income        0\n",
       "purpose             0\n",
       "dtype: int64"
      ]
     },
     "execution_count": 13,
     "metadata": {},
     "output_type": "execute_result"
    }
   ],
   "source": [
    "data.isna().sum()"
   ]
  },
  {
   "cell_type": "markdown",
   "id": "4681d37a",
   "metadata": {
    "deletable": false,
    "editable": false,
    "id": "ddc81e43"
   },
   "source": [
    "### Изменение типов данных"
   ]
  },
  {
   "cell_type": "markdown",
   "id": "1071aa5e",
   "metadata": {
    "deletable": false,
    "editable": false,
    "id": "42d19d24"
   },
   "source": [
    "**Задание 13. Замените вещественный тип данных в столбце `total_income` на целочисленный с помощью метода `astype()`.**"
   ]
  },
  {
   "cell_type": "code",
   "execution_count": 14,
   "id": "5856fec8",
   "metadata": {
    "deletable": false,
    "id": "920b65ad"
   },
   "outputs": [],
   "source": [
    "data['total_income'] = data['total_income'].astype(int)"
   ]
  },
  {
   "cell_type": "markdown",
   "id": "33706d66",
   "metadata": {
    "deletable": false,
    "editable": false,
    "id": "80c420ba"
   },
   "source": [
    "### Обработка дубликатов"
   ]
  },
  {
   "cell_type": "markdown",
   "id": "39eb5a68",
   "metadata": {
    "deletable": false,
    "editable": false
   },
   "source": [
    "**Задание 14. Обработайте неявные дубликаты в столбце `education`. В этом столбце есть одни и те же значения, но записанные по-разному: с использованием заглавных и строчных букв. Приведите их к нижнему регистру. Проверьте остальные столбцы.**"
   ]
  },
  {
   "cell_type": "code",
   "execution_count": 15,
   "id": "6a66c730",
   "metadata": {
    "deletable": false
   },
   "outputs": [],
   "source": [
    "data['education'] = data['education'].str.lower()"
   ]
  },
  {
   "cell_type": "markdown",
   "id": "10cdd1b5",
   "metadata": {
    "deletable": false,
    "editable": false,
    "id": "dc587695"
   },
   "source": [
    "**Задание 15. Выведите на экран количество строк-дубликатов в данных. Если такие строки присутствуют, удалите их.**"
   ]
  },
  {
   "cell_type": "code",
   "execution_count": 16,
   "id": "19f8bca2",
   "metadata": {
    "deletable": false,
    "id": "3ee445e4",
    "outputId": "9684deba-1934-42d1-99e1-cda61740f822"
   },
   "outputs": [
    {
     "data": {
      "text/plain": [
       "71"
      ]
     },
     "execution_count": 16,
     "metadata": {},
     "output_type": "execute_result"
    }
   ],
   "source": [
    "data.duplicated().sum()"
   ]
  },
  {
   "cell_type": "code",
   "execution_count": 17,
   "id": "f852e5eb",
   "metadata": {
    "deletable": false,
    "id": "8575fe05"
   },
   "outputs": [],
   "source": [
    "data = data.drop_duplicates()"
   ]
  },
  {
   "cell_type": "markdown",
   "id": "a4a0c5c6",
   "metadata": {
    "deletable": false,
    "editable": false,
    "id": "9904cf55"
   },
   "source": [
    "### Категоризация данных"
   ]
  },
  {
   "cell_type": "markdown",
   "id": "a2284398",
   "metadata": {
    "deletable": false,
    "editable": false,
    "id": "72fcc8a2"
   },
   "source": [
    "**Задание 16. На основании диапазонов, указанных ниже, создайте в датафрейме `data` столбец `total_income_category` с категориями:**\n",
    "\n",
    "- 0–30000 — `'E'`;\n",
    "- 30001–50000 — `'D'`;\n",
    "- 50001–200000 — `'C'`;\n",
    "- 200001–1000000 — `'B'`;\n",
    "- 1000001 и выше — `'A'`.\n",
    "\n",
    "\n",
    "**Например, кредитополучателю с доходом 25000 нужно назначить категорию `'E'`, а клиенту, получающему 235000, — `'B'`. Используйте собственную функцию с именем `categorize_income()` и метод `apply()`.**"
   ]
  },
  {
   "cell_type": "code",
   "execution_count": 18,
   "id": "2a349035",
   "metadata": {
    "deletable": false,
    "id": "e1771346"
   },
   "outputs": [],
   "source": [
    "def categorize_income(income):\n",
    "    try:\n",
    "        if 0 <= income <= 30000:\n",
    "            return 'E'\n",
    "        elif 30001 <= income <= 50000:\n",
    "            return 'D'\n",
    "        elif 50001 <= income <= 200000:\n",
    "            return 'C'\n",
    "        elif 200001 <= income <= 1000000:\n",
    "            return 'B'\n",
    "        elif income >= 1000001:\n",
    "            return 'A'\n",
    "    except:\n",
    "        pass"
   ]
  },
  {
   "cell_type": "code",
   "execution_count": 19,
   "id": "48e5e6fd",
   "metadata": {
    "deletable": false,
    "id": "d5f3586d"
   },
   "outputs": [],
   "source": [
    "data['total_income_category'] = data['total_income'].apply(categorize_income)"
   ]
  },
  {
   "cell_type": "markdown",
   "id": "d2aa079f",
   "metadata": {
    "deletable": false,
    "editable": false,
    "id": "dde49b5c"
   },
   "source": [
    "**Задание 17. Выведите на экран перечень уникальных целей взятия кредита из столбца `purpose`.**"
   ]
  },
  {
   "cell_type": "code",
   "execution_count": 20,
   "id": "3e8dbeb7",
   "metadata": {
    "deletable": false,
    "id": "f67ce9b3",
    "outputId": "673c12d9-7d7e-4ae0-9812-c622c89dd244"
   },
   "outputs": [
    {
     "data": {
      "text/plain": [
       "array(['покупка жилья', 'приобретение автомобиля',\n",
       "       'дополнительное образование', 'сыграть свадьбу',\n",
       "       'операции с жильем', 'образование', 'на проведение свадьбы',\n",
       "       'покупка жилья для семьи', 'покупка недвижимости',\n",
       "       'покупка коммерческой недвижимости', 'покупка жилой недвижимости',\n",
       "       'строительство собственной недвижимости', 'недвижимость',\n",
       "       'строительство недвижимости', 'на покупку подержанного автомобиля',\n",
       "       'на покупку своего автомобиля',\n",
       "       'операции с коммерческой недвижимостью',\n",
       "       'строительство жилой недвижимости', 'жилье',\n",
       "       'операции со своей недвижимостью', 'автомобили',\n",
       "       'заняться образованием', 'сделка с подержанным автомобилем',\n",
       "       'получение образования', 'автомобиль', 'свадьба',\n",
       "       'получение дополнительного образования', 'покупка своего жилья',\n",
       "       'операции с недвижимостью', 'получение высшего образования',\n",
       "       'свой автомобиль', 'сделка с автомобилем',\n",
       "       'профильное образование', 'высшее образование',\n",
       "       'покупка жилья для сдачи', 'на покупку автомобиля', 'ремонт жилью',\n",
       "       'заняться высшим образованием'], dtype=object)"
      ]
     },
     "execution_count": 20,
     "metadata": {},
     "output_type": "execute_result"
    }
   ],
   "source": [
    "data['purpose'].unique()"
   ]
  },
  {
   "cell_type": "markdown",
   "id": "2faa2d1c",
   "metadata": {
    "deletable": false,
    "editable": false,
    "id": "85d0aef0"
   },
   "source": [
    "**Задание 18. Создайте функцию, которая на основании данных из столбца `purpose` сформирует новый столбец `purpose_category`, в который войдут следующие категории:**\n",
    "\n",
    "- `'операции с автомобилем'`,\n",
    "- `'операции с недвижимостью'`,\n",
    "- `'проведение свадьбы'`,\n",
    "- `'получение образования'`.\n",
    "\n",
    "**Например, если в столбце `purpose` находится подстрока `'на покупку автомобиля'`, то в столбце `purpose_category` должна появиться строка `'операции с автомобилем'`.**\n",
    "\n",
    "**Используйте собственную функцию с именем `categorize_purpose()` и метод `apply()`. Изучите данные в столбце `purpose` и определите, какие подстроки помогут вам правильно определить категорию.**"
   ]
  },
  {
   "cell_type": "code",
   "execution_count": 21,
   "id": "a82a1438",
   "metadata": {
    "deletable": false,
    "id": "e149fab4"
   },
   "outputs": [],
   "source": [
    "def categorize_purpose(row):\n",
    "    try:\n",
    "        if 'автом' in row:\n",
    "            return 'операции с автомобилем'\n",
    "        elif 'жил' in row or 'недвиж' in row:\n",
    "            return 'операции с недвижимостью'\n",
    "        elif 'свад' in row:\n",
    "            return 'проведение свадьбы'\n",
    "        elif 'образов' in row:\n",
    "            return 'получение образования'\n",
    "    except:\n",
    "        return 'нет категории'"
   ]
  },
  {
   "cell_type": "code",
   "execution_count": 22,
   "id": "20c66d23",
   "metadata": {
    "deletable": false,
    "id": "bf36e69b"
   },
   "outputs": [],
   "source": [
    "data['purpose_category'] = data['purpose'].apply(categorize_purpose)"
   ]
  },
  {
   "cell_type": "markdown",
   "id": "97392278",
   "metadata": {
    "deletable": false,
    "editable": false,
    "id": "09b242bf"
   },
   "source": [
    "### Шаг 3. Исследуйте данные и ответьте на вопросы"
   ]
  },
  {
   "cell_type": "markdown",
   "id": "a2eafc38",
   "metadata": {
    "deletable": false,
    "editable": false,
    "id": "c5d66278"
   },
   "source": [
    "#### 3.1 Есть ли зависимость между количеством детей и возвратом кредита в срок?"
   ]
  },
  {
   "cell_type": "code",
   "execution_count": null,
   "id": "b4224baf",
   "metadata": {
    "deletable": false,
    "id": "2cacfc4a"
   },
   "outputs": [],
   "source": []
  },
  {
   "cell_type": "markdown",
   "id": "fca124c2",
   "metadata": {},
   "source": [
    "**Найдём процент не вернувших кредит в срок от получивших кредит для каждого количества детей**"
   ]
  },
  {
   "cell_type": "code",
   "execution_count": 23,
   "id": "772a5381",
   "metadata": {},
   "outputs": [
    {
     "data": {
      "text/html": [
       "<div>\n",
       "<style scoped>\n",
       "    .dataframe tbody tr th:only-of-type {\n",
       "        vertical-align: middle;\n",
       "    }\n",
       "\n",
       "    .dataframe tbody tr th {\n",
       "        vertical-align: top;\n",
       "    }\n",
       "\n",
       "    .dataframe thead tr th {\n",
       "        text-align: left;\n",
       "    }\n",
       "\n",
       "    .dataframe thead tr:last-of-type th {\n",
       "        text-align: right;\n",
       "    }\n",
       "</style>\n",
       "<table border=\"1\" class=\"dataframe\">\n",
       "  <thead>\n",
       "    <tr>\n",
       "      <th></th>\n",
       "      <th>Количество заемщиков</th>\n",
       "      <th>Количество должников</th>\n",
       "      <th>Средний процент просрочки по категории</th>\n",
       "    </tr>\n",
       "    <tr>\n",
       "      <th></th>\n",
       "      <th></th>\n",
       "      <th></th>\n",
       "      <th></th>\n",
       "    </tr>\n",
       "    <tr>\n",
       "      <th>children</th>\n",
       "      <th></th>\n",
       "      <th></th>\n",
       "      <th></th>\n",
       "    </tr>\n",
       "  </thead>\n",
       "  <tbody>\n",
       "    <tr>\n",
       "      <th>0</th>\n",
       "      <td>14091</td>\n",
       "      <td>1063</td>\n",
       "      <td>7.543822</td>\n",
       "    </tr>\n",
       "    <tr>\n",
       "      <th>1</th>\n",
       "      <td>4808</td>\n",
       "      <td>444</td>\n",
       "      <td>9.234609</td>\n",
       "    </tr>\n",
       "    <tr>\n",
       "      <th>2</th>\n",
       "      <td>2052</td>\n",
       "      <td>194</td>\n",
       "      <td>9.454191</td>\n",
       "    </tr>\n",
       "    <tr>\n",
       "      <th>3</th>\n",
       "      <td>330</td>\n",
       "      <td>27</td>\n",
       "      <td>8.181818</td>\n",
       "    </tr>\n",
       "    <tr>\n",
       "      <th>4</th>\n",
       "      <td>41</td>\n",
       "      <td>4</td>\n",
       "      <td>9.756098</td>\n",
       "    </tr>\n",
       "    <tr>\n",
       "      <th>5</th>\n",
       "      <td>9</td>\n",
       "      <td>0</td>\n",
       "      <td>0.000000</td>\n",
       "    </tr>\n",
       "  </tbody>\n",
       "</table>\n",
       "</div>"
      ],
      "text/plain": [
       "         Количество заемщиков Количество должников  \\\n",
       "                                                     \n",
       "children                                             \n",
       "0                       14091                 1063   \n",
       "1                        4808                  444   \n",
       "2                        2052                  194   \n",
       "3                         330                   27   \n",
       "4                          41                    4   \n",
       "5                           9                    0   \n",
       "\n",
       "         Средний процент просрочки по категории  \n",
       "                                                 \n",
       "children                                         \n",
       "0                                      7.543822  \n",
       "1                                      9.234609  \n",
       "2                                      9.454191  \n",
       "3                                      8.181818  \n",
       "4                                      9.756098  \n",
       "5                                      0.000000  "
      ]
     },
     "execution_count": 23,
     "metadata": {},
     "output_type": "execute_result"
    }
   ],
   "source": [
    "def data_metric(column): #Создание функции для формирования сводной таблицы \n",
    "    metric = data.pivot_table(index=column, values='debt', aggfunc=['count', sum, 'mean'])\n",
    "    metric['mean'] = metric['mean']*100 #Перевод доли должников в проценты\n",
    "    metric = metric.rename(columns={'count':'Количество заемщиков', #Изменение названия столбцов\n",
    "                                    'sum':'Количество должников', \n",
    "                                    'mean':'Средний процент просрочки по категории', 'debt':''})\n",
    "    \n",
    "    return metric\n",
    "data_metric('children')"
   ]
  },
  {
   "cell_type": "code",
   "execution_count": 24,
   "id": "a9c1de3a",
   "metadata": {},
   "outputs": [
    {
     "data": {
      "image/png": "[encoded data removed]",
      "text/plain": [
       "<Figure size 640x480 with 1 Axes>"
      ]
     },
     "metadata": {},
     "output_type": "display_data"
    }
   ],
   "source": [
    "(data_metric('children')['Средний процент просрочки по категории']).plot.bar()\n",
    "plt.xlabel('Количество детей')\n",
    "plt.ylabel('Средний процент просрочки по категории')\n",
    "plt.title('Процент не вернувших кредит в срок от получивших кредит для каждого количества детей\\n');"
   ]
  },
  {
   "cell_type": "markdown",
   "id": "1517f3d6",
   "metadata": {
    "deletable": false,
    "id": "3a6b99ec"
   },
   "source": [
    "**Вывод:**    \n",
    "* наибольший процент просрочек 9.45% у людей с 2-мя детьми;\n",
    "* чуть меньше, 9.23%, у заёмщиков с 1-м ребёнком;\n",
    "* наименьший процент просрочек 7.54% у людей без детей.\n",
    "\n",
    "У семей с 3, 4, 5-ю детьим  средний процент просрочки не информативен, так как количество таких семей в данной выборке ничтожно мало. В целом можно увидеть, что чем больше у заемщика детей, тем он хуже платит в срок."
   ]
  },
  {
   "cell_type": "markdown",
   "id": "289fe4ec",
   "metadata": {
    "deletable": false,
    "editable": false,
    "id": "97be82ca"
   },
   "source": [
    "#### 3.2 Есть ли зависимость между семейным положением и возвратом кредита в срок?"
   ]
  },
  {
   "cell_type": "code",
   "execution_count": 25,
   "id": "ac8c2634",
   "metadata": {
    "deletable": false,
    "id": "dc3f7ee8",
    "scrolled": true
   },
   "outputs": [
    {
     "data": {
      "text/html": [
       "<div>\n",
       "<style scoped>\n",
       "    .dataframe tbody tr th:only-of-type {\n",
       "        vertical-align: middle;\n",
       "    }\n",
       "\n",
       "    .dataframe tbody tr th {\n",
       "        vertical-align: top;\n",
       "    }\n",
       "\n",
       "    .dataframe thead tr th {\n",
       "        text-align: left;\n",
       "    }\n",
       "\n",
       "    .dataframe thead tr:last-of-type th {\n",
       "        text-align: right;\n",
       "    }\n",
       "</style>\n",
       "<table border=\"1\" class=\"dataframe\">\n",
       "  <thead>\n",
       "    <tr>\n",
       "      <th></th>\n",
       "      <th>Количество заемщиков</th>\n",
       "      <th>Количество должников</th>\n",
       "      <th>Средний процент просрочки по категории</th>\n",
       "    </tr>\n",
       "    <tr>\n",
       "      <th></th>\n",
       "      <th></th>\n",
       "      <th></th>\n",
       "      <th></th>\n",
       "    </tr>\n",
       "    <tr>\n",
       "      <th>family_status</th>\n",
       "      <th></th>\n",
       "      <th></th>\n",
       "      <th></th>\n",
       "    </tr>\n",
       "  </thead>\n",
       "  <tbody>\n",
       "    <tr>\n",
       "      <th>Не женат / не замужем</th>\n",
       "      <td>2796</td>\n",
       "      <td>273</td>\n",
       "      <td>9.763948</td>\n",
       "    </tr>\n",
       "    <tr>\n",
       "      <th>в разводе</th>\n",
       "      <td>1189</td>\n",
       "      <td>84</td>\n",
       "      <td>7.064760</td>\n",
       "    </tr>\n",
       "    <tr>\n",
       "      <th>вдовец / вдова</th>\n",
       "      <td>951</td>\n",
       "      <td>63</td>\n",
       "      <td>6.624606</td>\n",
       "    </tr>\n",
       "    <tr>\n",
       "      <th>гражданский брак</th>\n",
       "      <td>4134</td>\n",
       "      <td>385</td>\n",
       "      <td>9.313014</td>\n",
       "    </tr>\n",
       "    <tr>\n",
       "      <th>женат / замужем</th>\n",
       "      <td>12261</td>\n",
       "      <td>927</td>\n",
       "      <td>7.560558</td>\n",
       "    </tr>\n",
       "  </tbody>\n",
       "</table>\n",
       "</div>"
      ],
      "text/plain": [
       "                      Количество заемщиков Количество должников  \\\n",
       "                                                                  \n",
       "family_status                                                     \n",
       "Не женат / не замужем                 2796                  273   \n",
       "в разводе                             1189                   84   \n",
       "вдовец / вдова                         951                   63   \n",
       "гражданский брак                      4134                  385   \n",
       "женат / замужем                      12261                  927   \n",
       "\n",
       "                      Средний процент просрочки по категории  \n",
       "                                                              \n",
       "family_status                                                 \n",
       "Не женат / не замужем                               9.763948  \n",
       "в разводе                                           7.064760  \n",
       "вдовец / вдова                                      6.624606  \n",
       "гражданский брак                                    9.313014  \n",
       "женат / замужем                                     7.560558  "
      ]
     },
     "execution_count": 25,
     "metadata": {},
     "output_type": "execute_result"
    }
   ],
   "source": [
    "data_metric('family_status')"
   ]
  },
  {
   "cell_type": "code",
   "execution_count": 26,
   "id": "d64de66d",
   "metadata": {},
   "outputs": [
    {
     "data": {
      "image/png": "[encoded data removed]",
      "text/plain": [
       "<Figure size 640x480 with 1 Axes>"
      ]
     },
     "metadata": {},
     "output_type": "display_data"
    }
   ],
   "source": [
    "(data_metric('family_status')['Средний процент просрочки по категории']).plot.barh()\n",
    "plt.ylabel('Cемейное положение')\n",
    "plt.xlabel('Средний процент просрочки по категории')\n",
    "plt.title('Процент не вернувших кредит в срок в зависимости от семейного положения\\n');"
   ]
  },
  {
   "cell_type": "markdown",
   "id": "f13309d9",
   "metadata": {
    "deletable": false,
    "id": "1cef7837"
   },
   "source": [
    "**Вывод:** \n",
    "* наибольший процент просрочек 9.76% у не женатых/не замужних кредитополучателей;\n",
    "* чуть меньше, 9.31%, у заёмщиков состоящих в гражданском браке;\n",
    "* наименший процент просрочек 6.62% у вдовцов/вдов.  \n",
    "Следует отметить, что доля должников у людей не состоявших в оф. браке выше."
   ]
  },
  {
   "cell_type": "markdown",
   "id": "cf6dd4cf",
   "metadata": {
    "deletable": false,
    "editable": false,
    "id": "1e8b2fca"
   },
   "source": [
    "#### 3.3 Есть ли зависимость между уровнем дохода и возвратом кредита в срок?"
   ]
  },
  {
   "cell_type": "code",
   "execution_count": 27,
   "id": "18970559",
   "metadata": {
    "deletable": false,
    "id": "cd7e3720"
   },
   "outputs": [
    {
     "data": {
      "text/html": [
       "<div>\n",
       "<style scoped>\n",
       "    .dataframe tbody tr th:only-of-type {\n",
       "        vertical-align: middle;\n",
       "    }\n",
       "\n",
       "    .dataframe tbody tr th {\n",
       "        vertical-align: top;\n",
       "    }\n",
       "\n",
       "    .dataframe thead tr th {\n",
       "        text-align: left;\n",
       "    }\n",
       "\n",
       "    .dataframe thead tr:last-of-type th {\n",
       "        text-align: right;\n",
       "    }\n",
       "</style>\n",
       "<table border=\"1\" class=\"dataframe\">\n",
       "  <thead>\n",
       "    <tr>\n",
       "      <th></th>\n",
       "      <th>Количество заемщиков</th>\n",
       "      <th>Количество должников</th>\n",
       "      <th>Средний процент просрочки по категории</th>\n",
       "    </tr>\n",
       "    <tr>\n",
       "      <th></th>\n",
       "      <th></th>\n",
       "      <th></th>\n",
       "      <th></th>\n",
       "    </tr>\n",
       "    <tr>\n",
       "      <th>total_income_category</th>\n",
       "      <th></th>\n",
       "      <th></th>\n",
       "      <th></th>\n",
       "    </tr>\n",
       "  </thead>\n",
       "  <tbody>\n",
       "    <tr>\n",
       "      <th>A</th>\n",
       "      <td>25</td>\n",
       "      <td>2</td>\n",
       "      <td>8.000000</td>\n",
       "    </tr>\n",
       "    <tr>\n",
       "      <th>B</th>\n",
       "      <td>5014</td>\n",
       "      <td>354</td>\n",
       "      <td>7.060231</td>\n",
       "    </tr>\n",
       "    <tr>\n",
       "      <th>C</th>\n",
       "      <td>15921</td>\n",
       "      <td>1353</td>\n",
       "      <td>8.498210</td>\n",
       "    </tr>\n",
       "    <tr>\n",
       "      <th>D</th>\n",
       "      <td>349</td>\n",
       "      <td>21</td>\n",
       "      <td>6.017192</td>\n",
       "    </tr>\n",
       "    <tr>\n",
       "      <th>E</th>\n",
       "      <td>22</td>\n",
       "      <td>2</td>\n",
       "      <td>9.090909</td>\n",
       "    </tr>\n",
       "  </tbody>\n",
       "</table>\n",
       "</div>"
      ],
      "text/plain": [
       "                      Количество заемщиков Количество должников  \\\n",
       "                                                                  \n",
       "total_income_category                                             \n",
       "A                                       25                    2   \n",
       "B                                     5014                  354   \n",
       "C                                    15921                 1353   \n",
       "D                                      349                   21   \n",
       "E                                       22                    2   \n",
       "\n",
       "                      Средний процент просрочки по категории  \n",
       "                                                              \n",
       "total_income_category                                         \n",
       "A                                                   8.000000  \n",
       "B                                                   7.060231  \n",
       "C                                                   8.498210  \n",
       "D                                                   6.017192  \n",
       "E                                                   9.090909  "
      ]
     },
     "execution_count": 27,
     "metadata": {},
     "output_type": "execute_result"
    }
   ],
   "source": [
    "data_metric('total_income_category')"
   ]
  },
  {
   "cell_type": "code",
   "execution_count": 28,
   "id": "78fd1b9b",
   "metadata": {},
   "outputs": [
    {
     "data": {
      "image/png": "[encoded data removed]",
      "text/plain": [
       "<Figure size 640x480 with 1 Axes>"
      ]
     },
     "metadata": {},
     "output_type": "display_data"
    }
   ],
   "source": [
    "(data_metric('total_income_category')['Средний процент просрочки по категории']).plot.barh()\n",
    "plt.ylabel('Уровень дохода')\n",
    "plt.xlabel('Средний процент просрочки по категории')\n",
    "plt.title('Процент не вернувших кредит в срок в зависимости от уровня дохода\\n');"
   ]
  },
  {
   "cell_type": "markdown",
   "id": "2f9302d6",
   "metadata": {
    "deletable": false,
    "id": "e8593def"
   },
   "source": [
    "**Вывод:** \n",
    "* наибольший процент просрочек 8.48% у людей из категории дохода 'C', с уровнем дохода 50001–200000;\n",
    "* наименший процент просрочек 7.06% у людей из категории дохода 'B', с уровнем дохода 200001–1000000 руб.\n",
    "\n",
    "Количество заемщиков во всех категориях кроме B и C несопоставимо меньше, поэтому для выявления зависимости не учитывались. \n"
   ]
  },
  {
   "cell_type": "markdown",
   "id": "47acbcc9",
   "metadata": {
    "deletable": false,
    "editable": false,
    "id": "99ecbd1f"
   },
   "source": [
    "#### 3.4 Как разные цели кредита влияют на его возврат в срок?"
   ]
  },
  {
   "cell_type": "code",
   "execution_count": 29,
   "id": "dcc00917",
   "metadata": {
    "deletable": false,
    "id": "2b687290"
   },
   "outputs": [
    {
     "data": {
      "text/html": [
       "<div>\n",
       "<style scoped>\n",
       "    .dataframe tbody tr th:only-of-type {\n",
       "        vertical-align: middle;\n",
       "    }\n",
       "\n",
       "    .dataframe tbody tr th {\n",
       "        vertical-align: top;\n",
       "    }\n",
       "\n",
       "    .dataframe thead tr th {\n",
       "        text-align: left;\n",
       "    }\n",
       "\n",
       "    .dataframe thead tr:last-of-type th {\n",
       "        text-align: right;\n",
       "    }\n",
       "</style>\n",
       "<table border=\"1\" class=\"dataframe\">\n",
       "  <thead>\n",
       "    <tr>\n",
       "      <th></th>\n",
       "      <th>Количество заемщиков</th>\n",
       "      <th>Количество должников</th>\n",
       "      <th>Средний процент просрочки по категории</th>\n",
       "    </tr>\n",
       "    <tr>\n",
       "      <th></th>\n",
       "      <th></th>\n",
       "      <th></th>\n",
       "      <th></th>\n",
       "    </tr>\n",
       "    <tr>\n",
       "      <th>purpose_category</th>\n",
       "      <th></th>\n",
       "      <th></th>\n",
       "      <th></th>\n",
       "    </tr>\n",
       "  </thead>\n",
       "  <tbody>\n",
       "    <tr>\n",
       "      <th>операции с автомобилем</th>\n",
       "      <td>4279</td>\n",
       "      <td>400</td>\n",
       "      <td>9.347978</td>\n",
       "    </tr>\n",
       "    <tr>\n",
       "      <th>операции с недвижимостью</th>\n",
       "      <td>10751</td>\n",
       "      <td>780</td>\n",
       "      <td>7.255139</td>\n",
       "    </tr>\n",
       "    <tr>\n",
       "      <th>получение образования</th>\n",
       "      <td>3988</td>\n",
       "      <td>369</td>\n",
       "      <td>9.252758</td>\n",
       "    </tr>\n",
       "    <tr>\n",
       "      <th>проведение свадьбы</th>\n",
       "      <td>2313</td>\n",
       "      <td>183</td>\n",
       "      <td>7.911803</td>\n",
       "    </tr>\n",
       "  </tbody>\n",
       "</table>\n",
       "</div>"
      ],
      "text/plain": [
       "                         Количество заемщиков Количество должников  \\\n",
       "                                                                     \n",
       "purpose_category                                                     \n",
       "операции с автомобилем                   4279                  400   \n",
       "операции с недвижимостью                10751                  780   \n",
       "получение образования                    3988                  369   \n",
       "проведение свадьбы                       2313                  183   \n",
       "\n",
       "                         Средний процент просрочки по категории  \n",
       "                                                                 \n",
       "purpose_category                                                 \n",
       "операции с автомобилем                                 9.347978  \n",
       "операции с недвижимостью                               7.255139  \n",
       "получение образования                                  9.252758  \n",
       "проведение свадьбы                                     7.911803  "
      ]
     },
     "execution_count": 29,
     "metadata": {},
     "output_type": "execute_result"
    }
   ],
   "source": [
    "data_metric('purpose_category')"
   ]
  },
  {
   "cell_type": "code",
   "execution_count": 30,
   "id": "59fd6458",
   "metadata": {},
   "outputs": [
    {
     "data": {
      "image/png": "[encoded data removed]",
      "text/plain": [
       "<Figure size 640x480 with 1 Axes>"
      ]
     },
     "metadata": {},
     "output_type": "display_data"
    }
   ],
   "source": [
    "(data_metric('purpose_category')['Средний процент просрочки по категории']).plot.barh()\n",
    "plt.ylabel('Цели')\n",
    "plt.xlabel('Средний процент просрочки по категории')\n",
    "plt.title('Процент не вернувших кредит в срок в зависимости от цели заёма\\n');"
   ]
  },
  {
   "cell_type": "markdown",
   "id": "d0b81792",
   "metadata": {
    "deletable": false,
    "id": "b4bb2ce6"
   },
   "source": [
    "**Вывод:** \n",
    "* наибольший процент просрочек 9.34% у людей взявших кредит для орепаций с автомобилем;\n",
    "* наименший процент просрочек 7.25% у людей взявших кредит для орепаций с недвижимостью.\n"
   ]
  },
  {
   "cell_type": "markdown",
   "id": "b760cbf7",
   "metadata": {},
   "source": [
    "**Найдём процент не вернувших кредит в срок от числа кредитополучателей в зависимости от образования**"
   ]
  },
  {
   "cell_type": "code",
   "execution_count": 31,
   "id": "6a2749f1",
   "metadata": {},
   "outputs": [
    {
     "data": {
      "text/html": [
       "<div>\n",
       "<style scoped>\n",
       "    .dataframe tbody tr th:only-of-type {\n",
       "        vertical-align: middle;\n",
       "    }\n",
       "\n",
       "    .dataframe tbody tr th {\n",
       "        vertical-align: top;\n",
       "    }\n",
       "\n",
       "    .dataframe thead tr th {\n",
       "        text-align: left;\n",
       "    }\n",
       "\n",
       "    .dataframe thead tr:last-of-type th {\n",
       "        text-align: right;\n",
       "    }\n",
       "</style>\n",
       "<table border=\"1\" class=\"dataframe\">\n",
       "  <thead>\n",
       "    <tr>\n",
       "      <th></th>\n",
       "      <th>Количество заемщиков</th>\n",
       "      <th>Количество должников</th>\n",
       "      <th>Средний процент просрочки по категории</th>\n",
       "    </tr>\n",
       "    <tr>\n",
       "      <th></th>\n",
       "      <th></th>\n",
       "      <th></th>\n",
       "      <th></th>\n",
       "    </tr>\n",
       "    <tr>\n",
       "      <th>education</th>\n",
       "      <th></th>\n",
       "      <th></th>\n",
       "      <th></th>\n",
       "    </tr>\n",
       "  </thead>\n",
       "  <tbody>\n",
       "    <tr>\n",
       "      <th>высшее</th>\n",
       "      <td>5227</td>\n",
       "      <td>278</td>\n",
       "      <td>5.318538</td>\n",
       "    </tr>\n",
       "    <tr>\n",
       "      <th>начальное</th>\n",
       "      <td>282</td>\n",
       "      <td>31</td>\n",
       "      <td>10.992908</td>\n",
       "    </tr>\n",
       "    <tr>\n",
       "      <th>неоконченное высшее</th>\n",
       "      <td>741</td>\n",
       "      <td>68</td>\n",
       "      <td>9.176788</td>\n",
       "    </tr>\n",
       "    <tr>\n",
       "      <th>среднее</th>\n",
       "      <td>15075</td>\n",
       "      <td>1355</td>\n",
       "      <td>8.988391</td>\n",
       "    </tr>\n",
       "    <tr>\n",
       "      <th>ученая степень</th>\n",
       "      <td>6</td>\n",
       "      <td>0</td>\n",
       "      <td>0.000000</td>\n",
       "    </tr>\n",
       "  </tbody>\n",
       "</table>\n",
       "</div>"
      ],
      "text/plain": [
       "                    Количество заемщиков Количество должников  \\\n",
       "                                                                \n",
       "education                                                       \n",
       "высшее                              5227                  278   \n",
       "начальное                            282                   31   \n",
       "неоконченное высшее                  741                   68   \n",
       "среднее                            15075                 1355   \n",
       "ученая степень                         6                    0   \n",
       "\n",
       "                    Средний процент просрочки по категории  \n",
       "                                                            \n",
       "education                                                   \n",
       "высшее                                            5.318538  \n",
       "начальное                                        10.992908  \n",
       "неоконченное высшее                               9.176788  \n",
       "среднее                                           8.988391  \n",
       "ученая степень                                    0.000000  "
      ]
     },
     "execution_count": 31,
     "metadata": {},
     "output_type": "execute_result"
    }
   ],
   "source": [
    "data_metric('education')"
   ]
  },
  {
   "cell_type": "code",
   "execution_count": 32,
   "id": "2bda0f44",
   "metadata": {},
   "outputs": [
    {
     "data": {
      "image/png": "[encoded data removed]",
      "text/plain": [
       "<Figure size 640x480 with 1 Axes>"
      ]
     },
     "metadata": {},
     "output_type": "display_data"
    }
   ],
   "source": [
    "data_metric('education')['Средний процент просрочки по категории'].plot.barh()\n",
    "plt.ylabel('Уровень образования')\n",
    "plt.xlabel('Средний процент просрочки по категории')\n",
    "plt.title('Процент не вернувших кредит в срок в зависимости от уровня образования\\n');"
   ]
  },
  {
   "cell_type": "markdown",
   "id": "e94ea58a",
   "metadata": {},
   "source": [
    "**Вывод:** \n",
    "* наибольший процент просрочек 8.98% у людей со средним образованием;\n",
    "* наименший процент просрочек 5.31% у людей с высшим образованием.\n",
    "\n",
    "Люди с начальным, неоконченным высшим образованием и с ученой степенью представленны в выборке незначительным количеством и при выявлении зависимости не учитывались."
   ]
  },
  {
   "cell_type": "markdown",
   "id": "3ab0d203",
   "metadata": {},
   "source": [
    "**Найдём процент не вернувших кредит в срок от числа кредитополучателей в зависимости от пола заёмщика**"
   ]
  },
  {
   "cell_type": "code",
   "execution_count": 33,
   "id": "a6c28abe",
   "metadata": {},
   "outputs": [
    {
     "data": {
      "text/html": [
       "<div>\n",
       "<style scoped>\n",
       "    .dataframe tbody tr th:only-of-type {\n",
       "        vertical-align: middle;\n",
       "    }\n",
       "\n",
       "    .dataframe tbody tr th {\n",
       "        vertical-align: top;\n",
       "    }\n",
       "\n",
       "    .dataframe thead tr th {\n",
       "        text-align: left;\n",
       "    }\n",
       "\n",
       "    .dataframe thead tr:last-of-type th {\n",
       "        text-align: right;\n",
       "    }\n",
       "</style>\n",
       "<table border=\"1\" class=\"dataframe\">\n",
       "  <thead>\n",
       "    <tr>\n",
       "      <th></th>\n",
       "      <th>Количество заемщиков</th>\n",
       "      <th>Количество должников</th>\n",
       "      <th>Средний процент просрочки по категории</th>\n",
       "    </tr>\n",
       "    <tr>\n",
       "      <th></th>\n",
       "      <th></th>\n",
       "      <th></th>\n",
       "      <th></th>\n",
       "    </tr>\n",
       "    <tr>\n",
       "      <th>gender</th>\n",
       "      <th></th>\n",
       "      <th></th>\n",
       "      <th></th>\n",
       "    </tr>\n",
       "  </thead>\n",
       "  <tbody>\n",
       "    <tr>\n",
       "      <th>F</th>\n",
       "      <td>14092</td>\n",
       "      <td>989</td>\n",
       "      <td>7.018166</td>\n",
       "    </tr>\n",
       "    <tr>\n",
       "      <th>M</th>\n",
       "      <td>7238</td>\n",
       "      <td>743</td>\n",
       "      <td>10.265267</td>\n",
       "    </tr>\n",
       "  </tbody>\n",
       "</table>\n",
       "</div>"
      ],
      "text/plain": [
       "       Количество заемщиков Количество должников  \\\n",
       "                                                   \n",
       "gender                                             \n",
       "F                     14092                  989   \n",
       "M                      7238                  743   \n",
       "\n",
       "       Средний процент просрочки по категории  \n",
       "                                               \n",
       "gender                                         \n",
       "F                                    7.018166  \n",
       "M                                   10.265267  "
      ]
     },
     "execution_count": 33,
     "metadata": {},
     "output_type": "execute_result"
    }
   ],
   "source": [
    "data = data[(data['gender'] != 'XNA')] #Удаление аномального значения в столбце 'gender'\n",
    "data_metric('gender')"
   ]
  },
  {
   "cell_type": "code",
   "execution_count": 34,
   "id": "849a1eba",
   "metadata": {},
   "outputs": [
    {
     "data": {
      "image/png": "[encoded data removed]",
      "text/plain": [
       "<Figure size 640x480 with 1 Axes>"
      ]
     },
     "metadata": {},
     "output_type": "display_data"
    }
   ],
   "source": [
    "data_metric('gender')['Средний процент просрочки по категории'].plot.barh()\n",
    "plt.ylabel('Пол')\n",
    "plt.xlabel('Средний процент просрочки по категории')\n",
    "plt.title('Процент не вернувших кредит в срок в зависимости от пола\\n');"
   ]
  },
  {
   "cell_type": "markdown",
   "id": "b43dae58",
   "metadata": {},
   "source": [
    "**Вывод:** \n",
    "* среди мужчин процент просрочек 10.26% выше, чем среди женщин 7.01%."
   ]
  },
  {
   "cell_type": "markdown",
   "id": "be1c8130",
   "metadata": {
    "deletable": false,
    "editable": false,
    "id": "09c3ac4c"
   },
   "source": [
    "#### 3.5 Приведите возможные причины появления пропусков в исходных данных."
   ]
  },
  {
   "cell_type": "markdown",
   "id": "0931d3be",
   "metadata": {
    "deletable": false,
    "id": "9da2ceda"
   },
   "source": [
    "*Ответ:* Причины появления пропусков в исходных данных делятся на две большие группы: технологические, и причины обусловленные человеческим фактором.\n",
    "Технологические причины порождают пропуски при копировании, считывании, смене формата. Сбой может произойти даже во время записи данных.  Пропуски вызванные человеческим фактором связаны с ошибками или нежеланием человека предоставлять информацию."
   ]
  },
  {
   "cell_type": "markdown",
   "id": "c589a433",
   "metadata": {
    "deletable": false,
    "editable": false,
    "id": "7b0487d6"
   },
   "source": [
    "#### 3.6 Объясните, почему заполнить пропуски медианным значением — лучшее решение для количественных переменных."
   ]
  },
  {
   "cell_type": "markdown",
   "id": "56cb2cba",
   "metadata": {
    "deletable": false,
    "id": "7ecf2b8e"
   },
   "source": [
    "*Ответ:* Среднее значение некорректно характеризует данные, когда некоторые показатели сильно выделяются среди большинства. В связи с этим, медианое значение - более объективная информация, чем среднее значение."
   ]
  },
  {
   "cell_type": "markdown",
   "id": "2c5094b5",
   "metadata": {
    "deletable": false,
    "editable": false,
    "id": "6db5255a"
   },
   "source": [
    "### Шаг 4: общий вывод."
   ]
  },
  {
   "cell_type": "markdown",
   "id": "d5d273a3",
   "metadata": {
    "deletable": false,
    "id": "bad65432"
   },
   "source": [
    "Входные данные от банка — статистика о платёжеспособности клиентов. В исходной таблице 21525 строк — это достаточная выборка для проведения исследования.   \n",
    "В столбце `total_income` — ежемесячный доход, обнаружено 2174 пропущенных значений. Пропуски в этом столбце заполнены  медианным значением по каждому типу из столбца `income_type` - тип занятости. Отрицательное количество дней трудового стажа в столбце `days_employed` заменины положительными значениями. Вещественный тип данных в столбце `total_income` заменён на целочисленный. Неявные дубликаты в столбце `education` и аномальные значения а столбце `children` выявлены и удалены. Данные в столбцах `total_income_category` и `purpose` оформлены в соответствующие категории.\n",
    "\n",
    "В ходе работы ваявлены следующие зависимости: \n",
    "* С увеличением количества детей растёт процент просрочки кредита: наибольший процент просрочек - 9.45%, у людей с 2-мя детьми, чуть меньше - 9.23%, у заёмщиков с 1-м ребёнком и наименьший процент просрочек - 7.54%, у людей без детей.\n",
    "* При анализе влияния семейного положения установлено, наибольший процент просрочек - 9.76%, у не женатых/не замужних кредитополучателей. Чуть меньше - 9.31%, у заёмщиков состоящих в гражданском браке и наименший процент просрочек, 6.62%, у вдовцов/вдов.\n",
    "* В зависимости от уровня дохода, наибольший процент просрочек - 8.48%, у людей из категории дохода 'C', с уровнем дохода 50001–200000, наименший процент просрочек - 7.06%, у людей из категории дохода 'B', с доходом 200001–1000000 руб.\n",
    "* Наибольший процент просрочек - 9.34%, у людей взявших кредит для орепаций с автомобилем; наименший процент просрочек - 7.25% у людей взявших кредит для орепаций с недвижимостью.\n",
    "* На факт возврата кредита так же влияет уровень образования, так наибольший процент просрочек - 8.98%, у людей со средним образованием, наименший процент просрочек - 5.31%, у людей с высшим образованием.\n",
    "* Среди мужчин процент просрочек - 10.26%, выше, чем среди женщин - 7.01%.\n",
    "\n",
    "Что могло повлиять на результаты исследования:\n",
    "\n",
    "непропорциональное гендерное соотношение в выборке: 14092 женщин против 7238 мужчин\n",
    "малое количество данных по клиентам с уровнями дохода A, D и E, по ним требуется отдельное исследование\n",
    "наличие пропусков в признаках days_employed и total_income - стоит уточнить природу происхождения этих пропусков\n",
    "\n",
    "В качестве рекомендаций:\n",
    "\n",
    "можно предложить другую категоризацию по доходам\n",
    "исследовать другие признаки, рассчитать другие метрики (отношение дохода к сумме выплат и др.)\n",
    "в анкете сделать поля о доходе и стаже обязательными к заполнению\n",
    "добавить автопроверку на формат вводимых пользователем данных\n",
    "\n",
    " "
   ]
  },
  {
   "cell_type": "code",
   "execution_count": null,
   "id": "8ecf8384",
   "metadata": {},
   "outputs": [],
   "source": []
  }
 ],
 "metadata": {
  "ExecuteTimeLog": [
   {
    "duration": 50,
    "start_time": "2023-02-02T14:16:00.060Z"
   },
   {
    "duration": 660,
    "start_time": "2023-02-02T14:16:08.433Z"
   },
   {
    "duration": 23,
    "start_time": "2023-02-02T14:16:11.662Z"
   },
   {
    "duration": 16,
    "start_time": "2023-02-02T14:16:19.010Z"
   },
   {
    "duration": 10,
    "start_time": "2023-02-02T14:16:23.060Z"
   },
   {
    "duration": 35,
    "start_time": "2023-02-02T14:16:26.841Z"
   },
   {
    "duration": 4,
    "start_time": "2023-02-02T14:16:30.483Z"
   },
   {
    "duration": 8,
    "start_time": "2023-02-02T14:16:33.168Z"
   },
   {
    "duration": 5,
    "start_time": "2023-02-02T14:16:45.100Z"
   },
   {
    "duration": 10,
    "start_time": "2023-02-02T14:16:48.700Z"
   },
   {
    "duration": 5,
    "start_time": "2023-02-02T14:16:51.744Z"
   },
   {
    "duration": 36,
    "start_time": "2023-02-02T14:16:54.460Z"
   },
   {
    "duration": 9,
    "start_time": "2023-02-02T14:16:57.682Z"
   },
   {
    "duration": 4,
    "start_time": "2023-02-02T14:17:02.198Z"
   },
   {
    "duration": 12,
    "start_time": "2023-02-02T14:17:05.408Z"
   },
   {
    "duration": 21,
    "start_time": "2023-02-02T14:17:08.038Z"
   },
   {
    "duration": 18,
    "start_time": "2023-02-02T14:17:10.917Z"
   },
   {
    "duration": 4,
    "start_time": "2023-02-02T14:17:15.012Z"
   },
   {
    "duration": 10,
    "start_time": "2023-02-02T14:17:17.344Z"
   },
   {
    "duration": 5,
    "start_time": "2023-02-02T14:17:20.236Z"
   },
   {
    "duration": 4,
    "start_time": "2023-02-02T14:17:24.699Z"
   },
   {
    "duration": 9,
    "start_time": "2023-02-02T14:17:26.898Z"
   },
   {
    "duration": 24,
    "start_time": "2023-02-02T14:17:30.144Z"
   },
   {
    "duration": 5,
    "start_time": "2023-02-02T14:24:07.612Z"
   },
   {
    "duration": 3,
    "start_time": "2023-02-02T14:24:11.682Z"
   },
   {
    "duration": 7,
    "start_time": "2023-02-02T14:24:24.381Z"
   },
   {
    "duration": 5,
    "start_time": "2023-02-02T14:51:02.590Z"
   },
   {
    "duration": 6,
    "start_time": "2023-02-02T14:51:06.121Z"
   },
   {
    "duration": 6,
    "start_time": "2023-02-02T14:51:20.671Z"
   },
   {
    "duration": 5,
    "start_time": "2023-02-02T14:51:24.600Z"
   },
   {
    "duration": 6,
    "start_time": "2023-02-02T14:51:47.848Z"
   },
   {
    "duration": 85,
    "start_time": "2023-02-02T15:38:09.588Z"
   },
   {
    "duration": 69,
    "start_time": "2023-02-02T15:38:20.362Z"
   },
   {
    "duration": 1349,
    "start_time": "2023-02-02T15:38:51.749Z"
   },
   {
    "duration": 9,
    "start_time": "2023-02-02T15:39:04.617Z"
   },
   {
    "duration": 11,
    "start_time": "2023-02-02T15:39:15.223Z"
   },
   {
    "duration": 378,
    "start_time": "2023-02-02T15:39:27.097Z"
   },
   {
    "duration": 20,
    "start_time": "2023-02-02T15:39:31.718Z"
   },
   {
    "duration": 17,
    "start_time": "2023-02-02T15:39:36.015Z"
   },
   {
    "duration": 10,
    "start_time": "2023-02-02T15:39:40.502Z"
   },
   {
    "duration": 35,
    "start_time": "2023-02-02T15:39:44.937Z"
   },
   {
    "duration": 4,
    "start_time": "2023-02-02T15:39:47.545Z"
   },
   {
    "duration": 8,
    "start_time": "2023-02-02T15:39:49.996Z"
   },
   {
    "duration": 5,
    "start_time": "2023-02-02T15:39:54.354Z"
   },
   {
    "duration": 8,
    "start_time": "2023-02-02T15:39:56.918Z"
   },
   {
    "duration": 4,
    "start_time": "2023-02-02T15:40:00.233Z"
   },
   {
    "duration": 37,
    "start_time": "2023-02-02T15:40:04.728Z"
   },
   {
    "duration": 10,
    "start_time": "2023-02-02T15:40:09.097Z"
   },
   {
    "duration": 4,
    "start_time": "2023-02-02T15:40:12.790Z"
   },
   {
    "duration": 11,
    "start_time": "2023-02-02T15:40:15.308Z"
   },
   {
    "duration": 21,
    "start_time": "2023-02-02T15:40:18.519Z"
   },
   {
    "duration": 20,
    "start_time": "2023-02-02T15:40:21.631Z"
   },
   {
    "duration": 4,
    "start_time": "2023-02-02T15:40:25.183Z"
   },
   {
    "duration": 11,
    "start_time": "2023-02-02T15:40:27.499Z"
   },
   {
    "duration": 6,
    "start_time": "2023-02-02T15:40:30.530Z"
   },
   {
    "duration": 4,
    "start_time": "2023-02-02T15:40:34.672Z"
   },
   {
    "duration": 9,
    "start_time": "2023-02-02T15:40:36.731Z"
   },
   {
    "duration": 8,
    "start_time": "2023-02-02T15:40:44.973Z"
   },
   {
    "duration": 12,
    "start_time": "2023-02-02T15:40:49.052Z"
   },
   {
    "duration": 101,
    "start_time": "2023-02-02T15:41:32.311Z"
   },
   {
    "duration": 64,
    "start_time": "2023-02-02T15:42:36.429Z"
   },
   {
    "duration": 899,
    "start_time": "2023-02-02T15:42:54.227Z"
   },
   {
    "duration": 10,
    "start_time": "2023-02-02T15:46:31.788Z"
   },
   {
    "duration": 22,
    "start_time": "2023-02-02T15:50:24.764Z"
   },
   {
    "duration": 8,
    "start_time": "2023-02-02T15:51:15.428Z"
   },
   {
    "duration": 8,
    "start_time": "2023-02-02T15:52:51.296Z"
   },
   {
    "duration": 7,
    "start_time": "2023-02-02T16:00:09.624Z"
   },
   {
    "duration": 6,
    "start_time": "2023-02-02T16:00:41.100Z"
   },
   {
    "duration": 5,
    "start_time": "2023-02-02T16:01:35.522Z"
   },
   {
    "duration": 5,
    "start_time": "2023-02-02T16:01:38.459Z"
   },
   {
    "duration": 7,
    "start_time": "2023-02-02T16:01:47.247Z"
   },
   {
    "duration": 5,
    "start_time": "2023-02-02T16:03:14.156Z"
   },
   {
    "duration": 6,
    "start_time": "2023-02-02T16:03:39.081Z"
   },
   {
    "duration": 113,
    "start_time": "2023-02-02T16:06:22.215Z"
   },
   {
    "duration": 7,
    "start_time": "2023-02-02T16:06:33.908Z"
   },
   {
    "duration": 8,
    "start_time": "2023-02-02T16:07:45.061Z"
   },
   {
    "duration": 6,
    "start_time": "2023-02-02T16:07:49.338Z"
   },
   {
    "duration": 6,
    "start_time": "2023-02-02T16:07:53.222Z"
   },
   {
    "duration": 8,
    "start_time": "2023-02-02T16:08:04.978Z"
   },
   {
    "duration": 7,
    "start_time": "2023-02-02T16:08:13.863Z"
   },
   {
    "duration": 5,
    "start_time": "2023-02-02T16:08:17.506Z"
   },
   {
    "duration": 6,
    "start_time": "2023-02-02T16:08:28.132Z"
   },
   {
    "duration": 43,
    "start_time": "2023-02-02T16:12:58.607Z"
   },
   {
    "duration": 6,
    "start_time": "2023-02-02T16:13:20.172Z"
   },
   {
    "duration": 5,
    "start_time": "2023-02-02T16:13:44.217Z"
   },
   {
    "duration": 11,
    "start_time": "2023-02-02T16:18:34.303Z"
   },
   {
    "duration": 6,
    "start_time": "2023-02-02T16:19:40.093Z"
   },
   {
    "duration": 6,
    "start_time": "2023-02-02T16:19:48.822Z"
   },
   {
    "duration": 6,
    "start_time": "2023-02-02T16:26:20.555Z"
   },
   {
    "duration": 8,
    "start_time": "2023-02-02T16:27:36.281Z"
   },
   {
    "duration": 5,
    "start_time": "2023-02-02T16:27:39.251Z"
   },
   {
    "duration": 4,
    "start_time": "2023-02-02T16:27:42.090Z"
   },
   {
    "duration": 7,
    "start_time": "2023-02-02T16:27:50.937Z"
   },
   {
    "duration": 6,
    "start_time": "2023-02-02T16:27:54.673Z"
   },
   {
    "duration": 6,
    "start_time": "2023-02-02T16:28:03.248Z"
   },
   {
    "duration": 32,
    "start_time": "2023-02-02T16:31:16.554Z"
   },
   {
    "duration": 7,
    "start_time": "2023-02-02T16:32:59.228Z"
   },
   {
    "duration": 6,
    "start_time": "2023-02-02T16:33:04.364Z"
   },
   {
    "duration": 6,
    "start_time": "2023-02-02T16:39:49.800Z"
   },
   {
    "duration": 9,
    "start_time": "2023-02-02T19:00:09.245Z"
   },
   {
    "duration": 7,
    "start_time": "2023-02-02T19:00:40.621Z"
   },
   {
    "duration": 9,
    "start_time": "2023-02-02T19:00:43.766Z"
   },
   {
    "duration": 8,
    "start_time": "2023-02-02T19:24:08.760Z"
   },
   {
    "duration": 6,
    "start_time": "2023-02-02T19:24:12.416Z"
   },
   {
    "duration": 6,
    "start_time": "2023-02-02T19:24:15.393Z"
   },
   {
    "duration": 7,
    "start_time": "2023-02-02T19:27:18.817Z"
   },
   {
    "duration": 93,
    "start_time": "2023-02-02T19:27:34.414Z"
   },
   {
    "duration": 7,
    "start_time": "2023-02-02T19:27:47.917Z"
   },
   {
    "duration": 8,
    "start_time": "2023-02-02T19:28:08.852Z"
   },
   {
    "duration": 7,
    "start_time": "2023-02-02T19:28:12.256Z"
   },
   {
    "duration": 92,
    "start_time": "2023-02-02T19:34:56.601Z"
   },
   {
    "duration": 133,
    "start_time": "2023-02-02T19:35:15.061Z"
   },
   {
    "duration": 9,
    "start_time": "2023-02-02T19:37:07.969Z"
   },
   {
    "duration": 7,
    "start_time": "2023-02-02T19:37:17.920Z"
   },
   {
    "duration": 6,
    "start_time": "2023-02-02T19:37:21.829Z"
   },
   {
    "duration": 5,
    "start_time": "2023-02-02T19:37:30.052Z"
   },
   {
    "duration": 112,
    "start_time": "2023-02-02T19:37:34.150Z"
   },
   {
    "duration": 117,
    "start_time": "2023-02-02T19:38:55.381Z"
   },
   {
    "duration": 108,
    "start_time": "2023-02-02T19:40:02.517Z"
   },
   {
    "duration": 66,
    "start_time": "2023-02-02T20:02:16.814Z"
   },
   {
    "duration": 73,
    "start_time": "2023-02-02T20:11:05.324Z"
   },
   {
    "duration": 90,
    "start_time": "2023-02-03T09:26:55.663Z"
   },
   {
    "duration": 8,
    "start_time": "2023-02-03T09:27:07.420Z"
   },
   {
    "duration": 751,
    "start_time": "2023-02-03T09:27:16.815Z"
   },
   {
    "duration": 24,
    "start_time": "2023-02-03T09:27:20.428Z"
   },
   {
    "duration": 15,
    "start_time": "2023-02-03T09:27:24.946Z"
   },
   {
    "duration": 17,
    "start_time": "2023-02-03T09:27:28.346Z"
   },
   {
    "duration": 40,
    "start_time": "2023-02-03T09:27:31.533Z"
   },
   {
    "duration": 4,
    "start_time": "2023-02-03T09:27:34.150Z"
   },
   {
    "duration": 10,
    "start_time": "2023-02-03T09:27:36.616Z"
   },
   {
    "duration": 5,
    "start_time": "2023-02-03T09:27:41.487Z"
   },
   {
    "duration": 9,
    "start_time": "2023-02-03T09:27:44.151Z"
   },
   {
    "duration": 5,
    "start_time": "2023-02-03T09:27:46.601Z"
   },
   {
    "duration": 56,
    "start_time": "2023-02-03T09:27:50.334Z"
   },
   {
    "duration": 17,
    "start_time": "2023-02-03T09:27:52.819Z"
   },
   {
    "duration": 4,
    "start_time": "2023-02-03T09:27:56.668Z"
   },
   {
    "duration": 12,
    "start_time": "2023-02-03T09:27:59.114Z"
   },
   {
    "duration": 21,
    "start_time": "2023-02-03T09:28:02.649Z"
   },
   {
    "duration": 20,
    "start_time": "2023-02-03T09:28:05.485Z"
   },
   {
    "duration": 6,
    "start_time": "2023-02-03T09:28:09.720Z"
   },
   {
    "duration": 11,
    "start_time": "2023-02-03T09:28:12.216Z"
   },
   {
    "duration": 7,
    "start_time": "2023-02-03T09:28:16.012Z"
   },
   {
    "duration": 3,
    "start_time": "2023-02-03T09:28:19.817Z"
   },
   {
    "duration": 15,
    "start_time": "2023-02-03T09:28:22.152Z"
   },
   {
    "duration": 8,
    "start_time": "2023-02-03T09:28:25.996Z"
   },
   {
    "duration": 6,
    "start_time": "2023-02-03T09:28:28.387Z"
   },
   {
    "duration": 7,
    "start_time": "2023-02-03T09:28:32.141Z"
   },
   {
    "duration": 579,
    "start_time": "2023-02-03T09:28:35.392Z"
   },
   {
    "duration": 12,
    "start_time": "2023-02-03T09:28:54.713Z"
   },
   {
    "duration": 7,
    "start_time": "2023-02-03T09:28:57.773Z"
   },
   {
    "duration": 7,
    "start_time": "2023-02-03T09:29:01.088Z"
   },
   {
    "duration": 189,
    "start_time": "2023-02-03T09:29:04.390Z"
   },
   {
    "duration": 39,
    "start_time": "2023-02-03T09:29:32.374Z"
   },
   {
    "duration": 119,
    "start_time": "2023-02-03T09:31:10.567Z"
   },
   {
    "duration": 106,
    "start_time": "2023-02-03T09:34:02.444Z"
   },
   {
    "duration": 200,
    "start_time": "2023-02-03T09:37:13.493Z"
   },
   {
    "duration": 148,
    "start_time": "2023-02-03T09:38:23.290Z"
   },
   {
    "duration": 136,
    "start_time": "2023-02-03T09:39:24.287Z"
   },
   {
    "duration": 116,
    "start_time": "2023-02-03T09:40:13.612Z"
   },
   {
    "duration": 8,
    "start_time": "2023-02-03T09:40:40.457Z"
   },
   {
    "duration": 7,
    "start_time": "2023-02-03T09:40:43.785Z"
   },
   {
    "duration": 8,
    "start_time": "2023-02-03T09:40:50.544Z"
   },
   {
    "duration": 8,
    "start_time": "2023-02-03T09:40:54.177Z"
   },
   {
    "duration": 6,
    "start_time": "2023-02-03T09:40:57.500Z"
   },
   {
    "duration": 126,
    "start_time": "2023-02-03T09:40:59.639Z"
   },
   {
    "duration": 7,
    "start_time": "2023-02-03T09:41:13.875Z"
   },
   {
    "duration": 5,
    "start_time": "2023-02-03T09:41:16.041Z"
   },
   {
    "duration": 6,
    "start_time": "2023-02-03T09:41:19.203Z"
   },
   {
    "duration": 117,
    "start_time": "2023-02-03T09:41:21.784Z"
   },
   {
    "duration": 120,
    "start_time": "2023-02-03T09:41:29.908Z"
   },
   {
    "duration": 9,
    "start_time": "2023-02-03T09:42:13.760Z"
   },
   {
    "duration": 7,
    "start_time": "2023-02-03T09:42:15.935Z"
   },
   {
    "duration": 7,
    "start_time": "2023-02-03T09:42:19.146Z"
   },
   {
    "duration": 125,
    "start_time": "2023-02-03T09:42:22.167Z"
   },
   {
    "duration": 499,
    "start_time": "2023-02-04T07:38:45.074Z"
   },
   {
    "duration": 21,
    "start_time": "2023-02-04T07:38:45.575Z"
   },
   {
    "duration": 15,
    "start_time": "2023-02-04T07:38:45.598Z"
   },
   {
    "duration": 9,
    "start_time": "2023-02-04T07:38:45.614Z"
   },
   {
    "duration": 35,
    "start_time": "2023-02-04T07:38:45.625Z"
   },
   {
    "duration": 3,
    "start_time": "2023-02-04T07:38:45.662Z"
   },
   {
    "duration": 31,
    "start_time": "2023-02-04T07:38:45.666Z"
   },
   {
    "duration": 6,
    "start_time": "2023-02-04T07:38:45.698Z"
   },
   {
    "duration": 22,
    "start_time": "2023-02-04T07:38:45.705Z"
   },
   {
    "duration": 5,
    "start_time": "2023-02-04T07:38:45.731Z"
   },
   {
    "duration": 46,
    "start_time": "2023-02-04T07:38:45.737Z"
   },
   {
    "duration": 13,
    "start_time": "2023-02-04T07:38:45.785Z"
   },
   {
    "duration": 4,
    "start_time": "2023-02-04T07:38:45.799Z"
   },
   {
    "duration": 13,
    "start_time": "2023-02-04T07:38:45.805Z"
   },
   {
    "duration": 28,
    "start_time": "2023-02-04T07:38:45.820Z"
   },
   {
    "duration": 16,
    "start_time": "2023-02-04T07:38:45.849Z"
   },
   {
    "duration": 25,
    "start_time": "2023-02-04T07:38:45.867Z"
   },
   {
    "duration": 28,
    "start_time": "2023-02-04T07:38:45.893Z"
   },
   {
    "duration": 14,
    "start_time": "2023-02-04T07:38:45.923Z"
   },
   {
    "duration": 5,
    "start_time": "2023-02-04T07:38:45.939Z"
   },
   {
    "duration": 20,
    "start_time": "2023-02-04T07:38:45.945Z"
   },
   {
    "duration": 13,
    "start_time": "2023-02-04T07:38:45.967Z"
   },
   {
    "duration": 11,
    "start_time": "2023-02-04T07:38:45.982Z"
   },
   {
    "duration": 10,
    "start_time": "2023-02-04T07:38:45.995Z"
   },
   {
    "duration": 364,
    "start_time": "2023-02-04T07:38:46.007Z"
   },
   {
    "duration": 9,
    "start_time": "2023-02-04T07:38:46.372Z"
   },
   {
    "duration": 16,
    "start_time": "2023-02-04T07:38:46.382Z"
   },
   {
    "duration": 9,
    "start_time": "2023-02-04T07:38:46.402Z"
   },
   {
    "duration": 149,
    "start_time": "2023-02-04T07:38:46.413Z"
   },
   {
    "duration": 8,
    "start_time": "2023-02-04T07:38:46.564Z"
   },
   {
    "duration": 20,
    "start_time": "2023-02-04T07:38:46.573Z"
   },
   {
    "duration": 6,
    "start_time": "2023-02-04T07:38:46.595Z"
   },
   {
    "duration": 114,
    "start_time": "2023-02-04T07:38:46.602Z"
   },
   {
    "duration": 9,
    "start_time": "2023-02-04T07:38:46.717Z"
   },
   {
    "duration": 9,
    "start_time": "2023-02-04T07:38:46.728Z"
   },
   {
    "duration": 7,
    "start_time": "2023-02-04T07:38:46.738Z"
   },
   {
    "duration": 138,
    "start_time": "2023-02-04T07:38:46.747Z"
   },
   {
    "duration": 609,
    "start_time": "2023-02-04T11:12:26.038Z"
   },
   {
    "duration": 101,
    "start_time": "2023-02-04T11:12:33.103Z"
   },
   {
    "duration": 36,
    "start_time": "2023-02-04T11:12:38.443Z"
   },
   {
    "duration": 15,
    "start_time": "2023-02-04T11:12:43.020Z"
   },
   {
    "duration": 18,
    "start_time": "2023-02-04T11:12:47.063Z"
   },
   {
    "duration": 37,
    "start_time": "2023-02-04T11:12:51.173Z"
   },
   {
    "duration": 4,
    "start_time": "2023-02-04T11:12:54.740Z"
   },
   {
    "duration": 8,
    "start_time": "2023-02-04T11:15:02.397Z"
   },
   {
    "duration": 5,
    "start_time": "2023-02-04T11:15:06.130Z"
   },
   {
    "duration": 6,
    "start_time": "2023-02-04T11:15:09.061Z"
   },
   {
    "duration": 5,
    "start_time": "2023-02-04T11:15:12.675Z"
   },
   {
    "duration": 35,
    "start_time": "2023-02-04T11:15:16.461Z"
   },
   {
    "duration": 11,
    "start_time": "2023-02-04T11:15:20.211Z"
   },
   {
    "duration": 4,
    "start_time": "2023-02-04T11:15:24.977Z"
   },
   {
    "duration": 13,
    "start_time": "2023-02-04T11:15:28.611Z"
   },
   {
    "duration": 21,
    "start_time": "2023-02-04T11:15:31.731Z"
   },
   {
    "duration": 17,
    "start_time": "2023-02-04T11:15:35.099Z"
   },
   {
    "duration": 4,
    "start_time": "2023-02-04T11:15:39.486Z"
   },
   {
    "duration": 10,
    "start_time": "2023-02-04T11:15:42.938Z"
   },
   {
    "duration": 6,
    "start_time": "2023-02-04T11:15:45.380Z"
   },
   {
    "duration": 4,
    "start_time": "2023-02-04T11:15:49.616Z"
   },
   {
    "duration": 9,
    "start_time": "2023-02-04T11:15:52.432Z"
   },
   {
    "duration": 8,
    "start_time": "2023-02-04T11:15:55.953Z"
   },
   {
    "duration": 6,
    "start_time": "2023-02-04T11:15:58.900Z"
   },
   {
    "duration": 6,
    "start_time": "2023-02-04T11:16:02.303Z"
   },
   {
    "duration": 76,
    "start_time": "2023-02-04T11:16:06.091Z"
   },
   {
    "duration": 72,
    "start_time": "2023-02-04T11:30:25.022Z"
   },
   {
    "duration": 17,
    "start_time": "2023-02-04T11:30:27.665Z"
   },
   {
    "duration": 17,
    "start_time": "2023-02-04T11:30:32.328Z"
   },
   {
    "duration": 13,
    "start_time": "2023-02-04T11:30:36.511Z"
   },
   {
    "duration": 37,
    "start_time": "2023-02-04T11:30:39.897Z"
   },
   {
    "duration": 5,
    "start_time": "2023-02-04T11:31:21.549Z"
   },
   {
    "duration": 10,
    "start_time": "2023-02-04T11:31:24.265Z"
   },
   {
    "duration": 5,
    "start_time": "2023-02-04T11:31:28.459Z"
   },
   {
    "duration": 6,
    "start_time": "2023-02-04T11:31:31.874Z"
   },
   {
    "duration": 6,
    "start_time": "2023-02-04T11:31:35.729Z"
   },
   {
    "duration": 37,
    "start_time": "2023-02-04T11:31:39.929Z"
   },
   {
    "duration": 12,
    "start_time": "2023-02-04T11:31:43.137Z"
   },
   {
    "duration": 4,
    "start_time": "2023-02-04T11:31:46.567Z"
   },
   {
    "duration": 12,
    "start_time": "2023-02-04T11:31:49.561Z"
   },
   {
    "duration": 28,
    "start_time": "2023-02-04T11:31:52.624Z"
   },
   {
    "duration": 19,
    "start_time": "2023-02-04T11:31:55.254Z"
   },
   {
    "duration": 4,
    "start_time": "2023-02-04T11:31:58.559Z"
   },
   {
    "duration": 12,
    "start_time": "2023-02-04T11:32:01.422Z"
   },
   {
    "duration": 6,
    "start_time": "2023-02-04T11:32:04.387Z"
   },
   {
    "duration": 4,
    "start_time": "2023-02-04T11:32:08.324Z"
   },
   {
    "duration": 10,
    "start_time": "2023-02-04T11:32:10.641Z"
   },
   {
    "duration": 7,
    "start_time": "2023-02-04T11:32:14.328Z"
   },
   {
    "duration": 5,
    "start_time": "2023-02-04T11:32:17.424Z"
   },
   {
    "duration": 5,
    "start_time": "2023-02-04T11:32:20.808Z"
   },
   {
    "duration": 11,
    "start_time": "2023-02-04T11:32:24.895Z"
   },
   {
    "duration": 8,
    "start_time": "2023-02-04T11:32:31.557Z"
   },
   {
    "duration": 10,
    "start_time": "2023-02-04T11:32:47.490Z"
   },
   {
    "duration": 585,
    "start_time": "2023-02-04T11:33:12.226Z"
   },
   {
    "duration": 133,
    "start_time": "2023-02-04T11:33:22.767Z"
   },
   {
    "duration": 48,
    "start_time": "2023-02-06T09:02:23.997Z"
   },
   {
    "duration": 576,
    "start_time": "2023-02-06T09:02:32.412Z"
   },
   {
    "duration": 23,
    "start_time": "2023-02-06T09:02:34.481Z"
   },
   {
    "duration": 17,
    "start_time": "2023-02-06T09:02:38.569Z"
   },
   {
    "duration": 12,
    "start_time": "2023-02-06T09:02:43.350Z"
   },
   {
    "duration": 35,
    "start_time": "2023-02-06T09:02:46.984Z"
   },
   {
    "duration": 3,
    "start_time": "2023-02-06T09:02:49.861Z"
   },
   {
    "duration": 8,
    "start_time": "2023-02-06T09:02:52.544Z"
   },
   {
    "duration": 4,
    "start_time": "2023-02-06T09:02:56.014Z"
   },
   {
    "duration": 8,
    "start_time": "2023-02-06T09:02:59.346Z"
   },
   {
    "duration": 4,
    "start_time": "2023-02-06T09:03:02.280Z"
   },
   {
    "duration": 36,
    "start_time": "2023-02-06T09:03:05.489Z"
   },
   {
    "duration": 11,
    "start_time": "2023-02-06T09:03:08.293Z"
   },
   {
    "duration": 4,
    "start_time": "2023-02-06T09:03:11.834Z"
   },
   {
    "duration": 11,
    "start_time": "2023-02-06T09:03:15.777Z"
   },
   {
    "duration": 20,
    "start_time": "2023-02-06T09:03:18.481Z"
   },
   {
    "duration": 19,
    "start_time": "2023-02-06T09:03:20.766Z"
   },
   {
    "duration": 4,
    "start_time": "2023-02-06T09:03:24.659Z"
   },
   {
    "duration": 11,
    "start_time": "2023-02-06T09:03:27.177Z"
   },
   {
    "duration": 6,
    "start_time": "2023-02-06T09:03:29.530Z"
   },
   {
    "duration": 4,
    "start_time": "2023-02-06T09:03:33.761Z"
   },
   {
    "duration": 10,
    "start_time": "2023-02-06T09:03:35.886Z"
   },
   {
    "duration": 9,
    "start_time": "2023-02-06T09:03:39.195Z"
   },
   {
    "duration": 5,
    "start_time": "2023-02-06T09:03:42.248Z"
   },
   {
    "duration": 5,
    "start_time": "2023-02-06T09:03:45.356Z"
   },
   {
    "duration": 16,
    "start_time": "2023-02-06T09:03:48.760Z"
   },
   {
    "duration": 47,
    "start_time": "2023-02-06T09:37:27.970Z"
   },
   {
    "duration": 63,
    "start_time": "2023-02-06T09:37:49.416Z"
   },
   {
    "duration": 15,
    "start_time": "2023-02-06T09:43:23.376Z"
   },
   {
    "duration": 17,
    "start_time": "2023-02-06T09:44:53.218Z"
   },
   {
    "duration": 17,
    "start_time": "2023-02-06T09:51:42.669Z"
   },
   {
    "duration": 15,
    "start_time": "2023-02-06T09:53:10.067Z"
   },
   {
    "duration": 16,
    "start_time": "2023-02-06T09:53:49.462Z"
   },
   {
    "duration": 25,
    "start_time": "2023-02-06T10:06:04.892Z"
   },
   {
    "duration": 30,
    "start_time": "2023-02-06T10:07:14.071Z"
   },
   {
    "duration": 14,
    "start_time": "2023-02-06T10:07:41.753Z"
   },
   {
    "duration": 44,
    "start_time": "2023-02-06T10:08:16.389Z"
   },
   {
    "duration": 52,
    "start_time": "2023-02-06T10:08:34.947Z"
   },
   {
    "duration": 15,
    "start_time": "2023-02-06T10:08:42.781Z"
   },
   {
    "duration": 12,
    "start_time": "2023-02-06T10:09:51.881Z"
   },
   {
    "duration": 49,
    "start_time": "2023-02-06T10:10:45.136Z"
   },
   {
    "duration": 15,
    "start_time": "2023-02-06T10:10:53.930Z"
   },
   {
    "duration": 18,
    "start_time": "2023-02-06T10:11:48.631Z"
   },
   {
    "duration": 50,
    "start_time": "2023-02-06T10:12:00.568Z"
   },
   {
    "duration": 16,
    "start_time": "2023-02-06T10:12:21.086Z"
   },
   {
    "duration": 54,
    "start_time": "2023-02-06T10:18:57.675Z"
   },
   {
    "duration": 46,
    "start_time": "2023-02-06T10:19:04.665Z"
   },
   {
    "duration": 9,
    "start_time": "2023-02-06T10:21:06.163Z"
   },
   {
    "duration": 7,
    "start_time": "2023-02-06T10:21:19.878Z"
   },
   {
    "duration": 54,
    "start_time": "2023-02-06T10:22:51.188Z"
   },
   {
    "duration": 15,
    "start_time": "2023-02-06T10:23:15.880Z"
   },
   {
    "duration": 16,
    "start_time": "2023-02-06T10:23:35.135Z"
   },
   {
    "duration": 52,
    "start_time": "2023-02-06T10:23:47.388Z"
   },
   {
    "duration": 47,
    "start_time": "2023-02-06T10:23:52.879Z"
   },
   {
    "duration": 59,
    "start_time": "2023-02-06T10:24:07.398Z"
   },
   {
    "duration": 7,
    "start_time": "2023-02-06T10:24:33.064Z"
   },
   {
    "duration": 24,
    "start_time": "2023-02-06T10:24:41.449Z"
   },
   {
    "duration": 26,
    "start_time": "2023-02-06T10:24:54.475Z"
   },
   {
    "duration": 8,
    "start_time": "2023-02-06T10:25:14.180Z"
   },
   {
    "duration": 26,
    "start_time": "2023-02-06T10:25:19.669Z"
   },
   {
    "duration": 25,
    "start_time": "2023-02-06T10:25:40.948Z"
   },
   {
    "duration": 27,
    "start_time": "2023-02-06T10:25:46.285Z"
   },
   {
    "duration": 26,
    "start_time": "2023-02-06T11:02:16.694Z"
   },
   {
    "duration": 25,
    "start_time": "2023-02-06T11:02:27.385Z"
   },
   {
    "duration": 28,
    "start_time": "2023-02-06T11:02:47.058Z"
   },
   {
    "duration": 11,
    "start_time": "2023-02-06T11:05:28.150Z"
   },
   {
    "duration": 14,
    "start_time": "2023-02-06T11:05:40.981Z"
   },
   {
    "duration": 15,
    "start_time": "2023-02-06T11:05:52.853Z"
   },
   {
    "duration": 54,
    "start_time": "2023-02-06T16:08:45.971Z"
   },
   {
    "duration": 705,
    "start_time": "2023-02-06T16:11:32.434Z"
   },
   {
    "duration": 33,
    "start_time": "2023-02-06T16:11:33.141Z"
   },
   {
    "duration": 15,
    "start_time": "2023-02-06T16:11:33.176Z"
   },
   {
    "duration": 11,
    "start_time": "2023-02-06T16:11:33.192Z"
   },
   {
    "duration": 55,
    "start_time": "2023-02-06T16:11:33.206Z"
   },
   {
    "duration": 4,
    "start_time": "2023-02-06T16:11:33.262Z"
   },
   {
    "duration": 14,
    "start_time": "2023-02-06T16:11:33.267Z"
   },
   {
    "duration": 8,
    "start_time": "2023-02-06T16:11:33.282Z"
   },
   {
    "duration": 16,
    "start_time": "2023-02-06T16:11:33.292Z"
   },
   {
    "duration": 11,
    "start_time": "2023-02-06T16:11:33.310Z"
   },
   {
    "duration": 54,
    "start_time": "2023-02-06T16:11:33.324Z"
   },
   {
    "duration": 11,
    "start_time": "2023-02-06T16:11:33.380Z"
   },
   {
    "duration": 12,
    "start_time": "2023-02-06T16:11:33.393Z"
   },
   {
    "duration": 13,
    "start_time": "2023-02-06T16:11:33.408Z"
   },
   {
    "duration": 33,
    "start_time": "2023-02-06T16:11:33.423Z"
   },
   {
    "duration": 19,
    "start_time": "2023-02-06T16:11:33.459Z"
   },
   {
    "duration": 5,
    "start_time": "2023-02-06T16:11:33.479Z"
   },
   {
    "duration": 15,
    "start_time": "2023-02-06T16:11:33.485Z"
   },
   {
    "duration": 36,
    "start_time": "2023-02-06T16:11:33.501Z"
   },
   {
    "duration": 5,
    "start_time": "2023-02-06T16:11:33.539Z"
   },
   {
    "duration": 31,
    "start_time": "2023-02-06T16:11:33.546Z"
   },
   {
    "duration": 17,
    "start_time": "2023-02-06T16:11:33.579Z"
   },
   {
    "duration": 6,
    "start_time": "2023-02-06T16:11:33.599Z"
   },
   {
    "duration": 8,
    "start_time": "2023-02-06T16:11:33.607Z"
   },
   {
    "duration": 20,
    "start_time": "2023-02-06T16:11:33.617Z"
   },
   {
    "duration": 43,
    "start_time": "2023-02-06T16:11:33.639Z"
   },
   {
    "duration": 0,
    "start_time": "2023-02-06T16:11:33.684Z"
   },
   {
    "duration": 0,
    "start_time": "2023-02-06T16:11:33.685Z"
   },
   {
    "duration": 0,
    "start_time": "2023-02-06T16:11:33.686Z"
   },
   {
    "duration": 0,
    "start_time": "2023-02-06T16:11:33.688Z"
   },
   {
    "duration": 0,
    "start_time": "2023-02-06T16:11:33.689Z"
   },
   {
    "duration": 1,
    "start_time": "2023-02-06T16:11:33.689Z"
   },
   {
    "duration": 0,
    "start_time": "2023-02-06T16:11:33.690Z"
   },
   {
    "duration": 0,
    "start_time": "2023-02-06T16:11:33.691Z"
   },
   {
    "duration": 0,
    "start_time": "2023-02-06T16:11:33.692Z"
   },
   {
    "duration": 0,
    "start_time": "2023-02-06T16:11:33.693Z"
   },
   {
    "duration": 0,
    "start_time": "2023-02-06T16:11:33.694Z"
   },
   {
    "duration": 0,
    "start_time": "2023-02-06T16:11:33.695Z"
   },
   {
    "duration": 0,
    "start_time": "2023-02-06T16:11:33.696Z"
   },
   {
    "duration": 20,
    "start_time": "2023-02-06T16:12:20.910Z"
   },
   {
    "duration": 41,
    "start_time": "2023-02-06T16:12:51.732Z"
   },
   {
    "duration": 370,
    "start_time": "2023-02-06T16:15:02.376Z"
   },
   {
    "duration": 11,
    "start_time": "2023-02-06T16:15:14.055Z"
   },
   {
    "duration": 28,
    "start_time": "2023-02-06T16:15:26.602Z"
   },
   {
    "duration": 40,
    "start_time": "2023-02-06T16:24:21.108Z"
   },
   {
    "duration": 33,
    "start_time": "2023-02-06T16:24:37.933Z"
   },
   {
    "duration": 29,
    "start_time": "2023-02-06T16:25:17.557Z"
   },
   {
    "duration": 29,
    "start_time": "2023-02-06T16:25:35.370Z"
   },
   {
    "duration": 27,
    "start_time": "2023-02-06T16:26:30.159Z"
   },
   {
    "duration": 27,
    "start_time": "2023-02-06T16:28:57.154Z"
   },
   {
    "duration": 33,
    "start_time": "2023-02-06T16:29:21.003Z"
   },
   {
    "duration": 10,
    "start_time": "2023-02-06T16:30:40.149Z"
   },
   {
    "duration": 7,
    "start_time": "2023-02-06T16:30:44.420Z"
   },
   {
    "duration": 6,
    "start_time": "2023-02-06T16:30:47.394Z"
   },
   {
    "duration": 578,
    "start_time": "2023-02-06T16:30:49.902Z"
   },
   {
    "duration": 39,
    "start_time": "2023-02-06T16:31:35.322Z"
   },
   {
    "duration": 128,
    "start_time": "2023-02-06T16:33:57.382Z"
   },
   {
    "duration": 40,
    "start_time": "2023-02-06T16:36:28.454Z"
   },
   {
    "duration": 21,
    "start_time": "2023-02-06T16:36:48.565Z"
   },
   {
    "duration": 119,
    "start_time": "2023-02-06T16:36:55.711Z"
   },
   {
    "duration": 8,
    "start_time": "2023-02-06T16:37:09.804Z"
   },
   {
    "duration": 9,
    "start_time": "2023-02-06T16:37:14.077Z"
   },
   {
    "duration": 7,
    "start_time": "2023-02-06T16:37:17.367Z"
   },
   {
    "duration": 7,
    "start_time": "2023-02-06T16:37:19.794Z"
   },
   {
    "duration": 134,
    "start_time": "2023-02-06T16:37:23.127Z"
   },
   {
    "duration": 8,
    "start_time": "2023-02-06T16:37:57.385Z"
   },
   {
    "duration": 35,
    "start_time": "2023-02-06T16:38:33.065Z"
   },
   {
    "duration": 9,
    "start_time": "2023-02-06T16:38:51.548Z"
   },
   {
    "duration": 7,
    "start_time": "2023-02-06T16:38:53.567Z"
   },
   {
    "duration": 7,
    "start_time": "2023-02-06T16:38:57.102Z"
   },
   {
    "duration": 182,
    "start_time": "2023-02-06T16:39:00.056Z"
   },
   {
    "duration": 44,
    "start_time": "2023-02-06T16:39:20.602Z"
   },
   {
    "duration": 150,
    "start_time": "2023-02-06T16:39:40.613Z"
   },
   {
    "duration": 32,
    "start_time": "2023-02-06T16:41:03.049Z"
   },
   {
    "duration": 101,
    "start_time": "2023-02-06T17:02:29.702Z"
   },
   {
    "duration": 36,
    "start_time": "2023-02-06T17:02:40.956Z"
   },
   {
    "duration": 34,
    "start_time": "2023-02-06T17:03:42.958Z"
   },
   {
    "duration": 14,
    "start_time": "2023-02-06T17:04:11.515Z"
   },
   {
    "duration": 31,
    "start_time": "2023-02-06T17:04:27.435Z"
   },
   {
    "duration": 6,
    "start_time": "2023-02-06T17:05:36.113Z"
   },
   {
    "duration": 8,
    "start_time": "2023-02-06T17:07:31.808Z"
   },
   {
    "duration": 31,
    "start_time": "2023-02-06T17:07:40.112Z"
   },
   {
    "duration": 42,
    "start_time": "2023-02-06T17:10:02.477Z"
   },
   {
    "duration": 34,
    "start_time": "2023-02-06T18:43:48.622Z"
   },
   {
    "duration": 34,
    "start_time": "2023-02-06T18:43:57.828Z"
   },
   {
    "duration": 78,
    "start_time": "2023-02-06T18:44:04.418Z"
   },
   {
    "duration": 15,
    "start_time": "2023-02-06T18:44:04.498Z"
   },
   {
    "duration": 36,
    "start_time": "2023-02-06T18:44:04.515Z"
   },
   {
    "duration": 14,
    "start_time": "2023-02-06T18:44:04.553Z"
   },
   {
    "duration": 46,
    "start_time": "2023-02-06T18:44:04.569Z"
   },
   {
    "duration": 3,
    "start_time": "2023-02-06T18:44:04.617Z"
   },
   {
    "duration": 36,
    "start_time": "2023-02-06T18:44:04.621Z"
   },
   {
    "duration": 30,
    "start_time": "2023-02-06T18:44:04.658Z"
   },
   {
    "duration": 35,
    "start_time": "2023-02-06T18:44:04.690Z"
   },
   {
    "duration": 30,
    "start_time": "2023-02-06T18:44:04.728Z"
   },
   {
    "duration": 50,
    "start_time": "2023-02-06T18:44:04.759Z"
   },
   {
    "duration": 9,
    "start_time": "2023-02-06T18:44:04.810Z"
   },
   {
    "duration": 27,
    "start_time": "2023-02-06T18:44:04.821Z"
   },
   {
    "duration": 37,
    "start_time": "2023-02-06T18:44:04.850Z"
   },
   {
    "duration": 56,
    "start_time": "2023-02-06T18:44:04.889Z"
   },
   {
    "duration": 28,
    "start_time": "2023-02-06T18:44:04.947Z"
   },
   {
    "duration": 7,
    "start_time": "2023-02-06T18:44:04.977Z"
   },
   {
    "duration": 31,
    "start_time": "2023-02-06T18:44:04.986Z"
   },
   {
    "duration": 23,
    "start_time": "2023-02-06T18:44:05.019Z"
   },
   {
    "duration": 26,
    "start_time": "2023-02-06T18:44:05.043Z"
   },
   {
    "duration": 33,
    "start_time": "2023-02-06T18:44:05.073Z"
   },
   {
    "duration": 36,
    "start_time": "2023-02-06T18:44:05.108Z"
   },
   {
    "duration": 28,
    "start_time": "2023-02-06T18:44:05.146Z"
   },
   {
    "duration": 40,
    "start_time": "2023-02-06T18:44:05.176Z"
   },
   {
    "duration": 64,
    "start_time": "2023-02-06T18:44:05.217Z"
   },
   {
    "duration": 144,
    "start_time": "2023-02-06T18:44:05.283Z"
   },
   {
    "duration": 12,
    "start_time": "2023-02-06T18:44:05.429Z"
   },
   {
    "duration": 20,
    "start_time": "2023-02-06T18:44:05.444Z"
   },
   {
    "duration": 29,
    "start_time": "2023-02-06T18:44:05.466Z"
   },
   {
    "duration": 51,
    "start_time": "2023-02-06T18:44:05.497Z"
   },
   {
    "duration": 125,
    "start_time": "2023-02-06T18:44:05.550Z"
   },
   {
    "duration": 8,
    "start_time": "2023-02-06T18:44:05.677Z"
   },
   {
    "duration": 32,
    "start_time": "2023-02-06T18:44:05.687Z"
   },
   {
    "duration": 28,
    "start_time": "2023-02-06T18:44:05.721Z"
   },
   {
    "duration": 56,
    "start_time": "2023-02-06T18:44:05.751Z"
   },
   {
    "duration": 99,
    "start_time": "2023-02-06T18:44:05.809Z"
   },
   {
    "duration": 8,
    "start_time": "2023-02-06T18:44:05.909Z"
   },
   {
    "duration": 37,
    "start_time": "2023-02-06T18:44:05.919Z"
   },
   {
    "duration": 44,
    "start_time": "2023-02-06T18:44:05.958Z"
   },
   {
    "duration": 41,
    "start_time": "2023-02-06T18:44:06.003Z"
   },
   {
    "duration": 115,
    "start_time": "2023-02-06T18:44:06.046Z"
   },
   {
    "duration": 12,
    "start_time": "2023-02-06T18:44:06.163Z"
   },
   {
    "duration": 63,
    "start_time": "2023-02-06T18:44:06.176Z"
   },
   {
    "duration": 34,
    "start_time": "2023-02-06T18:44:06.241Z"
   },
   {
    "duration": 35,
    "start_time": "2023-02-06T18:44:13.199Z"
   },
   {
    "duration": 109,
    "start_time": "2023-02-06T18:45:26.615Z"
   },
   {
    "duration": 119,
    "start_time": "2023-02-06T18:45:54.313Z"
   },
   {
    "duration": 100,
    "start_time": "2023-02-06T18:46:16.698Z"
   },
   {
    "duration": 119,
    "start_time": "2023-02-06T18:46:36.833Z"
   },
   {
    "duration": 176,
    "start_time": "2023-02-06T18:46:44.752Z"
   },
   {
    "duration": 318,
    "start_time": "2023-02-06T18:48:10.822Z"
   },
   {
    "duration": 132,
    "start_time": "2023-02-06T18:49:03.068Z"
   },
   {
    "duration": 125,
    "start_time": "2023-02-06T18:50:17.579Z"
   }
  ],
  "colab": {
   "name": "dpp_template_part2.ipynb",
   "provenance": []
  },
  "kernelspec": {
   "display_name": "Python 3 (ipykernel)",
   "language": "python",
   "name": "python3"
  },
  "language_info": {
   "codemirror_mode": {
    "name": "ipython",
    "version": 3
   },
   "file_extension": ".py",
   "mimetype": "text/x-python",
   "name": "python",
   "nbconvert_exporter": "python",
   "pygments_lexer": "ipython3",
   "version": "3.9.16"
  },
  "toc": {
   "base_numbering": 1,
   "nav_menu": {},
   "number_sections": true,
   "sideBar": true,
   "skip_h1_title": true,
   "title_cell": "Table of Contents",
   "title_sidebar": "Contents",
   "toc_cell": false,
   "toc_position": {},
   "toc_section_display": true,
   "toc_window_display": false
  }
 },
 "nbformat": 4,
 "nbformat_minor": 5
}
