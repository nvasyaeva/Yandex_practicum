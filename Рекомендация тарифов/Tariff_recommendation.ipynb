{
 "cells": [
  {
   "cell_type": "markdown",
   "metadata": {},
   "source": [
    "# Рекомендация тарифов"
   ]
  },
  {
   "cell_type": "markdown",
   "metadata": {},
   "source": [
    "В вашем распоряжении данные о поведении клиентов, которые уже перешли на эти тарифы (из проекта курса «Статистический анализ данных»). Нужно построить модель для задачи классификации, которая выберет подходящий тариф. Предобработка данных не понадобится — вы её уже сделали.\n",
    "\n",
    "Постройте модель с максимально большим значением *accuracy*. Чтобы сдать проект успешно, нужно довести долю правильных ответов по крайней мере до 0.75. Проверьте *accuracy* на тестовой выборке самостоятельно."
   ]
  },
  {
   "cell_type": "markdown",
   "metadata": {},
   "source": [
    "### Цель работы:"
   ]
  },
  {
   "cell_type": "markdown",
   "metadata": {},
   "source": [
    "построить модель для задачи классификации, которая выберет новый тариф «Смарт» или «Ультра», наиболее подходящий пользователям архивных тарифов, основываясь на поведении клиентов, которые уже перешли на эти тарифы.  \n",
    "\n",
    "Описание данных:  \n",
    "- сalls — количество звонков,  \n",
    "- minutes — суммарная длительность звонков в минутах,  \n",
    "- messages — количество sms-сообщений,  \n",
    "- mb_used — израсходованный интернет-трафик в Мб,  \n",
    "- is_ultra — каким тарифом пользовался в течение месяца («Ультра» — 1, «Смарт» — 0).  \n",
    "\n",
    "Необходимо решить следующие задачи:  \n",
    "\n",
    "- Изучить исходные данные. \n",
    "- Разделить исходные данные на обучающую, валидационную и тестовую выборки.  \n",
    "- Исследовать качество разных моделей, меняя гиперпараметры. Построить модель с максимально большим значением *accuracy* (не менее 0.75). Написать выводы исследования.  \n",
    "- Проверить качество модели на тестовой выборке.  \n",
    "- Дополнительное задание: проверить модели на вменяемость. "
   ]
  },
  {
   "cell_type": "markdown",
   "metadata": {},
   "source": [
    "## Откройте и изучите файл"
   ]
  },
  {
   "cell_type": "code",
   "execution_count": 49,
   "metadata": {},
   "outputs": [],
   "source": [
    "import pandas as pd\n",
    "import seaborn as sb\n",
    "from sklearn.model_selection import train_test_split\n",
    "from sklearn.tree import DecisionTreeClassifier\n",
    "from sklearn.metrics import accuracy_score\n",
    "from sklearn.ensemble import RandomForestClassifier\n",
    "from sklearn.linear_model import LogisticRegression"
   ]
  },
  {
   "cell_type": "code",
   "execution_count": 3,
   "metadata": {},
   "outputs": [],
   "source": [
    "try:\n",
    "    df = pd.read_csv('/datasets/users_behavior.csv')\n",
    "except:\n",
    "    df = pd.read_csv('https://code.s3.yandex.net/datasets/users_behavior.csv')"
   ]
  },
  {
   "cell_type": "code",
   "execution_count": 4,
   "metadata": {},
   "outputs": [
    {
     "data": {
      "text/html": [
       "<div>\n",
       "<style scoped>\n",
       "    .dataframe tbody tr th:only-of-type {\n",
       "        vertical-align: middle;\n",
       "    }\n",
       "\n",
       "    .dataframe tbody tr th {\n",
       "        vertical-align: top;\n",
       "    }\n",
       "\n",
       "    .dataframe thead th {\n",
       "        text-align: right;\n",
       "    }\n",
       "</style>\n",
       "<table border=\"1\" class=\"dataframe\">\n",
       "  <thead>\n",
       "    <tr style=\"text-align: right;\">\n",
       "      <th></th>\n",
       "      <th>calls</th>\n",
       "      <th>minutes</th>\n",
       "      <th>messages</th>\n",
       "      <th>mb_used</th>\n",
       "      <th>is_ultra</th>\n",
       "    </tr>\n",
       "  </thead>\n",
       "  <tbody>\n",
       "    <tr>\n",
       "      <th>0</th>\n",
       "      <td>40.0</td>\n",
       "      <td>311.90</td>\n",
       "      <td>83.0</td>\n",
       "      <td>19915.42</td>\n",
       "      <td>0</td>\n",
       "    </tr>\n",
       "    <tr>\n",
       "      <th>1</th>\n",
       "      <td>85.0</td>\n",
       "      <td>516.75</td>\n",
       "      <td>56.0</td>\n",
       "      <td>22696.96</td>\n",
       "      <td>0</td>\n",
       "    </tr>\n",
       "    <tr>\n",
       "      <th>2</th>\n",
       "      <td>77.0</td>\n",
       "      <td>467.66</td>\n",
       "      <td>86.0</td>\n",
       "      <td>21060.45</td>\n",
       "      <td>0</td>\n",
       "    </tr>\n",
       "    <tr>\n",
       "      <th>3</th>\n",
       "      <td>106.0</td>\n",
       "      <td>745.53</td>\n",
       "      <td>81.0</td>\n",
       "      <td>8437.39</td>\n",
       "      <td>1</td>\n",
       "    </tr>\n",
       "    <tr>\n",
       "      <th>4</th>\n",
       "      <td>66.0</td>\n",
       "      <td>418.74</td>\n",
       "      <td>1.0</td>\n",
       "      <td>14502.75</td>\n",
       "      <td>0</td>\n",
       "    </tr>\n",
       "    <tr>\n",
       "      <th>5</th>\n",
       "      <td>58.0</td>\n",
       "      <td>344.56</td>\n",
       "      <td>21.0</td>\n",
       "      <td>15823.37</td>\n",
       "      <td>0</td>\n",
       "    </tr>\n",
       "    <tr>\n",
       "      <th>6</th>\n",
       "      <td>57.0</td>\n",
       "      <td>431.64</td>\n",
       "      <td>20.0</td>\n",
       "      <td>3738.90</td>\n",
       "      <td>1</td>\n",
       "    </tr>\n",
       "    <tr>\n",
       "      <th>7</th>\n",
       "      <td>15.0</td>\n",
       "      <td>132.40</td>\n",
       "      <td>6.0</td>\n",
       "      <td>21911.60</td>\n",
       "      <td>0</td>\n",
       "    </tr>\n",
       "    <tr>\n",
       "      <th>8</th>\n",
       "      <td>7.0</td>\n",
       "      <td>43.39</td>\n",
       "      <td>3.0</td>\n",
       "      <td>2538.67</td>\n",
       "      <td>1</td>\n",
       "    </tr>\n",
       "    <tr>\n",
       "      <th>9</th>\n",
       "      <td>90.0</td>\n",
       "      <td>665.41</td>\n",
       "      <td>38.0</td>\n",
       "      <td>17358.61</td>\n",
       "      <td>0</td>\n",
       "    </tr>\n",
       "  </tbody>\n",
       "</table>\n",
       "</div>"
      ],
      "text/plain": [
       "   calls  minutes  messages   mb_used  is_ultra\n",
       "0   40.0   311.90      83.0  19915.42         0\n",
       "1   85.0   516.75      56.0  22696.96         0\n",
       "2   77.0   467.66      86.0  21060.45         0\n",
       "3  106.0   745.53      81.0   8437.39         1\n",
       "4   66.0   418.74       1.0  14502.75         0\n",
       "5   58.0   344.56      21.0  15823.37         0\n",
       "6   57.0   431.64      20.0   3738.90         1\n",
       "7   15.0   132.40       6.0  21911.60         0\n",
       "8    7.0    43.39       3.0   2538.67         1\n",
       "9   90.0   665.41      38.0  17358.61         0"
      ]
     },
     "execution_count": 4,
     "metadata": {},
     "output_type": "execute_result"
    }
   ],
   "source": [
    "df.head(10)"
   ]
  },
  {
   "cell_type": "code",
   "execution_count": 5,
   "metadata": {},
   "outputs": [
    {
     "name": "stdout",
     "output_type": "stream",
     "text": [
      "<class 'pandas.core.frame.DataFrame'>\n",
      "RangeIndex: 3214 entries, 0 to 3213\n",
      "Data columns (total 5 columns):\n",
      " #   Column    Non-Null Count  Dtype  \n",
      "---  ------    --------------  -----  \n",
      " 0   calls     3214 non-null   float64\n",
      " 1   minutes   3214 non-null   float64\n",
      " 2   messages  3214 non-null   float64\n",
      " 3   mb_used   3214 non-null   float64\n",
      " 4   is_ultra  3214 non-null   int64  \n",
      "dtypes: float64(4), int64(1)\n",
      "memory usage: 125.7 KB\n"
     ]
    }
   ],
   "source": [
    "df.info()"
   ]
  },
  {
   "cell_type": "code",
   "execution_count": 6,
   "metadata": {},
   "outputs": [
    {
     "data": {
      "text/plain": [
       "0"
      ]
     },
     "execution_count": 6,
     "metadata": {},
     "output_type": "execute_result"
    }
   ],
   "source": [
    "df.duplicated().sum()"
   ]
  },
  {
   "cell_type": "markdown",
   "metadata": {},
   "source": [
    "## Разбейте данные на выборки"
   ]
  },
  {
   "cell_type": "markdown",
   "metadata": {},
   "source": [
    "features - признаки.  \n",
    "target - целевой признак."
   ]
  },
  {
   "cell_type": "code",
   "execution_count": 7,
   "metadata": {},
   "outputs": [],
   "source": [
    "features = df.drop('is_ultra', axis=1)\n",
    "target = df['is_ultra']"
   ]
  },
  {
   "cell_type": "markdown",
   "metadata": {},
   "source": [
    "df_valid, target_valid - признаки и целевой признак валидационной выборки.  \n",
    "df_train, target_train - признаки и целевой признак обучающей выборки.  \n",
    "df_test, target_test - признаки и целевой признак тестовой выборки."
   ]
  },
  {
   "cell_type": "code",
   "execution_count": 8,
   "metadata": {},
   "outputs": [],
   "source": [
    "df_a, df_valid, target_a, target_valid = train_test_split(features, target, test_size=0.2, random_state=12345)\n",
    "df_train, df_test, target_train, target_test = train_test_split(df_a, target_a, test_size=0.2, random_state=12345)"
   ]
  },
  {
   "cell_type": "code",
   "execution_count": 9,
   "metadata": {},
   "outputs": [
    {
     "data": {
      "text/plain": [
       "(643, 4)"
      ]
     },
     "execution_count": 9,
     "metadata": {},
     "output_type": "execute_result"
    }
   ],
   "source": [
    "df_valid.shape"
   ]
  },
  {
   "cell_type": "code",
   "execution_count": 10,
   "metadata": {},
   "outputs": [
    {
     "data": {
      "text/plain": [
       "(2056, 4)"
      ]
     },
     "execution_count": 10,
     "metadata": {},
     "output_type": "execute_result"
    }
   ],
   "source": [
    "df_train.shape"
   ]
  },
  {
   "cell_type": "code",
   "execution_count": 11,
   "metadata": {},
   "outputs": [
    {
     "data": {
      "text/plain": [
       "(515, 4)"
      ]
     },
     "execution_count": 11,
     "metadata": {},
     "output_type": "execute_result"
    }
   ],
   "source": [
    "df_test.shape"
   ]
  },
  {
   "cell_type": "markdown",
   "metadata": {},
   "source": [
    "## Исследуйте модели"
   ]
  },
  {
   "cell_type": "markdown",
   "metadata": {},
   "source": [
    "Модель Дерево решений.  \n",
    "default: criterion=”gini”, splitter='best', \n",
    "max_depth=None"
   ]
  },
  {
   "cell_type": "code",
   "execution_count": 72,
   "metadata": {},
   "outputs": [
    {
     "data": {
      "text/plain": [
       "0.7309486780715396"
      ]
     },
     "execution_count": 72,
     "metadata": {},
     "output_type": "execute_result"
    }
   ],
   "source": [
    "model_1 = DecisionTreeClassifier(random_state=12345)\n",
    "model_1.fit(df_train, target_train)\n",
    "answers_1 = model_1.predict(df_valid)\n",
    "accuracy_1 = accuracy_score(target_valid, answers_1)\n",
    "accuracy_1"
   ]
  },
  {
   "cell_type": "code",
   "execution_count": 73,
   "metadata": {},
   "outputs": [
    {
     "data": {
      "text/plain": [
       "0.7325038880248833"
      ]
     },
     "execution_count": 73,
     "metadata": {},
     "output_type": "execute_result"
    }
   ],
   "source": [
    "model_1 = DecisionTreeClassifier(random_state=12345, criterion='entropy')\n",
    "model_1.fit(df_train, target_train)\n",
    "answers_1 = model_1.predict(df_valid)\n",
    "accuracy_1 = accuracy_score(target_valid, answers_1)\n",
    "accuracy_1"
   ]
  },
  {
   "cell_type": "code",
   "execution_count": 13,
   "metadata": {},
   "outputs": [
    {
     "data": {
      "text/plain": [
       "0.7200622083981337"
      ]
     },
     "execution_count": 13,
     "metadata": {},
     "output_type": "execute_result"
    }
   ],
   "source": [
    "model_1 = DecisionTreeClassifier(random_state=12345, splitter='random')\n",
    "model_1.fit(df_train, target_train)\n",
    "answers_1 = model_1.predict(df_valid)\n",
    "accuracy_1 = accuracy_score(target_valid, answers_1)\n",
    "accuracy_1"
   ]
  },
  {
   "cell_type": "code",
   "execution_count": 40,
   "metadata": {},
   "outputs": [
    {
     "name": "stdout",
     "output_type": "stream",
     "text": [
      "Accuracy наилучшей модели 0.79 при max_depth = 7\n"
     ]
    }
   ],
   "source": [
    "best_result = 0\n",
    "mdepm = 0\n",
    "for mdep in range(2, 11):\n",
    "    model_1 = DecisionTreeClassifier(random_state=12345, max_depth=mdep)\n",
    "    model_1.fit(df_train, target_train)\n",
    "    answers_1 = model_1.predict(df_valid)\n",
    "    accuracy_1 = accuracy_score(target_valid, answers_1)\n",
    "    if accuracy_1 > best_result:\n",
    "        best_model = model_1\n",
    "        mdepm = mdep\n",
    "        best_result = accuracy_1 #сохраним наилучшее значение метрики accuracy\n",
    "print(f\"Accuracy наилучшей модели {best_result:.2} при max_depth = {mdepm}\")"
   ]
  },
  {
   "cell_type": "markdown",
   "metadata": {},
   "source": [
    "Модель Случайный лес.  \n",
    "default: n_estimators = 100, min_samples_split=2, min_samples_leaf=1"
   ]
  },
  {
   "cell_type": "code",
   "execution_count": 27,
   "metadata": {},
   "outputs": [
    {
     "data": {
      "text/plain": [
       "0.7884914463452566"
      ]
     },
     "execution_count": 27,
     "metadata": {},
     "output_type": "execute_result"
    }
   ],
   "source": [
    "model_2 = RandomForestClassifier(random_state=12345)\n",
    "model_2.fit(df_train, target_train)\n",
    "answers_2 = model_2.predict(df_valid)\n",
    "accuracy_2 = accuracy_score(target_valid, answers_2)\n",
    "accuracy_2"
   ]
  },
  {
   "cell_type": "markdown",
   "metadata": {},
   "source": [
    "Посчитаем accuracy при изменении гипепараметра n_estimators от 10 до 110 с шагом 10."
   ]
  },
  {
   "cell_type": "code",
   "execution_count": 41,
   "metadata": {},
   "outputs": [
    {
     "name": "stdout",
     "output_type": "stream",
     "text": [
      "Accuracy наилучшей модели 0.79 при n_estimators = 60\n"
     ]
    }
   ],
   "source": [
    "best_result = 0\n",
    "mest = 0\n",
    "for est in range(10, 110, 10):\n",
    "    model_2_2 = RandomForestClassifier(random_state=12345, n_estimators=est)\n",
    "    model_2_2.fit(df_train, target_train)\n",
    "    answers_2_2 = model_2_2.predict(df_valid)\n",
    "    accuracy_2_2 = accuracy_score(target_valid, answers_2_2)\n",
    "    if accuracy_2_2 > best_result:\n",
    "        best_model = model_2_2\n",
    "        mest = est\n",
    "        best_result = accuracy_2_2 #сохраним наилучшее значение метрики accuracy\n",
    "print(f\"Accuracy наилучшей модели {best_result:.2} при n_estimators = {mest}\")"
   ]
  },
  {
   "cell_type": "code",
   "execution_count": 42,
   "metadata": {},
   "outputs": [
    {
     "name": "stdout",
     "output_type": "stream",
     "text": [
      "Accuracy наилучшей модели 0.79 при min_samples_split = 7\n"
     ]
    }
   ],
   "source": [
    "best_result = 0\n",
    "mmss = 0\n",
    "for mss in range(2, 11):\n",
    "    model_2 = RandomForestClassifier(random_state=12345, min_samples_split=mss)\n",
    "    model_2.fit(df_train, target_train)\n",
    "    answers_2 = model_2.predict(df_valid)\n",
    "    accuracy_2 = accuracy_score(target_valid, answers_2)\n",
    "    if accuracy_2 > best_result:\n",
    "        best_model = model_2\n",
    "        mmss = mss\n",
    "        best_result = accuracy_2 #сохраним наилучшее значение метрики accuracy\n",
    "print(f\"Accuracy наилучшей модели {best_result:.2} при min_samples_split = {mmss}\")"
   ]
  },
  {
   "cell_type": "code",
   "execution_count": 43,
   "metadata": {},
   "outputs": [
    {
     "name": "stdout",
     "output_type": "stream",
     "text": [
      "Accuracy наилучшей модели 0.79 при min_samples_leaf = 4\n"
     ]
    }
   ],
   "source": [
    "best_result = 0\n",
    "mmsl = 0\n",
    "for msl in range(1, 11):\n",
    "    model_2 = RandomForestClassifier(random_state=12345, min_samples_leaf=msl)\n",
    "    model_2.fit(df_train, target_train)\n",
    "    answers_2 = model_2.predict(df_valid)\n",
    "    accuracy_2 = accuracy_score(target_valid, answers_2)\n",
    "    if accuracy_2 > best_result:\n",
    "        best_model = model_2\n",
    "        mmsl = msl\n",
    "        best_result = accuracy_2 #сохраним наилучшее значение метрики accuracy\n",
    "print(f\"Accuracy наилучшей модели {best_result:.2} при min_samples_leaf = {mmsl}\")"
   ]
  },
  {
   "cell_type": "markdown",
   "metadata": {},
   "source": [
    "Модель Логистическая регрессия."
   ]
  },
  {
   "cell_type": "code",
   "execution_count": 148,
   "metadata": {},
   "outputs": [
    {
     "data": {
      "text/plain": [
       "0.76049766718507"
      ]
     },
     "execution_count": 148,
     "metadata": {},
     "output_type": "execute_result"
    }
   ],
   "source": [
    "model_3 = LogisticRegression(random_state=12345)\n",
    "model_3.fit(df_train, target_train)\n",
    "answers_3 = model_3.predict(df_valid)\n",
    "accuracy_3 = accuracy_score(target_valid, answers_3)\n",
    "accuracy_3"
   ]
  },
  {
   "cell_type": "markdown",
   "metadata": {},
   "source": [
    "Посчитаем accuracy при изменении гипепараметра max_iter от 200 до 2000 с шагом 200."
   ]
  },
  {
   "cell_type": "code",
   "execution_count": 71,
   "metadata": {},
   "outputs": [
    {
     "data": {
      "image/png": "[encoded data removed]",
      "text/plain": [
       "<Figure size 640x480 with 1 Axes>"
      ]
     },
     "metadata": {},
     "output_type": "display_data"
    }
   ],
   "source": [
    "accuracy = []\n",
    "mit = []\n",
    "for miter in range(200, 2200, 200):\n",
    "    model_3_2 = LogisticRegression(random_state=12345, solver='lbfgs', max_iter=miter)\n",
    "    model_3_2.fit(df_train, target_train)\n",
    "    answers_3_2 = model_3_2.predict(df_valid)\n",
    "    accuracy_3_2 = accuracy_score(target_valid, answers_3_2)\n",
    "    accuracy.append(accuracy_3_2)\n",
    "    mit.append(miter)\n",
    "sb.barplot(x=mit, y=accuracy);"
   ]
  },
  {
   "cell_type": "markdown",
   "metadata": {},
   "source": [
    "Посчитаем accuracy при значении гипепараметра solver='liblinear'."
   ]
  },
  {
   "cell_type": "code",
   "execution_count": 150,
   "metadata": {},
   "outputs": [
    {
     "data": {
      "text/plain": [
       "0.749611197511664"
      ]
     },
     "execution_count": 150,
     "metadata": {},
     "output_type": "execute_result"
    }
   ],
   "source": [
    "model_3 = LogisticRegression(random_state=12345, solver='liblinear', max_iter=100)\n",
    "model_3.fit(df_train, target_train)\n",
    "answers_3 = model_3.predict(df_valid)\n",
    "accuracy_3 = accuracy_score(target_valid, answers_3)\n",
    "accuracy_3"
   ]
  },
  {
   "cell_type": "markdown",
   "metadata": {},
   "source": [
    "Вывод:В модели Дерево решений accuracy незначительно выше при criterion='entropy', чем при criterion='gini', при splitter='best', выше чем при splitter='random'. Accuracy наилучшей модели 0.79 при max_depth = 7    \n",
    "В модели Случайный лес изменение гипепараметров n_estimators, min_samples_split, min_samples_leaf влечет за собой изменение качества модели. Наибольшее значение accuracy при n_estimators равной 60. Accuracy наилучшей модели равно 0.79 при min_samples_split = 7. Accuracy наилучшей модели - 0.79 при min_samples_leaf = 4.  \n",
    "При изменении гипепараметра max_iter от 200 до 2000 с шагом 200 в модели Логистическая регрессия, accuracy не изменяется. При solver='liblinear' качества модели ниже, чем при solver='lbfgs'."
   ]
  },
  {
   "cell_type": "markdown",
   "metadata": {},
   "source": [
    "## Проверьте модель на тестовой выборке"
   ]
  },
  {
   "cell_type": "code",
   "execution_count": 151,
   "metadata": {},
   "outputs": [
    {
     "data": {
      "text/plain": [
       "0.7864077669902912"
      ]
     },
     "execution_count": 151,
     "metadata": {},
     "output_type": "execute_result"
    }
   ],
   "source": [
    "answers_2_test = model_2.predict(df_test)\n",
    "accuracy_2_test = accuracy_score(target_test, answers_2_test)\n",
    "accuracy_2_test"
   ]
  },
  {
   "cell_type": "code",
   "execution_count": 152,
   "metadata": {},
   "outputs": [
    {
     "data": {
      "text/plain": [
       "0.7786407766990291"
      ]
     },
     "execution_count": 152,
     "metadata": {},
     "output_type": "execute_result"
    }
   ],
   "source": [
    "model_test = RandomForestClassifier(random_state=12345, n_estimators=60)\n",
    "model_test.fit(df_train, target_train)\n",
    "answers_test = model_test.predict(df_test)\n",
    "accuracy_test = accuracy_score(target_test, answers_test)\n",
    "accuracy_test"
   ]
  },
  {
   "cell_type": "markdown",
   "metadata": {},
   "source": [
    "## (бонус) Проверьте модели на адекватность"
   ]
  },
  {
   "cell_type": "markdown",
   "metadata": {},
   "source": [
    "Чтобы оценить адекватность модели, или проверить её на вменяемость нужно сравнивнить модель со случайной. В модели, которая предсказывает все объекты случайным образом, с вероятностью 50/50 ответ будет 0 или 1 («Ультра» — 1, «Смарт» — 0)."
   ]
  },
  {
   "cell_type": "code",
   "execution_count": 153,
   "metadata": {},
   "outputs": [
    {
     "data": {
      "text/plain": [
       "985"
      ]
     },
     "execution_count": 153,
     "metadata": {},
     "output_type": "execute_result"
    }
   ],
   "source": [
    "target.sum()"
   ]
  },
  {
   "cell_type": "markdown",
   "metadata": {},
   "source": [
    "985 человек выбрали тариф «Ультра», что составляет 30.6% или 0.306 * количество объектов, соответственно тариф «Смарт» выбрали 0.693 * количество объектов. accuracy = количество правильных ответов/количество объектов.  \n",
    "accuracy = (0.306 * количество объектов * 0.5 + 0.693 * количество объектов * 0.5)/количество объектов = 0.5  \n",
    "Качество адекватной модели должно быть больше 0.5."
   ]
  },
  {
   "cell_type": "markdown",
   "metadata": {},
   "source": [
    "### Общий вывод"
   ]
  },
  {
   "cell_type": "markdown",
   "metadata": {},
   "source": [
    "В ходе работы: \n",
    "- Разделили исходные данные на обучающую, валидационную и тестовую выборки.  \n",
    "- Исследовали качество моделей: Дерево решений, Случайный лес и Логистическая регрессия. Исследовали влияние изменения гиперпараметров на качество модели. Построить модель с максимально большим значением *accuracy* (Модель Случайный лес при n_estimators = 60 и 80 accuracy = 0.79).  \n",
    "- Проверили качество модели на тестовой выборке.  \n",
    "- Проверили модели на вменяемость, все построенные модели адекватны и вменяемы. "
   ]
  }
 ],
 "metadata": {
  "kernelspec": {
   "display_name": "Python 3 (ipykernel)",
   "language": "python",
   "name": "python3"
  },
  "language_info": {
   "codemirror_mode": {
    "name": "ipython",
    "version": 3
   },
   "file_extension": ".py",
   "mimetype": "text/x-python",
   "name": "python",
   "nbconvert_exporter": "python",
   "pygments_lexer": "ipython3",
   "version": "3.9.16"
  },
  "toc": {
   "base_numbering": 1,
   "nav_menu": {},
   "number_sections": true,
   "sideBar": true,
   "skip_h1_title": true,
   "title_cell": "Table of Contents",
   "title_sidebar": "Contents",
   "toc_cell": false,
   "toc_position": {},
   "toc_section_display": true,
   "toc_window_display": false
  }
 },
 "nbformat": 4,
 "nbformat_minor": 2
}
