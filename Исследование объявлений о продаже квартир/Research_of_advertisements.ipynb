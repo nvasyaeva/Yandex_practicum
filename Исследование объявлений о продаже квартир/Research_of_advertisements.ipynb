{
 "cells": [
  {
   "cell_type": "markdown",
   "metadata": {},
   "source": [
    "<div style=\"border:solid Chocolate 2px; padding: 40px\">\n",
    "\n",
    "<b>Привет!👋</b>\n",
    "\n",
    "Меня зовут Огурлиев Анзор, я буду ревьюером твоего проекта. Сразу хочу предложить тебе общаться на \"ты\", если тебе это неудобно, скажи мне об этом. Нам предстоит пройти с тобой через тернистый и от того интересный путь анализа данных! Можешь не переживать, я всегда помогу тебе, если у тебя возникнут вопросы)\n",
    "\n",
    "По ходу твоей работы я буду оставлять свои комментарии, по выполненным тобой шагам. Попрошу тебя не удалять их, так мне будет проще отслеживать твой прогресс в случае повторной проверки.\n",
    "\n",
    "Очень важно вести диалог и обсуждать те пункты, которые у тебя могли не получиться, поэтому, ты можешь оставлять свои комментарии, и мы обязательно во всем разберемся! Самое главное - выделяй свои комментарии удобным для тебя способом (цвет, рамка), но так, чтобы они отчетлитво отличались от моих комментариев. Так мы ни в чем не запутаемся)\n",
    "\n",
    "Свои комментарии я буду выделять так: <font color='green'>зеленый</font>, <font color='gold'>желтый</font> и <font color='red'>красный</font> цвет, например:\n",
    "\n",
    "<br/>\n",
    "\n",
    "<div class=\"alert alert-success\">\n",
    "<h2> Комментарий ревьюера V1<a class=\"tocSkip\"> </h2>\n",
    "\n",
    "<b>Все отлично!👍:</b> Этот комментарий я буду оставлять, если твое решение оптимально для данного шага.\n",
    "</div>\n",
    "\n",
    "<br/>\n",
    "\n",
    "<div class=\"alert alert-warning\">\n",
    "    <h2> Комментарий ревьюера V1<a class=\"tocSkip\"> </h2>\n",
    "\n",
    "<b>Некоторые замечания и рекомендации💡:</b> Это не означает, что ты совершил ошибку. Такими комментариями я буду отмечать места, где ты справился с задачей, но её можно решить ещё лучше. Также в таких комментариях я буду оставлять для тебя другие советы.\n",
    "</div>\n",
    "\n",
    "\n",
    "<br/>\n",
    "<div class=\"alert alert-block alert-danger\">\n",
    "<h2> Комментарий ревьюера V1<a class=\"tocSkip\"></h2>\n",
    "\n",
    "\n",
    "<b>На доработку🤔:</b>\n",
    "Если решение, которое ты применил на определенном шаге, требует значительных изменений, то я буду оставлять такой комментарий. Тебе нужно будет подумать еще раз как правильным образом решить данный этап. Если ревью содержит такие комментарии, то я не смогу принять проект с первого раза.\n",
    "</div>\n",
    "\n",
    "P.S. В оглавлении комментария ты увидишь `V1` (`V1`, `V2`, `V3`) - это версия моего комментария, которая понадобится нам с тобой, чтобы не запутаться, если потребуется оставить тебе комментарии после первой проверки."
   ]
  },
  {
   "cell_type": "markdown",
   "metadata": {},
   "source": [
    "# Исследование объявлений о продаже квартир\n",
    "\n",
    "В вашем распоряжении данные сервиса Яндекс.Недвижимость — архив объявлений о продаже квартир в Санкт-Петербурге и соседних населённых пунктов за несколько лет. Нужно научиться определять рыночную стоимость объектов недвижимости. Ваша задача — установить параметры. Это позволит построить автоматизированную систему: она отследит аномалии и мошенническую деятельность. \n",
    "\n",
    "По каждой квартире на продажу доступны два вида данных. Первые вписаны пользователем, вторые — получены автоматически на основе картографических данных. Например, расстояние до центра, аэропорта, ближайшего парка и водоёма. "
   ]
  },
  {
   "cell_type": "markdown",
   "metadata": {},
   "source": [
    "### Цель работы:"
   ]
  },
  {
   "cell_type": "markdown",
   "metadata": {},
   "source": [
    " выполнить предобработку данных и изучить их, найти интересные особенности и зависимости, которые существуют на рынке недвижимости. Данные параметры необходимы для определять рыночной стоимости объектов недвижимости.  \n",
    " Недвижимость — архив объявлений о продаже квартир в Санкт-Петербурге и соседних населённых пунктов за несколько лет. По каждой квартире на продажу доступны два вида данных. Первые вписаны пользователем, вторые — получены автоматически на основе картографических данных. Например, расстояние до центра, аэропорта, ближайшего парка и водоёма. "
   ]
  },
  {
   "cell_type": "markdown",
   "metadata": {},
   "source": [
    "<div class=\"alert alert-success\">\n",
    "<h2> Комментарий ревьюера V1<a class=\"tocSkip\"> </h2>\n",
    "\n",
    "<b>Все отлично!👍:</b> Молодец, что начинаешь проект с описания."
   ]
  },
  {
   "cell_type": "markdown",
   "metadata": {},
   "source": [
    "### Данные, общая информация о данных. "
   ]
  },
  {
   "cell_type": "code",
   "execution_count": 1,
   "metadata": {},
   "outputs": [],
   "source": [
    "import pandas as pd\n",
    "import matplotlib.pyplot as plt\n",
    "try:\n",
    "    data = pd.read_csv('real_estate_data.csv', sep='\\t')\n",
    "except:\n",
    "    data = pd.read_csv('https://code.s3.yandex.net/datasets/real_estate_data.csv', sep='\\t')"
   ]
  },
  {
   "cell_type": "code",
   "execution_count": 2,
   "metadata": {},
   "outputs": [
    {
     "data": {
      "text/html": [
       "<div>\n",
       "<style scoped>\n",
       "    .dataframe tbody tr th:only-of-type {\n",
       "        vertical-align: middle;\n",
       "    }\n",
       "\n",
       "    .dataframe tbody tr th {\n",
       "        vertical-align: top;\n",
       "    }\n",
       "\n",
       "    .dataframe thead th {\n",
       "        text-align: right;\n",
       "    }\n",
       "</style>\n",
       "<table border=\"1\" class=\"dataframe\">\n",
       "  <thead>\n",
       "    <tr style=\"text-align: right;\">\n",
       "      <th></th>\n",
       "      <th>total_images</th>\n",
       "      <th>last_price</th>\n",
       "      <th>total_area</th>\n",
       "      <th>first_day_exposition</th>\n",
       "      <th>rooms</th>\n",
       "      <th>ceiling_height</th>\n",
       "      <th>floors_total</th>\n",
       "      <th>living_area</th>\n",
       "      <th>floor</th>\n",
       "      <th>is_apartment</th>\n",
       "      <th>...</th>\n",
       "      <th>kitchen_area</th>\n",
       "      <th>balcony</th>\n",
       "      <th>locality_name</th>\n",
       "      <th>airports_nearest</th>\n",
       "      <th>cityCenters_nearest</th>\n",
       "      <th>parks_around3000</th>\n",
       "      <th>parks_nearest</th>\n",
       "      <th>ponds_around3000</th>\n",
       "      <th>ponds_nearest</th>\n",
       "      <th>days_exposition</th>\n",
       "    </tr>\n",
       "  </thead>\n",
       "  <tbody>\n",
       "    <tr>\n",
       "      <th>0</th>\n",
       "      <td>20</td>\n",
       "      <td>13000000.0</td>\n",
       "      <td>108.00</td>\n",
       "      <td>2019-03-07T00:00:00</td>\n",
       "      <td>3</td>\n",
       "      <td>2.70</td>\n",
       "      <td>16.0</td>\n",
       "      <td>51.00</td>\n",
       "      <td>8</td>\n",
       "      <td>NaN</td>\n",
       "      <td>...</td>\n",
       "      <td>25.00</td>\n",
       "      <td>NaN</td>\n",
       "      <td>Санкт-Петербург</td>\n",
       "      <td>18863.0</td>\n",
       "      <td>16028.0</td>\n",
       "      <td>1.0</td>\n",
       "      <td>482.0</td>\n",
       "      <td>2.0</td>\n",
       "      <td>755.0</td>\n",
       "      <td>NaN</td>\n",
       "    </tr>\n",
       "    <tr>\n",
       "      <th>1</th>\n",
       "      <td>7</td>\n",
       "      <td>3350000.0</td>\n",
       "      <td>40.40</td>\n",
       "      <td>2018-12-04T00:00:00</td>\n",
       "      <td>1</td>\n",
       "      <td>NaN</td>\n",
       "      <td>11.0</td>\n",
       "      <td>18.60</td>\n",
       "      <td>1</td>\n",
       "      <td>NaN</td>\n",
       "      <td>...</td>\n",
       "      <td>11.00</td>\n",
       "      <td>2.0</td>\n",
       "      <td>посёлок Шушары</td>\n",
       "      <td>12817.0</td>\n",
       "      <td>18603.0</td>\n",
       "      <td>0.0</td>\n",
       "      <td>NaN</td>\n",
       "      <td>0.0</td>\n",
       "      <td>NaN</td>\n",
       "      <td>81.0</td>\n",
       "    </tr>\n",
       "    <tr>\n",
       "      <th>2</th>\n",
       "      <td>10</td>\n",
       "      <td>5196000.0</td>\n",
       "      <td>56.00</td>\n",
       "      <td>2015-08-20T00:00:00</td>\n",
       "      <td>2</td>\n",
       "      <td>NaN</td>\n",
       "      <td>5.0</td>\n",
       "      <td>34.30</td>\n",
       "      <td>4</td>\n",
       "      <td>NaN</td>\n",
       "      <td>...</td>\n",
       "      <td>8.30</td>\n",
       "      <td>0.0</td>\n",
       "      <td>Санкт-Петербург</td>\n",
       "      <td>21741.0</td>\n",
       "      <td>13933.0</td>\n",
       "      <td>1.0</td>\n",
       "      <td>90.0</td>\n",
       "      <td>2.0</td>\n",
       "      <td>574.0</td>\n",
       "      <td>558.0</td>\n",
       "    </tr>\n",
       "    <tr>\n",
       "      <th>3</th>\n",
       "      <td>0</td>\n",
       "      <td>64900000.0</td>\n",
       "      <td>159.00</td>\n",
       "      <td>2015-07-24T00:00:00</td>\n",
       "      <td>3</td>\n",
       "      <td>NaN</td>\n",
       "      <td>14.0</td>\n",
       "      <td>NaN</td>\n",
       "      <td>9</td>\n",
       "      <td>NaN</td>\n",
       "      <td>...</td>\n",
       "      <td>NaN</td>\n",
       "      <td>0.0</td>\n",
       "      <td>Санкт-Петербург</td>\n",
       "      <td>28098.0</td>\n",
       "      <td>6800.0</td>\n",
       "      <td>2.0</td>\n",
       "      <td>84.0</td>\n",
       "      <td>3.0</td>\n",
       "      <td>234.0</td>\n",
       "      <td>424.0</td>\n",
       "    </tr>\n",
       "    <tr>\n",
       "      <th>4</th>\n",
       "      <td>2</td>\n",
       "      <td>10000000.0</td>\n",
       "      <td>100.00</td>\n",
       "      <td>2018-06-19T00:00:00</td>\n",
       "      <td>2</td>\n",
       "      <td>3.03</td>\n",
       "      <td>14.0</td>\n",
       "      <td>32.00</td>\n",
       "      <td>13</td>\n",
       "      <td>NaN</td>\n",
       "      <td>...</td>\n",
       "      <td>41.00</td>\n",
       "      <td>NaN</td>\n",
       "      <td>Санкт-Петербург</td>\n",
       "      <td>31856.0</td>\n",
       "      <td>8098.0</td>\n",
       "      <td>2.0</td>\n",
       "      <td>112.0</td>\n",
       "      <td>1.0</td>\n",
       "      <td>48.0</td>\n",
       "      <td>121.0</td>\n",
       "    </tr>\n",
       "    <tr>\n",
       "      <th>5</th>\n",
       "      <td>10</td>\n",
       "      <td>2890000.0</td>\n",
       "      <td>30.40</td>\n",
       "      <td>2018-09-10T00:00:00</td>\n",
       "      <td>1</td>\n",
       "      <td>NaN</td>\n",
       "      <td>12.0</td>\n",
       "      <td>14.40</td>\n",
       "      <td>5</td>\n",
       "      <td>NaN</td>\n",
       "      <td>...</td>\n",
       "      <td>9.10</td>\n",
       "      <td>NaN</td>\n",
       "      <td>городской посёлок Янино-1</td>\n",
       "      <td>NaN</td>\n",
       "      <td>NaN</td>\n",
       "      <td>NaN</td>\n",
       "      <td>NaN</td>\n",
       "      <td>NaN</td>\n",
       "      <td>NaN</td>\n",
       "      <td>55.0</td>\n",
       "    </tr>\n",
       "    <tr>\n",
       "      <th>6</th>\n",
       "      <td>6</td>\n",
       "      <td>3700000.0</td>\n",
       "      <td>37.30</td>\n",
       "      <td>2017-11-02T00:00:00</td>\n",
       "      <td>1</td>\n",
       "      <td>NaN</td>\n",
       "      <td>26.0</td>\n",
       "      <td>10.60</td>\n",
       "      <td>6</td>\n",
       "      <td>NaN</td>\n",
       "      <td>...</td>\n",
       "      <td>14.40</td>\n",
       "      <td>1.0</td>\n",
       "      <td>посёлок Парголово</td>\n",
       "      <td>52996.0</td>\n",
       "      <td>19143.0</td>\n",
       "      <td>0.0</td>\n",
       "      <td>NaN</td>\n",
       "      <td>0.0</td>\n",
       "      <td>NaN</td>\n",
       "      <td>155.0</td>\n",
       "    </tr>\n",
       "    <tr>\n",
       "      <th>7</th>\n",
       "      <td>5</td>\n",
       "      <td>7915000.0</td>\n",
       "      <td>71.60</td>\n",
       "      <td>2019-04-18T00:00:00</td>\n",
       "      <td>2</td>\n",
       "      <td>NaN</td>\n",
       "      <td>24.0</td>\n",
       "      <td>NaN</td>\n",
       "      <td>22</td>\n",
       "      <td>NaN</td>\n",
       "      <td>...</td>\n",
       "      <td>18.90</td>\n",
       "      <td>2.0</td>\n",
       "      <td>Санкт-Петербург</td>\n",
       "      <td>23982.0</td>\n",
       "      <td>11634.0</td>\n",
       "      <td>0.0</td>\n",
       "      <td>NaN</td>\n",
       "      <td>0.0</td>\n",
       "      <td>NaN</td>\n",
       "      <td>NaN</td>\n",
       "    </tr>\n",
       "    <tr>\n",
       "      <th>8</th>\n",
       "      <td>20</td>\n",
       "      <td>2900000.0</td>\n",
       "      <td>33.16</td>\n",
       "      <td>2018-05-23T00:00:00</td>\n",
       "      <td>1</td>\n",
       "      <td>NaN</td>\n",
       "      <td>27.0</td>\n",
       "      <td>15.43</td>\n",
       "      <td>26</td>\n",
       "      <td>NaN</td>\n",
       "      <td>...</td>\n",
       "      <td>8.81</td>\n",
       "      <td>NaN</td>\n",
       "      <td>посёлок Мурино</td>\n",
       "      <td>NaN</td>\n",
       "      <td>NaN</td>\n",
       "      <td>NaN</td>\n",
       "      <td>NaN</td>\n",
       "      <td>NaN</td>\n",
       "      <td>NaN</td>\n",
       "      <td>189.0</td>\n",
       "    </tr>\n",
       "    <tr>\n",
       "      <th>9</th>\n",
       "      <td>18</td>\n",
       "      <td>5400000.0</td>\n",
       "      <td>61.00</td>\n",
       "      <td>2017-02-26T00:00:00</td>\n",
       "      <td>3</td>\n",
       "      <td>2.50</td>\n",
       "      <td>9.0</td>\n",
       "      <td>43.60</td>\n",
       "      <td>7</td>\n",
       "      <td>NaN</td>\n",
       "      <td>...</td>\n",
       "      <td>6.50</td>\n",
       "      <td>2.0</td>\n",
       "      <td>Санкт-Петербург</td>\n",
       "      <td>50898.0</td>\n",
       "      <td>15008.0</td>\n",
       "      <td>0.0</td>\n",
       "      <td>NaN</td>\n",
       "      <td>0.0</td>\n",
       "      <td>NaN</td>\n",
       "      <td>289.0</td>\n",
       "    </tr>\n",
       "    <tr>\n",
       "      <th>10</th>\n",
       "      <td>5</td>\n",
       "      <td>5050000.0</td>\n",
       "      <td>39.60</td>\n",
       "      <td>2017-11-16T00:00:00</td>\n",
       "      <td>1</td>\n",
       "      <td>2.67</td>\n",
       "      <td>12.0</td>\n",
       "      <td>20.30</td>\n",
       "      <td>3</td>\n",
       "      <td>NaN</td>\n",
       "      <td>...</td>\n",
       "      <td>8.50</td>\n",
       "      <td>NaN</td>\n",
       "      <td>Санкт-Петербург</td>\n",
       "      <td>38357.0</td>\n",
       "      <td>13878.0</td>\n",
       "      <td>1.0</td>\n",
       "      <td>310.0</td>\n",
       "      <td>2.0</td>\n",
       "      <td>553.0</td>\n",
       "      <td>137.0</td>\n",
       "    </tr>\n",
       "    <tr>\n",
       "      <th>11</th>\n",
       "      <td>9</td>\n",
       "      <td>3300000.0</td>\n",
       "      <td>44.00</td>\n",
       "      <td>2018-08-27T00:00:00</td>\n",
       "      <td>2</td>\n",
       "      <td>NaN</td>\n",
       "      <td>5.0</td>\n",
       "      <td>31.00</td>\n",
       "      <td>4</td>\n",
       "      <td>False</td>\n",
       "      <td>...</td>\n",
       "      <td>6.00</td>\n",
       "      <td>1.0</td>\n",
       "      <td>Ломоносов</td>\n",
       "      <td>48252.0</td>\n",
       "      <td>51677.0</td>\n",
       "      <td>0.0</td>\n",
       "      <td>NaN</td>\n",
       "      <td>0.0</td>\n",
       "      <td>NaN</td>\n",
       "      <td>7.0</td>\n",
       "    </tr>\n",
       "    <tr>\n",
       "      <th>12</th>\n",
       "      <td>10</td>\n",
       "      <td>3890000.0</td>\n",
       "      <td>54.00</td>\n",
       "      <td>2016-06-30T00:00:00</td>\n",
       "      <td>2</td>\n",
       "      <td>NaN</td>\n",
       "      <td>5.0</td>\n",
       "      <td>30.00</td>\n",
       "      <td>5</td>\n",
       "      <td>NaN</td>\n",
       "      <td>...</td>\n",
       "      <td>9.00</td>\n",
       "      <td>0.0</td>\n",
       "      <td>Сертолово</td>\n",
       "      <td>NaN</td>\n",
       "      <td>NaN</td>\n",
       "      <td>NaN</td>\n",
       "      <td>NaN</td>\n",
       "      <td>NaN</td>\n",
       "      <td>NaN</td>\n",
       "      <td>90.0</td>\n",
       "    </tr>\n",
       "    <tr>\n",
       "      <th>13</th>\n",
       "      <td>20</td>\n",
       "      <td>3550000.0</td>\n",
       "      <td>42.80</td>\n",
       "      <td>2017-07-01T00:00:00</td>\n",
       "      <td>2</td>\n",
       "      <td>2.56</td>\n",
       "      <td>5.0</td>\n",
       "      <td>27.00</td>\n",
       "      <td>5</td>\n",
       "      <td>NaN</td>\n",
       "      <td>...</td>\n",
       "      <td>5.20</td>\n",
       "      <td>1.0</td>\n",
       "      <td>Петергоф</td>\n",
       "      <td>37868.0</td>\n",
       "      <td>33058.0</td>\n",
       "      <td>1.0</td>\n",
       "      <td>294.0</td>\n",
       "      <td>3.0</td>\n",
       "      <td>298.0</td>\n",
       "      <td>366.0</td>\n",
       "    </tr>\n",
       "    <tr>\n",
       "      <th>14</th>\n",
       "      <td>1</td>\n",
       "      <td>4400000.0</td>\n",
       "      <td>36.00</td>\n",
       "      <td>2016-06-23T00:00:00</td>\n",
       "      <td>1</td>\n",
       "      <td>NaN</td>\n",
       "      <td>6.0</td>\n",
       "      <td>17.00</td>\n",
       "      <td>1</td>\n",
       "      <td>NaN</td>\n",
       "      <td>...</td>\n",
       "      <td>8.00</td>\n",
       "      <td>0.0</td>\n",
       "      <td>Пушкин</td>\n",
       "      <td>20782.0</td>\n",
       "      <td>30759.0</td>\n",
       "      <td>0.0</td>\n",
       "      <td>NaN</td>\n",
       "      <td>1.0</td>\n",
       "      <td>96.0</td>\n",
       "      <td>203.0</td>\n",
       "    </tr>\n",
       "    <tr>\n",
       "      <th>15</th>\n",
       "      <td>16</td>\n",
       "      <td>4650000.0</td>\n",
       "      <td>39.00</td>\n",
       "      <td>2017-11-18T00:00:00</td>\n",
       "      <td>1</td>\n",
       "      <td>NaN</td>\n",
       "      <td>14.0</td>\n",
       "      <td>20.50</td>\n",
       "      <td>5</td>\n",
       "      <td>NaN</td>\n",
       "      <td>...</td>\n",
       "      <td>7.60</td>\n",
       "      <td>1.0</td>\n",
       "      <td>Санкт-Петербург</td>\n",
       "      <td>12900.0</td>\n",
       "      <td>14259.0</td>\n",
       "      <td>1.0</td>\n",
       "      <td>590.0</td>\n",
       "      <td>1.0</td>\n",
       "      <td>296.0</td>\n",
       "      <td>19.0</td>\n",
       "    </tr>\n",
       "    <tr>\n",
       "      <th>16</th>\n",
       "      <td>11</td>\n",
       "      <td>6700000.0</td>\n",
       "      <td>82.00</td>\n",
       "      <td>2017-11-23T00:00:00</td>\n",
       "      <td>3</td>\n",
       "      <td>3.05</td>\n",
       "      <td>5.0</td>\n",
       "      <td>55.60</td>\n",
       "      <td>1</td>\n",
       "      <td>NaN</td>\n",
       "      <td>...</td>\n",
       "      <td>9.00</td>\n",
       "      <td>NaN</td>\n",
       "      <td>Санкт-Петербург</td>\n",
       "      <td>22108.0</td>\n",
       "      <td>10698.0</td>\n",
       "      <td>3.0</td>\n",
       "      <td>420.0</td>\n",
       "      <td>0.0</td>\n",
       "      <td>NaN</td>\n",
       "      <td>397.0</td>\n",
       "    </tr>\n",
       "    <tr>\n",
       "      <th>17</th>\n",
       "      <td>6</td>\n",
       "      <td>4180000.0</td>\n",
       "      <td>36.00</td>\n",
       "      <td>2016-09-09T00:00:00</td>\n",
       "      <td>1</td>\n",
       "      <td>NaN</td>\n",
       "      <td>17.0</td>\n",
       "      <td>16.50</td>\n",
       "      <td>7</td>\n",
       "      <td>NaN</td>\n",
       "      <td>...</td>\n",
       "      <td>11.00</td>\n",
       "      <td>1.0</td>\n",
       "      <td>Санкт-Петербург</td>\n",
       "      <td>33564.0</td>\n",
       "      <td>14616.0</td>\n",
       "      <td>0.0</td>\n",
       "      <td>NaN</td>\n",
       "      <td>1.0</td>\n",
       "      <td>859.0</td>\n",
       "      <td>571.0</td>\n",
       "    </tr>\n",
       "    <tr>\n",
       "      <th>18</th>\n",
       "      <td>8</td>\n",
       "      <td>3250000.0</td>\n",
       "      <td>31.00</td>\n",
       "      <td>2017-01-27T00:00:00</td>\n",
       "      <td>1</td>\n",
       "      <td>2.50</td>\n",
       "      <td>5.0</td>\n",
       "      <td>19.40</td>\n",
       "      <td>2</td>\n",
       "      <td>NaN</td>\n",
       "      <td>...</td>\n",
       "      <td>5.60</td>\n",
       "      <td>1.0</td>\n",
       "      <td>Санкт-Петербург</td>\n",
       "      <td>44060.0</td>\n",
       "      <td>10842.0</td>\n",
       "      <td>1.0</td>\n",
       "      <td>759.0</td>\n",
       "      <td>0.0</td>\n",
       "      <td>NaN</td>\n",
       "      <td>168.0</td>\n",
       "    </tr>\n",
       "    <tr>\n",
       "      <th>19</th>\n",
       "      <td>16</td>\n",
       "      <td>14200000.0</td>\n",
       "      <td>121.00</td>\n",
       "      <td>2019-01-09T00:00:00</td>\n",
       "      <td>3</td>\n",
       "      <td>2.75</td>\n",
       "      <td>16.0</td>\n",
       "      <td>76.00</td>\n",
       "      <td>8</td>\n",
       "      <td>NaN</td>\n",
       "      <td>...</td>\n",
       "      <td>12.00</td>\n",
       "      <td>NaN</td>\n",
       "      <td>Санкт-Петербург</td>\n",
       "      <td>38900.0</td>\n",
       "      <td>12843.0</td>\n",
       "      <td>0.0</td>\n",
       "      <td>NaN</td>\n",
       "      <td>0.0</td>\n",
       "      <td>NaN</td>\n",
       "      <td>97.0</td>\n",
       "    </tr>\n",
       "  </tbody>\n",
       "</table>\n",
       "<p>20 rows × 22 columns</p>\n",
       "</div>"
      ],
      "text/plain": [
       "    total_images  last_price  total_area first_day_exposition  rooms  \\\n",
       "0             20  13000000.0      108.00  2019-03-07T00:00:00      3   \n",
       "1              7   3350000.0       40.40  2018-12-04T00:00:00      1   \n",
       "2             10   5196000.0       56.00  2015-08-20T00:00:00      2   \n",
       "3              0  64900000.0      159.00  2015-07-24T00:00:00      3   \n",
       "4              2  10000000.0      100.00  2018-06-19T00:00:00      2   \n",
       "5             10   2890000.0       30.40  2018-09-10T00:00:00      1   \n",
       "6              6   3700000.0       37.30  2017-11-02T00:00:00      1   \n",
       "7              5   7915000.0       71.60  2019-04-18T00:00:00      2   \n",
       "8             20   2900000.0       33.16  2018-05-23T00:00:00      1   \n",
       "9             18   5400000.0       61.00  2017-02-26T00:00:00      3   \n",
       "10             5   5050000.0       39.60  2017-11-16T00:00:00      1   \n",
       "11             9   3300000.0       44.00  2018-08-27T00:00:00      2   \n",
       "12            10   3890000.0       54.00  2016-06-30T00:00:00      2   \n",
       "13            20   3550000.0       42.80  2017-07-01T00:00:00      2   \n",
       "14             1   4400000.0       36.00  2016-06-23T00:00:00      1   \n",
       "15            16   4650000.0       39.00  2017-11-18T00:00:00      1   \n",
       "16            11   6700000.0       82.00  2017-11-23T00:00:00      3   \n",
       "17             6   4180000.0       36.00  2016-09-09T00:00:00      1   \n",
       "18             8   3250000.0       31.00  2017-01-27T00:00:00      1   \n",
       "19            16  14200000.0      121.00  2019-01-09T00:00:00      3   \n",
       "\n",
       "    ceiling_height  floors_total  living_area  floor is_apartment  ...  \\\n",
       "0             2.70          16.0        51.00      8          NaN  ...   \n",
       "1              NaN          11.0        18.60      1          NaN  ...   \n",
       "2              NaN           5.0        34.30      4          NaN  ...   \n",
       "3              NaN          14.0          NaN      9          NaN  ...   \n",
       "4             3.03          14.0        32.00     13          NaN  ...   \n",
       "5              NaN          12.0        14.40      5          NaN  ...   \n",
       "6              NaN          26.0        10.60      6          NaN  ...   \n",
       "7              NaN          24.0          NaN     22          NaN  ...   \n",
       "8              NaN          27.0        15.43     26          NaN  ...   \n",
       "9             2.50           9.0        43.60      7          NaN  ...   \n",
       "10            2.67          12.0        20.30      3          NaN  ...   \n",
       "11             NaN           5.0        31.00      4        False  ...   \n",
       "12             NaN           5.0        30.00      5          NaN  ...   \n",
       "13            2.56           5.0        27.00      5          NaN  ...   \n",
       "14             NaN           6.0        17.00      1          NaN  ...   \n",
       "15             NaN          14.0        20.50      5          NaN  ...   \n",
       "16            3.05           5.0        55.60      1          NaN  ...   \n",
       "17             NaN          17.0        16.50      7          NaN  ...   \n",
       "18            2.50           5.0        19.40      2          NaN  ...   \n",
       "19            2.75          16.0        76.00      8          NaN  ...   \n",
       "\n",
       "    kitchen_area  balcony              locality_name  airports_nearest  \\\n",
       "0          25.00      NaN            Санкт-Петербург           18863.0   \n",
       "1          11.00      2.0             посёлок Шушары           12817.0   \n",
       "2           8.30      0.0            Санкт-Петербург           21741.0   \n",
       "3            NaN      0.0            Санкт-Петербург           28098.0   \n",
       "4          41.00      NaN            Санкт-Петербург           31856.0   \n",
       "5           9.10      NaN  городской посёлок Янино-1               NaN   \n",
       "6          14.40      1.0          посёлок Парголово           52996.0   \n",
       "7          18.90      2.0            Санкт-Петербург           23982.0   \n",
       "8           8.81      NaN             посёлок Мурино               NaN   \n",
       "9           6.50      2.0            Санкт-Петербург           50898.0   \n",
       "10          8.50      NaN            Санкт-Петербург           38357.0   \n",
       "11          6.00      1.0                  Ломоносов           48252.0   \n",
       "12          9.00      0.0                  Сертолово               NaN   \n",
       "13          5.20      1.0                   Петергоф           37868.0   \n",
       "14          8.00      0.0                     Пушкин           20782.0   \n",
       "15          7.60      1.0            Санкт-Петербург           12900.0   \n",
       "16          9.00      NaN            Санкт-Петербург           22108.0   \n",
       "17         11.00      1.0            Санкт-Петербург           33564.0   \n",
       "18          5.60      1.0            Санкт-Петербург           44060.0   \n",
       "19         12.00      NaN            Санкт-Петербург           38900.0   \n",
       "\n",
       "   cityCenters_nearest  parks_around3000  parks_nearest  ponds_around3000  \\\n",
       "0              16028.0               1.0          482.0               2.0   \n",
       "1              18603.0               0.0            NaN               0.0   \n",
       "2              13933.0               1.0           90.0               2.0   \n",
       "3               6800.0               2.0           84.0               3.0   \n",
       "4               8098.0               2.0          112.0               1.0   \n",
       "5                  NaN               NaN            NaN               NaN   \n",
       "6              19143.0               0.0            NaN               0.0   \n",
       "7              11634.0               0.0            NaN               0.0   \n",
       "8                  NaN               NaN            NaN               NaN   \n",
       "9              15008.0               0.0            NaN               0.0   \n",
       "10             13878.0               1.0          310.0               2.0   \n",
       "11             51677.0               0.0            NaN               0.0   \n",
       "12                 NaN               NaN            NaN               NaN   \n",
       "13             33058.0               1.0          294.0               3.0   \n",
       "14             30759.0               0.0            NaN               1.0   \n",
       "15             14259.0               1.0          590.0               1.0   \n",
       "16             10698.0               3.0          420.0               0.0   \n",
       "17             14616.0               0.0            NaN               1.0   \n",
       "18             10842.0               1.0          759.0               0.0   \n",
       "19             12843.0               0.0            NaN               0.0   \n",
       "\n",
       "    ponds_nearest  days_exposition  \n",
       "0           755.0              NaN  \n",
       "1             NaN             81.0  \n",
       "2           574.0            558.0  \n",
       "3           234.0            424.0  \n",
       "4            48.0            121.0  \n",
       "5             NaN             55.0  \n",
       "6             NaN            155.0  \n",
       "7             NaN              NaN  \n",
       "8             NaN            189.0  \n",
       "9             NaN            289.0  \n",
       "10          553.0            137.0  \n",
       "11            NaN              7.0  \n",
       "12            NaN             90.0  \n",
       "13          298.0            366.0  \n",
       "14           96.0            203.0  \n",
       "15          296.0             19.0  \n",
       "16            NaN            397.0  \n",
       "17          859.0            571.0  \n",
       "18            NaN            168.0  \n",
       "19            NaN             97.0  \n",
       "\n",
       "[20 rows x 22 columns]"
      ]
     },
     "execution_count": 2,
     "metadata": {},
     "output_type": "execute_result"
    }
   ],
   "source": [
    "data.head(20)"
   ]
  },
  {
   "cell_type": "markdown",
   "metadata": {},
   "source": [
    "**Oсновная информация о датафрейме.**"
   ]
  },
  {
   "cell_type": "code",
   "execution_count": 3,
   "metadata": {},
   "outputs": [
    {
     "name": "stdout",
     "output_type": "stream",
     "text": [
      "<class 'pandas.core.frame.DataFrame'>\n",
      "RangeIndex: 23699 entries, 0 to 23698\n",
      "Data columns (total 22 columns):\n",
      " #   Column                Non-Null Count  Dtype  \n",
      "---  ------                --------------  -----  \n",
      " 0   total_images          23699 non-null  int64  \n",
      " 1   last_price            23699 non-null  float64\n",
      " 2   total_area            23699 non-null  float64\n",
      " 3   first_day_exposition  23699 non-null  object \n",
      " 4   rooms                 23699 non-null  int64  \n",
      " 5   ceiling_height        14504 non-null  float64\n",
      " 6   floors_total          23613 non-null  float64\n",
      " 7   living_area           21796 non-null  float64\n",
      " 8   floor                 23699 non-null  int64  \n",
      " 9   is_apartment          2775 non-null   object \n",
      " 10  studio                23699 non-null  bool   \n",
      " 11  open_plan             23699 non-null  bool   \n",
      " 12  kitchen_area          21421 non-null  float64\n",
      " 13  balcony               12180 non-null  float64\n",
      " 14  locality_name         23650 non-null  object \n",
      " 15  airports_nearest      18157 non-null  float64\n",
      " 16  cityCenters_nearest   18180 non-null  float64\n",
      " 17  parks_around3000      18181 non-null  float64\n",
      " 18  parks_nearest         8079 non-null   float64\n",
      " 19  ponds_around3000      18181 non-null  float64\n",
      " 20  ponds_nearest         9110 non-null   float64\n",
      " 21  days_exposition       20518 non-null  float64\n",
      "dtypes: bool(2), float64(14), int64(3), object(3)\n",
      "memory usage: 3.7+ MB\n"
     ]
    }
   ],
   "source": [
    "data.info()"
   ]
  },
  {
   "cell_type": "markdown",
   "metadata": {},
   "source": [
    "Приведем названия столбцов к одинаковому виду."
   ]
  },
  {
   "cell_type": "code",
   "execution_count": 4,
   "metadata": {},
   "outputs": [],
   "source": [
    "data = data.rename(columns={'cityCenters_nearest':'city_centers_nearest'})"
   ]
  },
  {
   "cell_type": "markdown",
   "metadata": {},
   "source": [
    "**Гистограммы исходных данных.**"
   ]
  },
  {
   "cell_type": "code",
   "execution_count": 5,
   "metadata": {},
   "outputs": [
    {
     "data": {
      "image/png": "[encoded data removed]",
      "text/plain": [
       "<Figure size 1080x1440 with 20 Axes>"
      ]
     },
     "metadata": {
      "needs_background": "light"
     },
     "output_type": "display_data"
    }
   ],
   "source": [
    "data.hist(figsize=(15, 20));"
   ]
  },
  {
   "cell_type": "markdown",
   "metadata": {},
   "source": [
    "<div class=\"alert alert-warning\">\n",
    "<h2> Комментарий ревьюера V1<a class=\"tocSkip\"> </h2>\n",
    "\n",
    "<b>Некоторые замечания и рекомендации💡:</b> После того как ты рассмотрел данные, стоит составить краткое описание о них: количество пропусков, аномальные значения, типы распределений и тд."
   ]
  },
  {
   "cell_type": "markdown",
   "metadata": {},
   "source": [
    "### Предобработка данных"
   ]
  },
  {
   "cell_type": "markdown",
   "metadata": {},
   "source": [
    "**Количество пропусков в исходных данных.**"
   ]
  },
  {
   "cell_type": "code",
   "execution_count": 6,
   "metadata": {},
   "outputs": [
    {
     "data": {
      "text/plain": [
       "total_images                0\n",
       "last_price                  0\n",
       "total_area                  0\n",
       "first_day_exposition        0\n",
       "rooms                       0\n",
       "ceiling_height           9195\n",
       "floors_total               86\n",
       "living_area              1903\n",
       "floor                       0\n",
       "is_apartment            20924\n",
       "studio                      0\n",
       "open_plan                   0\n",
       "kitchen_area             2278\n",
       "balcony                 11519\n",
       "locality_name              49\n",
       "airports_nearest         5542\n",
       "city_centers_nearest     5519\n",
       "parks_around3000         5518\n",
       "parks_nearest           15620\n",
       "ponds_around3000         5518\n",
       "ponds_nearest           14589\n",
       "days_exposition          3181\n",
       "dtype: int64"
      ]
     },
     "execution_count": 6,
     "metadata": {},
     "output_type": "execute_result"
    }
   ],
   "source": [
    "data.isna().sum()"
   ]
  },
  {
   "cell_type": "markdown",
   "metadata": {},
   "source": [
    "В исходных данных имеется большое количество пропусков.  \n",
    "Стоит обратить внимание, что в большинстве случаев наши пропуски находятся там, где данные получены автоматически на основе картографических данных. Например, расстояние до центра, аэропорта, ближайшего парка и водоёма. Причины, которые могли привести к пропускам в этих данных носят технологический характер: пропуски при копировании, считывании, смене формата, записи данных.  \n",
    "В данных, котопык вписаны пользователем, пропуски связаны с нежеланием человека предоставлять информацию или ошибками. Например, в столбце `is_apartment`, с числом пропусков приближающемуся к колличеству объявлений, вместо необходимого `False`, оставляли пропуск."
   ]
  },
  {
   "cell_type": "markdown",
   "metadata": {},
   "source": [
    "**Замена пропусков.**"
   ]
  },
  {
   "cell_type": "markdown",
   "metadata": {},
   "source": [
    "Изучив пропуски, сделаем предположение, что отсутствие данных в столбцах `balcony`, `is_apartment`, `parks_around3000` и `ponds_around3000` означает равенство данных характеристик 0, или False в случае с `is_apartment`. Произведём замену:"
   ]
  },
  {
   "cell_type": "code",
   "execution_count": 7,
   "metadata": {},
   "outputs": [],
   "source": [
    "# Заменим пропуски, используя метод fillna()\n",
    "data = data.fillna({'balcony':0, 'is_apartment':False, 'parks_around3000':0, 'ponds_around3000':0})"
   ]
  },
  {
   "cell_type": "markdown",
   "metadata": {},
   "source": [
    "<div class=\"alert alert-success\">\n",
    "<h2> Комментарий ревьюера V1<a class=\"tocSkip\"> </h2>\n",
    "\n",
    "<b>Все отлично!👍:</b> Верное решение заполнить пропуски в признаках выше таким образом."
   ]
  },
  {
   "cell_type": "markdown",
   "metadata": {},
   "source": [
    "Найдём медианное значение для столбца `ceiling_height` - потолки."
   ]
  },
  {
   "cell_type": "code",
   "execution_count": 8,
   "metadata": {},
   "outputs": [
    {
     "data": {
      "text/plain": [
       "2.65"
      ]
     },
     "execution_count": 8,
     "metadata": {},
     "output_type": "execute_result"
    }
   ],
   "source": [
    "data['ceiling_height'].median()"
   ]
  },
  {
   "cell_type": "markdown",
   "metadata": {},
   "source": [
    "Сегодня минимальной нормой в России считается высота потолка 2,4 метра. В новостройках обычно это значение находится в пределах 2,5-2,7 метра. Пропуски в столбце `ceiling_height` заменим медианным значением, удовлетворяющим современным нормам строительства."
   ]
  },
  {
   "cell_type": "code",
   "execution_count": 9,
   "metadata": {},
   "outputs": [],
   "source": [
    "data.loc[data['ceiling_height'].isna(), 'ceiling_height'] = data['ceiling_height'].median()"
   ]
  },
  {
   "cell_type": "code",
   "execution_count": 10,
   "metadata": {},
   "outputs": [
    {
     "data": {
      "text/plain": [
       "total_images                0\n",
       "last_price                  0\n",
       "total_area                  0\n",
       "first_day_exposition        0\n",
       "rooms                       0\n",
       "ceiling_height              0\n",
       "floors_total               86\n",
       "living_area              1903\n",
       "floor                       0\n",
       "is_apartment                0\n",
       "studio                      0\n",
       "open_plan                   0\n",
       "kitchen_area             2278\n",
       "balcony                     0\n",
       "locality_name              49\n",
       "airports_nearest         5542\n",
       "city_centers_nearest     5519\n",
       "parks_around3000            0\n",
       "parks_nearest           15620\n",
       "ponds_around3000            0\n",
       "ponds_nearest           14589\n",
       "days_exposition          3181\n",
       "dtype: int64"
      ]
     },
     "execution_count": 10,
     "metadata": {},
     "output_type": "execute_result"
    }
   ],
   "source": [
    "data.isna().sum()"
   ]
  },
  {
   "cell_type": "markdown",
   "metadata": {},
   "source": [
    "<div class=\"alert alert-success\">\n",
    "<h2> Комментарий ревьюера V1<a class=\"tocSkip\"> </h2>\n",
    "\n",
    "<b>Все отлично!👍:</b> Пропуски в признаке высоты потолков можно заполнить медианой. Можно было еще лучше обработать пропуски: рассчитать медианы для каждого населенного пункта отдельно."
   ]
  },
  {
   "cell_type": "markdown",
   "metadata": {},
   "source": [
    "**Изменение типов данных.**"
   ]
  },
  {
   "cell_type": "code",
   "execution_count": 11,
   "metadata": {},
   "outputs": [],
   "source": [
    "data = data.astype({\n",
    "    'last_price':int, \n",
    "    'balcony':int,  \n",
    "    'parks_around3000':int, \n",
    "    'ponds_around3000':int, \n",
    "    'is_apartment':bool}, errors='ignore')"
   ]
  },
  {
   "cell_type": "markdown",
   "metadata": {},
   "source": [
    "**Преобразование времени в объекты даты и времени pandas.**"
   ]
  },
  {
   "cell_type": "code",
   "execution_count": 12,
   "metadata": {},
   "outputs": [],
   "source": [
    "data['first_day_exposition'] = pd.to_datetime(data['first_day_exposition'], format='%Y-%m-%dT%H:%M:%S')"
   ]
  },
  {
   "cell_type": "code",
   "execution_count": 13,
   "metadata": {
    "scrolled": false
   },
   "outputs": [
    {
     "data": {
      "text/plain": [
       "total_images                     int64\n",
       "last_price                       int64\n",
       "total_area                     float64\n",
       "first_day_exposition    datetime64[ns]\n",
       "rooms                            int64\n",
       "ceiling_height                 float64\n",
       "floors_total                   float64\n",
       "living_area                    float64\n",
       "floor                            int64\n",
       "is_apartment                      bool\n",
       "studio                            bool\n",
       "open_plan                         bool\n",
       "kitchen_area                   float64\n",
       "balcony                          int64\n",
       "locality_name                   object\n",
       "airports_nearest               float64\n",
       "city_centers_nearest           float64\n",
       "parks_around3000                 int64\n",
       "parks_nearest                  float64\n",
       "ponds_around3000                 int64\n",
       "ponds_nearest                  float64\n",
       "days_exposition                float64\n",
       "dtype: object"
      ]
     },
     "execution_count": 13,
     "metadata": {},
     "output_type": "execute_result"
    }
   ],
   "source": [
    "data.dtypes"
   ]
  },
  {
   "cell_type": "markdown",
   "metadata": {},
   "source": [
    "<div class=\"alert alert-success\">\n",
    "<h2> Комментарий ревьюера V1<a class=\"tocSkip\"> </h2>\n",
    "\n",
    "<b>Все отлично!👍:</b> Типы данных подобрала абсолютно верно, так держать!"
   ]
  },
  {
   "cell_type": "markdown",
   "metadata": {},
   "source": [
    "**Устранение редких и выбивающихся значений.**"
   ]
  },
  {
   "cell_type": "markdown",
   "metadata": {},
   "source": [
    "1. Найдём все уникальные значения в столбце `ceiling_height` - высота потолков."
   ]
  },
  {
   "cell_type": "code",
   "execution_count": 14,
   "metadata": {},
   "outputs": [
    {
     "data": {
      "text/plain": [
       "array([  2.7 ,   2.65,   3.03,   2.5 ,   2.67,   2.56,   3.05,   2.75,\n",
       "         2.6 ,   2.9 ,   2.8 ,   2.55,   3.  ,   3.2 ,   2.61,   3.25,\n",
       "         3.45,   2.77,   2.85,   2.64,   2.57,   4.15,   3.5 ,   3.3 ,\n",
       "         2.71,   4.  ,   2.47,   2.73,   2.84,   3.1 ,   2.34,   3.4 ,\n",
       "         3.06,   2.72,   2.54,   2.51,   2.78,   2.76,  25.  ,   2.58,\n",
       "         3.7 ,   2.52,   5.2 ,   2.87,   2.66,   2.59,   2.  ,   2.45,\n",
       "         3.6 ,   2.92,   3.11,   3.13,   3.8 ,   3.15,   3.55,   3.16,\n",
       "         3.62,   3.12,   2.53,   2.74,   2.96,   2.46,   5.3 ,   5.  ,\n",
       "         2.79,   2.95,   4.06,   2.94,   3.82,   3.54,   3.53,   2.83,\n",
       "         4.7 ,   2.4 ,   3.38,   3.01,   5.6 ,   3.65,   3.9 ,   3.18,\n",
       "         3.35,   2.3 ,   3.57,   2.48,   2.62,   2.82,   3.98,   2.63,\n",
       "         3.83,   3.52,   3.95,   3.75,   2.88,   3.67,   3.87,   3.66,\n",
       "         3.85,   3.86,   4.19,   3.24,   4.8 ,   4.5 ,   4.2 ,   3.36,\n",
       "        32.  ,   3.08,   3.68,   3.07,   3.37,   3.09,   8.  ,   3.26,\n",
       "         3.34,   2.81,   3.44,   2.97,   3.14,   4.37,   2.68,   3.22,\n",
       "         3.27,  27.  ,   4.1 ,   2.93,   3.46,  24.  ,   3.47,   3.33,\n",
       "         3.63,   3.32,  26.  ,   1.2 ,   8.3 ,   2.98,   2.86,   3.17,\n",
       "         4.4 ,   3.28,   3.04,   4.45,   5.5 ,   3.84,   3.23,   3.02,\n",
       "         3.21,   3.43,   3.78,   4.3 ,   3.39,   2.69,   3.31,   4.65,\n",
       "         3.56,   2.2 ,   3.51,   3.93,   3.42,   2.99,   3.49,  14.  ,\n",
       "         4.14,   2.91,   3.88,   1.75,   4.25,   3.29,  20.  ,   2.25,\n",
       "         3.76,   3.69,   6.  ,  22.6 ,   2.89,   3.58,   5.8 ,  27.5 ,\n",
       "         2.49,   4.9 ,   3.48,  10.3 ,   1.  , 100.  ,   3.59])"
      ]
     },
     "execution_count": 14,
     "metadata": {},
     "output_type": "execute_result"
    }
   ],
   "source": [
    "data['ceiling_height'].unique()"
   ]
  },
  {
   "cell_type": "markdown",
   "metadata": {},
   "source": [
    "Логично предположить что, такая высота потолков как 25 м или 32 м, на самом деле это вещественные значения: 2.5 м и 3.2 м. Обработаем данные аномалии."
   ]
  },
  {
   "cell_type": "code",
   "execution_count": 15,
   "metadata": {},
   "outputs": [],
   "source": [
    "data.loc[data['ceiling_height'] >= 24, 'ceiling_height'] = \\\n",
    "data.loc[data['ceiling_height'] >= 24, 'ceiling_height'] * 0.1"
   ]
  },
  {
   "cell_type": "markdown",
   "metadata": {},
   "source": [
    "Учитывая минимальную норму высоты потолков -  2,4 метра и максимальную - 6 метров для двухуровневых квартир, отфильтруем исходные данные:"
   ]
  },
  {
   "cell_type": "code",
   "execution_count": 16,
   "metadata": {},
   "outputs": [],
   "source": [
    "data = data.query('2.4 <= ceiling_height <= 6')"
   ]
  },
  {
   "cell_type": "markdown",
   "metadata": {},
   "source": [
    "2. Проанализируем значения столбца `total_area` - общая площадь."
   ]
  },
  {
   "cell_type": "code",
   "execution_count": 17,
   "metadata": {},
   "outputs": [
    {
     "data": {
      "image/png": "[encoded data removed]",
      "text/plain": [
       "<Figure size 432x288 with 1 Axes>"
      ]
     },
     "metadata": {
      "needs_background": "light"
     },
     "output_type": "display_data"
    }
   ],
   "source": [
    "data['total_area'].hist();"
   ]
  },
  {
   "cell_type": "code",
   "execution_count": 18,
   "metadata": {},
   "outputs": [
    {
     "data": {
      "text/html": [
       "<div>\n",
       "<style scoped>\n",
       "    .dataframe tbody tr th:only-of-type {\n",
       "        vertical-align: middle;\n",
       "    }\n",
       "\n",
       "    .dataframe tbody tr th {\n",
       "        vertical-align: top;\n",
       "    }\n",
       "\n",
       "    .dataframe thead th {\n",
       "        text-align: right;\n",
       "    }\n",
       "</style>\n",
       "<table border=\"1\" class=\"dataframe\">\n",
       "  <thead>\n",
       "    <tr style=\"text-align: right;\">\n",
       "      <th></th>\n",
       "      <th>total_images</th>\n",
       "      <th>last_price</th>\n",
       "      <th>total_area</th>\n",
       "      <th>first_day_exposition</th>\n",
       "      <th>rooms</th>\n",
       "      <th>ceiling_height</th>\n",
       "      <th>floors_total</th>\n",
       "      <th>living_area</th>\n",
       "      <th>floor</th>\n",
       "      <th>is_apartment</th>\n",
       "      <th>...</th>\n",
       "      <th>kitchen_area</th>\n",
       "      <th>balcony</th>\n",
       "      <th>locality_name</th>\n",
       "      <th>airports_nearest</th>\n",
       "      <th>city_centers_nearest</th>\n",
       "      <th>parks_around3000</th>\n",
       "      <th>parks_nearest</th>\n",
       "      <th>ponds_around3000</th>\n",
       "      <th>ponds_nearest</th>\n",
       "      <th>days_exposition</th>\n",
       "    </tr>\n",
       "  </thead>\n",
       "  <tbody>\n",
       "    <tr>\n",
       "      <th>19540</th>\n",
       "      <td>8</td>\n",
       "      <td>420000000</td>\n",
       "      <td>900.0</td>\n",
       "      <td>2017-12-06</td>\n",
       "      <td>12</td>\n",
       "      <td>2.80</td>\n",
       "      <td>25.0</td>\n",
       "      <td>409.7</td>\n",
       "      <td>25</td>\n",
       "      <td>False</td>\n",
       "      <td>...</td>\n",
       "      <td>112.0</td>\n",
       "      <td>0</td>\n",
       "      <td>Санкт-Петербург</td>\n",
       "      <td>30706.0</td>\n",
       "      <td>7877.0</td>\n",
       "      <td>0</td>\n",
       "      <td>NaN</td>\n",
       "      <td>2</td>\n",
       "      <td>318.0</td>\n",
       "      <td>106.0</td>\n",
       "    </tr>\n",
       "    <tr>\n",
       "      <th>12859</th>\n",
       "      <td>20</td>\n",
       "      <td>140000000</td>\n",
       "      <td>631.2</td>\n",
       "      <td>2019-04-09</td>\n",
       "      <td>7</td>\n",
       "      <td>3.90</td>\n",
       "      <td>4.0</td>\n",
       "      <td>322.3</td>\n",
       "      <td>4</td>\n",
       "      <td>False</td>\n",
       "      <td>...</td>\n",
       "      <td>19.5</td>\n",
       "      <td>1</td>\n",
       "      <td>Санкт-Петербург</td>\n",
       "      <td>25707.0</td>\n",
       "      <td>4972.0</td>\n",
       "      <td>0</td>\n",
       "      <td>NaN</td>\n",
       "      <td>2</td>\n",
       "      <td>210.0</td>\n",
       "      <td>NaN</td>\n",
       "    </tr>\n",
       "    <tr>\n",
       "      <th>3117</th>\n",
       "      <td>19</td>\n",
       "      <td>140000000</td>\n",
       "      <td>631.0</td>\n",
       "      <td>2019-03-30</td>\n",
       "      <td>7</td>\n",
       "      <td>2.65</td>\n",
       "      <td>5.0</td>\n",
       "      <td>NaN</td>\n",
       "      <td>5</td>\n",
       "      <td>False</td>\n",
       "      <td>...</td>\n",
       "      <td>60.0</td>\n",
       "      <td>0</td>\n",
       "      <td>Санкт-Петербург</td>\n",
       "      <td>25707.0</td>\n",
       "      <td>4972.0</td>\n",
       "      <td>0</td>\n",
       "      <td>NaN</td>\n",
       "      <td>2</td>\n",
       "      <td>210.0</td>\n",
       "      <td>NaN</td>\n",
       "    </tr>\n",
       "    <tr>\n",
       "      <th>15651</th>\n",
       "      <td>20</td>\n",
       "      <td>300000000</td>\n",
       "      <td>618.0</td>\n",
       "      <td>2017-12-18</td>\n",
       "      <td>7</td>\n",
       "      <td>3.40</td>\n",
       "      <td>7.0</td>\n",
       "      <td>258.0</td>\n",
       "      <td>5</td>\n",
       "      <td>False</td>\n",
       "      <td>...</td>\n",
       "      <td>70.0</td>\n",
       "      <td>0</td>\n",
       "      <td>Санкт-Петербург</td>\n",
       "      <td>32440.0</td>\n",
       "      <td>5297.0</td>\n",
       "      <td>0</td>\n",
       "      <td>NaN</td>\n",
       "      <td>2</td>\n",
       "      <td>198.0</td>\n",
       "      <td>111.0</td>\n",
       "    </tr>\n",
       "    <tr>\n",
       "      <th>5358</th>\n",
       "      <td>20</td>\n",
       "      <td>65000000</td>\n",
       "      <td>590.0</td>\n",
       "      <td>2019-02-14</td>\n",
       "      <td>15</td>\n",
       "      <td>3.50</td>\n",
       "      <td>6.0</td>\n",
       "      <td>409.0</td>\n",
       "      <td>3</td>\n",
       "      <td>False</td>\n",
       "      <td>...</td>\n",
       "      <td>100.0</td>\n",
       "      <td>0</td>\n",
       "      <td>Санкт-Петербург</td>\n",
       "      <td>24447.0</td>\n",
       "      <td>4666.0</td>\n",
       "      <td>1</td>\n",
       "      <td>767.0</td>\n",
       "      <td>0</td>\n",
       "      <td>NaN</td>\n",
       "      <td>14.0</td>\n",
       "    </tr>\n",
       "    <tr>\n",
       "      <th>...</th>\n",
       "      <td>...</td>\n",
       "      <td>...</td>\n",
       "      <td>...</td>\n",
       "      <td>...</td>\n",
       "      <td>...</td>\n",
       "      <td>...</td>\n",
       "      <td>...</td>\n",
       "      <td>...</td>\n",
       "      <td>...</td>\n",
       "      <td>...</td>\n",
       "      <td>...</td>\n",
       "      <td>...</td>\n",
       "      <td>...</td>\n",
       "      <td>...</td>\n",
       "      <td>...</td>\n",
       "      <td>...</td>\n",
       "      <td>...</td>\n",
       "      <td>...</td>\n",
       "      <td>...</td>\n",
       "      <td>...</td>\n",
       "      <td>...</td>\n",
       "    </tr>\n",
       "    <tr>\n",
       "      <th>7543</th>\n",
       "      <td>20</td>\n",
       "      <td>130000000</td>\n",
       "      <td>307.8</td>\n",
       "      <td>2016-04-24</td>\n",
       "      <td>5</td>\n",
       "      <td>2.65</td>\n",
       "      <td>4.0</td>\n",
       "      <td>187.9</td>\n",
       "      <td>3</td>\n",
       "      <td>False</td>\n",
       "      <td>...</td>\n",
       "      <td>63.4</td>\n",
       "      <td>0</td>\n",
       "      <td>Санкт-Петербург</td>\n",
       "      <td>24899.0</td>\n",
       "      <td>4785.0</td>\n",
       "      <td>0</td>\n",
       "      <td>NaN</td>\n",
       "      <td>1</td>\n",
       "      <td>603.0</td>\n",
       "      <td>1094.0</td>\n",
       "    </tr>\n",
       "    <tr>\n",
       "      <th>2243</th>\n",
       "      <td>9</td>\n",
       "      <td>130278280</td>\n",
       "      <td>304.0</td>\n",
       "      <td>2015-07-24</td>\n",
       "      <td>5</td>\n",
       "      <td>3.11</td>\n",
       "      <td>9.0</td>\n",
       "      <td>NaN</td>\n",
       "      <td>7</td>\n",
       "      <td>False</td>\n",
       "      <td>...</td>\n",
       "      <td>NaN</td>\n",
       "      <td>0</td>\n",
       "      <td>Санкт-Петербург</td>\n",
       "      <td>25593.0</td>\n",
       "      <td>5913.0</td>\n",
       "      <td>2</td>\n",
       "      <td>164.0</td>\n",
       "      <td>0</td>\n",
       "      <td>NaN</td>\n",
       "      <td>599.0</td>\n",
       "    </tr>\n",
       "    <tr>\n",
       "      <th>19221</th>\n",
       "      <td>0</td>\n",
       "      <td>30000000</td>\n",
       "      <td>301.9</td>\n",
       "      <td>2018-02-01</td>\n",
       "      <td>6</td>\n",
       "      <td>3.00</td>\n",
       "      <td>8.0</td>\n",
       "      <td>163.2</td>\n",
       "      <td>3</td>\n",
       "      <td>False</td>\n",
       "      <td>...</td>\n",
       "      <td>20.4</td>\n",
       "      <td>0</td>\n",
       "      <td>Санкт-Петербург</td>\n",
       "      <td>26872.0</td>\n",
       "      <td>5574.0</td>\n",
       "      <td>3</td>\n",
       "      <td>128.0</td>\n",
       "      <td>1</td>\n",
       "      <td>276.0</td>\n",
       "      <td>29.0</td>\n",
       "    </tr>\n",
       "    <tr>\n",
       "      <th>8038</th>\n",
       "      <td>20</td>\n",
       "      <td>64500000</td>\n",
       "      <td>300.0</td>\n",
       "      <td>2017-09-29</td>\n",
       "      <td>6</td>\n",
       "      <td>2.65</td>\n",
       "      <td>5.0</td>\n",
       "      <td>150.0</td>\n",
       "      <td>5</td>\n",
       "      <td>False</td>\n",
       "      <td>...</td>\n",
       "      <td>20.0</td>\n",
       "      <td>0</td>\n",
       "      <td>Санкт-Петербург</td>\n",
       "      <td>24825.0</td>\n",
       "      <td>5509.0</td>\n",
       "      <td>0</td>\n",
       "      <td>NaN</td>\n",
       "      <td>0</td>\n",
       "      <td>NaN</td>\n",
       "      <td>468.0</td>\n",
       "    </tr>\n",
       "    <tr>\n",
       "      <th>20919</th>\n",
       "      <td>20</td>\n",
       "      <td>54000000</td>\n",
       "      <td>300.0</td>\n",
       "      <td>2019-03-21</td>\n",
       "      <td>6</td>\n",
       "      <td>3.00</td>\n",
       "      <td>5.0</td>\n",
       "      <td>170.0</td>\n",
       "      <td>5</td>\n",
       "      <td>False</td>\n",
       "      <td>...</td>\n",
       "      <td>20.0</td>\n",
       "      <td>0</td>\n",
       "      <td>Санкт-Петербург</td>\n",
       "      <td>24825.0</td>\n",
       "      <td>5509.0</td>\n",
       "      <td>0</td>\n",
       "      <td>NaN</td>\n",
       "      <td>0</td>\n",
       "      <td>NaN</td>\n",
       "      <td>NaN</td>\n",
       "    </tr>\n",
       "  </tbody>\n",
       "</table>\n",
       "<p>63 rows × 22 columns</p>\n",
       "</div>"
      ],
      "text/plain": [
       "       total_images  last_price  total_area first_day_exposition  rooms  \\\n",
       "19540             8   420000000       900.0           2017-12-06     12   \n",
       "12859            20   140000000       631.2           2019-04-09      7   \n",
       "3117             19   140000000       631.0           2019-03-30      7   \n",
       "15651            20   300000000       618.0           2017-12-18      7   \n",
       "5358             20    65000000       590.0           2019-02-14     15   \n",
       "...             ...         ...         ...                  ...    ...   \n",
       "7543             20   130000000       307.8           2016-04-24      5   \n",
       "2243              9   130278280       304.0           2015-07-24      5   \n",
       "19221             0    30000000       301.9           2018-02-01      6   \n",
       "8038             20    64500000       300.0           2017-09-29      6   \n",
       "20919            20    54000000       300.0           2019-03-21      6   \n",
       "\n",
       "       ceiling_height  floors_total  living_area  floor  is_apartment  ...  \\\n",
       "19540            2.80          25.0        409.7     25         False  ...   \n",
       "12859            3.90           4.0        322.3      4         False  ...   \n",
       "3117             2.65           5.0          NaN      5         False  ...   \n",
       "15651            3.40           7.0        258.0      5         False  ...   \n",
       "5358             3.50           6.0        409.0      3         False  ...   \n",
       "...               ...           ...          ...    ...           ...  ...   \n",
       "7543             2.65           4.0        187.9      3         False  ...   \n",
       "2243             3.11           9.0          NaN      7         False  ...   \n",
       "19221            3.00           8.0        163.2      3         False  ...   \n",
       "8038             2.65           5.0        150.0      5         False  ...   \n",
       "20919            3.00           5.0        170.0      5         False  ...   \n",
       "\n",
       "       kitchen_area  balcony    locality_name  airports_nearest  \\\n",
       "19540         112.0        0  Санкт-Петербург           30706.0   \n",
       "12859          19.5        1  Санкт-Петербург           25707.0   \n",
       "3117           60.0        0  Санкт-Петербург           25707.0   \n",
       "15651          70.0        0  Санкт-Петербург           32440.0   \n",
       "5358          100.0        0  Санкт-Петербург           24447.0   \n",
       "...             ...      ...              ...               ...   \n",
       "7543           63.4        0  Санкт-Петербург           24899.0   \n",
       "2243            NaN        0  Санкт-Петербург           25593.0   \n",
       "19221          20.4        0  Санкт-Петербург           26872.0   \n",
       "8038           20.0        0  Санкт-Петербург           24825.0   \n",
       "20919          20.0        0  Санкт-Петербург           24825.0   \n",
       "\n",
       "      city_centers_nearest  parks_around3000  parks_nearest  ponds_around3000  \\\n",
       "19540               7877.0                 0            NaN                 2   \n",
       "12859               4972.0                 0            NaN                 2   \n",
       "3117                4972.0                 0            NaN                 2   \n",
       "15651               5297.0                 0            NaN                 2   \n",
       "5358                4666.0                 1          767.0                 0   \n",
       "...                    ...               ...            ...               ...   \n",
       "7543                4785.0                 0            NaN                 1   \n",
       "2243                5913.0                 2          164.0                 0   \n",
       "19221               5574.0                 3          128.0                 1   \n",
       "8038                5509.0                 0            NaN                 0   \n",
       "20919               5509.0                 0            NaN                 0   \n",
       "\n",
       "       ponds_nearest  days_exposition  \n",
       "19540          318.0            106.0  \n",
       "12859          210.0              NaN  \n",
       "3117           210.0              NaN  \n",
       "15651          198.0            111.0  \n",
       "5358             NaN             14.0  \n",
       "...              ...              ...  \n",
       "7543           603.0           1094.0  \n",
       "2243             NaN            599.0  \n",
       "19221          276.0             29.0  \n",
       "8038             NaN            468.0  \n",
       "20919            NaN              NaN  \n",
       "\n",
       "[63 rows x 22 columns]"
      ]
     },
     "execution_count": 18,
     "metadata": {},
     "output_type": "execute_result"
    }
   ],
   "source": [
    "data.query('total_area >= 300').sort_values(by='total_area', ascending=False)"
   ]
  },
  {
   "cell_type": "markdown",
   "metadata": {},
   "source": [
    "На гистограмме видно, что основная часть рассматриваемых квартир имеет площадь меньше 300 м² и только 63 квартиры, согласно предыдущей таблице, имеют площадь больше и равную 300 м². Будем считать их выбивающимися значениями и отфильтруем:"
   ]
  },
  {
   "cell_type": "code",
   "execution_count": 19,
   "metadata": {},
   "outputs": [],
   "source": [
    "data = data.query('total_area < 300')"
   ]
  },
  {
   "cell_type": "code",
   "execution_count": 20,
   "metadata": {},
   "outputs": [
    {
     "data": {
      "image/png": "[encoded data removed]",
      "text/plain": [
       "<Figure size 432x288 with 1 Axes>"
      ]
     },
     "metadata": {
      "needs_background": "light"
     },
     "output_type": "display_data"
    }
   ],
   "source": [
    "data['total_area'].hist();"
   ]
  },
  {
   "cell_type": "markdown",
   "metadata": {},
   "source": [
    "3. Жилая площадь  \n",
    "Понятие жилой площади используется в ЖК РФ при предоставлении: жилого помещения в общежитии (ст. 105 ЖК РФ), жилого помещения маневренного фонда (ст. 106 ЖК РФ). Именно для данных случаев ЖК РФ устанавливает и минимальную норму жилой площади - 6 кв. м на одного человека (п. 1 ст. 105, п. 1 ст. 106 ЖК РФ).\n",
    "\n",
    "http://www.consultant.ru/law/podborki/minimalnaya_ploschad_zhiloj_komnaty/\n",
    "© КонсультантПлюс, 1992-2023"
   ]
  },
  {
   "cell_type": "code",
   "execution_count": 21,
   "metadata": {},
   "outputs": [
    {
     "data": {
      "text/plain": [
       "count    21719.000000\n",
       "mean        34.029447\n",
       "std         19.829855\n",
       "min          2.000000\n",
       "25%         18.600000\n",
       "50%         30.000000\n",
       "75%         42.200000\n",
       "max        250.000000\n",
       "Name: living_area, dtype: float64"
      ]
     },
     "execution_count": 21,
     "metadata": {},
     "output_type": "execute_result"
    }
   ],
   "source": [
    "data['living_area'].describe()"
   ]
  },
  {
   "cell_type": "code",
   "execution_count": 22,
   "metadata": {
    "scrolled": true
   },
   "outputs": [
    {
     "data": {
      "text/html": [
       "<div>\n",
       "<style scoped>\n",
       "    .dataframe tbody tr th:only-of-type {\n",
       "        vertical-align: middle;\n",
       "    }\n",
       "\n",
       "    .dataframe tbody tr th {\n",
       "        vertical-align: top;\n",
       "    }\n",
       "\n",
       "    .dataframe thead th {\n",
       "        text-align: right;\n",
       "    }\n",
       "</style>\n",
       "<table border=\"1\" class=\"dataframe\">\n",
       "  <thead>\n",
       "    <tr style=\"text-align: right;\">\n",
       "      <th></th>\n",
       "      <th>total_images</th>\n",
       "      <th>last_price</th>\n",
       "      <th>total_area</th>\n",
       "      <th>first_day_exposition</th>\n",
       "      <th>rooms</th>\n",
       "      <th>ceiling_height</th>\n",
       "      <th>floors_total</th>\n",
       "      <th>living_area</th>\n",
       "      <th>floor</th>\n",
       "      <th>is_apartment</th>\n",
       "      <th>...</th>\n",
       "      <th>kitchen_area</th>\n",
       "      <th>balcony</th>\n",
       "      <th>locality_name</th>\n",
       "      <th>airports_nearest</th>\n",
       "      <th>city_centers_nearest</th>\n",
       "      <th>parks_around3000</th>\n",
       "      <th>parks_nearest</th>\n",
       "      <th>ponds_around3000</th>\n",
       "      <th>ponds_nearest</th>\n",
       "      <th>days_exposition</th>\n",
       "    </tr>\n",
       "  </thead>\n",
       "  <tbody>\n",
       "    <tr>\n",
       "      <th>3242</th>\n",
       "      <td>7</td>\n",
       "      <td>4440000</td>\n",
       "      <td>41.0</td>\n",
       "      <td>2017-07-02</td>\n",
       "      <td>1</td>\n",
       "      <td>2.65</td>\n",
       "      <td>17.0</td>\n",
       "      <td>3.0</td>\n",
       "      <td>17</td>\n",
       "      <td>False</td>\n",
       "      <td>...</td>\n",
       "      <td>11.0</td>\n",
       "      <td>0</td>\n",
       "      <td>Санкт-Петербург</td>\n",
       "      <td>19272.0</td>\n",
       "      <td>13073.0</td>\n",
       "      <td>0</td>\n",
       "      <td>NaN</td>\n",
       "      <td>0</td>\n",
       "      <td>NaN</td>\n",
       "      <td>216.0</td>\n",
       "    </tr>\n",
       "    <tr>\n",
       "      <th>13915</th>\n",
       "      <td>20</td>\n",
       "      <td>6350000</td>\n",
       "      <td>52.0</td>\n",
       "      <td>2018-02-06</td>\n",
       "      <td>2</td>\n",
       "      <td>3.00</td>\n",
       "      <td>6.0</td>\n",
       "      <td>2.0</td>\n",
       "      <td>2</td>\n",
       "      <td>False</td>\n",
       "      <td>...</td>\n",
       "      <td>9.0</td>\n",
       "      <td>0</td>\n",
       "      <td>Санкт-Петербург</td>\n",
       "      <td>32453.0</td>\n",
       "      <td>6521.0</td>\n",
       "      <td>0</td>\n",
       "      <td>NaN</td>\n",
       "      <td>1</td>\n",
       "      <td>1012.0</td>\n",
       "      <td>91.0</td>\n",
       "    </tr>\n",
       "    <tr>\n",
       "      <th>17582</th>\n",
       "      <td>11</td>\n",
       "      <td>2680000</td>\n",
       "      <td>22.0</td>\n",
       "      <td>2018-08-11</td>\n",
       "      <td>0</td>\n",
       "      <td>2.65</td>\n",
       "      <td>25.0</td>\n",
       "      <td>5.0</td>\n",
       "      <td>8</td>\n",
       "      <td>False</td>\n",
       "      <td>...</td>\n",
       "      <td>NaN</td>\n",
       "      <td>2</td>\n",
       "      <td>Санкт-Петербург</td>\n",
       "      <td>22735.0</td>\n",
       "      <td>11618.0</td>\n",
       "      <td>1</td>\n",
       "      <td>835.0</td>\n",
       "      <td>1</td>\n",
       "      <td>652.0</td>\n",
       "      <td>70.0</td>\n",
       "    </tr>\n",
       "    <tr>\n",
       "      <th>21758</th>\n",
       "      <td>0</td>\n",
       "      <td>2330000</td>\n",
       "      <td>23.0</td>\n",
       "      <td>2018-01-01</td>\n",
       "      <td>0</td>\n",
       "      <td>2.65</td>\n",
       "      <td>24.0</td>\n",
       "      <td>2.0</td>\n",
       "      <td>22</td>\n",
       "      <td>False</td>\n",
       "      <td>...</td>\n",
       "      <td>NaN</td>\n",
       "      <td>0</td>\n",
       "      <td>посёлок Мурино</td>\n",
       "      <td>NaN</td>\n",
       "      <td>NaN</td>\n",
       "      <td>0</td>\n",
       "      <td>NaN</td>\n",
       "      <td>0</td>\n",
       "      <td>NaN</td>\n",
       "      <td>66.0</td>\n",
       "    </tr>\n",
       "    <tr>\n",
       "      <th>21943</th>\n",
       "      <td>15</td>\n",
       "      <td>6100000</td>\n",
       "      <td>77.6</td>\n",
       "      <td>2019-02-28</td>\n",
       "      <td>4</td>\n",
       "      <td>2.50</td>\n",
       "      <td>9.0</td>\n",
       "      <td>5.4</td>\n",
       "      <td>1</td>\n",
       "      <td>False</td>\n",
       "      <td>...</td>\n",
       "      <td>9.8</td>\n",
       "      <td>0</td>\n",
       "      <td>Санкт-Петербург</td>\n",
       "      <td>29338.0</td>\n",
       "      <td>11270.0</td>\n",
       "      <td>1</td>\n",
       "      <td>584.0</td>\n",
       "      <td>0</td>\n",
       "      <td>NaN</td>\n",
       "      <td>33.0</td>\n",
       "    </tr>\n",
       "    <tr>\n",
       "      <th>23574</th>\n",
       "      <td>14</td>\n",
       "      <td>64990000</td>\n",
       "      <td>139.0</td>\n",
       "      <td>2015-11-24</td>\n",
       "      <td>3</td>\n",
       "      <td>3.00</td>\n",
       "      <td>8.0</td>\n",
       "      <td>3.0</td>\n",
       "      <td>8</td>\n",
       "      <td>False</td>\n",
       "      <td>...</td>\n",
       "      <td>16.0</td>\n",
       "      <td>1</td>\n",
       "      <td>Санкт-Петербург</td>\n",
       "      <td>33255.0</td>\n",
       "      <td>5975.0</td>\n",
       "      <td>1</td>\n",
       "      <td>630.0</td>\n",
       "      <td>3</td>\n",
       "      <td>100.0</td>\n",
       "      <td>280.0</td>\n",
       "    </tr>\n",
       "  </tbody>\n",
       "</table>\n",
       "<p>6 rows × 22 columns</p>\n",
       "</div>"
      ],
      "text/plain": [
       "       total_images  last_price  total_area first_day_exposition  rooms  \\\n",
       "3242              7     4440000        41.0           2017-07-02      1   \n",
       "13915            20     6350000        52.0           2018-02-06      2   \n",
       "17582            11     2680000        22.0           2018-08-11      0   \n",
       "21758             0     2330000        23.0           2018-01-01      0   \n",
       "21943            15     6100000        77.6           2019-02-28      4   \n",
       "23574            14    64990000       139.0           2015-11-24      3   \n",
       "\n",
       "       ceiling_height  floors_total  living_area  floor  is_apartment  ...  \\\n",
       "3242             2.65          17.0          3.0     17         False  ...   \n",
       "13915            3.00           6.0          2.0      2         False  ...   \n",
       "17582            2.65          25.0          5.0      8         False  ...   \n",
       "21758            2.65          24.0          2.0     22         False  ...   \n",
       "21943            2.50           9.0          5.4      1         False  ...   \n",
       "23574            3.00           8.0          3.0      8         False  ...   \n",
       "\n",
       "       kitchen_area  balcony    locality_name  airports_nearest  \\\n",
       "3242           11.0        0  Санкт-Петербург           19272.0   \n",
       "13915           9.0        0  Санкт-Петербург           32453.0   \n",
       "17582           NaN        2  Санкт-Петербург           22735.0   \n",
       "21758           NaN        0   посёлок Мурино               NaN   \n",
       "21943           9.8        0  Санкт-Петербург           29338.0   \n",
       "23574          16.0        1  Санкт-Петербург           33255.0   \n",
       "\n",
       "      city_centers_nearest  parks_around3000  parks_nearest  ponds_around3000  \\\n",
       "3242               13073.0                 0            NaN                 0   \n",
       "13915               6521.0                 0            NaN                 1   \n",
       "17582              11618.0                 1          835.0                 1   \n",
       "21758                  NaN                 0            NaN                 0   \n",
       "21943              11270.0                 1          584.0                 0   \n",
       "23574               5975.0                 1          630.0                 3   \n",
       "\n",
       "       ponds_nearest  days_exposition  \n",
       "3242             NaN            216.0  \n",
       "13915         1012.0             91.0  \n",
       "17582          652.0             70.0  \n",
       "21758            NaN             66.0  \n",
       "21943            NaN             33.0  \n",
       "23574          100.0            280.0  \n",
       "\n",
       "[6 rows x 22 columns]"
      ]
     },
     "execution_count": 22,
     "metadata": {},
     "output_type": "execute_result"
    }
   ],
   "source": [
    "data.query('living_area < 6')"
   ]
  },
  {
   "cell_type": "markdown",
   "metadata": {},
   "source": [
    "Согласно таблице 6 квартир имеют площадь менее 6 м², будем считать их выбивающимися значениями и отфильтруем:"
   ]
  },
  {
   "cell_type": "code",
   "execution_count": 23,
   "metadata": {},
   "outputs": [],
   "source": [
    "data = data.query('living_area >= 6')"
   ]
  },
  {
   "cell_type": "markdown",
   "metadata": {},
   "source": [
    "4. В однокомнатных квартирах допускается проектировать кухни или кухни-ниши площадью не менее 5 м². Все квартиры имеющие площадь менее 5 м², будем считать выбивающимися значениями и отфильтруем их:"
   ]
  },
  {
   "cell_type": "code",
   "execution_count": 24,
   "metadata": {},
   "outputs": [
    {
     "data": {
      "text/plain": [
       "count    20907.000000\n",
       "mean        10.460022\n",
       "std          5.623032\n",
       "min          1.300000\n",
       "25%          7.000000\n",
       "50%          9.000000\n",
       "75%         12.000000\n",
       "max        107.000000\n",
       "Name: kitchen_area, dtype: float64"
      ]
     },
     "execution_count": 24,
     "metadata": {},
     "output_type": "execute_result"
    }
   ],
   "source": [
    "data['kitchen_area'].describe()"
   ]
  },
  {
   "cell_type": "code",
   "execution_count": 25,
   "metadata": {},
   "outputs": [
    {
     "data": {
      "text/html": [
       "<div>\n",
       "<style scoped>\n",
       "    .dataframe tbody tr th:only-of-type {\n",
       "        vertical-align: middle;\n",
       "    }\n",
       "\n",
       "    .dataframe tbody tr th {\n",
       "        vertical-align: top;\n",
       "    }\n",
       "\n",
       "    .dataframe thead th {\n",
       "        text-align: right;\n",
       "    }\n",
       "</style>\n",
       "<table border=\"1\" class=\"dataframe\">\n",
       "  <thead>\n",
       "    <tr style=\"text-align: right;\">\n",
       "      <th></th>\n",
       "      <th>total_images</th>\n",
       "      <th>last_price</th>\n",
       "      <th>total_area</th>\n",
       "      <th>first_day_exposition</th>\n",
       "      <th>rooms</th>\n",
       "      <th>ceiling_height</th>\n",
       "      <th>floors_total</th>\n",
       "      <th>living_area</th>\n",
       "      <th>floor</th>\n",
       "      <th>is_apartment</th>\n",
       "      <th>...</th>\n",
       "      <th>kitchen_area</th>\n",
       "      <th>balcony</th>\n",
       "      <th>locality_name</th>\n",
       "      <th>airports_nearest</th>\n",
       "      <th>city_centers_nearest</th>\n",
       "      <th>parks_around3000</th>\n",
       "      <th>parks_nearest</th>\n",
       "      <th>ponds_around3000</th>\n",
       "      <th>ponds_nearest</th>\n",
       "      <th>days_exposition</th>\n",
       "    </tr>\n",
       "  </thead>\n",
       "  <tbody>\n",
       "    <tr>\n",
       "      <th>76</th>\n",
       "      <td>12</td>\n",
       "      <td>2800000</td>\n",
       "      <td>55.1</td>\n",
       "      <td>2016-05-14</td>\n",
       "      <td>3</td>\n",
       "      <td>2.60</td>\n",
       "      <td>5.0</td>\n",
       "      <td>38.4</td>\n",
       "      <td>1</td>\n",
       "      <td>False</td>\n",
       "      <td>...</td>\n",
       "      <td>4.9</td>\n",
       "      <td>0</td>\n",
       "      <td>Кировск</td>\n",
       "      <td>NaN</td>\n",
       "      <td>NaN</td>\n",
       "      <td>0</td>\n",
       "      <td>NaN</td>\n",
       "      <td>0</td>\n",
       "      <td>NaN</td>\n",
       "      <td>606.0</td>\n",
       "    </tr>\n",
       "    <tr>\n",
       "      <th>298</th>\n",
       "      <td>9</td>\n",
       "      <td>2650000</td>\n",
       "      <td>42.8</td>\n",
       "      <td>2017-04-25</td>\n",
       "      <td>2</td>\n",
       "      <td>2.65</td>\n",
       "      <td>5.0</td>\n",
       "      <td>30.0</td>\n",
       "      <td>3</td>\n",
       "      <td>False</td>\n",
       "      <td>...</td>\n",
       "      <td>4.5</td>\n",
       "      <td>0</td>\n",
       "      <td>Гатчина</td>\n",
       "      <td>NaN</td>\n",
       "      <td>NaN</td>\n",
       "      <td>0</td>\n",
       "      <td>NaN</td>\n",
       "      <td>0</td>\n",
       "      <td>NaN</td>\n",
       "      <td>49.0</td>\n",
       "    </tr>\n",
       "    <tr>\n",
       "      <th>422</th>\n",
       "      <td>8</td>\n",
       "      <td>1700000</td>\n",
       "      <td>55.2</td>\n",
       "      <td>2018-03-24</td>\n",
       "      <td>3</td>\n",
       "      <td>2.50</td>\n",
       "      <td>5.0</td>\n",
       "      <td>38.5</td>\n",
       "      <td>5</td>\n",
       "      <td>False</td>\n",
       "      <td>...</td>\n",
       "      <td>4.5</td>\n",
       "      <td>0</td>\n",
       "      <td>Кириши</td>\n",
       "      <td>NaN</td>\n",
       "      <td>NaN</td>\n",
       "      <td>0</td>\n",
       "      <td>NaN</td>\n",
       "      <td>0</td>\n",
       "      <td>NaN</td>\n",
       "      <td>NaN</td>\n",
       "    </tr>\n",
       "    <tr>\n",
       "      <th>906</th>\n",
       "      <td>15</td>\n",
       "      <td>2600000</td>\n",
       "      <td>27.0</td>\n",
       "      <td>2017-07-10</td>\n",
       "      <td>1</td>\n",
       "      <td>2.75</td>\n",
       "      <td>23.0</td>\n",
       "      <td>18.0</td>\n",
       "      <td>18</td>\n",
       "      <td>False</td>\n",
       "      <td>...</td>\n",
       "      <td>2.0</td>\n",
       "      <td>0</td>\n",
       "      <td>Санкт-Петербург</td>\n",
       "      <td>22131.0</td>\n",
       "      <td>17459.0</td>\n",
       "      <td>0</td>\n",
       "      <td>NaN</td>\n",
       "      <td>1</td>\n",
       "      <td>411.0</td>\n",
       "      <td>10.0</td>\n",
       "    </tr>\n",
       "    <tr>\n",
       "      <th>1327</th>\n",
       "      <td>6</td>\n",
       "      <td>2650000</td>\n",
       "      <td>46.2</td>\n",
       "      <td>2016-12-01</td>\n",
       "      <td>2</td>\n",
       "      <td>2.50</td>\n",
       "      <td>5.0</td>\n",
       "      <td>29.2</td>\n",
       "      <td>5</td>\n",
       "      <td>False</td>\n",
       "      <td>...</td>\n",
       "      <td>4.9</td>\n",
       "      <td>0</td>\n",
       "      <td>Гатчина</td>\n",
       "      <td>NaN</td>\n",
       "      <td>NaN</td>\n",
       "      <td>0</td>\n",
       "      <td>NaN</td>\n",
       "      <td>0</td>\n",
       "      <td>NaN</td>\n",
       "      <td>704.0</td>\n",
       "    </tr>\n",
       "    <tr>\n",
       "      <th>...</th>\n",
       "      <td>...</td>\n",
       "      <td>...</td>\n",
       "      <td>...</td>\n",
       "      <td>...</td>\n",
       "      <td>...</td>\n",
       "      <td>...</td>\n",
       "      <td>...</td>\n",
       "      <td>...</td>\n",
       "      <td>...</td>\n",
       "      <td>...</td>\n",
       "      <td>...</td>\n",
       "      <td>...</td>\n",
       "      <td>...</td>\n",
       "      <td>...</td>\n",
       "      <td>...</td>\n",
       "      <td>...</td>\n",
       "      <td>...</td>\n",
       "      <td>...</td>\n",
       "      <td>...</td>\n",
       "      <td>...</td>\n",
       "      <td>...</td>\n",
       "    </tr>\n",
       "    <tr>\n",
       "      <th>22623</th>\n",
       "      <td>8</td>\n",
       "      <td>3100000</td>\n",
       "      <td>61.0</td>\n",
       "      <td>2018-04-03</td>\n",
       "      <td>4</td>\n",
       "      <td>2.60</td>\n",
       "      <td>5.0</td>\n",
       "      <td>44.9</td>\n",
       "      <td>4</td>\n",
       "      <td>False</td>\n",
       "      <td>...</td>\n",
       "      <td>4.8</td>\n",
       "      <td>1</td>\n",
       "      <td>деревня Оржицы</td>\n",
       "      <td>NaN</td>\n",
       "      <td>NaN</td>\n",
       "      <td>0</td>\n",
       "      <td>NaN</td>\n",
       "      <td>0</td>\n",
       "      <td>NaN</td>\n",
       "      <td>57.0</td>\n",
       "    </tr>\n",
       "    <tr>\n",
       "      <th>22675</th>\n",
       "      <td>9</td>\n",
       "      <td>2600000</td>\n",
       "      <td>42.4</td>\n",
       "      <td>2017-08-18</td>\n",
       "      <td>2</td>\n",
       "      <td>2.50</td>\n",
       "      <td>5.0</td>\n",
       "      <td>27.6</td>\n",
       "      <td>5</td>\n",
       "      <td>False</td>\n",
       "      <td>...</td>\n",
       "      <td>4.8</td>\n",
       "      <td>1</td>\n",
       "      <td>Гатчина</td>\n",
       "      <td>NaN</td>\n",
       "      <td>NaN</td>\n",
       "      <td>0</td>\n",
       "      <td>NaN</td>\n",
       "      <td>0</td>\n",
       "      <td>NaN</td>\n",
       "      <td>116.0</td>\n",
       "    </tr>\n",
       "    <tr>\n",
       "      <th>22849</th>\n",
       "      <td>6</td>\n",
       "      <td>2380000</td>\n",
       "      <td>25.0</td>\n",
       "      <td>2016-03-22</td>\n",
       "      <td>1</td>\n",
       "      <td>2.65</td>\n",
       "      <td>25.0</td>\n",
       "      <td>19.0</td>\n",
       "      <td>15</td>\n",
       "      <td>False</td>\n",
       "      <td>...</td>\n",
       "      <td>4.0</td>\n",
       "      <td>1</td>\n",
       "      <td>посёлок Шушары</td>\n",
       "      <td>13461.0</td>\n",
       "      <td>19247.0</td>\n",
       "      <td>0</td>\n",
       "      <td>NaN</td>\n",
       "      <td>1</td>\n",
       "      <td>351.0</td>\n",
       "      <td>140.0</td>\n",
       "    </tr>\n",
       "    <tr>\n",
       "      <th>23110</th>\n",
       "      <td>1</td>\n",
       "      <td>2900000</td>\n",
       "      <td>34.0</td>\n",
       "      <td>2018-02-01</td>\n",
       "      <td>2</td>\n",
       "      <td>2.90</td>\n",
       "      <td>2.0</td>\n",
       "      <td>20.0</td>\n",
       "      <td>1</td>\n",
       "      <td>False</td>\n",
       "      <td>...</td>\n",
       "      <td>4.0</td>\n",
       "      <td>0</td>\n",
       "      <td>посёлок Стрельна</td>\n",
       "      <td>27006.0</td>\n",
       "      <td>23832.0</td>\n",
       "      <td>0</td>\n",
       "      <td>NaN</td>\n",
       "      <td>2</td>\n",
       "      <td>872.0</td>\n",
       "      <td>196.0</td>\n",
       "    </tr>\n",
       "    <tr>\n",
       "      <th>23678</th>\n",
       "      <td>10</td>\n",
       "      <td>3500000</td>\n",
       "      <td>43.0</td>\n",
       "      <td>2016-05-19</td>\n",
       "      <td>2</td>\n",
       "      <td>2.50</td>\n",
       "      <td>3.0</td>\n",
       "      <td>26.1</td>\n",
       "      <td>2</td>\n",
       "      <td>False</td>\n",
       "      <td>...</td>\n",
       "      <td>4.9</td>\n",
       "      <td>1</td>\n",
       "      <td>Пушкин</td>\n",
       "      <td>15823.0</td>\n",
       "      <td>27977.0</td>\n",
       "      <td>0</td>\n",
       "      <td>NaN</td>\n",
       "      <td>1</td>\n",
       "      <td>1134.0</td>\n",
       "      <td>252.0</td>\n",
       "    </tr>\n",
       "  </tbody>\n",
       "</table>\n",
       "<p>102 rows × 22 columns</p>\n",
       "</div>"
      ],
      "text/plain": [
       "       total_images  last_price  total_area first_day_exposition  rooms  \\\n",
       "76               12     2800000        55.1           2016-05-14      3   \n",
       "298               9     2650000        42.8           2017-04-25      2   \n",
       "422               8     1700000        55.2           2018-03-24      3   \n",
       "906              15     2600000        27.0           2017-07-10      1   \n",
       "1327              6     2650000        46.2           2016-12-01      2   \n",
       "...             ...         ...         ...                  ...    ...   \n",
       "22623             8     3100000        61.0           2018-04-03      4   \n",
       "22675             9     2600000        42.4           2017-08-18      2   \n",
       "22849             6     2380000        25.0           2016-03-22      1   \n",
       "23110             1     2900000        34.0           2018-02-01      2   \n",
       "23678            10     3500000        43.0           2016-05-19      2   \n",
       "\n",
       "       ceiling_height  floors_total  living_area  floor  is_apartment  ...  \\\n",
       "76               2.60           5.0         38.4      1         False  ...   \n",
       "298              2.65           5.0         30.0      3         False  ...   \n",
       "422              2.50           5.0         38.5      5         False  ...   \n",
       "906              2.75          23.0         18.0     18         False  ...   \n",
       "1327             2.50           5.0         29.2      5         False  ...   \n",
       "...               ...           ...          ...    ...           ...  ...   \n",
       "22623            2.60           5.0         44.9      4         False  ...   \n",
       "22675            2.50           5.0         27.6      5         False  ...   \n",
       "22849            2.65          25.0         19.0     15         False  ...   \n",
       "23110            2.90           2.0         20.0      1         False  ...   \n",
       "23678            2.50           3.0         26.1      2         False  ...   \n",
       "\n",
       "       kitchen_area  balcony     locality_name  airports_nearest  \\\n",
       "76              4.9        0           Кировск               NaN   \n",
       "298             4.5        0           Гатчина               NaN   \n",
       "422             4.5        0            Кириши               NaN   \n",
       "906             2.0        0   Санкт-Петербург           22131.0   \n",
       "1327            4.9        0           Гатчина               NaN   \n",
       "...             ...      ...               ...               ...   \n",
       "22623           4.8        1    деревня Оржицы               NaN   \n",
       "22675           4.8        1           Гатчина               NaN   \n",
       "22849           4.0        1    посёлок Шушары           13461.0   \n",
       "23110           4.0        0  посёлок Стрельна           27006.0   \n",
       "23678           4.9        1            Пушкин           15823.0   \n",
       "\n",
       "      city_centers_nearest  parks_around3000  parks_nearest  ponds_around3000  \\\n",
       "76                     NaN                 0            NaN                 0   \n",
       "298                    NaN                 0            NaN                 0   \n",
       "422                    NaN                 0            NaN                 0   \n",
       "906                17459.0                 0            NaN                 1   \n",
       "1327                   NaN                 0            NaN                 0   \n",
       "...                    ...               ...            ...               ...   \n",
       "22623                  NaN                 0            NaN                 0   \n",
       "22675                  NaN                 0            NaN                 0   \n",
       "22849              19247.0                 0            NaN                 1   \n",
       "23110              23832.0                 0            NaN                 2   \n",
       "23678              27977.0                 0            NaN                 1   \n",
       "\n",
       "       ponds_nearest  days_exposition  \n",
       "76               NaN            606.0  \n",
       "298              NaN             49.0  \n",
       "422              NaN              NaN  \n",
       "906            411.0             10.0  \n",
       "1327             NaN            704.0  \n",
       "...              ...              ...  \n",
       "22623            NaN             57.0  \n",
       "22675            NaN            116.0  \n",
       "22849          351.0            140.0  \n",
       "23110          872.0            196.0  \n",
       "23678         1134.0            252.0  \n",
       "\n",
       "[102 rows x 22 columns]"
      ]
     },
     "execution_count": 25,
     "metadata": {},
     "output_type": "execute_result"
    }
   ],
   "source": [
    "data.query('kitchen_area < 5')"
   ]
  },
  {
   "cell_type": "code",
   "execution_count": 26,
   "metadata": {},
   "outputs": [],
   "source": [
    "data = data.query('kitchen_area >= 5')"
   ]
  },
  {
   "cell_type": "markdown",
   "metadata": {},
   "source": [
    "5. Согласно данным сайта https://spbhomes.ru/ ЖК «Князь Александр Невский», построенный холдингом «РосСтройИнвест», на сегодняшний день является самым высоким жилым домом Санкт-Петербурга. Его высота составляет 126 м. Здание состоит из 37 этажей, два из которых подземные. Посмотрим и удалим значения, превышающие данное число:"
   ]
  },
  {
   "cell_type": "code",
   "execution_count": 27,
   "metadata": {},
   "outputs": [
    {
     "data": {
      "text/html": [
       "<div>\n",
       "<style scoped>\n",
       "    .dataframe tbody tr th:only-of-type {\n",
       "        vertical-align: middle;\n",
       "    }\n",
       "\n",
       "    .dataframe tbody tr th {\n",
       "        vertical-align: top;\n",
       "    }\n",
       "\n",
       "    .dataframe thead th {\n",
       "        text-align: right;\n",
       "    }\n",
       "</style>\n",
       "<table border=\"1\" class=\"dataframe\">\n",
       "  <thead>\n",
       "    <tr style=\"text-align: right;\">\n",
       "      <th></th>\n",
       "      <th>total_images</th>\n",
       "      <th>last_price</th>\n",
       "      <th>total_area</th>\n",
       "      <th>first_day_exposition</th>\n",
       "      <th>rooms</th>\n",
       "      <th>ceiling_height</th>\n",
       "      <th>floors_total</th>\n",
       "      <th>living_area</th>\n",
       "      <th>floor</th>\n",
       "      <th>is_apartment</th>\n",
       "      <th>...</th>\n",
       "      <th>kitchen_area</th>\n",
       "      <th>balcony</th>\n",
       "      <th>locality_name</th>\n",
       "      <th>airports_nearest</th>\n",
       "      <th>city_centers_nearest</th>\n",
       "      <th>parks_around3000</th>\n",
       "      <th>parks_nearest</th>\n",
       "      <th>ponds_around3000</th>\n",
       "      <th>ponds_nearest</th>\n",
       "      <th>days_exposition</th>\n",
       "    </tr>\n",
       "  </thead>\n",
       "  <tbody>\n",
       "    <tr>\n",
       "      <th>2253</th>\n",
       "      <td>12</td>\n",
       "      <td>3800000</td>\n",
       "      <td>45.5</td>\n",
       "      <td>2018-06-28</td>\n",
       "      <td>2</td>\n",
       "      <td>2.88</td>\n",
       "      <td>60.0</td>\n",
       "      <td>27.4</td>\n",
       "      <td>4</td>\n",
       "      <td>False</td>\n",
       "      <td>...</td>\n",
       "      <td>7.4</td>\n",
       "      <td>0</td>\n",
       "      <td>Кронштадт</td>\n",
       "      <td>67763.0</td>\n",
       "      <td>49488.0</td>\n",
       "      <td>2</td>\n",
       "      <td>342.0</td>\n",
       "      <td>3</td>\n",
       "      <td>614.0</td>\n",
       "      <td>166.0</td>\n",
       "    </tr>\n",
       "    <tr>\n",
       "      <th>16731</th>\n",
       "      <td>9</td>\n",
       "      <td>3978000</td>\n",
       "      <td>40.0</td>\n",
       "      <td>2018-09-24</td>\n",
       "      <td>1</td>\n",
       "      <td>2.65</td>\n",
       "      <td>52.0</td>\n",
       "      <td>10.5</td>\n",
       "      <td>18</td>\n",
       "      <td>False</td>\n",
       "      <td>...</td>\n",
       "      <td>14.0</td>\n",
       "      <td>0</td>\n",
       "      <td>Санкт-Петербург</td>\n",
       "      <td>20728.0</td>\n",
       "      <td>12978.0</td>\n",
       "      <td>1</td>\n",
       "      <td>793.0</td>\n",
       "      <td>0</td>\n",
       "      <td>NaN</td>\n",
       "      <td>45.0</td>\n",
       "    </tr>\n",
       "  </tbody>\n",
       "</table>\n",
       "<p>2 rows × 22 columns</p>\n",
       "</div>"
      ],
      "text/plain": [
       "       total_images  last_price  total_area first_day_exposition  rooms  \\\n",
       "2253             12     3800000        45.5           2018-06-28      2   \n",
       "16731             9     3978000        40.0           2018-09-24      1   \n",
       "\n",
       "       ceiling_height  floors_total  living_area  floor  is_apartment  ...  \\\n",
       "2253             2.88          60.0         27.4      4         False  ...   \n",
       "16731            2.65          52.0         10.5     18         False  ...   \n",
       "\n",
       "       kitchen_area  balcony    locality_name  airports_nearest  \\\n",
       "2253            7.4        0        Кронштадт           67763.0   \n",
       "16731          14.0        0  Санкт-Петербург           20728.0   \n",
       "\n",
       "      city_centers_nearest  parks_around3000  parks_nearest  ponds_around3000  \\\n",
       "2253               49488.0                 2          342.0                 3   \n",
       "16731              12978.0                 1          793.0                 0   \n",
       "\n",
       "       ponds_nearest  days_exposition  \n",
       "2253           614.0            166.0  \n",
       "16731            NaN             45.0  \n",
       "\n",
       "[2 rows x 22 columns]"
      ]
     },
     "execution_count": 27,
     "metadata": {},
     "output_type": "execute_result"
    }
   ],
   "source": [
    "data.query('floors_total > 37')"
   ]
  },
  {
   "cell_type": "code",
   "execution_count": 28,
   "metadata": {},
   "outputs": [],
   "source": [
    "data = data.query('floors_total <= 37')"
   ]
  },
  {
   "cell_type": "markdown",
   "metadata": {},
   "source": [
    "6. Расстояние до ближайшего аэропорта"
   ]
  },
  {
   "cell_type": "code",
   "execution_count": 29,
   "metadata": {},
   "outputs": [
    {
     "data": {
      "text/plain": [
       "count    16143.000000\n",
       "mean     28789.413182\n",
       "std      12632.537309\n",
       "min          0.000000\n",
       "25%      18539.000000\n",
       "50%      26729.000000\n",
       "75%      37227.000000\n",
       "max      84869.000000\n",
       "Name: airports_nearest, dtype: float64"
      ]
     },
     "execution_count": 29,
     "metadata": {},
     "output_type": "execute_result"
    }
   ],
   "source": [
    "data['airports_nearest'].describe()"
   ]
  },
  {
   "cell_type": "code",
   "execution_count": 30,
   "metadata": {},
   "outputs": [
    {
     "data": {
      "text/html": [
       "<div>\n",
       "<style scoped>\n",
       "    .dataframe tbody tr th:only-of-type {\n",
       "        vertical-align: middle;\n",
       "    }\n",
       "\n",
       "    .dataframe tbody tr th {\n",
       "        vertical-align: top;\n",
       "    }\n",
       "\n",
       "    .dataframe thead th {\n",
       "        text-align: right;\n",
       "    }\n",
       "</style>\n",
       "<table border=\"1\" class=\"dataframe\">\n",
       "  <thead>\n",
       "    <tr style=\"text-align: right;\">\n",
       "      <th></th>\n",
       "      <th>total_images</th>\n",
       "      <th>last_price</th>\n",
       "      <th>total_area</th>\n",
       "      <th>first_day_exposition</th>\n",
       "      <th>rooms</th>\n",
       "      <th>ceiling_height</th>\n",
       "      <th>floors_total</th>\n",
       "      <th>living_area</th>\n",
       "      <th>floor</th>\n",
       "      <th>is_apartment</th>\n",
       "      <th>...</th>\n",
       "      <th>kitchen_area</th>\n",
       "      <th>balcony</th>\n",
       "      <th>locality_name</th>\n",
       "      <th>airports_nearest</th>\n",
       "      <th>city_centers_nearest</th>\n",
       "      <th>parks_around3000</th>\n",
       "      <th>parks_nearest</th>\n",
       "      <th>ponds_around3000</th>\n",
       "      <th>ponds_nearest</th>\n",
       "      <th>days_exposition</th>\n",
       "    </tr>\n",
       "  </thead>\n",
       "  <tbody>\n",
       "    <tr>\n",
       "      <th>21085</th>\n",
       "      <td>0</td>\n",
       "      <td>7000000</td>\n",
       "      <td>34.7</td>\n",
       "      <td>2018-09-23</td>\n",
       "      <td>1</td>\n",
       "      <td>2.7</td>\n",
       "      <td>9.0</td>\n",
       "      <td>19.8</td>\n",
       "      <td>3</td>\n",
       "      <td>False</td>\n",
       "      <td>...</td>\n",
       "      <td>6.0</td>\n",
       "      <td>2</td>\n",
       "      <td>Санкт-Петербург</td>\n",
       "      <td>0.0</td>\n",
       "      <td>22801.0</td>\n",
       "      <td>0</td>\n",
       "      <td>NaN</td>\n",
       "      <td>0</td>\n",
       "      <td>NaN</td>\n",
       "      <td>60.0</td>\n",
       "    </tr>\n",
       "  </tbody>\n",
       "</table>\n",
       "<p>1 rows × 22 columns</p>\n",
       "</div>"
      ],
      "text/plain": [
       "       total_images  last_price  total_area first_day_exposition  rooms  \\\n",
       "21085             0     7000000        34.7           2018-09-23      1   \n",
       "\n",
       "       ceiling_height  floors_total  living_area  floor  is_apartment  ...  \\\n",
       "21085             2.7           9.0         19.8      3         False  ...   \n",
       "\n",
       "       kitchen_area  balcony    locality_name  airports_nearest  \\\n",
       "21085           6.0        2  Санкт-Петербург               0.0   \n",
       "\n",
       "      city_centers_nearest  parks_around3000  parks_nearest  ponds_around3000  \\\n",
       "21085              22801.0                 0            NaN                 0   \n",
       "\n",
       "       ponds_nearest  days_exposition  \n",
       "21085            NaN             60.0  \n",
       "\n",
       "[1 rows x 22 columns]"
      ]
     },
     "execution_count": 30,
     "metadata": {},
     "output_type": "execute_result"
    }
   ],
   "source": [
    "data.query('airports_nearest < 1000')"
   ]
  },
  {
   "cell_type": "code",
   "execution_count": 31,
   "metadata": {},
   "outputs": [],
   "source": [
    "data = data.query('airports_nearest != 0')"
   ]
  },
  {
   "cell_type": "markdown",
   "metadata": {},
   "source": [
    "<div class=\"alert alert-success\">\n",
    "<h2> Комментарий ревьюера V1<a class=\"tocSkip\"> </h2>\n",
    "\n",
    "<b>Все отлично!👍:</b> Все аномальные значения обработала правильно, молодец!"
   ]
  },
  {
   "cell_type": "markdown",
   "metadata": {},
   "source": [
    "**Дубликаты**"
   ]
  },
  {
   "cell_type": "code",
   "execution_count": 32,
   "metadata": {},
   "outputs": [
    {
     "data": {
      "text/plain": [
       "0"
      ]
     },
     "execution_count": 32,
     "metadata": {},
     "output_type": "execute_result"
    }
   ],
   "source": [
    "data.duplicated().sum()"
   ]
  },
  {
   "cell_type": "markdown",
   "metadata": {},
   "source": [
    "Явные дубликаты отсутствуют."
   ]
  },
  {
   "cell_type": "markdown",
   "metadata": {},
   "source": [
    "Изучим уникальные значения в столбце с названиями и устраним неявные дубликаты."
   ]
  },
  {
   "cell_type": "code",
   "execution_count": 33,
   "metadata": {
    "scrolled": true
   },
   "outputs": [
    {
     "data": {
      "text/plain": [
       "array(['Санкт-Петербург', 'посёлок Шушары', 'городской посёлок Янино-1',\n",
       "       'посёлок Парголово', 'посёлок Мурино', 'Ломоносов', 'Сертолово',\n",
       "       'Петергоф', 'Пушкин', 'деревня Кудрово', 'Колпино', 'Гатчина',\n",
       "       'поселок Мурино', 'деревня Фёдоровское', 'Выборг', 'Кронштадт',\n",
       "       'Кировск', 'деревня Новое Девяткино', 'посёлок Металлострой',\n",
       "       'посёлок городского типа Лебяжье',\n",
       "       'посёлок городского типа Сиверский', 'поселок Молодцово',\n",
       "       'поселок городского типа Кузьмоловский',\n",
       "       'садовое товарищество Новая Ропша', 'Павловск',\n",
       "       'деревня Пикколово', 'Всеволожск', 'Волхов', 'Кингисепп',\n",
       "       'Приозерск', 'Сестрорецк', 'деревня Куттузи', 'посёлок Аннино',\n",
       "       'деревня Заклинье', 'поселок Торковичи', 'поселок Первомайское',\n",
       "       'Красное Село', 'посёлок Понтонный', 'деревня Старая',\n",
       "       'деревня Лесколово', 'село Путилово', 'Ивангород', 'Мурино',\n",
       "       'Сланцы', 'Шлиссельбург', 'Сясьстрой', 'Никольское', 'Зеленогорск',\n",
       "       'Сосновый Бор', 'поселок Новый Свет', 'деревня Оржицы',\n",
       "       'деревня Кальтино', 'Кудрово', 'поселок Романовка',\n",
       "       'посёлок Бугры', 'поселок Бугры', 'поселок городского типа Рощино',\n",
       "       'Луга', 'Волосово', 'Отрадное', 'село Павлово', 'поселок Оредеж',\n",
       "       'посёлок городского типа Красный Бор', 'Коммунар',\n",
       "       'посёлок Молодёжное', 'деревня Нурма',\n",
       "       'поселок городского типа Синявино', 'Тосно', 'посёлок Новый Свет',\n",
       "       'посёлок городского типа Кузьмоловский', 'посёлок Стрельна',\n",
       "       'Бокситогорск', 'посёлок Александровская', 'деревня Лопухинка',\n",
       "       'поселок Терволово', 'поселок городского типа Советский', 'Кириши',\n",
       "       'Подпорожье', 'посёлок Петровское',\n",
       "       'посёлок городского типа Токсово', 'поселок Сельцо',\n",
       "       'посёлок городского типа Вырица', 'деревня Келози',\n",
       "       'деревня Вартемяги', 'посёлок Тельмана',\n",
       "       'городской поселок Большая Ижора', 'Тихвин', nan,\n",
       "       'деревня Агалатово', 'посёлок Новогорелово',\n",
       "       'городской посёлок Лесогорский', 'деревня Лаголово',\n",
       "       'поселок Цвелодубово', 'поселок городского типа Рахья',\n",
       "       'поселок городского типа Вырица', 'деревня Белогорка',\n",
       "       'поселок Заводской', 'городской посёлок Новоселье',\n",
       "       'деревня Большие Колпаны', 'деревня Горбунки', 'деревня Заневка',\n",
       "       'Приморск', 'городской посёлок Фёдоровское', 'деревня Мистолово',\n",
       "       'Новая Ладога', 'поселок Зимитицы', 'поселок Барышево',\n",
       "       'деревня Разметелево', 'поселок городского типа имени Свердлова',\n",
       "       'деревня Пеники', 'поселок Рябово', 'деревня Пудомяги',\n",
       "       'деревня Бегуницы', 'посёлок Поляны', 'городской посёлок Мга',\n",
       "       'поселок Елизаветино', 'посёлок городского типа Кузнечное',\n",
       "       'деревня Колтуши', 'поселок Запорожское',\n",
       "       'посёлок городского типа Рощино', 'деревня Гостилицы',\n",
       "       'деревня Малое Карлино', 'посёлок Мичуринское',\n",
       "       'посёлок городского типа имени Морозова', 'посёлок Сосново',\n",
       "       'деревня Аро', 'поселок Ильичёво', 'посёлок городского типа Тайцы',\n",
       "       'деревня Малое Верево', 'поселок станции Вещево',\n",
       "       'деревня Калитино', 'посёлок городского типа Ульяновка',\n",
       "       'деревня Чудской Бор', 'поселок городского типа Дубровка',\n",
       "       'деревня Мины', 'поселок Войсковицы',\n",
       "       'посёлок городского типа имени Свердлова', 'деревня Коркино',\n",
       "       'посёлок Ропша', 'поселок городского типа Приладожский',\n",
       "       'посёлок Щеглово', 'посёлок Гаврилово', 'Лодейное Поле',\n",
       "       'Пикалёво', 'деревня Рабитицы', 'деревня Кузьмолово',\n",
       "       'деревня Малые Колпаны', 'поселок Тельмана',\n",
       "       'городской посёлок Назия', 'посёлок Репино',\n",
       "       'городской посёлок Павлово', 'посёлок Ильичёво', 'поселок Углово',\n",
       "       'деревня Низино', 'поселок Старая Малукса',\n",
       "       'садовое товарищество Рахья', 'поселок Аннино', 'поселок Победа',\n",
       "       'деревня Меньково', 'деревня Старые Бегуницы', 'посёлок Сапёрный',\n",
       "       'поселок Семрино', 'поселок Гаврилово', 'поселок Глажево',\n",
       "       'поселок Кобринское', 'деревня Гарболово', 'деревня Юкки',\n",
       "       'поселок станции Приветнинское', 'деревня Мануйлово',\n",
       "       'поселок Поляны', 'поселок Цвылёво', 'поселок Мельниково',\n",
       "       'посёлок Плодовое', 'посёлок Пудость', 'посёлок Усть-Луга',\n",
       "       'Светогорск', 'посёлок Победа', 'Любань', 'поселок Селезнёво',\n",
       "       'поселок городского типа Рябово', 'Каменногорск', 'деревня Кривко',\n",
       "       'деревня Парицы', 'поселок Жилпосёлок',\n",
       "       'посёлок городского типа Мга', 'городской поселок Янино-1',\n",
       "       'посёлок Войскорово', 'село Никольское', 'посёлок Терволово',\n",
       "       'поселок Стеклянный', 'посёлок Мыза-Ивановка',\n",
       "       'село Русско-Высоцкое', 'поселок городского типа Лебяжье',\n",
       "       'поселок городского типа Форносово', 'поселок Житково',\n",
       "       'поселок городского типа Красный Бор', 'городской посёлок Виллози',\n",
       "       'деревня Шпаньково', 'деревня Кипень', 'посёлок Сумино',\n",
       "       'посёлок Возрождение', 'деревня Старосиверская',\n",
       "       'посёлок Кикерино', 'поселок Возрождение',\n",
       "       'деревня Старое Хинколово', 'посёлок Пригородный',\n",
       "       'посёлок Торфяное', 'городской посёлок Будогощь',\n",
       "       'поселок Суходолье', 'поселок Красная Долина', 'деревня Хапо-Ое',\n",
       "       'поселок городского типа Дружная Горка', 'деревня Извара',\n",
       "       'поселок Лисий Нос', 'деревня Яльгелево', 'посёлок Стеклянный',\n",
       "       'село Рождествено', 'деревня Сяськелево', 'деревня Камышовка',\n",
       "       'садоводческое некоммерческое товарищество Лесная Поляна',\n",
       "       'поселок Жилгородок', 'деревня Ялгино', 'деревня Батово',\n",
       "       'поселок Новый Учхоз', 'поселок Гончарово', 'поселок Почап',\n",
       "       'посёлок Сапёрное', 'посёлок Платформа 69-й километр',\n",
       "       'поселок Каложицы', 'деревня Фалилеево', 'деревня Пельгора',\n",
       "       'поселок городского типа Лесогорский', 'деревня Торошковичи',\n",
       "       'посёлок Белоостров', 'посёлок Алексеевка',\n",
       "       'посёлок городского типа Важины', 'поселок Глебычево',\n",
       "       'поселок Лукаши', 'посёлок Песочный', 'поселок Петровское',\n",
       "       'деревня Щеглово', 'городской посёлок Рощино',\n",
       "       'поселок городского типа Никольский', 'поселок Кингисеппский',\n",
       "       'посёлок при железнодорожной станции Вещево', 'поселок Ушаки',\n",
       "       'деревня Старополье', 'деревня Котлы', 'деревня Сижно',\n",
       "       'деревня Лампово', 'деревня Торосово', 'деревня Новолисино',\n",
       "       'посёлок станции Громово', 'поселок городского типа Ефимовский',\n",
       "       'деревня Глинка', 'посёлок Мельниково',\n",
       "       'поселок городского типа Назия', 'деревня Старая Пустошь',\n",
       "       'поселок Коммунары', 'поселок Починок', 'деревня Разбегаево',\n",
       "       'посёлок городского типа Рябово', 'поселок Гладкое',\n",
       "       'посёлок при железнодорожной станции Приветнинское',\n",
       "       'поселок Тёсово-4', 'посёлок Жилгородок', 'деревня Бор',\n",
       "       'посёлок Коробицыно', 'деревня Большая Вруда', 'деревня Курковицы',\n",
       "       'посёлок Лисий Нос', 'поселок Серебрянский',\n",
       "       'городской посёлок Советский', 'посёлок Кобралово',\n",
       "       'поселок Кобралово', 'поселок городского типа Кондратьево',\n",
       "       'поселок Любань', 'деревня Реброво', 'деревня Зимитицы',\n",
       "       'деревня Тойворово', 'поселок Семиозерье', 'поселок Лесное',\n",
       "       'поселок Совхозный', 'поселок Усть-Луга', 'посёлок Суйда',\n",
       "       'посёлок городского типа Форносово', 'деревня Нижние Осельки',\n",
       "       'поселок Мичуринское', 'поселок Перово', 'Высоцк',\n",
       "       'поселок Гарболово', 'село Копорье', 'село Шум',\n",
       "       'поселок Котельский', 'посёлок Ленинское',\n",
       "       'деревня Большая Пустомержа', 'деревня Пижма',\n",
       "       'коттеджный поселок Кивеннапа Север', 'поселок Коробицыно',\n",
       "       'поселок Ромашки', 'деревня Каськово', 'деревня Куровицы',\n",
       "       'поселок Сумино', 'поселок городского типа Большая Ижора',\n",
       "       'поселок Кирпичное', 'посёлок городского типа Павлово',\n",
       "       'деревня Ям-Тесово', 'деревня Терпилицы',\n",
       "       'посёлок городского типа Вознесенье',\n",
       "       'поселок городского типа Токсово', 'посёлок Шугозеро',\n",
       "       'деревня Ваганово', 'поселок Пушное', 'садовое товарищество Садко',\n",
       "       'деревня Выскатка', 'поселок Громово', 'посёлок станции Свирь',\n",
       "       'деревня Кисельня', 'село Старая Ладога', 'посёлок Старая Малукса',\n",
       "       'поселок Калитино', 'посёлок Высокоключевой',\n",
       "       'садовое товарищество Приладожский',\n",
       "       'посёлок Пансионат Зелёный Бор', 'посёлок Перово',\n",
       "       'деревня Ненимяки', 'поселок Пансионат Зелёный Бор',\n",
       "       'деревня Снегирёвка', 'деревня Рапполово', 'деревня Пустынка',\n",
       "       'поселок Рабитицы', 'деревня Большой Сабск', 'посёлок Усть-Ижора',\n",
       "       'деревня Лупполово', 'деревня Большое Рейзино',\n",
       "       'деревня Малая Романовка', 'поселок Дружноселье', 'село Паша',\n",
       "       'поселок Володарское', 'деревня Нижняя',\n",
       "       'коттеджный посёлок Лесное', 'деревня Тихковицы',\n",
       "       'деревня Борисова Грива', 'посёлок Дзержинского'], dtype=object)"
      ]
     },
     "execution_count": 33,
     "metadata": {},
     "output_type": "execute_result"
    }
   ],
   "source": [
    "data['locality_name'].unique()"
   ]
  },
  {
   "cell_type": "code",
   "execution_count": 34,
   "metadata": {},
   "outputs": [
    {
     "data": {
      "text/plain": [
       "343"
      ]
     },
     "execution_count": 34,
     "metadata": {},
     "output_type": "execute_result"
    }
   ],
   "source": [
    "data['locality_name'].nunique()"
   ]
  },
  {
   "cell_type": "code",
   "execution_count": 35,
   "metadata": {},
   "outputs": [],
   "source": [
    "def rename(a):\n",
    "    data['locality_name'] = data['locality_name'].where(~data['locality_name'].isin(a), a[0])\n",
    "    return data['locality_name']"
   ]
  },
  {
   "cell_type": "code",
   "execution_count": 36,
   "metadata": {},
   "outputs": [
    {
     "data": {
      "text/plain": [
       "0                  Санкт-Петербург\n",
       "1                   посёлок Шушары\n",
       "2                  Санкт-Петербург\n",
       "4                  Санкт-Петербург\n",
       "5        городской посёлок Янино-1\n",
       "                   ...            \n",
       "23692                       Тихвин\n",
       "23693                     Петергоф\n",
       "23694              Санкт-Петербург\n",
       "23695                        Тосно\n",
       "23698          поселок Новый Учхоз\n",
       "Name: locality_name, Length: 20764, dtype: object"
      ]
     },
     "execution_count": 36,
     "metadata": {},
     "output_type": "execute_result"
    }
   ],
   "source": [
    "rename(['посёлок Мурино', 'поселок Мурино', 'Мурино'])\n",
    "rename(['посёлок Бугры', 'поселок Бугры', 'Бугры'])\n",
    "rename(['посёлок Пансионат Зелёный Бор', 'поселок Пансионат Зелёный Бор', 'Пансионат Зелёный Бор'])\n",
    "rename(['посёлок Новый Свет', 'поселок Новый Свет', 'Новый Свет'])\n",
    "rename(['посёлок Гаврилово', 'поселок Гаврилово', 'Гаврилово'])\n",
    "rename(['посёлок Тельмана', 'поселок Тельмана', 'Тельмана'])\n",
    "rename(['посёлок Аннино', 'поселок Аннино', 'Аннино'])\n",
    "rename(['посёлок Никольское', 'село Никольское', 'Никольское'])\n",
    "rename(['поселок городского типа Советский', 'городской посёлок Советский'])\n",
    "rename(['городской посёлок Фёдоровское', 'деревня Фёдоровское'])\n",
    "rename(['посёлок Возрождение', 'поселок Возрождение', 'Возрождение'])\n",
    "rename(['поселок городского типа Рябово', 'поселок Рябово', 'посёлок городского типа Рябово'])\n",
    "rename(['посёлок Петровское', 'поселок Петровское'])\n",
    "rename(['посёлок Поляны', 'поселок Поляны', 'Поляны'])\n",
    "rename(['посёлок Ильичёво', 'поселок Ильичёво', 'Ильичёво'])\n",
    "rename(['посёлок Победа', 'поселок Победа', 'Победа'])\n",
    "rename(['деревня Кудрово', 'Кудрово'])"
   ]
  },
  {
   "cell_type": "code",
   "execution_count": 37,
   "metadata": {},
   "outputs": [
    {
     "data": {
      "text/plain": [
       "324"
      ]
     },
     "execution_count": 37,
     "metadata": {},
     "output_type": "execute_result"
    }
   ],
   "source": [
    "data['locality_name'].nunique()"
   ]
  },
  {
   "cell_type": "markdown",
   "metadata": {},
   "source": [
    "<div class=\"alert alert-warning\">\n",
    "<h2> Комментарий ревьюера V1<a class=\"tocSkip\"> </h2>\n",
    "\n",
    "<b>Некоторые замечания и рекомендации💡:</b> Не все неявные дубликаты обработаны. Подумай как еще можно избавиться от разных формулировок типов населенных пунктов."
   ]
  },
  {
   "cell_type": "markdown",
   "metadata": {},
   "source": [
    "### Посчитайте и добавьте в таблицу новые столбцы"
   ]
  },
  {
   "cell_type": "markdown",
   "metadata": {},
   "source": [
    "**Цена квадратного метра**"
   ]
  },
  {
   "cell_type": "code",
   "execution_count": 38,
   "metadata": {},
   "outputs": [],
   "source": [
    "data['price_sq_m'] = data['last_price'] // data['total_area']# Используем деление без остатка"
   ]
  },
  {
   "cell_type": "markdown",
   "metadata": {},
   "source": [
    "**День публикации объявления (0 - понедельник, 1 - вторник и т.д.)**"
   ]
  },
  {
   "cell_type": "code",
   "execution_count": 39,
   "metadata": {},
   "outputs": [],
   "source": [
    "data['day_exposition'] = data['first_day_exposition'].dt.weekday "
   ]
  },
  {
   "cell_type": "code",
   "execution_count": 40,
   "metadata": {},
   "outputs": [],
   "source": [
    "data['month_exposition'] = data['first_day_exposition'].dt.month"
   ]
  },
  {
   "cell_type": "code",
   "execution_count": 41,
   "metadata": {},
   "outputs": [],
   "source": [
    "data['year_exposition'] = data['first_day_exposition'].dt.year"
   ]
  },
  {
   "cell_type": "markdown",
   "metadata": {},
   "source": [
    "**Тип этажа квартиры**"
   ]
  },
  {
   "cell_type": "code",
   "execution_count": 42,
   "metadata": {},
   "outputs": [],
   "source": [
    "data.loc[data['floor'] == 1, 'type_floor'] = 'первый'\n",
    "data.loc[data['floor'] == data['floors_total'], 'type_floor'] = 'последний'\n",
    "#data.loc[data['floors_total'].isna(), 'type_floor'] = 'нет категории'\n",
    "data.loc[data['type_floor'].isna(), 'type_floor'] = 'другой'"
   ]
  },
  {
   "cell_type": "code",
   "execution_count": 43,
   "metadata": {},
   "outputs": [
    {
     "data": {
      "text/plain": [
       "другой       15290\n",
       "последний     2964\n",
       "первый        2510\n",
       "Name: type_floor, dtype: int64"
      ]
     },
     "execution_count": 43,
     "metadata": {},
     "output_type": "execute_result"
    }
   ],
   "source": [
    "data['type_floor'].value_counts()"
   ]
  },
  {
   "cell_type": "markdown",
   "metadata": {},
   "source": [
    "**Расстояние в км до центра города**"
   ]
  },
  {
   "cell_type": "code",
   "execution_count": 44,
   "metadata": {},
   "outputs": [],
   "source": [
    "data['city_centers_nearest_km'] = data['city_centers_nearest'] // 1000"
   ]
  },
  {
   "cell_type": "code",
   "execution_count": 45,
   "metadata": {
    "scrolled": true
   },
   "outputs": [
    {
     "data": {
      "text/html": [
       "<div>\n",
       "<style scoped>\n",
       "    .dataframe tbody tr th:only-of-type {\n",
       "        vertical-align: middle;\n",
       "    }\n",
       "\n",
       "    .dataframe tbody tr th {\n",
       "        vertical-align: top;\n",
       "    }\n",
       "\n",
       "    .dataframe thead th {\n",
       "        text-align: right;\n",
       "    }\n",
       "</style>\n",
       "<table border=\"1\" class=\"dataframe\">\n",
       "  <thead>\n",
       "    <tr style=\"text-align: right;\">\n",
       "      <th></th>\n",
       "      <th>total_images</th>\n",
       "      <th>last_price</th>\n",
       "      <th>total_area</th>\n",
       "      <th>first_day_exposition</th>\n",
       "      <th>rooms</th>\n",
       "      <th>ceiling_height</th>\n",
       "      <th>floors_total</th>\n",
       "      <th>living_area</th>\n",
       "      <th>floor</th>\n",
       "      <th>is_apartment</th>\n",
       "      <th>...</th>\n",
       "      <th>parks_nearest</th>\n",
       "      <th>ponds_around3000</th>\n",
       "      <th>ponds_nearest</th>\n",
       "      <th>days_exposition</th>\n",
       "      <th>price_sq_m</th>\n",
       "      <th>day_exposition</th>\n",
       "      <th>month_exposition</th>\n",
       "      <th>year_exposition</th>\n",
       "      <th>type_floor</th>\n",
       "      <th>city_centers_nearest_km</th>\n",
       "    </tr>\n",
       "  </thead>\n",
       "  <tbody>\n",
       "    <tr>\n",
       "      <th>0</th>\n",
       "      <td>20</td>\n",
       "      <td>13000000</td>\n",
       "      <td>108.0</td>\n",
       "      <td>2019-03-07</td>\n",
       "      <td>3</td>\n",
       "      <td>2.70</td>\n",
       "      <td>16.0</td>\n",
       "      <td>51.0</td>\n",
       "      <td>8</td>\n",
       "      <td>False</td>\n",
       "      <td>...</td>\n",
       "      <td>482.0</td>\n",
       "      <td>2</td>\n",
       "      <td>755.0</td>\n",
       "      <td>NaN</td>\n",
       "      <td>120370.0</td>\n",
       "      <td>3</td>\n",
       "      <td>3</td>\n",
       "      <td>2019</td>\n",
       "      <td>другой</td>\n",
       "      <td>16.0</td>\n",
       "    </tr>\n",
       "    <tr>\n",
       "      <th>1</th>\n",
       "      <td>7</td>\n",
       "      <td>3350000</td>\n",
       "      <td>40.4</td>\n",
       "      <td>2018-12-04</td>\n",
       "      <td>1</td>\n",
       "      <td>2.65</td>\n",
       "      <td>11.0</td>\n",
       "      <td>18.6</td>\n",
       "      <td>1</td>\n",
       "      <td>False</td>\n",
       "      <td>...</td>\n",
       "      <td>NaN</td>\n",
       "      <td>0</td>\n",
       "      <td>NaN</td>\n",
       "      <td>81.0</td>\n",
       "      <td>82920.0</td>\n",
       "      <td>1</td>\n",
       "      <td>12</td>\n",
       "      <td>2018</td>\n",
       "      <td>первый</td>\n",
       "      <td>18.0</td>\n",
       "    </tr>\n",
       "    <tr>\n",
       "      <th>2</th>\n",
       "      <td>10</td>\n",
       "      <td>5196000</td>\n",
       "      <td>56.0</td>\n",
       "      <td>2015-08-20</td>\n",
       "      <td>2</td>\n",
       "      <td>2.65</td>\n",
       "      <td>5.0</td>\n",
       "      <td>34.3</td>\n",
       "      <td>4</td>\n",
       "      <td>False</td>\n",
       "      <td>...</td>\n",
       "      <td>90.0</td>\n",
       "      <td>2</td>\n",
       "      <td>574.0</td>\n",
       "      <td>558.0</td>\n",
       "      <td>92785.0</td>\n",
       "      <td>3</td>\n",
       "      <td>8</td>\n",
       "      <td>2015</td>\n",
       "      <td>другой</td>\n",
       "      <td>13.0</td>\n",
       "    </tr>\n",
       "    <tr>\n",
       "      <th>4</th>\n",
       "      <td>2</td>\n",
       "      <td>10000000</td>\n",
       "      <td>100.0</td>\n",
       "      <td>2018-06-19</td>\n",
       "      <td>2</td>\n",
       "      <td>3.03</td>\n",
       "      <td>14.0</td>\n",
       "      <td>32.0</td>\n",
       "      <td>13</td>\n",
       "      <td>False</td>\n",
       "      <td>...</td>\n",
       "      <td>112.0</td>\n",
       "      <td>1</td>\n",
       "      <td>48.0</td>\n",
       "      <td>121.0</td>\n",
       "      <td>100000.0</td>\n",
       "      <td>1</td>\n",
       "      <td>6</td>\n",
       "      <td>2018</td>\n",
       "      <td>другой</td>\n",
       "      <td>8.0</td>\n",
       "    </tr>\n",
       "    <tr>\n",
       "      <th>5</th>\n",
       "      <td>10</td>\n",
       "      <td>2890000</td>\n",
       "      <td>30.4</td>\n",
       "      <td>2018-09-10</td>\n",
       "      <td>1</td>\n",
       "      <td>2.65</td>\n",
       "      <td>12.0</td>\n",
       "      <td>14.4</td>\n",
       "      <td>5</td>\n",
       "      <td>False</td>\n",
       "      <td>...</td>\n",
       "      <td>NaN</td>\n",
       "      <td>0</td>\n",
       "      <td>NaN</td>\n",
       "      <td>55.0</td>\n",
       "      <td>95065.0</td>\n",
       "      <td>0</td>\n",
       "      <td>9</td>\n",
       "      <td>2018</td>\n",
       "      <td>другой</td>\n",
       "      <td>NaN</td>\n",
       "    </tr>\n",
       "  </tbody>\n",
       "</table>\n",
       "<p>5 rows × 28 columns</p>\n",
       "</div>"
      ],
      "text/plain": [
       "   total_images  last_price  total_area first_day_exposition  rooms  \\\n",
       "0            20    13000000       108.0           2019-03-07      3   \n",
       "1             7     3350000        40.4           2018-12-04      1   \n",
       "2            10     5196000        56.0           2015-08-20      2   \n",
       "4             2    10000000       100.0           2018-06-19      2   \n",
       "5            10     2890000        30.4           2018-09-10      1   \n",
       "\n",
       "   ceiling_height  floors_total  living_area  floor  is_apartment  ...  \\\n",
       "0            2.70          16.0         51.0      8         False  ...   \n",
       "1            2.65          11.0         18.6      1         False  ...   \n",
       "2            2.65           5.0         34.3      4         False  ...   \n",
       "4            3.03          14.0         32.0     13         False  ...   \n",
       "5            2.65          12.0         14.4      5         False  ...   \n",
       "\n",
       "   parks_nearest  ponds_around3000  ponds_nearest  days_exposition price_sq_m  \\\n",
       "0          482.0                 2          755.0              NaN   120370.0   \n",
       "1            NaN                 0            NaN             81.0    82920.0   \n",
       "2           90.0                 2          574.0            558.0    92785.0   \n",
       "4          112.0                 1           48.0            121.0   100000.0   \n",
       "5            NaN                 0            NaN             55.0    95065.0   \n",
       "\n",
       "   day_exposition  month_exposition  year_exposition  type_floor  \\\n",
       "0               3                 3             2019      другой   \n",
       "1               1                12             2018      первый   \n",
       "2               3                 8             2015      другой   \n",
       "4               1                 6             2018      другой   \n",
       "5               0                 9             2018      другой   \n",
       "\n",
       "   city_centers_nearest_km  \n",
       "0                     16.0  \n",
       "1                     18.0  \n",
       "2                     13.0  \n",
       "4                      8.0  \n",
       "5                      NaN  \n",
       "\n",
       "[5 rows x 28 columns]"
      ]
     },
     "execution_count": 45,
     "metadata": {},
     "output_type": "execute_result"
    }
   ],
   "source": [
    "data.head()"
   ]
  },
  {
   "cell_type": "markdown",
   "metadata": {},
   "source": [
    "Итак, мы добавили:\n",
    "\n",
    "- столбец с ценой одного квадратного метра\n",
    "- столбцы с днём недели, месяцем и годом публикации объявления\n",
    "- столбец, с типом этажа квартиры: первый, последний, другой\n",
    "- столбец с расстоянием до центра города в километрах"
   ]
  },
  {
   "cell_type": "markdown",
   "metadata": {},
   "source": [
    "<div class=\"alert alert-success\">\n",
    "<h2> Комментарий ревьюера V1<a class=\"tocSkip\"> </h2>\n",
    "\n",
    "<b>Все отлично!👍:</b> Все новые столбцы добавила верно, использовала только подходящие типы данных."
   ]
  },
  {
   "cell_type": "markdown",
   "metadata": {},
   "source": [
    "### Исследовательский анализ данных"
   ]
  },
  {
   "cell_type": "markdown",
   "metadata": {},
   "source": [
    "Проведём исследовательский анализ параметров объектов\n",
    "1. Общая площадь `total_area`"
   ]
  },
  {
   "cell_type": "code",
   "execution_count": 46,
   "metadata": {},
   "outputs": [
    {
     "data": {
      "image/png": "[encoded data removed]",
      "text/plain": [
       "<Figure size 432x288 with 1 Axes>"
      ]
     },
     "metadata": {
      "needs_background": "light"
     },
     "output_type": "display_data"
    }
   ],
   "source": [
    "data['total_area'].hist()\n",
    "plt.show()"
   ]
  },
  {
   "cell_type": "code",
   "execution_count": 47,
   "metadata": {},
   "outputs": [
    {
     "data": {
      "image/png": "[encoded data removed]",
      "text/plain": [
       "<Figure size 432x288 with 1 Axes>"
      ]
     },
     "metadata": {
      "needs_background": "light"
     },
     "output_type": "display_data"
    }
   ],
   "source": [
    "data.boxplot(column='total_area');\n",
    "\n"
   ]
  },
  {
   "cell_type": "code",
   "execution_count": 48,
   "metadata": {},
   "outputs": [
    {
     "data": {
      "text/plain": [
       "count    20764.000000\n",
       "mean        59.892275\n",
       "std         30.104087\n",
       "min         20.000000\n",
       "25%         40.595000\n",
       "50%         52.280000\n",
       "75%         70.000000\n",
       "max        297.500000\n",
       "Name: total_area, dtype: float64"
      ]
     },
     "execution_count": 48,
     "metadata": {},
     "output_type": "execute_result"
    }
   ],
   "source": [
    "data['total_area'].describe()"
   ]
  },
  {
   "cell_type": "markdown",
   "metadata": {},
   "source": [
    "Вывод: практически все объявления лежат в диапазоне от 20 до 100 м². Медианное значение - 52,3 м². Имеется большое количество выбросов. Стандартное отклонение std равно 30,1 и является достаточно большим по отношению к среднему значению mean - 59.9, значения не однородны. "
   ]
  },
  {
   "cell_type": "markdown",
   "metadata": {},
   "source": [
    "2. Жилая площадь `living_area`"
   ]
  },
  {
   "cell_type": "code",
   "execution_count": 49,
   "metadata": {},
   "outputs": [
    {
     "data": {
      "image/png": "[encoded data removed]",
      "text/plain": [
       "<Figure size 432x288 with 1 Axes>"
      ]
     },
     "metadata": {
      "needs_background": "light"
     },
     "output_type": "display_data"
    }
   ],
   "source": [
    "data['living_area'].hist();"
   ]
  },
  {
   "cell_type": "code",
   "execution_count": 50,
   "metadata": {},
   "outputs": [
    {
     "data": {
      "image/png": "[encoded data removed]",
      "text/plain": [
       "<Figure size 432x288 with 1 Axes>"
      ]
     },
     "metadata": {
      "needs_background": "light"
     },
     "output_type": "display_data"
    }
   ],
   "source": [
    "data.boxplot(column='living_area')\n",
    "plt.show()"
   ]
  },
  {
   "cell_type": "code",
   "execution_count": 51,
   "metadata": {},
   "outputs": [
    {
     "data": {
      "text/plain": [
       "count    20764.000000\n",
       "mean        34.279519\n",
       "std         19.769846\n",
       "min          6.000000\n",
       "25%         18.800000\n",
       "50%         30.100000\n",
       "75%         42.500000\n",
       "max        250.000000\n",
       "Name: living_area, dtype: float64"
      ]
     },
     "execution_count": 51,
     "metadata": {},
     "output_type": "execute_result"
    }
   ],
   "source": [
    "data['living_area'].describe()"
   ]
  },
  {
   "cell_type": "markdown",
   "metadata": {},
   "source": [
    "Вывод: основная часть объявлений - это квартиры с жилой площадью от 6 до 50 м². Медианное значение - 30,1 м². Стандартное отклонение std равно 19,8 и является достаточно большим по отношению к среднему значению mean - 34.3, значения не однородны, имеется большое количесиво выбросов. "
   ]
  },
  {
   "cell_type": "markdown",
   "metadata": {},
   "source": [
    "3. Площадь кухни `kitchen_area`"
   ]
  },
  {
   "cell_type": "code",
   "execution_count": 52,
   "metadata": {},
   "outputs": [
    {
     "data": {
      "image/png": "[encoded data removed]",
      "text/plain": [
       "<Figure size 432x288 with 1 Axes>"
      ]
     },
     "metadata": {
      "needs_background": "light"
     },
     "output_type": "display_data"
    }
   ],
   "source": [
    "data['kitchen_area'].hist();"
   ]
  },
  {
   "cell_type": "code",
   "execution_count": 53,
   "metadata": {},
   "outputs": [
    {
     "data": {
      "image/png": "[encoded data removed]",
      "text/plain": [
       "<Figure size 432x288 with 1 Axes>"
      ]
     },
     "metadata": {
      "needs_background": "light"
     },
     "output_type": "display_data"
    }
   ],
   "source": [
    "data.boxplot(column='kitchen_area')\n",
    "plt.show()"
   ]
  },
  {
   "cell_type": "code",
   "execution_count": 54,
   "metadata": {},
   "outputs": [
    {
     "data": {
      "text/plain": [
       "count    20764.000000\n",
       "mean        10.485578\n",
       "std          5.616638\n",
       "min          5.000000\n",
       "25%          7.000000\n",
       "50%          9.055000\n",
       "75%         12.000000\n",
       "max        107.000000\n",
       "Name: kitchen_area, dtype: float64"
      ]
     },
     "execution_count": 54,
     "metadata": {},
     "output_type": "execute_result"
    }
   ],
   "source": [
    "data['kitchen_area'].describe()"
   ]
  },
  {
   "cell_type": "markdown",
   "metadata": {},
   "source": [
    "Вывод: основная часть объявлений - это квартиры с жилой площадью от 5 до 30 м². Медианное значение - 9,1 м². Стандартное отклонение std равно 5,6 и является достаточно большим по отношению к среднему значению mean - 10.5, значения не однородны, имеется большое количесиво выбросов. "
   ]
  },
  {
   "cell_type": "markdown",
   "metadata": {},
   "source": [
    "4. Цена объекта `last_price`"
   ]
  },
  {
   "cell_type": "code",
   "execution_count": 55,
   "metadata": {},
   "outputs": [
    {
     "data": {
      "image/png": "[encoded data removed]",
      "text/plain": [
       "<Figure size 432x288 with 1 Axes>"
      ]
     },
     "metadata": {
      "needs_background": "light"
     },
     "output_type": "display_data"
    }
   ],
   "source": [
    "data['last_price'].hist();"
   ]
  },
  {
   "cell_type": "code",
   "execution_count": 56,
   "metadata": {},
   "outputs": [
    {
     "data": {
      "image/png": "[encoded data removed]",
      "text/plain": [
       "<Figure size 432x288 with 1 Axes>"
      ]
     },
     "metadata": {
      "needs_background": "light"
     },
     "output_type": "display_data"
    }
   ],
   "source": [
    "data.boxplot(column='last_price')\n",
    "plt.show()"
   ]
  },
  {
   "cell_type": "code",
   "execution_count": 57,
   "metadata": {},
   "outputs": [
    {
     "data": {
      "text/plain": [
       "count    2.076400e+04\n",
       "mean     6.343093e+06\n",
       "std      7.779872e+06\n",
       "min      1.219000e+04\n",
       "25%      3.500000e+06\n",
       "50%      4.700000e+06\n",
       "75%      6.800000e+06\n",
       "max      3.300000e+08\n",
       "Name: last_price, dtype: float64"
      ]
     },
     "execution_count": 57,
     "metadata": {},
     "output_type": "execute_result"
    }
   ],
   "source": [
    "data['last_price'].describe()"
   ]
  },
  {
   "cell_type": "markdown",
   "metadata": {},
   "source": [
    "Вывод: цены на квартиры очень неоднородны, имеется большое количесиво выбросов. Медианное значение - 4,7 млн. 75% квартир имеют стоимось до 6,8 млн."
   ]
  },
  {
   "cell_type": "markdown",
   "metadata": {},
   "source": [
    "5. Количество комнат `rooms`"
   ]
  },
  {
   "cell_type": "code",
   "execution_count": 58,
   "metadata": {},
   "outputs": [
    {
     "data": {
      "image/png": "[encoded data removed]",
      "text/plain": [
       "<Figure size 432x288 with 1 Axes>"
      ]
     },
     "metadata": {
      "needs_background": "light"
     },
     "output_type": "display_data"
    }
   ],
   "source": [
    "data['rooms'].hist();"
   ]
  },
  {
   "cell_type": "code",
   "execution_count": 59,
   "metadata": {},
   "outputs": [
    {
     "data": {
      "image/png": "[encoded data removed]",
      "text/plain": [
       "<Figure size 432x288 with 1 Axes>"
      ]
     },
     "metadata": {
      "needs_background": "light"
     },
     "output_type": "display_data"
    }
   ],
   "source": [
    "data.boxplot(column='rooms')\n",
    "plt.show()"
   ]
  },
  {
   "cell_type": "code",
   "execution_count": 60,
   "metadata": {},
   "outputs": [
    {
     "data": {
      "text/plain": [
       "2     7055\n",
       "1     7006\n",
       "3     5239\n",
       "4     1057\n",
       "5      266\n",
       "6       85\n",
       "7       40\n",
       "8        6\n",
       "9        3\n",
       "10       3\n",
       "11       2\n",
       "16       1\n",
       "14       1\n",
       "Name: rooms, dtype: int64"
      ]
     },
     "execution_count": 60,
     "metadata": {},
     "output_type": "execute_result"
    }
   ],
   "source": [
    "data['rooms'].value_counts()"
   ]
  },
  {
   "cell_type": "markdown",
   "metadata": {},
   "source": [
    "Вывод: основная часть объявлений - это Медианное значение - 2. "
   ]
  },
  {
   "cell_type": "markdown",
   "metadata": {},
   "source": [
    "6. Высота потолков `ceiling_height`"
   ]
  },
  {
   "cell_type": "code",
   "execution_count": 61,
   "metadata": {},
   "outputs": [
    {
     "data": {
      "image/png": "[encoded data removed]",
      "text/plain": [
       "<Figure size 432x288 with 1 Axes>"
      ]
     },
     "metadata": {
      "needs_background": "light"
     },
     "output_type": "display_data"
    }
   ],
   "source": [
    "data['ceiling_height'].hist();"
   ]
  },
  {
   "cell_type": "code",
   "execution_count": 62,
   "metadata": {},
   "outputs": [
    {
     "data": {
      "image/png": "[encoded data removed]",
      "text/plain": [
       "<Figure size 432x288 with 1 Axes>"
      ]
     },
     "metadata": {
      "needs_background": "light"
     },
     "output_type": "display_data"
    }
   ],
   "source": [
    "data.boxplot(column='ceiling_height')\n",
    "plt.show()"
   ]
  },
  {
   "cell_type": "code",
   "execution_count": 63,
   "metadata": {},
   "outputs": [
    {
     "data": {
      "text/plain": [
       "count    20764.000000\n",
       "mean         2.696930\n",
       "std          0.219489\n",
       "min          2.400000\n",
       "25%          2.600000\n",
       "50%          2.650000\n",
       "75%          2.700000\n",
       "max          6.000000\n",
       "Name: ceiling_height, dtype: float64"
      ]
     },
     "execution_count": 63,
     "metadata": {},
     "output_type": "execute_result"
    }
   ],
   "source": [
    "data['ceiling_height'].describe()"
   ]
  },
  {
   "cell_type": "markdown",
   "metadata": {},
   "source": [
    "Вывод: основная часть объявлений - это квартиры с высотой потолков от 2,4 до 3 м. Медианное значение - 2,65 м. Стандартное отклонение std равно 0,2 и является низким по отношению к среднему значению mean - 2,69, значения достаточно однородны. "
   ]
  },
  {
   "cell_type": "markdown",
   "metadata": {},
   "source": [
    "7. Этаж квартиры `floor`"
   ]
  },
  {
   "cell_type": "code",
   "execution_count": 64,
   "metadata": {},
   "outputs": [
    {
     "data": {
      "image/png": "[encoded data removed]",
      "text/plain": [
       "<Figure size 432x288 with 1 Axes>"
      ]
     },
     "metadata": {
      "needs_background": "light"
     },
     "output_type": "display_data"
    }
   ],
   "source": [
    "data['floor'].hist();"
   ]
  },
  {
   "cell_type": "code",
   "execution_count": 65,
   "metadata": {},
   "outputs": [
    {
     "data": {
      "image/png": "[encoded data removed]",
      "text/plain": [
       "<Figure size 432x288 with 1 Axes>"
      ]
     },
     "metadata": {
      "needs_background": "light"
     },
     "output_type": "display_data"
    }
   ],
   "source": [
    "data.boxplot(column='floor')\n",
    "plt.show()"
   ]
  },
  {
   "cell_type": "code",
   "execution_count": 66,
   "metadata": {},
   "outputs": [
    {
     "data": {
      "text/plain": [
       "count    20764.000000\n",
       "mean         5.844057\n",
       "std          4.817555\n",
       "min          1.000000\n",
       "25%          2.000000\n",
       "50%          4.000000\n",
       "75%          8.000000\n",
       "max         33.000000\n",
       "Name: floor, dtype: float64"
      ]
     },
     "execution_count": 66,
     "metadata": {},
     "output_type": "execute_result"
    }
   ],
   "source": [
    "data['floor'].describe()"
   ]
  },
  {
   "cell_type": "markdown",
   "metadata": {},
   "source": [
    "Вывод: 75% квартир расположены до 9 этажа. Медианное значение - 4 этаж."
   ]
  },
  {
   "cell_type": "markdown",
   "metadata": {},
   "source": [
    "8. тип этажа квартиры `type_floor`"
   ]
  },
  {
   "cell_type": "code",
   "execution_count": 67,
   "metadata": {},
   "outputs": [
    {
     "data": {
      "image/png": "[encoded data removed]",
      "text/plain": [
       "<Figure size 432x288 with 1 Axes>"
      ]
     },
     "metadata": {},
     "output_type": "display_data"
    }
   ],
   "source": [
    "data['type_floor'].value_counts().plot(kind='pie');"
   ]
  },
  {
   "cell_type": "code",
   "execution_count": 68,
   "metadata": {},
   "outputs": [
    {
     "data": {
      "image/png": "[encoded data removed]",
      "text/plain": [
       "<Figure size 432x288 with 1 Axes>"
      ]
     },
     "metadata": {
      "needs_background": "light"
     },
     "output_type": "display_data"
    }
   ],
   "source": [
    "data['type_floor'].hist();"
   ]
  },
  {
   "cell_type": "code",
   "execution_count": 69,
   "metadata": {},
   "outputs": [
    {
     "data": {
      "text/plain": [
       "count      20764\n",
       "unique         3\n",
       "top       другой\n",
       "freq       15290\n",
       "Name: type_floor, dtype: object"
      ]
     },
     "execution_count": 69,
     "metadata": {},
     "output_type": "execute_result"
    }
   ],
   "source": [
    "data['type_floor'].describe()"
   ]
  },
  {
   "cell_type": "markdown",
   "metadata": {},
   "source": [
    "Вывод: основная часть объявлений - это квартиры с типом тажа 'другой'."
   ]
  },
  {
   "cell_type": "markdown",
   "metadata": {},
   "source": [
    "8. Общее количество этажей в доме `floors_total`"
   ]
  },
  {
   "cell_type": "code",
   "execution_count": 70,
   "metadata": {},
   "outputs": [
    {
     "data": {
      "image/png": "[encoded data removed]",
      "text/plain": [
       "<Figure size 432x288 with 1 Axes>"
      ]
     },
     "metadata": {
      "needs_background": "light"
     },
     "output_type": "display_data"
    }
   ],
   "source": [
    "data['floors_total'].value_counts().plot(kind='bar');"
   ]
  },
  {
   "cell_type": "code",
   "execution_count": 71,
   "metadata": {},
   "outputs": [
    {
     "data": {
      "image/png": "[encoded data removed]",
      "text/plain": [
       "<Figure size 432x288 with 1 Axes>"
      ]
     },
     "metadata": {
      "needs_background": "light"
     },
     "output_type": "display_data"
    }
   ],
   "source": [
    "data.boxplot(column='floors_total')\n",
    "plt.show()"
   ]
  },
  {
   "cell_type": "code",
   "execution_count": 72,
   "metadata": {},
   "outputs": [
    {
     "data": {
      "text/plain": [
       "count    20764.000000\n",
       "mean        10.578549\n",
       "std          6.501334\n",
       "min          1.000000\n",
       "25%          5.000000\n",
       "50%          9.000000\n",
       "75%         15.000000\n",
       "max         36.000000\n",
       "Name: floors_total, dtype: float64"
      ]
     },
     "execution_count": 72,
     "metadata": {},
     "output_type": "execute_result"
    }
   ],
   "source": [
    "data['floors_total'].describe()"
   ]
  },
  {
   "cell_type": "markdown",
   "metadata": {},
   "source": [
    "Вывод: 75% квартир расположены в домах имеющих не более 15 этажей. Медианная квартира расположена в 9-ти этажном доме. "
   ]
  },
  {
   "cell_type": "markdown",
   "metadata": {},
   "source": [
    "9. Расстояние до центра города в метрах `city_centers_nearest`"
   ]
  },
  {
   "cell_type": "code",
   "execution_count": 73,
   "metadata": {},
   "outputs": [
    {
     "data": {
      "image/png": "[encoded data removed]",
      "text/plain": [
       "<Figure size 432x288 with 1 Axes>"
      ]
     },
     "metadata": {
      "needs_background": "light"
     },
     "output_type": "display_data"
    }
   ],
   "source": [
    "data['city_centers_nearest'].hist();"
   ]
  },
  {
   "cell_type": "code",
   "execution_count": 74,
   "metadata": {},
   "outputs": [
    {
     "data": {
      "image/png": "[encoded data removed]",
      "text/plain": [
       "<Figure size 432x288 with 1 Axes>"
      ]
     },
     "metadata": {
      "needs_background": "light"
     },
     "output_type": "display_data"
    }
   ],
   "source": [
    "data.boxplot(column='city_centers_nearest')\n",
    "plt.show()"
   ]
  },
  {
   "cell_type": "code",
   "execution_count": 75,
   "metadata": {},
   "outputs": [
    {
     "data": {
      "text/plain": [
       "count    16161.000000\n",
       "mean     14233.277582\n",
       "std       8633.380221\n",
       "min        181.000000\n",
       "25%       9359.000000\n",
       "50%      13114.000000\n",
       "75%      16254.000000\n",
       "max      65968.000000\n",
       "Name: city_centers_nearest, dtype: float64"
      ]
     },
     "execution_count": 75,
     "metadata": {},
     "output_type": "execute_result"
    }
   ],
   "source": [
    "data['city_centers_nearest'].describe()"
   ]
  },
  {
   "cell_type": "markdown",
   "metadata": {},
   "source": [
    "Вывод: проанализировали 16161 объявления, имеющие в своих характеристиках расстояние до центра города в метрах. Минимальное значение - 181 м, максимальное - 65968 м, среднее - 14233 м. 75% квартир расположены на расстоянии 16256 м."
   ]
  },
  {
   "cell_type": "markdown",
   "metadata": {},
   "source": [
    "10. Расстояние до ближайшего аэропорта `airports_nearest`"
   ]
  },
  {
   "cell_type": "code",
   "execution_count": 76,
   "metadata": {},
   "outputs": [
    {
     "data": {
      "image/png": "[encoded data removed]",
      "text/plain": [
       "<Figure size 432x288 with 1 Axes>"
      ]
     },
     "metadata": {
      "needs_background": "light"
     },
     "output_type": "display_data"
    }
   ],
   "source": [
    "data['airports_nearest'].hist();"
   ]
  },
  {
   "cell_type": "code",
   "execution_count": 77,
   "metadata": {},
   "outputs": [
    {
     "data": {
      "image/png": "[encoded data removed]",
      "text/plain": [
       "<Figure size 432x288 with 1 Axes>"
      ]
     },
     "metadata": {
      "needs_background": "light"
     },
     "output_type": "display_data"
    }
   ],
   "source": [
    "data.boxplot(column='airports_nearest')\n",
    "plt.show()"
   ]
  },
  {
   "cell_type": "code",
   "execution_count": 78,
   "metadata": {},
   "outputs": [
    {
     "data": {
      "text/plain": [
       "count    16142.000000\n",
       "mean     28791.196692\n",
       "std      12630.895969\n",
       "min       6450.000000\n",
       "25%      18539.000000\n",
       "50%      26729.000000\n",
       "75%      37227.000000\n",
       "max      84869.000000\n",
       "Name: airports_nearest, dtype: float64"
      ]
     },
     "execution_count": 78,
     "metadata": {},
     "output_type": "execute_result"
    }
   ],
   "source": [
    "data['airports_nearest'].describe()"
   ]
  },
  {
   "cell_type": "markdown",
   "metadata": {},
   "source": [
    "Вывод: проанализировали 16181 объявление, имеющее в своих характеристиках расстояние до ближайшего аэропорта. Минимальное значение - 6450 м, максимальное - 84869 м, среднее - 28791 м. 75% квартир расположены на расстоянии до 37227 м от аэропорта."
   ]
  },
  {
   "cell_type": "markdown",
   "metadata": {},
   "source": [
    "11. Расстояние до ближайшего парка `parks_nearest`"
   ]
  },
  {
   "cell_type": "code",
   "execution_count": 79,
   "metadata": {},
   "outputs": [
    {
     "data": {
      "image/png": "[encoded data removed]",
      "text/plain": [
       "<Figure size 432x288 with 1 Axes>"
      ]
     },
     "metadata": {
      "needs_background": "light"
     },
     "output_type": "display_data"
    }
   ],
   "source": [
    "data['parks_nearest'].hist();"
   ]
  },
  {
   "cell_type": "code",
   "execution_count": 80,
   "metadata": {},
   "outputs": [
    {
     "data": {
      "image/png": "[encoded data removed]",
      "text/plain": [
       "<Figure size 432x288 with 1 Axes>"
      ]
     },
     "metadata": {
      "needs_background": "light"
     },
     "output_type": "display_data"
    }
   ],
   "source": [
    "data.boxplot(column='parks_nearest')\n",
    "plt.show()"
   ]
  },
  {
   "cell_type": "code",
   "execution_count": 81,
   "metadata": {},
   "outputs": [
    {
     "data": {
      "text/plain": [
       "count    7196.000000\n",
       "mean      487.920928\n",
       "std       337.930943\n",
       "min         1.000000\n",
       "25%       287.000000\n",
       "50%       453.000000\n",
       "75%       611.000000\n",
       "max      3190.000000\n",
       "Name: parks_nearest, dtype: float64"
      ]
     },
     "execution_count": 81,
     "metadata": {},
     "output_type": "execute_result"
    }
   ],
   "source": [
    "data['parks_nearest'].describe()"
   ]
  },
  {
   "cell_type": "markdown",
   "metadata": {},
   "source": [
    "Вывод: проанализировали 7196 объявление, имеющее в своих характеристиках расстояние до ближайшего парка. Минимальное значение - 1 м, максимальное - 3190 м, среднее - 487 м. 75% квартир расположены на расстоянии до 611 м."
   ]
  },
  {
   "cell_type": "markdown",
   "metadata": {},
   "source": [
    "12. День и месяц публикации объявления."
   ]
  },
  {
   "cell_type": "code",
   "execution_count": 82,
   "metadata": {},
   "outputs": [
    {
     "data": {
      "image/png": "[encoded data removed]",
      "text/plain": [
       "<Figure size 432x288 with 1 Axes>"
      ]
     },
     "metadata": {
      "needs_background": "light"
     },
     "output_type": "display_data"
    }
   ],
   "source": [
    "data['day_exposition'].hist();"
   ]
  },
  {
   "cell_type": "code",
   "execution_count": 83,
   "metadata": {},
   "outputs": [
    {
     "data": {
      "image/png": "[encoded data removed]",
      "text/plain": [
       "<Figure size 432x288 with 1 Axes>"
      ]
     },
     "metadata": {},
     "output_type": "display_data"
    }
   ],
   "source": [
    "data['day_exposition'].value_counts().plot(kind='pie');"
   ]
  },
  {
   "cell_type": "code",
   "execution_count": 84,
   "metadata": {},
   "outputs": [
    {
     "data": {
      "image/png": "[encoded data removed]",
      "text/plain": [
       "<Figure size 432x288 with 1 Axes>"
      ]
     },
     "metadata": {
      "needs_background": "light"
     },
     "output_type": "display_data"
    }
   ],
   "source": [
    "data['month_exposition'].hist(bins=12);"
   ]
  },
  {
   "cell_type": "code",
   "execution_count": 85,
   "metadata": {},
   "outputs": [
    {
     "data": {
      "image/png": "[encoded data removed]",
      "text/plain": [
       "<Figure size 432x288 with 1 Axes>"
      ]
     },
     "metadata": {},
     "output_type": "display_data"
    }
   ],
   "source": [
    "data['month_exposition'].value_counts().plot(kind='pie');"
   ]
  },
  {
   "cell_type": "markdown",
   "metadata": {},
   "source": [
    "Реже объявления публикуются в субботу и воскресенье, январь, май и декабрь."
   ]
  },
  {
   "cell_type": "markdown",
   "metadata": {},
   "source": [
    "<div class=\"alert alert-success\">\n",
    "<h2> Комментарий ревьюера V1<a class=\"tocSkip\"> </h2>\n",
    "\n",
    "<b>Все отлично!👍:</b> Согласен с твоими выводами, абсолютно верно провела исследовательский анализ данных. Молодец, что вывела диаграммы и статистики случайных величин."
   ]
  },
  {
   "cell_type": "markdown",
   "metadata": {},
   "source": [
    "**Изучим, как быстро продавались квартиры (столбец days_exposition). Этот параметр показывает, сколько дней «висело» каждое объявление.**"
   ]
  },
  {
   "cell_type": "code",
   "execution_count": 86,
   "metadata": {},
   "outputs": [
    {
     "data": {
      "image/png": "[encoded data removed]",
      "text/plain": [
       "<Figure size 432x288 with 1 Axes>"
      ]
     },
     "metadata": {
      "needs_background": "light"
     },
     "output_type": "display_data"
    }
   ],
   "source": [
    "data['days_exposition'].hist();"
   ]
  },
  {
   "cell_type": "code",
   "execution_count": 87,
   "metadata": {},
   "outputs": [
    {
     "data": {
      "image/png": "[encoded data removed]",
      "text/plain": [
       "<Figure size 432x288 with 1 Axes>"
      ]
     },
     "metadata": {
      "needs_background": "light"
     },
     "output_type": "display_data"
    }
   ],
   "source": [
    "data.boxplot(column='days_exposition');"
   ]
  },
  {
   "cell_type": "code",
   "execution_count": 88,
   "metadata": {},
   "outputs": [
    {
     "data": {
      "text/plain": [
       "count    17903.000000\n",
       "mean       185.641233\n",
       "std        222.000808\n",
       "min          1.000000\n",
       "25%         45.000000\n",
       "50%        102.000000\n",
       "75%        239.000000\n",
       "max       1580.000000\n",
       "Name: days_exposition, dtype: float64"
      ]
     },
     "execution_count": 88,
     "metadata": {},
     "output_type": "execute_result"
    }
   ],
   "source": [
    "data['days_exposition'].describe()"
   ]
  },
  {
   "cell_type": "markdown",
   "metadata": {},
   "source": [
    "Вывод: среднее время - 185 дней, медианное - 102 дня.\n",
    "Продажи до 45 дней можно считать быстрыми, а более 500 — необычно долгими\n"
   ]
  },
  {
   "cell_type": "markdown",
   "metadata": {},
   "source": [
    "<div class=\"alert alert-success\">\n",
    "<h2> Комментарий ревьюера V1<a class=\"tocSkip\"> </h2>\n",
    "\n",
    "<b>Все отлично!👍:</b> Действительно, средний срок продажи квартир полгода, а 50% квартир продается в срок до 3 месяцев."
   ]
  },
  {
   "cell_type": "markdown",
   "metadata": {},
   "source": [
    "**Покажем какие факторы больше всего влияют на общую (полную) стоимость объекта** "
   ]
  },
  {
   "cell_type": "markdown",
   "metadata": {},
   "source": [
    "Разделим квартиры на категории в зависимости от стоимости "
   ]
  },
  {
   "cell_type": "code",
   "execution_count": 89,
   "metadata": {
    "scrolled": true
   },
   "outputs": [],
   "source": [
    "def category_price(row):\n",
    "    if row < 2000000:\n",
    "        return 'до 2 млн'\n",
    "    elif 2000001 < row < 3000000:\n",
    "        return 'от 2 до 3 млн'\n",
    "    elif 3000001 < row < 4000000:\n",
    "        return 'от 3 до 4 млн'\n",
    "    elif 4000001 < row < 5000000:\n",
    "        return 'от 4 до 5 млн'\n",
    "    elif 5000001 < row < 6000000:\n",
    "        return 'от 5 до 6 млн'\n",
    "    elif 6000001 < row < 7000000:\n",
    "        return 'от 6 до 7 млн'\n",
    "    else:\n",
    "        return 'свыше 7 млн'"
   ]
  },
  {
   "cell_type": "code",
   "execution_count": 90,
   "metadata": {},
   "outputs": [],
   "source": [
    "data['category_price'] = data['last_price'].apply(category_price)"
   ]
  },
  {
   "cell_type": "code",
   "execution_count": 91,
   "metadata": {},
   "outputs": [
    {
     "data": {
      "text/plain": [
       "свыше 7 млн      5636\n",
       "от 3 до 4 млн    4125\n",
       "от 4 до 5 млн    3761\n",
       "от 5 до 6 млн    2537\n",
       "от 2 до 3 млн    2034\n",
       "от 6 до 7 млн    1597\n",
       "до 2 млн         1074\n",
       "Name: category_price, dtype: int64"
      ]
     },
     "execution_count": 91,
     "metadata": {},
     "output_type": "execute_result"
    }
   ],
   "source": [
    "data['category_price'].value_counts()"
   ]
  },
  {
   "cell_type": "code",
   "execution_count": 92,
   "metadata": {},
   "outputs": [
    {
     "data": {
      "image/png": "[encoded data removed]",
      "text/plain": [
       "<Figure size 432x288 with 1 Axes>"
      ]
     },
     "metadata": {
      "needs_background": "light"
     },
     "output_type": "display_data"
    }
   ],
   "source": [
    "(data.pivot_table(index='category_price', values='total_area', aggfunc='median')\n",
    "     .plot(kind='barh')\n",
    ");"
   ]
  },
  {
   "cell_type": "code",
   "execution_count": 93,
   "metadata": {},
   "outputs": [
    {
     "data": {
      "text/html": [
       "<div>\n",
       "<style scoped>\n",
       "    .dataframe tbody tr th:only-of-type {\n",
       "        vertical-align: middle;\n",
       "    }\n",
       "\n",
       "    .dataframe tbody tr th {\n",
       "        vertical-align: top;\n",
       "    }\n",
       "\n",
       "    .dataframe thead th {\n",
       "        text-align: right;\n",
       "    }\n",
       "</style>\n",
       "<table border=\"1\" class=\"dataframe\">\n",
       "  <thead>\n",
       "    <tr style=\"text-align: right;\">\n",
       "      <th></th>\n",
       "      <th>total_images</th>\n",
       "      <th>last_price</th>\n",
       "      <th>total_area</th>\n",
       "      <th>first_day_exposition</th>\n",
       "      <th>rooms</th>\n",
       "      <th>ceiling_height</th>\n",
       "      <th>floors_total</th>\n",
       "      <th>living_area</th>\n",
       "      <th>floor</th>\n",
       "      <th>is_apartment</th>\n",
       "      <th>...</th>\n",
       "      <th>ponds_around3000</th>\n",
       "      <th>ponds_nearest</th>\n",
       "      <th>days_exposition</th>\n",
       "      <th>price_sq_m</th>\n",
       "      <th>day_exposition</th>\n",
       "      <th>month_exposition</th>\n",
       "      <th>year_exposition</th>\n",
       "      <th>type_floor</th>\n",
       "      <th>city_centers_nearest_km</th>\n",
       "      <th>category_price</th>\n",
       "    </tr>\n",
       "  </thead>\n",
       "  <tbody>\n",
       "    <tr>\n",
       "      <th>5</th>\n",
       "      <td>10</td>\n",
       "      <td>2890000</td>\n",
       "      <td>30.40</td>\n",
       "      <td>2018-09-10</td>\n",
       "      <td>1</td>\n",
       "      <td>2.65</td>\n",
       "      <td>12.0</td>\n",
       "      <td>14.40</td>\n",
       "      <td>5</td>\n",
       "      <td>False</td>\n",
       "      <td>...</td>\n",
       "      <td>0</td>\n",
       "      <td>NaN</td>\n",
       "      <td>55.0</td>\n",
       "      <td>95065.0</td>\n",
       "      <td>0</td>\n",
       "      <td>9</td>\n",
       "      <td>2018</td>\n",
       "      <td>другой</td>\n",
       "      <td>NaN</td>\n",
       "      <td>от 2 до 3 млн</td>\n",
       "    </tr>\n",
       "    <tr>\n",
       "      <th>8</th>\n",
       "      <td>20</td>\n",
       "      <td>2900000</td>\n",
       "      <td>33.16</td>\n",
       "      <td>2018-05-23</td>\n",
       "      <td>1</td>\n",
       "      <td>2.65</td>\n",
       "      <td>27.0</td>\n",
       "      <td>15.43</td>\n",
       "      <td>26</td>\n",
       "      <td>False</td>\n",
       "      <td>...</td>\n",
       "      <td>0</td>\n",
       "      <td>NaN</td>\n",
       "      <td>189.0</td>\n",
       "      <td>87454.0</td>\n",
       "      <td>2</td>\n",
       "      <td>5</td>\n",
       "      <td>2018</td>\n",
       "      <td>другой</td>\n",
       "      <td>NaN</td>\n",
       "      <td>от 2 до 3 млн</td>\n",
       "    </tr>\n",
       "    <tr>\n",
       "      <th>23</th>\n",
       "      <td>11</td>\n",
       "      <td>2950000</td>\n",
       "      <td>32.00</td>\n",
       "      <td>2016-10-29</td>\n",
       "      <td>1</td>\n",
       "      <td>2.60</td>\n",
       "      <td>9.0</td>\n",
       "      <td>17.70</td>\n",
       "      <td>9</td>\n",
       "      <td>False</td>\n",
       "      <td>...</td>\n",
       "      <td>1</td>\n",
       "      <td>190.0</td>\n",
       "      <td>615.0</td>\n",
       "      <td>92187.0</td>\n",
       "      <td>5</td>\n",
       "      <td>10</td>\n",
       "      <td>2016</td>\n",
       "      <td>последний</td>\n",
       "      <td>14.0</td>\n",
       "      <td>от 2 до 3 млн</td>\n",
       "    </tr>\n",
       "    <tr>\n",
       "      <th>67</th>\n",
       "      <td>6</td>\n",
       "      <td>2550000</td>\n",
       "      <td>31.00</td>\n",
       "      <td>2018-08-28</td>\n",
       "      <td>1</td>\n",
       "      <td>2.50</td>\n",
       "      <td>5.0</td>\n",
       "      <td>15.40</td>\n",
       "      <td>4</td>\n",
       "      <td>False</td>\n",
       "      <td>...</td>\n",
       "      <td>2</td>\n",
       "      <td>490.0</td>\n",
       "      <td>39.0</td>\n",
       "      <td>82258.0</td>\n",
       "      <td>1</td>\n",
       "      <td>8</td>\n",
       "      <td>2018</td>\n",
       "      <td>другой</td>\n",
       "      <td>51.0</td>\n",
       "      <td>от 2 до 3 млн</td>\n",
       "    </tr>\n",
       "    <tr>\n",
       "      <th>74</th>\n",
       "      <td>3</td>\n",
       "      <td>2350000</td>\n",
       "      <td>34.00</td>\n",
       "      <td>2018-06-14</td>\n",
       "      <td>1</td>\n",
       "      <td>2.50</td>\n",
       "      <td>9.0</td>\n",
       "      <td>19.00</td>\n",
       "      <td>8</td>\n",
       "      <td>False</td>\n",
       "      <td>...</td>\n",
       "      <td>1</td>\n",
       "      <td>996.0</td>\n",
       "      <td>121.0</td>\n",
       "      <td>69117.0</td>\n",
       "      <td>3</td>\n",
       "      <td>6</td>\n",
       "      <td>2018</td>\n",
       "      <td>другой</td>\n",
       "      <td>32.0</td>\n",
       "      <td>от 2 до 3 млн</td>\n",
       "    </tr>\n",
       "    <tr>\n",
       "      <th>...</th>\n",
       "      <td>...</td>\n",
       "      <td>...</td>\n",
       "      <td>...</td>\n",
       "      <td>...</td>\n",
       "      <td>...</td>\n",
       "      <td>...</td>\n",
       "      <td>...</td>\n",
       "      <td>...</td>\n",
       "      <td>...</td>\n",
       "      <td>...</td>\n",
       "      <td>...</td>\n",
       "      <td>...</td>\n",
       "      <td>...</td>\n",
       "      <td>...</td>\n",
       "      <td>...</td>\n",
       "      <td>...</td>\n",
       "      <td>...</td>\n",
       "      <td>...</td>\n",
       "      <td>...</td>\n",
       "      <td>...</td>\n",
       "      <td>...</td>\n",
       "    </tr>\n",
       "    <tr>\n",
       "      <th>23660</th>\n",
       "      <td>1</td>\n",
       "      <td>2950000</td>\n",
       "      <td>53.60</td>\n",
       "      <td>2018-02-01</td>\n",
       "      <td>2</td>\n",
       "      <td>2.75</td>\n",
       "      <td>3.0</td>\n",
       "      <td>32.00</td>\n",
       "      <td>3</td>\n",
       "      <td>False</td>\n",
       "      <td>...</td>\n",
       "      <td>0</td>\n",
       "      <td>NaN</td>\n",
       "      <td>35.0</td>\n",
       "      <td>55037.0</td>\n",
       "      <td>3</td>\n",
       "      <td>2</td>\n",
       "      <td>2018</td>\n",
       "      <td>последний</td>\n",
       "      <td>41.0</td>\n",
       "      <td>от 2 до 3 млн</td>\n",
       "    </tr>\n",
       "    <tr>\n",
       "      <th>23677</th>\n",
       "      <td>8</td>\n",
       "      <td>2450000</td>\n",
       "      <td>35.00</td>\n",
       "      <td>2018-10-26</td>\n",
       "      <td>1</td>\n",
       "      <td>2.60</td>\n",
       "      <td>5.0</td>\n",
       "      <td>18.00</td>\n",
       "      <td>4</td>\n",
       "      <td>False</td>\n",
       "      <td>...</td>\n",
       "      <td>0</td>\n",
       "      <td>NaN</td>\n",
       "      <td>28.0</td>\n",
       "      <td>70000.0</td>\n",
       "      <td>4</td>\n",
       "      <td>10</td>\n",
       "      <td>2018</td>\n",
       "      <td>другой</td>\n",
       "      <td>NaN</td>\n",
       "      <td>от 2 до 3 млн</td>\n",
       "    </tr>\n",
       "    <tr>\n",
       "      <th>23682</th>\n",
       "      <td>11</td>\n",
       "      <td>2350000</td>\n",
       "      <td>35.60</td>\n",
       "      <td>2016-06-23</td>\n",
       "      <td>1</td>\n",
       "      <td>2.50</td>\n",
       "      <td>5.0</td>\n",
       "      <td>17.00</td>\n",
       "      <td>4</td>\n",
       "      <td>False</td>\n",
       "      <td>...</td>\n",
       "      <td>0</td>\n",
       "      <td>NaN</td>\n",
       "      <td>40.0</td>\n",
       "      <td>66011.0</td>\n",
       "      <td>3</td>\n",
       "      <td>6</td>\n",
       "      <td>2016</td>\n",
       "      <td>другой</td>\n",
       "      <td>NaN</td>\n",
       "      <td>от 2 до 3 млн</td>\n",
       "    </tr>\n",
       "    <tr>\n",
       "      <th>23683</th>\n",
       "      <td>16</td>\n",
       "      <td>2100000</td>\n",
       "      <td>62.80</td>\n",
       "      <td>2018-09-18</td>\n",
       "      <td>4</td>\n",
       "      <td>2.50</td>\n",
       "      <td>5.0</td>\n",
       "      <td>45.50</td>\n",
       "      <td>3</td>\n",
       "      <td>False</td>\n",
       "      <td>...</td>\n",
       "      <td>0</td>\n",
       "      <td>NaN</td>\n",
       "      <td>NaN</td>\n",
       "      <td>33439.0</td>\n",
       "      <td>1</td>\n",
       "      <td>9</td>\n",
       "      <td>2018</td>\n",
       "      <td>другой</td>\n",
       "      <td>NaN</td>\n",
       "      <td>от 2 до 3 млн</td>\n",
       "    </tr>\n",
       "    <tr>\n",
       "      <th>23685</th>\n",
       "      <td>15</td>\n",
       "      <td>2490000</td>\n",
       "      <td>31.00</td>\n",
       "      <td>2019-01-24</td>\n",
       "      <td>1</td>\n",
       "      <td>2.50</td>\n",
       "      <td>5.0</td>\n",
       "      <td>17.30</td>\n",
       "      <td>5</td>\n",
       "      <td>False</td>\n",
       "      <td>...</td>\n",
       "      <td>0</td>\n",
       "      <td>NaN</td>\n",
       "      <td>NaN</td>\n",
       "      <td>80322.0</td>\n",
       "      <td>3</td>\n",
       "      <td>1</td>\n",
       "      <td>2019</td>\n",
       "      <td>последний</td>\n",
       "      <td>51.0</td>\n",
       "      <td>от 2 до 3 млн</td>\n",
       "    </tr>\n",
       "  </tbody>\n",
       "</table>\n",
       "<p>2034 rows × 29 columns</p>\n",
       "</div>"
      ],
      "text/plain": [
       "       total_images  last_price  total_area first_day_exposition  rooms  \\\n",
       "5                10     2890000       30.40           2018-09-10      1   \n",
       "8                20     2900000       33.16           2018-05-23      1   \n",
       "23               11     2950000       32.00           2016-10-29      1   \n",
       "67                6     2550000       31.00           2018-08-28      1   \n",
       "74                3     2350000       34.00           2018-06-14      1   \n",
       "...             ...         ...         ...                  ...    ...   \n",
       "23660             1     2950000       53.60           2018-02-01      2   \n",
       "23677             8     2450000       35.00           2018-10-26      1   \n",
       "23682            11     2350000       35.60           2016-06-23      1   \n",
       "23683            16     2100000       62.80           2018-09-18      4   \n",
       "23685            15     2490000       31.00           2019-01-24      1   \n",
       "\n",
       "       ceiling_height  floors_total  living_area  floor  is_apartment  ...  \\\n",
       "5                2.65          12.0        14.40      5         False  ...   \n",
       "8                2.65          27.0        15.43     26         False  ...   \n",
       "23               2.60           9.0        17.70      9         False  ...   \n",
       "67               2.50           5.0        15.40      4         False  ...   \n",
       "74               2.50           9.0        19.00      8         False  ...   \n",
       "...               ...           ...          ...    ...           ...  ...   \n",
       "23660            2.75           3.0        32.00      3         False  ...   \n",
       "23677            2.60           5.0        18.00      4         False  ...   \n",
       "23682            2.50           5.0        17.00      4         False  ...   \n",
       "23683            2.50           5.0        45.50      3         False  ...   \n",
       "23685            2.50           5.0        17.30      5         False  ...   \n",
       "\n",
       "       ponds_around3000  ponds_nearest  days_exposition  price_sq_m  \\\n",
       "5                     0            NaN             55.0     95065.0   \n",
       "8                     0            NaN            189.0     87454.0   \n",
       "23                    1          190.0            615.0     92187.0   \n",
       "67                    2          490.0             39.0     82258.0   \n",
       "74                    1          996.0            121.0     69117.0   \n",
       "...                 ...            ...              ...         ...   \n",
       "23660                 0            NaN             35.0     55037.0   \n",
       "23677                 0            NaN             28.0     70000.0   \n",
       "23682                 0            NaN             40.0     66011.0   \n",
       "23683                 0            NaN              NaN     33439.0   \n",
       "23685                 0            NaN              NaN     80322.0   \n",
       "\n",
       "      day_exposition  month_exposition  year_exposition  type_floor  \\\n",
       "5                  0                 9             2018      другой   \n",
       "8                  2                 5             2018      другой   \n",
       "23                 5                10             2016   последний   \n",
       "67                 1                 8             2018      другой   \n",
       "74                 3                 6             2018      другой   \n",
       "...              ...               ...              ...         ...   \n",
       "23660              3                 2             2018   последний   \n",
       "23677              4                10             2018      другой   \n",
       "23682              3                 6             2016      другой   \n",
       "23683              1                 9             2018      другой   \n",
       "23685              3                 1             2019   последний   \n",
       "\n",
       "       city_centers_nearest_km  category_price  \n",
       "5                          NaN   от 2 до 3 млн  \n",
       "8                          NaN   от 2 до 3 млн  \n",
       "23                        14.0   от 2 до 3 млн  \n",
       "67                        51.0   от 2 до 3 млн  \n",
       "74                        32.0   от 2 до 3 млн  \n",
       "...                        ...             ...  \n",
       "23660                     41.0   от 2 до 3 млн  \n",
       "23677                      NaN   от 2 до 3 млн  \n",
       "23682                      NaN   от 2 до 3 млн  \n",
       "23683                      NaN   от 2 до 3 млн  \n",
       "23685                     51.0   от 2 до 3 млн  \n",
       "\n",
       "[2034 rows x 29 columns]"
      ]
     },
     "execution_count": 93,
     "metadata": {},
     "output_type": "execute_result"
    }
   ],
   "source": [
    "data.query('category_price == \"от 2 до 3 млн\"')"
   ]
  },
  {
   "cell_type": "code",
   "execution_count": 94,
   "metadata": {},
   "outputs": [
    {
     "data": {
      "text/plain": [
       "0.669791938372526"
      ]
     },
     "execution_count": 94,
     "metadata": {},
     "output_type": "execute_result"
    }
   ],
   "source": [
    "data['last_price'].corr(data['total_area'])"
   ]
  },
  {
   "cell_type": "markdown",
   "metadata": {},
   "source": [
    "Увеличение общей площадьи влечет увеличение стоимостьи объекта, можно говорить о положительной корреляции, коэффициент Пирсона — положительный, равен 0,67, что свидетельствует о наличии существенной связи между величинами.  "
   ]
  },
  {
   "cell_type": "code",
   "execution_count": 95,
   "metadata": {},
   "outputs": [
    {
     "data": {
      "image/png": "[encoded data removed]",
      "text/plain": [
       "<Figure size 432x288 with 1 Axes>"
      ]
     },
     "metadata": {
      "needs_background": "light"
     },
     "output_type": "display_data"
    }
   ],
   "source": [
    "(data.pivot_table(index='category_price', values='living_area', aggfunc='median')\n",
    "     .plot(kind='barh')\n",
    ");"
   ]
  },
  {
   "cell_type": "markdown",
   "metadata": {},
   "source": [
    "При увеличении жилой площадьи увеличивается стоимость объекта, за исключением квартир до 2 млн."
   ]
  },
  {
   "cell_type": "code",
   "execution_count": 96,
   "metadata": {},
   "outputs": [
    {
     "data": {
      "image/png": "[encoded data removed]",
      "text/plain": [
       "<Figure size 432x288 with 1 Axes>"
      ]
     },
     "metadata": {
      "needs_background": "light"
     },
     "output_type": "display_data"
    }
   ],
   "source": [
    "(data.pivot_table(index='category_price', values='kitchen_area', aggfunc='median')\n",
    "     .plot(kind='barh')\n",
    ");"
   ]
  },
  {
   "cell_type": "markdown",
   "metadata": {},
   "source": [
    "При увеличении площадьи кухни увеличивается стоимость объекта."
   ]
  },
  {
   "cell_type": "code",
   "execution_count": 97,
   "metadata": {},
   "outputs": [
    {
     "data": {
      "image/png": "[encoded data removed]",
      "text/plain": [
       "<Figure size 432x288 with 1 Axes>"
      ]
     },
     "metadata": {
      "needs_background": "light"
     },
     "output_type": "display_data"
    }
   ],
   "source": [
    "(data.pivot_table(index='category_price', values='rooms', aggfunc='median')\n",
    "     .plot(kind='barh')\n",
    ");"
   ]
  },
  {
   "cell_type": "markdown",
   "metadata": {},
   "source": [
    "<div class=\"alert alert-block alert-danger\">\n",
    "<h2> Комментарий ревьюера V1<a class=\"tocSkip\"></h2>\n",
    "\n",
    "\n",
    "<b>На доработку🤔:</b>\n",
    "Для всех категориальных признаков нужно изменить тип диаграмм. Здесь больше подошли бы столбчатые диаграммы, по текущим можно некорректно сформулировать зависимости."
   ]
  },
  {
   "cell_type": "markdown",
   "metadata": {},
   "source": [
    "<div class=\"alert alert-block alert-danger\">\n",
    "<h2> Комментарий ревьюера V2<a class=\"tocSkip\"></h2>\n",
    "\n",
    "\n",
    "<b>На доработку🤔:</b>\n",
    "Не увидел у тебя изменений ниже, зависимости от параметров ниже нужно рассмотреть еще раз, построй столбчатые диаграммы и посмотри зависимости."
   ]
  },
  {
   "cell_type": "markdown",
   "metadata": {},
   "source": [
    "При увеличении числа комнат увеличивается стоимость объекта, за исключением квартир до 2 млн."
   ]
  },
  {
   "cell_type": "code",
   "execution_count": 98,
   "metadata": {},
   "outputs": [
    {
     "data": {
      "text/plain": [
       "<AxesSubplot:ylabel='type_floor'>"
      ]
     },
     "execution_count": 98,
     "metadata": {},
     "output_type": "execute_result"
    },
    {
     "data": {
      "image/png": "[encoded data removed]",
      "text/plain": [
       "<Figure size 432x288 with 1 Axes>"
      ]
     },
     "metadata": {
      "needs_background": "light"
     },
     "output_type": "display_data"
    }
   ],
   "source": [
    "(data.pivot_table(index='type_floor', values='last_price', aggfunc='median')\n",
    "     .plot(kind='barh')\n",
    ")"
   ]
  },
  {
   "cell_type": "markdown",
   "metadata": {},
   "source": [
    "Квартиры из категории 'другой' оцениваются выше, чем на первом и последнем этажах. Квартиры на первом самые дешевые."
   ]
  },
  {
   "cell_type": "code",
   "execution_count": 99,
   "metadata": {},
   "outputs": [
    {
     "data": {
      "image/png": "[encoded data removed]",
      "text/plain": [
       "<Figure size 432x288 with 1 Axes>"
      ]
     },
     "metadata": {
      "needs_background": "light"
     },
     "output_type": "display_data"
    }
   ],
   "source": [
    "(data.pivot_table(index='day_exposition', values='last_price', aggfunc='median')\n",
    "     .plot(kind='barh')\n",
    ");"
   ]
  },
  {
   "cell_type": "code",
   "execution_count": 100,
   "metadata": {},
   "outputs": [
    {
     "data": {
      "image/png": "[encoded data removed]",
      "text/plain": [
       "<Figure size 432x288 with 1 Axes>"
      ]
     },
     "metadata": {
      "needs_background": "light"
     },
     "output_type": "display_data"
    }
   ],
   "source": [
    "(data.pivot_table(index='month_exposition', values='last_price', aggfunc='median')\n",
    "     .plot(kind='barh')\n",
    ");"
   ]
  },
  {
   "cell_type": "code",
   "execution_count": 101,
   "metadata": {},
   "outputs": [
    {
     "data": {
      "image/png": "[encoded data removed]",
      "text/plain": [
       "<Figure size 432x288 with 1 Axes>"
      ]
     },
     "metadata": {
      "needs_background": "light"
     },
     "output_type": "display_data"
    }
   ],
   "source": [
    "(data.pivot_table(index='year_exposition', values='last_price', aggfunc='median')\n",
    "     .plot(kind='barh')\n",
    ");"
   ]
  },
  {
   "cell_type": "code",
   "execution_count": 102,
   "metadata": {},
   "outputs": [
    {
     "data": {
      "text/html": [
       "<div>\n",
       "<style scoped>\n",
       "    .dataframe tbody tr th:only-of-type {\n",
       "        vertical-align: middle;\n",
       "    }\n",
       "\n",
       "    .dataframe tbody tr th {\n",
       "        vertical-align: top;\n",
       "    }\n",
       "\n",
       "    .dataframe thead th {\n",
       "        text-align: right;\n",
       "    }\n",
       "</style>\n",
       "<table border=\"1\" class=\"dataframe\">\n",
       "  <thead>\n",
       "    <tr style=\"text-align: right;\">\n",
       "      <th></th>\n",
       "      <th>total_images</th>\n",
       "      <th>last_price</th>\n",
       "      <th>total_area</th>\n",
       "      <th>first_day_exposition</th>\n",
       "      <th>rooms</th>\n",
       "      <th>ceiling_height</th>\n",
       "      <th>floors_total</th>\n",
       "      <th>living_area</th>\n",
       "      <th>floor</th>\n",
       "      <th>is_apartment</th>\n",
       "      <th>...</th>\n",
       "      <th>ponds_around3000</th>\n",
       "      <th>ponds_nearest</th>\n",
       "      <th>days_exposition</th>\n",
       "      <th>price_sq_m</th>\n",
       "      <th>day_exposition</th>\n",
       "      <th>month_exposition</th>\n",
       "      <th>year_exposition</th>\n",
       "      <th>type_floor</th>\n",
       "      <th>city_centers_nearest_km</th>\n",
       "      <th>category_price</th>\n",
       "    </tr>\n",
       "  </thead>\n",
       "  <tbody>\n",
       "    <tr>\n",
       "      <th>98</th>\n",
       "      <td>11</td>\n",
       "      <td>11700000</td>\n",
       "      <td>80.00</td>\n",
       "      <td>2014-12-10</td>\n",
       "      <td>3</td>\n",
       "      <td>2.65</td>\n",
       "      <td>5.0</td>\n",
       "      <td>55.10</td>\n",
       "      <td>3</td>\n",
       "      <td>False</td>\n",
       "      <td>...</td>\n",
       "      <td>0</td>\n",
       "      <td>NaN</td>\n",
       "      <td>831.0</td>\n",
       "      <td>146250.0</td>\n",
       "      <td>2</td>\n",
       "      <td>12</td>\n",
       "      <td>2014</td>\n",
       "      <td>другой</td>\n",
       "      <td>8.0</td>\n",
       "      <td>свыше 7 млн</td>\n",
       "    </tr>\n",
       "    <tr>\n",
       "      <th>260</th>\n",
       "      <td>8</td>\n",
       "      <td>17250000</td>\n",
       "      <td>102.40</td>\n",
       "      <td>2014-12-09</td>\n",
       "      <td>3</td>\n",
       "      <td>2.65</td>\n",
       "      <td>8.0</td>\n",
       "      <td>53.20</td>\n",
       "      <td>3</td>\n",
       "      <td>False</td>\n",
       "      <td>...</td>\n",
       "      <td>0</td>\n",
       "      <td>NaN</td>\n",
       "      <td>NaN</td>\n",
       "      <td>168457.0</td>\n",
       "      <td>1</td>\n",
       "      <td>12</td>\n",
       "      <td>2014</td>\n",
       "      <td>другой</td>\n",
       "      <td>11.0</td>\n",
       "      <td>свыше 7 млн</td>\n",
       "    </tr>\n",
       "    <tr>\n",
       "      <th>398</th>\n",
       "      <td>7</td>\n",
       "      <td>12789000</td>\n",
       "      <td>79.30</td>\n",
       "      <td>2014-12-09</td>\n",
       "      <td>2</td>\n",
       "      <td>3.00</td>\n",
       "      <td>8.0</td>\n",
       "      <td>43.10</td>\n",
       "      <td>5</td>\n",
       "      <td>False</td>\n",
       "      <td>...</td>\n",
       "      <td>0</td>\n",
       "      <td>NaN</td>\n",
       "      <td>1345.0</td>\n",
       "      <td>161273.0</td>\n",
       "      <td>1</td>\n",
       "      <td>12</td>\n",
       "      <td>2014</td>\n",
       "      <td>другой</td>\n",
       "      <td>11.0</td>\n",
       "      <td>свыше 7 млн</td>\n",
       "    </tr>\n",
       "    <tr>\n",
       "      <th>411</th>\n",
       "      <td>1</td>\n",
       "      <td>40662000</td>\n",
       "      <td>151.00</td>\n",
       "      <td>2014-12-09</td>\n",
       "      <td>3</td>\n",
       "      <td>2.65</td>\n",
       "      <td>8.0</td>\n",
       "      <td>85.00</td>\n",
       "      <td>3</td>\n",
       "      <td>False</td>\n",
       "      <td>...</td>\n",
       "      <td>3</td>\n",
       "      <td>100.0</td>\n",
       "      <td>594.0</td>\n",
       "      <td>269284.0</td>\n",
       "      <td>1</td>\n",
       "      <td>12</td>\n",
       "      <td>2014</td>\n",
       "      <td>другой</td>\n",
       "      <td>5.0</td>\n",
       "      <td>свыше 7 млн</td>\n",
       "    </tr>\n",
       "    <tr>\n",
       "      <th>532</th>\n",
       "      <td>7</td>\n",
       "      <td>6800000</td>\n",
       "      <td>90.00</td>\n",
       "      <td>2014-12-16</td>\n",
       "      <td>3</td>\n",
       "      <td>2.60</td>\n",
       "      <td>9.0</td>\n",
       "      <td>43.30</td>\n",
       "      <td>1</td>\n",
       "      <td>False</td>\n",
       "      <td>...</td>\n",
       "      <td>1</td>\n",
       "      <td>837.0</td>\n",
       "      <td>608.0</td>\n",
       "      <td>75555.0</td>\n",
       "      <td>1</td>\n",
       "      <td>12</td>\n",
       "      <td>2014</td>\n",
       "      <td>первый</td>\n",
       "      <td>12.0</td>\n",
       "      <td>от 6 до 7 млн</td>\n",
       "    </tr>\n",
       "    <tr>\n",
       "      <th>...</th>\n",
       "      <td>...</td>\n",
       "      <td>...</td>\n",
       "      <td>...</td>\n",
       "      <td>...</td>\n",
       "      <td>...</td>\n",
       "      <td>...</td>\n",
       "      <td>...</td>\n",
       "      <td>...</td>\n",
       "      <td>...</td>\n",
       "      <td>...</td>\n",
       "      <td>...</td>\n",
       "      <td>...</td>\n",
       "      <td>...</td>\n",
       "      <td>...</td>\n",
       "      <td>...</td>\n",
       "      <td>...</td>\n",
       "      <td>...</td>\n",
       "      <td>...</td>\n",
       "      <td>...</td>\n",
       "      <td>...</td>\n",
       "      <td>...</td>\n",
       "    </tr>\n",
       "    <tr>\n",
       "      <th>22760</th>\n",
       "      <td>4</td>\n",
       "      <td>5940000</td>\n",
       "      <td>42.45</td>\n",
       "      <td>2014-12-09</td>\n",
       "      <td>1</td>\n",
       "      <td>2.65</td>\n",
       "      <td>9.0</td>\n",
       "      <td>17.90</td>\n",
       "      <td>2</td>\n",
       "      <td>False</td>\n",
       "      <td>...</td>\n",
       "      <td>3</td>\n",
       "      <td>606.0</td>\n",
       "      <td>910.0</td>\n",
       "      <td>139929.0</td>\n",
       "      <td>1</td>\n",
       "      <td>12</td>\n",
       "      <td>2014</td>\n",
       "      <td>другой</td>\n",
       "      <td>6.0</td>\n",
       "      <td>от 5 до 6 млн</td>\n",
       "    </tr>\n",
       "    <tr>\n",
       "      <th>22950</th>\n",
       "      <td>10</td>\n",
       "      <td>4850000</td>\n",
       "      <td>69.00</td>\n",
       "      <td>2014-12-15</td>\n",
       "      <td>3</td>\n",
       "      <td>2.65</td>\n",
       "      <td>16.0</td>\n",
       "      <td>43.40</td>\n",
       "      <td>1</td>\n",
       "      <td>False</td>\n",
       "      <td>...</td>\n",
       "      <td>0</td>\n",
       "      <td>NaN</td>\n",
       "      <td>1032.0</td>\n",
       "      <td>70289.0</td>\n",
       "      <td>0</td>\n",
       "      <td>12</td>\n",
       "      <td>2014</td>\n",
       "      <td>первый</td>\n",
       "      <td>12.0</td>\n",
       "      <td>от 4 до 5 млн</td>\n",
       "    </tr>\n",
       "    <tr>\n",
       "      <th>23034</th>\n",
       "      <td>0</td>\n",
       "      <td>4100000</td>\n",
       "      <td>88.00</td>\n",
       "      <td>2014-12-10</td>\n",
       "      <td>4</td>\n",
       "      <td>2.65</td>\n",
       "      <td>5.0</td>\n",
       "      <td>60.70</td>\n",
       "      <td>4</td>\n",
       "      <td>False</td>\n",
       "      <td>...</td>\n",
       "      <td>0</td>\n",
       "      <td>NaN</td>\n",
       "      <td>1202.0</td>\n",
       "      <td>46590.0</td>\n",
       "      <td>2</td>\n",
       "      <td>12</td>\n",
       "      <td>2014</td>\n",
       "      <td>другой</td>\n",
       "      <td>NaN</td>\n",
       "      <td>от 4 до 5 млн</td>\n",
       "    </tr>\n",
       "    <tr>\n",
       "      <th>23248</th>\n",
       "      <td>5</td>\n",
       "      <td>4900000</td>\n",
       "      <td>80.00</td>\n",
       "      <td>2014-12-25</td>\n",
       "      <td>3</td>\n",
       "      <td>2.65</td>\n",
       "      <td>15.0</td>\n",
       "      <td>47.00</td>\n",
       "      <td>14</td>\n",
       "      <td>False</td>\n",
       "      <td>...</td>\n",
       "      <td>0</td>\n",
       "      <td>NaN</td>\n",
       "      <td>1187.0</td>\n",
       "      <td>61250.0</td>\n",
       "      <td>3</td>\n",
       "      <td>12</td>\n",
       "      <td>2014</td>\n",
       "      <td>другой</td>\n",
       "      <td>NaN</td>\n",
       "      <td>от 4 до 5 млн</td>\n",
       "    </tr>\n",
       "    <tr>\n",
       "      <th>23638</th>\n",
       "      <td>8</td>\n",
       "      <td>4920000</td>\n",
       "      <td>76.26</td>\n",
       "      <td>2014-12-25</td>\n",
       "      <td>3</td>\n",
       "      <td>2.65</td>\n",
       "      <td>15.0</td>\n",
       "      <td>42.55</td>\n",
       "      <td>13</td>\n",
       "      <td>False</td>\n",
       "      <td>...</td>\n",
       "      <td>0</td>\n",
       "      <td>NaN</td>\n",
       "      <td>939.0</td>\n",
       "      <td>64516.0</td>\n",
       "      <td>3</td>\n",
       "      <td>12</td>\n",
       "      <td>2014</td>\n",
       "      <td>другой</td>\n",
       "      <td>NaN</td>\n",
       "      <td>от 4 до 5 млн</td>\n",
       "    </tr>\n",
       "  </tbody>\n",
       "</table>\n",
       "<p>128 rows × 29 columns</p>\n",
       "</div>"
      ],
      "text/plain": [
       "       total_images  last_price  total_area first_day_exposition  rooms  \\\n",
       "98               11    11700000       80.00           2014-12-10      3   \n",
       "260               8    17250000      102.40           2014-12-09      3   \n",
       "398               7    12789000       79.30           2014-12-09      2   \n",
       "411               1    40662000      151.00           2014-12-09      3   \n",
       "532               7     6800000       90.00           2014-12-16      3   \n",
       "...             ...         ...         ...                  ...    ...   \n",
       "22760             4     5940000       42.45           2014-12-09      1   \n",
       "22950            10     4850000       69.00           2014-12-15      3   \n",
       "23034             0     4100000       88.00           2014-12-10      4   \n",
       "23248             5     4900000       80.00           2014-12-25      3   \n",
       "23638             8     4920000       76.26           2014-12-25      3   \n",
       "\n",
       "       ceiling_height  floors_total  living_area  floor  is_apartment  ...  \\\n",
       "98               2.65           5.0        55.10      3         False  ...   \n",
       "260              2.65           8.0        53.20      3         False  ...   \n",
       "398              3.00           8.0        43.10      5         False  ...   \n",
       "411              2.65           8.0        85.00      3         False  ...   \n",
       "532              2.60           9.0        43.30      1         False  ...   \n",
       "...               ...           ...          ...    ...           ...  ...   \n",
       "22760            2.65           9.0        17.90      2         False  ...   \n",
       "22950            2.65          16.0        43.40      1         False  ...   \n",
       "23034            2.65           5.0        60.70      4         False  ...   \n",
       "23248            2.65          15.0        47.00     14         False  ...   \n",
       "23638            2.65          15.0        42.55     13         False  ...   \n",
       "\n",
       "       ponds_around3000  ponds_nearest  days_exposition  price_sq_m  \\\n",
       "98                    0            NaN            831.0    146250.0   \n",
       "260                   0            NaN              NaN    168457.0   \n",
       "398                   0            NaN           1345.0    161273.0   \n",
       "411                   3          100.0            594.0    269284.0   \n",
       "532                   1          837.0            608.0     75555.0   \n",
       "...                 ...            ...              ...         ...   \n",
       "22760                 3          606.0            910.0    139929.0   \n",
       "22950                 0            NaN           1032.0     70289.0   \n",
       "23034                 0            NaN           1202.0     46590.0   \n",
       "23248                 0            NaN           1187.0     61250.0   \n",
       "23638                 0            NaN            939.0     64516.0   \n",
       "\n",
       "      day_exposition  month_exposition  year_exposition  type_floor  \\\n",
       "98                 2                12             2014      другой   \n",
       "260                1                12             2014      другой   \n",
       "398                1                12             2014      другой   \n",
       "411                1                12             2014      другой   \n",
       "532                1                12             2014      первый   \n",
       "...              ...               ...              ...         ...   \n",
       "22760              1                12             2014      другой   \n",
       "22950              0                12             2014      первый   \n",
       "23034              2                12             2014      другой   \n",
       "23248              3                12             2014      другой   \n",
       "23638              3                12             2014      другой   \n",
       "\n",
       "       city_centers_nearest_km  category_price  \n",
       "98                         8.0     свыше 7 млн  \n",
       "260                       11.0     свыше 7 млн  \n",
       "398                       11.0     свыше 7 млн  \n",
       "411                        5.0     свыше 7 млн  \n",
       "532                       12.0   от 6 до 7 млн  \n",
       "...                        ...             ...  \n",
       "22760                      6.0   от 5 до 6 млн  \n",
       "22950                     12.0   от 4 до 5 млн  \n",
       "23034                      NaN   от 4 до 5 млн  \n",
       "23248                      NaN   от 4 до 5 млн  \n",
       "23638                      NaN   от 4 до 5 млн  \n",
       "\n",
       "[128 rows x 29 columns]"
      ]
     },
     "execution_count": 102,
     "metadata": {},
     "output_type": "execute_result"
    }
   ],
   "source": [
    "data.query('year_exposition == 2014')"
   ]
  },
  {
   "cell_type": "markdown",
   "metadata": {},
   "source": [
    "Стоимостью квартир не зависит от дня, месяца и года публикации объявления.  \n",
    "На столбчатой диаграмме зависимости медианного значения конечной стоимости квартиры от года публикации объявления столбец 2014 значительно превосходит все другие, но является не информативным, т.к. 2014 год представлен только 128 объявлениями, что является ничтожно малым."
   ]
  },
  {
   "cell_type": "markdown",
   "metadata": {},
   "source": [
    "<div class=\"alert alert-block alert-danger\">\n",
    "<h2> Комментарий ревьюера V1<a class=\"tocSkip\"></h2>\n",
    "\n",
    "\n",
    "<b>На доработку🤔:</b>\n",
    "Делать вывод о  зависимости только по коэффициентам корреляции нельзя. Он не описывает в полной степени зависимость, а только силу корреляции, при этом есть множество ограничений к использованию корреляций."
   ]
  },
  {
   "cell_type": "markdown",
   "metadata": {},
   "source": [
    "<div class=\"alert alert-block alert-danger\">\n",
    "<h2> Комментарий ревьюера V2<a class=\"tocSkip\"></h2>\n",
    "\n",
    "\n",
    "<b>На доработку🤔:</b>\n",
    "Доработай зависимости выше."
   ]
  },
  {
   "cell_type": "markdown",
   "metadata": {},
   "source": [
    "<div class=\"alert alert-success\">\n",
    "<h2> Комментарий ревьюера V3<a class=\"tocSkip\"> </h2>\n",
    "\n",
    "<b>Все отлично!👍:</b>\n",
    "Сейчас все выполнено абсолютно верно, молодец! Диаграммы в полной мере отражают зависимость цены от параметров."
   ]
  },
  {
   "cell_type": "markdown",
   "metadata": {},
   "source": [
    "**Посчитаем среднюю цену одного квадратного метра в 10 населённых пунктах с наибольшим числом объявлений.**"
   ]
  },
  {
   "cell_type": "code",
   "execution_count": 103,
   "metadata": {},
   "outputs": [],
   "source": [
    "b = data['locality_name'].value_counts().head(10)"
   ]
  },
  {
   "cell_type": "code",
   "execution_count": 104,
   "metadata": {
    "scrolled": false
   },
   "outputs": [
    {
     "data": {
      "text/html": [
       "<div>\n",
       "<style scoped>\n",
       "    .dataframe tbody tr th:only-of-type {\n",
       "        vertical-align: middle;\n",
       "    }\n",
       "\n",
       "    .dataframe tbody tr th {\n",
       "        vertical-align: top;\n",
       "    }\n",
       "\n",
       "    .dataframe thead th {\n",
       "        text-align: right;\n",
       "    }\n",
       "</style>\n",
       "<table border=\"1\" class=\"dataframe\">\n",
       "  <thead>\n",
       "    <tr style=\"text-align: right;\">\n",
       "      <th></th>\n",
       "      <th>price_sq_m</th>\n",
       "    </tr>\n",
       "    <tr>\n",
       "      <th>locality_name</th>\n",
       "      <th></th>\n",
       "    </tr>\n",
       "  </thead>\n",
       "  <tbody>\n",
       "    <tr>\n",
       "      <th>Санкт-Петербург</th>\n",
       "      <td>113538.771556</td>\n",
       "    </tr>\n",
       "    <tr>\n",
       "      <th>Пушкин</th>\n",
       "      <td>103367.680723</td>\n",
       "    </tr>\n",
       "    <tr>\n",
       "      <th>деревня Кудрово</th>\n",
       "      <td>95270.557333</td>\n",
       "    </tr>\n",
       "    <tr>\n",
       "      <th>посёлок Парголово</th>\n",
       "      <td>90755.583333</td>\n",
       "    </tr>\n",
       "    <tr>\n",
       "      <th>посёлок Мурино</th>\n",
       "      <td>85624.714286</td>\n",
       "    </tr>\n",
       "    <tr>\n",
       "      <th>Петергоф</th>\n",
       "      <td>83753.747368</td>\n",
       "    </tr>\n",
       "    <tr>\n",
       "      <th>посёлок Шушары</th>\n",
       "      <td>78350.253197</td>\n",
       "    </tr>\n",
       "    <tr>\n",
       "      <th>Колпино</th>\n",
       "      <td>75129.414330</td>\n",
       "    </tr>\n",
       "    <tr>\n",
       "      <th>Всеволожск</th>\n",
       "      <td>69102.056180</td>\n",
       "    </tr>\n",
       "    <tr>\n",
       "      <th>Гатчина</th>\n",
       "      <td>68739.484211</td>\n",
       "    </tr>\n",
       "  </tbody>\n",
       "</table>\n",
       "</div>"
      ],
      "text/plain": [
       "                      price_sq_m\n",
       "locality_name                   \n",
       "Санкт-Петербург    113538.771556\n",
       "Пушкин             103367.680723\n",
       "деревня Кудрово     95270.557333\n",
       "посёлок Парголово   90755.583333\n",
       "посёлок Мурино      85624.714286\n",
       "Петергоф            83753.747368\n",
       "посёлок Шушары      78350.253197\n",
       "Колпино             75129.414330\n",
       "Всеволожск          69102.056180\n",
       "Гатчина             68739.484211"
      ]
     },
     "execution_count": 104,
     "metadata": {},
     "output_type": "execute_result"
    }
   ],
   "source": [
    "(data.query('locality_name in @b.index')\n",
    "    .pivot_table(index='locality_name', values='price_sq_m', aggfunc='mean')\n",
    "    .sort_values(by='price_sq_m', ascending=False)\n",
    ")"
   ]
  },
  {
   "cell_type": "markdown",
   "metadata": {},
   "source": [
    "Вывод: самое большое предложение квартир в Санкт-Петербург."
   ]
  },
  {
   "cell_type": "markdown",
   "metadata": {},
   "source": [
    "**Выделим населённые пункты с самой высокой и низкой стоимостью квадратного метра.**"
   ]
  },
  {
   "cell_type": "code",
   "execution_count": 105,
   "metadata": {
    "scrolled": true
   },
   "outputs": [
    {
     "data": {
      "text/html": [
       "<div>\n",
       "<style scoped>\n",
       "    .dataframe tbody tr th:only-of-type {\n",
       "        vertical-align: middle;\n",
       "    }\n",
       "\n",
       "    .dataframe tbody tr th {\n",
       "        vertical-align: top;\n",
       "    }\n",
       "\n",
       "    .dataframe thead th {\n",
       "        text-align: right;\n",
       "    }\n",
       "</style>\n",
       "<table border=\"1\" class=\"dataframe\">\n",
       "  <thead>\n",
       "    <tr style=\"text-align: right;\">\n",
       "      <th></th>\n",
       "      <th>price_sq_m</th>\n",
       "    </tr>\n",
       "    <tr>\n",
       "      <th>locality_name</th>\n",
       "      <th></th>\n",
       "    </tr>\n",
       "  </thead>\n",
       "  <tbody>\n",
       "    <tr>\n",
       "      <th>деревня Старополье</th>\n",
       "      <td>10368.0</td>\n",
       "    </tr>\n",
       "    <tr>\n",
       "      <th>деревня Ям-Тесово</th>\n",
       "      <td>12328.0</td>\n",
       "    </tr>\n",
       "    <tr>\n",
       "      <th>деревня Выскатка</th>\n",
       "      <td>12335.0</td>\n",
       "    </tr>\n",
       "    <tr>\n",
       "      <th>поселок Совхозный</th>\n",
       "      <td>12555.0</td>\n",
       "    </tr>\n",
       "    <tr>\n",
       "      <th>поселок городского типа Ефимовский</th>\n",
       "      <td>12686.0</td>\n",
       "    </tr>\n",
       "    <tr>\n",
       "      <th>деревня Малая Романовка</th>\n",
       "      <td>12724.0</td>\n",
       "    </tr>\n",
       "    <tr>\n",
       "      <th>поселок Тёсово-4</th>\n",
       "      <td>12931.0</td>\n",
       "    </tr>\n",
       "    <tr>\n",
       "      <th>деревня Сижно</th>\n",
       "      <td>13709.0</td>\n",
       "    </tr>\n",
       "    <tr>\n",
       "      <th>поселок Житково</th>\n",
       "      <td>14956.0</td>\n",
       "    </tr>\n",
       "    <tr>\n",
       "      <th>посёлок станции Свирь</th>\n",
       "      <td>15000.0</td>\n",
       "    </tr>\n",
       "  </tbody>\n",
       "</table>\n",
       "</div>"
      ],
      "text/plain": [
       "                                    price_sq_m\n",
       "locality_name                                 \n",
       "деревня Старополье                     10368.0\n",
       "деревня Ям-Тесово                      12328.0\n",
       "деревня Выскатка                       12335.0\n",
       "поселок Совхозный                      12555.0\n",
       "поселок городского типа Ефимовский     12686.0\n",
       "деревня Малая Романовка                12724.0\n",
       "поселок Тёсово-4                       12931.0\n",
       "деревня Сижно                          13709.0\n",
       "поселок Житково                        14956.0\n",
       "посёлок станции Свирь                  15000.0"
      ]
     },
     "execution_count": 105,
     "metadata": {},
     "output_type": "execute_result"
    }
   ],
   "source": [
    "(data.pivot_table(index='locality_name', values='price_sq_m', aggfunc='median')\n",
    "     .sort_values(by='price_sq_m').head(10)\n",
    ")"
   ]
  },
  {
   "cell_type": "code",
   "execution_count": 106,
   "metadata": {},
   "outputs": [
    {
     "data": {
      "text/html": [
       "<div>\n",
       "<style scoped>\n",
       "    .dataframe tbody tr th:only-of-type {\n",
       "        vertical-align: middle;\n",
       "    }\n",
       "\n",
       "    .dataframe tbody tr th {\n",
       "        vertical-align: top;\n",
       "    }\n",
       "\n",
       "    .dataframe thead th {\n",
       "        text-align: right;\n",
       "    }\n",
       "</style>\n",
       "<table border=\"1\" class=\"dataframe\">\n",
       "  <thead>\n",
       "    <tr style=\"text-align: right;\">\n",
       "      <th></th>\n",
       "      <th>price_sq_m</th>\n",
       "    </tr>\n",
       "    <tr>\n",
       "      <th>locality_name</th>\n",
       "      <th></th>\n",
       "    </tr>\n",
       "  </thead>\n",
       "  <tbody>\n",
       "    <tr>\n",
       "      <th>посёлок Репино</th>\n",
       "      <td>127678.5</td>\n",
       "    </tr>\n",
       "    <tr>\n",
       "      <th>деревня Бор</th>\n",
       "      <td>105539.0</td>\n",
       "    </tr>\n",
       "    <tr>\n",
       "      <th>Санкт-Петербург</th>\n",
       "      <td>104166.0</td>\n",
       "    </tr>\n",
       "    <tr>\n",
       "      <th>Зеленогорск</th>\n",
       "      <td>101666.5</td>\n",
       "    </tr>\n",
       "    <tr>\n",
       "      <th>Пушкин</th>\n",
       "      <td>100000.0</td>\n",
       "    </tr>\n",
       "    <tr>\n",
       "      <th>Сестрорецк</th>\n",
       "      <td>99678.0</td>\n",
       "    </tr>\n",
       "    <tr>\n",
       "      <th>деревня Кудрово</th>\n",
       "      <td>95762.0</td>\n",
       "    </tr>\n",
       "    <tr>\n",
       "      <th>посёлок Парголово</th>\n",
       "      <td>92271.5</td>\n",
       "    </tr>\n",
       "    <tr>\n",
       "      <th>деревня Мистолово</th>\n",
       "      <td>90229.0</td>\n",
       "    </tr>\n",
       "    <tr>\n",
       "      <th>посёлок Стрельна</th>\n",
       "      <td>87988.0</td>\n",
       "    </tr>\n",
       "  </tbody>\n",
       "</table>\n",
       "</div>"
      ],
      "text/plain": [
       "                   price_sq_m\n",
       "locality_name                \n",
       "посёлок Репино       127678.5\n",
       "деревня Бор          105539.0\n",
       "Санкт-Петербург      104166.0\n",
       "Зеленогорск          101666.5\n",
       "Пушкин               100000.0\n",
       "Сестрорецк            99678.0\n",
       "деревня Кудрово       95762.0\n",
       "посёлок Парголово     92271.5\n",
       "деревня Мистолово     90229.0\n",
       "посёлок Стрельна      87988.0"
      ]
     },
     "execution_count": 106,
     "metadata": {},
     "output_type": "execute_result"
    }
   ],
   "source": [
    "(data.pivot_table(index='locality_name', values='price_sq_m', aggfunc='median')\n",
    "     .sort_values(by='price_sq_m', ascending=False).head(10)\n",
    ")"
   ]
  },
  {
   "cell_type": "markdown",
   "metadata": {},
   "source": [
    "<div class=\"alert alert-success\">\n",
    "<h2> Комментарий ревьюера V1<a class=\"tocSkip\"> </h2>\n",
    "\n",
    "<b>Все отлично!👍:</b>\n",
    "Правильно все рассчитала и проанализировала, продолжай в том же духе!"
   ]
  },
  {
   "cell_type": "markdown",
   "metadata": {},
   "source": [
    "**Вычислим среднюю цену каждого километра в Санкт-Петербурге.**"
   ]
  },
  {
   "cell_type": "code",
   "execution_count": 107,
   "metadata": {},
   "outputs": [
    {
     "data": {
      "text/html": [
       "<div>\n",
       "<style scoped>\n",
       "    .dataframe tbody tr th:only-of-type {\n",
       "        vertical-align: middle;\n",
       "    }\n",
       "\n",
       "    .dataframe tbody tr th {\n",
       "        vertical-align: top;\n",
       "    }\n",
       "\n",
       "    .dataframe thead th {\n",
       "        text-align: right;\n",
       "    }\n",
       "</style>\n",
       "<table border=\"1\" class=\"dataframe\">\n",
       "  <thead>\n",
       "    <tr style=\"text-align: right;\">\n",
       "      <th></th>\n",
       "      <th>price_sq_m</th>\n",
       "    </tr>\n",
       "    <tr>\n",
       "      <th>city_centers_nearest_km</th>\n",
       "      <th></th>\n",
       "    </tr>\n",
       "  </thead>\n",
       "  <tbody>\n",
       "    <tr>\n",
       "      <th>0.0</th>\n",
       "      <td>190601.378378</td>\n",
       "    </tr>\n",
       "    <tr>\n",
       "      <th>1.0</th>\n",
       "      <td>161019.859155</td>\n",
       "    </tr>\n",
       "    <tr>\n",
       "      <th>2.0</th>\n",
       "      <td>146191.550360</td>\n",
       "    </tr>\n",
       "    <tr>\n",
       "      <th>3.0</th>\n",
       "      <td>122859.525532</td>\n",
       "    </tr>\n",
       "    <tr>\n",
       "      <th>4.0</th>\n",
       "      <td>133861.751908</td>\n",
       "    </tr>\n",
       "    <tr>\n",
       "      <th>5.0</th>\n",
       "      <td>143557.510046</td>\n",
       "    </tr>\n",
       "    <tr>\n",
       "      <th>6.0</th>\n",
       "      <td>149901.643392</td>\n",
       "    </tr>\n",
       "    <tr>\n",
       "      <th>7.0</th>\n",
       "      <td>140939.779891</td>\n",
       "    </tr>\n",
       "    <tr>\n",
       "      <th>8.0</th>\n",
       "      <td>119194.791878</td>\n",
       "    </tr>\n",
       "    <tr>\n",
       "      <th>9.0</th>\n",
       "      <td>109445.077670</td>\n",
       "    </tr>\n",
       "    <tr>\n",
       "      <th>10.0</th>\n",
       "      <td>110780.267901</td>\n",
       "    </tr>\n",
       "    <tr>\n",
       "      <th>11.0</th>\n",
       "      <td>106062.235479</td>\n",
       "    </tr>\n",
       "    <tr>\n",
       "      <th>12.0</th>\n",
       "      <td>107927.723234</td>\n",
       "    </tr>\n",
       "    <tr>\n",
       "      <th>13.0</th>\n",
       "      <td>106700.770621</td>\n",
       "    </tr>\n",
       "    <tr>\n",
       "      <th>14.0</th>\n",
       "      <td>104295.701481</td>\n",
       "    </tr>\n",
       "    <tr>\n",
       "      <th>15.0</th>\n",
       "      <td>102120.416000</td>\n",
       "    </tr>\n",
       "    <tr>\n",
       "      <th>16.0</th>\n",
       "      <td>99597.839919</td>\n",
       "    </tr>\n",
       "    <tr>\n",
       "      <th>17.0</th>\n",
       "      <td>94599.717439</td>\n",
       "    </tr>\n",
       "    <tr>\n",
       "      <th>18.0</th>\n",
       "      <td>95336.567742</td>\n",
       "    </tr>\n",
       "    <tr>\n",
       "      <th>19.0</th>\n",
       "      <td>95083.922078</td>\n",
       "    </tr>\n",
       "    <tr>\n",
       "      <th>20.0</th>\n",
       "      <td>103429.426230</td>\n",
       "    </tr>\n",
       "    <tr>\n",
       "      <th>21.0</th>\n",
       "      <td>89604.906250</td>\n",
       "    </tr>\n",
       "    <tr>\n",
       "      <th>22.0</th>\n",
       "      <td>87536.401709</td>\n",
       "    </tr>\n",
       "    <tr>\n",
       "      <th>23.0</th>\n",
       "      <td>93562.111111</td>\n",
       "    </tr>\n",
       "    <tr>\n",
       "      <th>24.0</th>\n",
       "      <td>81567.000000</td>\n",
       "    </tr>\n",
       "    <tr>\n",
       "      <th>25.0</th>\n",
       "      <td>86867.526316</td>\n",
       "    </tr>\n",
       "    <tr>\n",
       "      <th>26.0</th>\n",
       "      <td>75171.333333</td>\n",
       "    </tr>\n",
       "    <tr>\n",
       "      <th>27.0</th>\n",
       "      <td>132115.000000</td>\n",
       "    </tr>\n",
       "    <tr>\n",
       "      <th>28.0</th>\n",
       "      <td>81840.200000</td>\n",
       "    </tr>\n",
       "    <tr>\n",
       "      <th>29.0</th>\n",
       "      <td>65234.500000</td>\n",
       "    </tr>\n",
       "  </tbody>\n",
       "</table>\n",
       "</div>"
      ],
      "text/plain": [
       "                            price_sq_m\n",
       "city_centers_nearest_km               \n",
       "0.0                      190601.378378\n",
       "1.0                      161019.859155\n",
       "2.0                      146191.550360\n",
       "3.0                      122859.525532\n",
       "4.0                      133861.751908\n",
       "5.0                      143557.510046\n",
       "6.0                      149901.643392\n",
       "7.0                      140939.779891\n",
       "8.0                      119194.791878\n",
       "9.0                      109445.077670\n",
       "10.0                     110780.267901\n",
       "11.0                     106062.235479\n",
       "12.0                     107927.723234\n",
       "13.0                     106700.770621\n",
       "14.0                     104295.701481\n",
       "15.0                     102120.416000\n",
       "16.0                      99597.839919\n",
       "17.0                      94599.717439\n",
       "18.0                      95336.567742\n",
       "19.0                      95083.922078\n",
       "20.0                     103429.426230\n",
       "21.0                      89604.906250\n",
       "22.0                      87536.401709\n",
       "23.0                      93562.111111\n",
       "24.0                      81567.000000\n",
       "25.0                      86867.526316\n",
       "26.0                      75171.333333\n",
       "27.0                     132115.000000\n",
       "28.0                      81840.200000\n",
       "29.0                      65234.500000"
      ]
     },
     "execution_count": 107,
     "metadata": {},
     "output_type": "execute_result"
    }
   ],
   "source": [
    "(data.query('locality_name == \"Санкт-Петербург\"')\n",
    "    .pivot_table(index='city_centers_nearest_km', values='price_sq_m', aggfunc='mean')\n",
    ")"
   ]
  },
  {
   "cell_type": "code",
   "execution_count": 108,
   "metadata": {},
   "outputs": [
    {
     "data": {
      "image/png": "[encoded data removed]",
      "text/plain": [
       "<Figure size 432x288 with 1 Axes>"
      ]
     },
     "metadata": {
      "needs_background": "light"
     },
     "output_type": "display_data"
    }
   ],
   "source": [
    "(data.query('locality_name == \"Санкт-Петербург\"')\n",
    "    .pivot_table(index='city_centers_nearest_km', values='price_sq_m', aggfunc='mean')\n",
    "    .plot(grid=True)\n",
    ");"
   ]
  },
  {
   "cell_type": "code",
   "execution_count": 109,
   "metadata": {},
   "outputs": [
    {
     "data": {
      "text/plain": [
       "-0.3269779763059408"
      ]
     },
     "execution_count": 109,
     "metadata": {},
     "output_type": "execute_result"
    }
   ],
   "source": [
    "data['city_centers_nearest_km'].corr(data['price_sq_m'])"
   ]
  },
  {
   "cell_type": "markdown",
   "metadata": {},
   "source": [
    "При приближению к центру города стоимость квадратного метра жилья увеличивается с каждым километром, исключение составляют 6 и 27 километры, видимо там присутствуют какие-то факторы, влияющие на стоимость. "
   ]
  },
  {
   "cell_type": "markdown",
   "metadata": {},
   "source": [
    "<div class=\"alert alert-success\">\n",
    "<h2> Комментарий ревьюера V1<a class=\"tocSkip\"> </h2>\n",
    "\n",
    "<b>Все отлично!👍:</b>\n",
    "Именно так, прослеживается общая тенденция снижения стоимости квартиры при удалении от центра города."
   ]
  },
  {
   "cell_type": "markdown",
   "metadata": {},
   "source": [
    "### Общий вывод"
   ]
  },
  {
   "cell_type": "markdown",
   "metadata": {},
   "source": [
    "Выполнена предобработка исходных данных, добавлены необходимые столбцы, проведен анализ.\n",
    "Среднее время продажи квартиры - 185 дней, медианное - 102 дня. 50% квартир продается в срок до 3 месяцев, продажи до 45 дней можно считать быстрыми, более 500 — необычно долгими.\n",
    "\n",
    "Площадь большинства квартир, представленных в данных, находится в диапазоне от 20 до 100 м². Медианное значение - 52,3 м². Превалируют квартиры имеющие 1, 2 или 3 комнаты.  \n",
    "Выявлены следующие существующие на рынке недвижимости зависимости.  \n",
    "1. В Санкт-Петербурга цена квартиры зависит от удалённости от центра города, исключение составляют 6 и 27 километры от центра, там присутствуют другие факторы, влияющие на стоимость. \n",
    "2. Между общей площадью, жилой, площадью кухни и стоимостью объекта существует положительная существенная корреляция. Увеличение общей площадьи влечет увеличение стоимостьи объекта. \n",
    "3. Квартиры на первом этаже обычно дешевле, чем на других этажах. Квартиры из категории 'другой' оцениваются выше, чем на первом и последнем этажах.\n",
    "4. Цена не зависит от дня недели, месяца или года публикации объявления. Но можно говорить о разном количестве публекуемых объявлениях в зависмости от месяца года и дня недели. Реже объявления публикуются в субботу и воскресенье, январь, май и декабрь.  \n",
    "\n",
    "При анализе стоимости жилья и выявлении факторов на неё влияющих так же необходимо учитывать физическое состояние квартир, год постройки дома, состояние инфраструктуры - наличие поблизости школ, детских садов и прочего.\n",
    "\n",
    "Особое внимание стоит обратить на большое количество пропусков в данных, полученых автоматически на основе картографических данных. В дальнейшем стоит применять меры для предотвращения подобного."
   ]
  },
  {
   "cell_type": "markdown",
   "metadata": {},
   "source": [
    "<div class=\"alert alert-warning\">\n",
    "<h2> Комментарий ревьюера V1<a class=\"tocSkip\"> </h2>\n",
    "\n",
    "<b>Некоторые замечания и рекомендации💡:</b> В итоговом выводе нужно достаточно подробно написать основные пункты выявленных зависимостей. Стоит доработать вывод с учетом моих комментариев по ходу работы. В итоговом выводе также старайся оставлять рекомендации для последующих шагов. Например рекомендации, что можно обработать и проанализировать другие признаки, на что твоим коллегам стоить обратить внимание."
   ]
  },
  {
   "cell_type": "markdown",
   "metadata": {},
   "source": [
    "<div class=\"alert alert-success\">\n",
    "<h2> Комментарий ревьюера V3<a class=\"tocSkip\"> </h2>\n",
    "\n",
    "<b>Все отлично!👍:</b> Отличный вывод, все четко, понятно и структурировано. Вывод в полной мере отражает существующие зависимости, и по нему можно принимать дальнейшие решения.\n",
    "</div>"
   ]
  },
  {
   "cell_type": "markdown",
   "metadata": {},
   "source": [
    "**Чек-лист готовности проекта**\n",
    "\n",
    "Поставьте 'x' в выполненных пунктах. Далее нажмите Shift+Enter."
   ]
  },
  {
   "cell_type": "markdown",
   "metadata": {},
   "source": [
    "- [x]  открыт файл\n",
    "- [x]  файлы изучены (выведены первые строки, метод `info()`, гистограммы и т.д.)\n",
    "- [x]  определены пропущенные значения\n",
    "- [x]  заполнены пропущенные значения там, где это возможно\n",
    "- [x]  есть пояснение, какие пропущенные значения обнаружены\n",
    "- [x]  изменены типы данных\n",
    "- [x]  есть пояснение, в каких столбцах изменены типы и почему\n",
    "- [x]  устранены неявные дубликаты в названиях населённых пунктов\n",
    "- [x]  устранены редкие и выбивающиеся значения (аномалии) во всех столбцах\n",
    "- [x]  посчитано и добавлено в таблицу: цена одного квадратного метра\n",
    "- [x]  посчитано и добавлено в таблицу: день публикации объявления (0 - понедельник, 1 - вторник и т.д.)\n",
    "- [x]  посчитано и добавлено в таблицу: месяц публикации объявления\n",
    "- [x]  посчитано и добавлено в таблицу: год публикации объявления\n",
    "- [x]  посчитано и добавлено в таблицу: тип этажа квартиры (значения — «первый», «последний», «другой»)\n",
    "- [x]  посчитано и добавлено в таблицу: расстояние в км до центра города\n",
    "- [x]  изучены и описаны следующие параметры:\n",
    "        - общая площадь;\n",
    "        - жилая площадь;\n",
    "        - площадь кухни;\n",
    "        - цена объекта;\n",
    "        - количество комнат;\n",
    "        - высота потолков;\n",
    "        - этаж квартиры;\n",
    "        - тип этажа квартиры («первый», «последний», «другой»);\n",
    "        - общее количество этажей в доме;\n",
    "        - расстояние до центра города в метрах;\n",
    "        - расстояние до ближайшего аэропорта;\n",
    "        - расстояние до ближайшего парка;\n",
    "        - день и месяц публикации объявления\n",
    "- [x]  построены гистограммы для каждого параметра\n",
    "- [x]  выполнено задание: \"Изучите, как быстро продавались квартиры (столбец days_exposition). Этот параметр показывает, сколько дней «висело» каждое объявление.\n",
    "    - Постройте гистограмму.\n",
    "    - Посчитайте среднее и медиану.\n",
    "    - В ячейке типа markdown опишите, сколько обычно занимает продажа. Какие продажи можно считать быстрыми, а какие — необычно долгими?\"\n",
    "- [x]  выполнено задание: \"Какие факторы больше всего влияют на общую (полную) стоимость объекта? Постройте графики, которые покажут зависимость цены от указанных ниже параметров. Для подготовки данных перед визуализацией вы можете использовать сводные таблицы.\"\n",
    "        - общей площади;\n",
    "        - жилой площади;\n",
    "        - площади кухни;\n",
    "        - количество комнат;\n",
    "        - типа этажа, на котором расположена квартира (первый, последний, другой);\n",
    "        - даты размещения (день недели, месяц, год);\n",
    "- [x]  выполнено задание: \"Посчитайте среднюю цену одного квадратного метра в 10 населённых пунктах с наибольшим числом объявлений. Выделите населённые пункты с самой высокой и низкой стоимостью квадратного метра. Эти данные можно найти по имени в столбце `locality_name`.\"\n",
    "- [x]  выполнено задание: \"Ранее вы посчитали расстояние до центра в километрах. Теперь выделите квартиры в Санкт-Петербурге с помощью столбца `locality_name` и вычислите среднюю цену каждого километра. Опишите, как стоимость объектов зависит от расстояния до центра города.\"\n",
    "- [x]  в каждом этапе есть промежуточные выводы\n",
    "- [x]  есть общий вывод"
   ]
  },
  {
   "cell_type": "markdown",
   "metadata": {},
   "source": [
    "<div style=\"border:solid Chocolate 2px; padding: 40px\">\n",
    "\n",
    "**Общий вывод по проекту**\n",
    "\n",
    "Спасибо за твой проект! Я уверен, что ты приложила все усилия, чтобы сделать этот проект. Это видно по твоей работе, а сформулированные выводы отражают, насколько успешно ты осваиваешь материал.\n",
    "\n",
    "**Отмечу отдельные положительные моменты проекта🙂**:\n",
    "\n",
    "* Ты полностью следовала всем этапам выполнения задания и справилась почти со всем. Хорошая работа!\n",
    "* Отдельно выделю некоторые выводы, которые ты смогла сформулировать абсолютно точно!\n",
    "* У тебя опрятный и читаемый код. Возможно это звучит банально, однако при работе с чужим кодом это крайне важно)\n",
    "\n",
    "\n",
    "**На что стоит обратить внимание🤓**:\n",
    "\n",
    "* Важно доработать итоговый вывод.\n",
    "* Нужно доработать анализ зависимостей между параметрами квартир.\n",
    "* Остальные рекомендации ты найдешь в моих комментариях!\n",
    "\n",
    "\n",
    "**Желаю удачи и жду твой проект на повторное ревью!**😉"
   ]
  },
  {
   "cell_type": "markdown",
   "metadata": {},
   "source": [
    "<div style=\"border:solid Chocolate 2px; padding: 40px\">\n",
    "\n",
    "**Общий вывод по проекту**\n",
    "\n",
    "**На что стоит обратить внимание🤓**:\n",
    "\n",
    "* Важно доработать итоговый вывод.\n",
    "* Для категориальных признаков нужно построить другие диаграммы и еще раз провести анализ.\n",
    "* Остальные рекомендации ты найдешь в моих комментариях!\n",
    "\n",
    "\n",
    "**Желаю удачи и жду твой проект на повторное ревью!**😉"
   ]
  },
  {
   "cell_type": "markdown",
   "metadata": {},
   "source": [
    "<div style=\"border:solid Chocolate 2px; padding: 40px\">\n",
    "\n",
    "Ты отлично справилась с данной работой! Видно, как ты успешно осваиваешь материал, применяешь полученные знания на практике. Мне было очень приятно проверять твою работу, надеюсь, мои комментарии и советы были для тебя полезными.\n",
    "\n",
    "**Желаю удачи в последующем обучении и исследованиях!**😉"
   ]
  },
  {
   "cell_type": "code",
   "execution_count": null,
   "metadata": {},
   "outputs": [],
   "source": []
  }
 ],
 "metadata": {
  "ExecuteTimeLog": [
   {
    "duration": 828,
    "start_time": "2023-02-23T15:12:04.568Z"
   },
   {
    "duration": 47,
    "start_time": "2023-02-23T15:12:05.398Z"
   },
   {
    "duration": 16,
    "start_time": "2023-02-23T15:12:05.446Z"
   },
   {
    "duration": 4,
    "start_time": "2023-02-23T15:12:05.465Z"
   },
   {
    "duration": 2030,
    "start_time": "2023-02-23T15:12:05.470Z"
   },
   {
    "duration": 10,
    "start_time": "2023-02-23T15:12:07.502Z"
   },
   {
    "duration": 9,
    "start_time": "2023-02-23T15:12:07.513Z"
   },
   {
    "duration": 5,
    "start_time": "2023-02-23T15:12:07.523Z"
   },
   {
    "duration": 18,
    "start_time": "2023-02-23T15:12:07.530Z"
   },
   {
    "duration": 11,
    "start_time": "2023-02-23T15:12:07.551Z"
   },
   {
    "duration": 11,
    "start_time": "2023-02-23T15:12:07.563Z"
   },
   {
    "duration": 8,
    "start_time": "2023-02-23T15:12:07.576Z"
   },
   {
    "duration": 13,
    "start_time": "2023-02-23T15:12:07.586Z"
   },
   {
    "duration": 18,
    "start_time": "2023-02-23T15:12:07.600Z"
   },
   {
    "duration": 7,
    "start_time": "2023-02-23T15:12:07.620Z"
   },
   {
    "duration": 9,
    "start_time": "2023-02-23T15:12:07.644Z"
   },
   {
    "duration": 136,
    "start_time": "2023-02-23T15:12:07.654Z"
   },
   {
    "duration": 58,
    "start_time": "2023-02-23T15:12:07.792Z"
   },
   {
    "duration": 8,
    "start_time": "2023-02-23T15:12:07.852Z"
   },
   {
    "duration": 150,
    "start_time": "2023-02-23T15:12:07.863Z"
   },
   {
    "duration": 10,
    "start_time": "2023-02-23T15:12:08.016Z"
   },
   {
    "duration": 39,
    "start_time": "2023-02-23T15:12:08.028Z"
   },
   {
    "duration": 7,
    "start_time": "2023-02-23T15:12:08.068Z"
   },
   {
    "duration": 12,
    "start_time": "2023-02-23T15:12:08.077Z"
   },
   {
    "duration": 58,
    "start_time": "2023-02-23T15:12:08.090Z"
   },
   {
    "duration": 6,
    "start_time": "2023-02-23T15:12:08.150Z"
   },
   {
    "duration": 26,
    "start_time": "2023-02-23T15:12:08.157Z"
   },
   {
    "duration": 7,
    "start_time": "2023-02-23T15:12:08.187Z"
   },
   {
    "duration": 17,
    "start_time": "2023-02-23T15:12:08.195Z"
   },
   {
    "duration": 42,
    "start_time": "2023-02-23T15:12:08.213Z"
   },
   {
    "duration": 6,
    "start_time": "2023-02-23T15:12:08.257Z"
   },
   {
    "duration": 19,
    "start_time": "2023-02-23T15:12:08.264Z"
   },
   {
    "duration": 6,
    "start_time": "2023-02-23T15:12:08.285Z"
   },
   {
    "duration": 12,
    "start_time": "2023-02-23T15:12:08.292Z"
   },
   {
    "duration": 4,
    "start_time": "2023-02-23T15:12:08.305Z"
   },
   {
    "duration": 82,
    "start_time": "2023-02-23T15:12:08.311Z"
   },
   {
    "duration": 8,
    "start_time": "2023-02-23T15:12:08.396Z"
   },
   {
    "duration": 10,
    "start_time": "2023-02-23T15:12:08.406Z"
   },
   {
    "duration": 10,
    "start_time": "2023-02-23T15:12:08.417Z"
   },
   {
    "duration": 18,
    "start_time": "2023-02-23T15:12:08.428Z"
   },
   {
    "duration": 5,
    "start_time": "2023-02-23T15:12:08.448Z"
   },
   {
    "duration": 10,
    "start_time": "2023-02-23T15:12:08.455Z"
   },
   {
    "duration": 8,
    "start_time": "2023-02-23T15:12:08.466Z"
   },
   {
    "duration": 11,
    "start_time": "2023-02-23T15:12:08.475Z"
   },
   {
    "duration": 28,
    "start_time": "2023-02-23T15:12:08.487Z"
   },
   {
    "duration": 143,
    "start_time": "2023-02-23T15:12:08.517Z"
   },
   {
    "duration": 119,
    "start_time": "2023-02-23T15:12:08.662Z"
   },
   {
    "duration": 12,
    "start_time": "2023-02-23T15:12:08.783Z"
   },
   {
    "duration": 136,
    "start_time": "2023-02-23T15:12:08.796Z"
   },
   {
    "duration": 121,
    "start_time": "2023-02-23T15:12:08.934Z"
   },
   {
    "duration": 9,
    "start_time": "2023-02-23T15:12:09.056Z"
   },
   {
    "duration": 242,
    "start_time": "2023-02-23T15:12:09.067Z"
   },
   {
    "duration": 115,
    "start_time": "2023-02-23T15:12:09.312Z"
   },
   {
    "duration": 20,
    "start_time": "2023-02-23T15:12:09.429Z"
   },
   {
    "duration": 153,
    "start_time": "2023-02-23T15:12:09.451Z"
   },
   {
    "duration": 129,
    "start_time": "2023-02-23T15:12:09.606Z"
   },
   {
    "duration": 14,
    "start_time": "2023-02-23T15:12:09.737Z"
   },
   {
    "duration": 153,
    "start_time": "2023-02-23T15:12:09.753Z"
   },
   {
    "duration": 121,
    "start_time": "2023-02-23T15:12:09.908Z"
   },
   {
    "duration": 5,
    "start_time": "2023-02-23T15:12:10.031Z"
   },
   {
    "duration": 144,
    "start_time": "2023-02-23T15:12:10.045Z"
   },
   {
    "duration": 126,
    "start_time": "2023-02-23T15:12:10.191Z"
   },
   {
    "duration": 8,
    "start_time": "2023-02-23T15:12:10.319Z"
   },
   {
    "duration": 158,
    "start_time": "2023-02-23T15:12:10.329Z"
   },
   {
    "duration": 163,
    "start_time": "2023-02-23T15:12:10.490Z"
   },
   {
    "duration": 8,
    "start_time": "2023-02-23T15:12:10.655Z"
   },
   {
    "duration": 96,
    "start_time": "2023-02-23T15:12:10.665Z"
   },
   {
    "duration": 207,
    "start_time": "2023-02-23T15:12:10.763Z"
   },
   {
    "duration": 9,
    "start_time": "2023-02-23T15:12:10.971Z"
   },
   {
    "duration": 260,
    "start_time": "2023-02-23T15:12:10.982Z"
   },
   {
    "duration": 124,
    "start_time": "2023-02-23T15:12:11.244Z"
   },
   {
    "duration": 9,
    "start_time": "2023-02-23T15:12:11.369Z"
   },
   {
    "duration": 154,
    "start_time": "2023-02-23T15:12:11.380Z"
   },
   {
    "duration": 134,
    "start_time": "2023-02-23T15:12:11.536Z"
   },
   {
    "duration": 9,
    "start_time": "2023-02-23T15:12:11.672Z"
   },
   {
    "duration": 151,
    "start_time": "2023-02-23T15:12:11.682Z"
   },
   {
    "duration": 131,
    "start_time": "2023-02-23T15:12:11.834Z"
   },
   {
    "duration": 9,
    "start_time": "2023-02-23T15:12:11.967Z"
   },
   {
    "duration": 154,
    "start_time": "2023-02-23T15:12:11.978Z"
   },
   {
    "duration": 114,
    "start_time": "2023-02-23T15:12:12.134Z"
   },
   {
    "duration": 10,
    "start_time": "2023-02-23T15:12:12.250Z"
   },
   {
    "duration": 156,
    "start_time": "2023-02-23T15:12:12.267Z"
   },
   {
    "duration": 165,
    "start_time": "2023-02-23T15:12:12.425Z"
   },
   {
    "duration": 128,
    "start_time": "2023-02-23T15:12:12.592Z"
   },
   {
    "duration": 129,
    "start_time": "2023-02-23T15:12:12.722Z"
   },
   {
    "duration": 137,
    "start_time": "2023-02-23T15:12:12.853Z"
   },
   {
    "duration": 135,
    "start_time": "2023-02-23T15:12:12.991Z"
   },
   {
    "duration": 20,
    "start_time": "2023-02-23T15:12:13.128Z"
   },
   {
    "duration": 183,
    "start_time": "2023-02-23T15:12:13.151Z"
   },
   {
    "duration": 11,
    "start_time": "2023-02-23T15:12:13.335Z"
   },
   {
    "duration": 180,
    "start_time": "2023-02-23T15:12:13.347Z"
   },
   {
    "duration": 16,
    "start_time": "2023-02-23T15:12:13.529Z"
   },
   {
    "duration": 177,
    "start_time": "2023-02-23T15:12:13.546Z"
   },
   {
    "duration": 5,
    "start_time": "2023-02-23T15:12:13.725Z"
   },
   {
    "duration": 189,
    "start_time": "2023-02-23T15:12:13.745Z"
   },
   {
    "duration": 10,
    "start_time": "2023-02-23T15:12:13.936Z"
   },
   {
    "duration": 173,
    "start_time": "2023-02-23T15:12:13.947Z"
   },
   {
    "duration": 182,
    "start_time": "2023-02-23T15:12:14.122Z"
   },
   {
    "duration": 6,
    "start_time": "2023-02-23T15:12:14.305Z"
   },
   {
    "duration": 252,
    "start_time": "2023-02-23T15:12:14.312Z"
   },
   {
    "duration": 5,
    "start_time": "2023-02-23T15:12:14.566Z"
   },
   {
    "duration": 176,
    "start_time": "2023-02-23T15:12:14.573Z"
   },
   {
    "duration": 6,
    "start_time": "2023-02-23T15:12:14.750Z"
   },
   {
    "duration": 7,
    "start_time": "2023-02-23T15:12:14.757Z"
   },
   {
    "duration": 23,
    "start_time": "2023-02-23T15:12:14.765Z"
   },
   {
    "duration": 16,
    "start_time": "2023-02-23T15:12:14.789Z"
   },
   {
    "duration": 45,
    "start_time": "2023-02-23T15:12:14.806Z"
   },
   {
    "duration": 19,
    "start_time": "2023-02-23T15:12:14.852Z"
   },
   {
    "duration": 168,
    "start_time": "2023-02-23T15:12:14.873Z"
   },
   {
    "duration": 5,
    "start_time": "2023-02-23T15:12:15.043Z"
   },
   {
    "duration": 884,
    "start_time": "2023-02-25T10:15:55.972Z"
   },
   {
    "duration": 39,
    "start_time": "2023-02-25T10:15:56.858Z"
   },
   {
    "duration": 15,
    "start_time": "2023-02-25T10:15:56.899Z"
   },
   {
    "duration": 4,
    "start_time": "2023-02-25T10:15:56.916Z"
   },
   {
    "duration": 1932,
    "start_time": "2023-02-25T10:15:56.947Z"
   },
   {
    "duration": 10,
    "start_time": "2023-02-25T10:15:58.880Z"
   },
   {
    "duration": 8,
    "start_time": "2023-02-25T10:15:58.891Z"
   },
   {
    "duration": 4,
    "start_time": "2023-02-25T10:15:58.901Z"
   },
   {
    "duration": 5,
    "start_time": "2023-02-25T10:15:58.906Z"
   },
   {
    "duration": 9,
    "start_time": "2023-02-25T10:15:58.913Z"
   },
   {
    "duration": 10,
    "start_time": "2023-02-25T10:15:58.923Z"
   },
   {
    "duration": 7,
    "start_time": "2023-02-25T10:15:58.934Z"
   },
   {
    "duration": 9,
    "start_time": "2023-02-25T10:15:58.943Z"
   },
   {
    "duration": 12,
    "start_time": "2023-02-25T10:15:58.957Z"
   },
   {
    "duration": 6,
    "start_time": "2023-02-25T10:15:58.972Z"
   },
   {
    "duration": 8,
    "start_time": "2023-02-25T10:15:58.979Z"
   },
   {
    "duration": 139,
    "start_time": "2023-02-25T10:15:58.988Z"
   },
   {
    "duration": 38,
    "start_time": "2023-02-25T10:15:59.128Z"
   },
   {
    "duration": 8,
    "start_time": "2023-02-25T10:15:59.168Z"
   },
   {
    "duration": 148,
    "start_time": "2023-02-25T10:15:59.178Z"
   },
   {
    "duration": 8,
    "start_time": "2023-02-25T10:15:59.328Z"
   },
   {
    "duration": 46,
    "start_time": "2023-02-25T10:15:59.337Z"
   },
   {
    "duration": 7,
    "start_time": "2023-02-25T10:15:59.385Z"
   },
   {
    "duration": 9,
    "start_time": "2023-02-25T10:15:59.393Z"
   },
   {
    "duration": 72,
    "start_time": "2023-02-25T10:15:59.403Z"
   },
   {
    "duration": 6,
    "start_time": "2023-02-25T10:15:59.477Z"
   },
   {
    "duration": 23,
    "start_time": "2023-02-25T10:15:59.484Z"
   },
   {
    "duration": 7,
    "start_time": "2023-02-25T10:15:59.509Z"
   },
   {
    "duration": 9,
    "start_time": "2023-02-25T10:15:59.517Z"
   },
   {
    "duration": 37,
    "start_time": "2023-02-25T10:15:59.527Z"
   },
   {
    "duration": 5,
    "start_time": "2023-02-25T10:15:59.565Z"
   },
   {
    "duration": 18,
    "start_time": "2023-02-25T10:15:59.572Z"
   },
   {
    "duration": 6,
    "start_time": "2023-02-25T10:15:59.591Z"
   },
   {
    "duration": 12,
    "start_time": "2023-02-25T10:15:59.599Z"
   },
   {
    "duration": 10,
    "start_time": "2023-02-25T10:15:59.613Z"
   },
   {
    "duration": 69,
    "start_time": "2023-02-25T10:15:59.624Z"
   },
   {
    "duration": 7,
    "start_time": "2023-02-25T10:15:59.694Z"
   },
   {
    "duration": 6,
    "start_time": "2023-02-25T10:15:59.705Z"
   },
   {
    "duration": 9,
    "start_time": "2023-02-25T10:15:59.712Z"
   },
   {
    "duration": 7,
    "start_time": "2023-02-25T10:15:59.722Z"
   },
   {
    "duration": 15,
    "start_time": "2023-02-25T10:15:59.733Z"
   },
   {
    "duration": 12,
    "start_time": "2023-02-25T10:15:59.750Z"
   },
   {
    "duration": 13,
    "start_time": "2023-02-25T10:15:59.765Z"
   },
   {
    "duration": 5,
    "start_time": "2023-02-25T10:15:59.779Z"
   },
   {
    "duration": 26,
    "start_time": "2023-02-25T10:15:59.785Z"
   },
   {
    "duration": 135,
    "start_time": "2023-02-25T10:15:59.813Z"
   },
   {
    "duration": 133,
    "start_time": "2023-02-25T10:15:59.950Z"
   },
   {
    "duration": 9,
    "start_time": "2023-02-25T10:16:00.085Z"
   },
   {
    "duration": 135,
    "start_time": "2023-02-25T10:16:00.096Z"
   },
   {
    "duration": 115,
    "start_time": "2023-02-25T10:16:00.233Z"
   },
   {
    "duration": 13,
    "start_time": "2023-02-25T10:16:00.351Z"
   },
   {
    "duration": 231,
    "start_time": "2023-02-25T10:16:00.366Z"
   },
   {
    "duration": 116,
    "start_time": "2023-02-25T10:16:00.598Z"
   },
   {
    "duration": 8,
    "start_time": "2023-02-25T10:16:00.715Z"
   },
   {
    "duration": 164,
    "start_time": "2023-02-25T10:16:00.724Z"
   },
   {
    "duration": 125,
    "start_time": "2023-02-25T10:16:00.889Z"
   },
   {
    "duration": 8,
    "start_time": "2023-02-25T10:16:01.016Z"
   },
   {
    "duration": 169,
    "start_time": "2023-02-25T10:16:01.026Z"
   },
   {
    "duration": 122,
    "start_time": "2023-02-25T10:16:01.197Z"
   },
   {
    "duration": 5,
    "start_time": "2023-02-25T10:16:01.320Z"
   },
   {
    "duration": 184,
    "start_time": "2023-02-25T10:16:01.326Z"
   },
   {
    "duration": 121,
    "start_time": "2023-02-25T10:16:01.511Z"
   },
   {
    "duration": 18,
    "start_time": "2023-02-25T10:16:01.633Z"
   },
   {
    "duration": 159,
    "start_time": "2023-02-25T10:16:01.653Z"
   },
   {
    "duration": 112,
    "start_time": "2023-02-25T10:16:01.814Z"
   },
   {
    "duration": 9,
    "start_time": "2023-02-25T10:16:01.927Z"
   },
   {
    "duration": 87,
    "start_time": "2023-02-25T10:16:01.948Z"
   },
   {
    "duration": 226,
    "start_time": "2023-02-25T10:16:02.036Z"
   },
   {
    "duration": 14,
    "start_time": "2023-02-25T10:16:02.264Z"
   },
   {
    "duration": 316,
    "start_time": "2023-02-25T10:16:02.280Z"
   },
   {
    "duration": 102,
    "start_time": "2023-02-25T10:16:02.597Z"
   },
   {
    "duration": 8,
    "start_time": "2023-02-25T10:16:02.702Z"
   },
   {
    "duration": 174,
    "start_time": "2023-02-25T10:16:02.711Z"
   },
   {
    "duration": 121,
    "start_time": "2023-02-25T10:16:02.887Z"
   },
   {
    "duration": 8,
    "start_time": "2023-02-25T10:16:03.010Z"
   },
   {
    "duration": 160,
    "start_time": "2023-02-25T10:16:03.019Z"
   },
   {
    "duration": 125,
    "start_time": "2023-02-25T10:16:03.181Z"
   },
   {
    "duration": 10,
    "start_time": "2023-02-25T10:16:03.307Z"
   },
   {
    "duration": 161,
    "start_time": "2023-02-25T10:16:03.318Z"
   },
   {
    "duration": 108,
    "start_time": "2023-02-25T10:16:03.481Z"
   },
   {
    "duration": 8,
    "start_time": "2023-02-25T10:16:03.590Z"
   },
   {
    "duration": 137,
    "start_time": "2023-02-25T10:16:03.599Z"
   },
   {
    "duration": 162,
    "start_time": "2023-02-25T10:16:03.738Z"
   },
   {
    "duration": 132,
    "start_time": "2023-02-25T10:16:03.901Z"
   },
   {
    "duration": 143,
    "start_time": "2023-02-25T10:16:04.035Z"
   },
   {
    "duration": 136,
    "start_time": "2023-02-25T10:16:04.180Z"
   },
   {
    "duration": 155,
    "start_time": "2023-02-25T10:16:04.318Z"
   },
   {
    "duration": 11,
    "start_time": "2023-02-25T10:16:04.475Z"
   },
   {
    "duration": 4,
    "start_time": "2023-02-25T10:16:04.487Z"
   },
   {
    "duration": 12,
    "start_time": "2023-02-25T10:16:04.492Z"
   },
   {
    "duration": 6,
    "start_time": "2023-02-25T10:16:04.506Z"
   },
   {
    "duration": 192,
    "start_time": "2023-02-25T10:16:04.513Z"
   },
   {
    "duration": 54,
    "start_time": "2023-02-25T10:16:04.707Z"
   },
   {
    "duration": 7,
    "start_time": "2023-02-25T10:16:04.764Z"
   },
   {
    "duration": 143,
    "start_time": "2023-02-25T10:16:04.773Z"
   },
   {
    "duration": 148,
    "start_time": "2023-02-25T10:16:04.917Z"
   },
   {
    "duration": 165,
    "start_time": "2023-02-25T10:16:05.073Z"
   },
   {
    "duration": 214,
    "start_time": "2023-02-25T10:16:05.240Z"
   },
   {
    "duration": 196,
    "start_time": "2023-02-25T10:16:05.456Z"
   },
   {
    "duration": 263,
    "start_time": "2023-02-25T10:16:05.655Z"
   },
   {
    "duration": 189,
    "start_time": "2023-02-25T10:16:05.922Z"
   },
   {
    "duration": 6,
    "start_time": "2023-02-25T10:16:06.113Z"
   },
   {
    "duration": 32,
    "start_time": "2023-02-25T10:16:06.120Z"
   },
   {
    "duration": 15,
    "start_time": "2023-02-25T10:16:06.154Z"
   },
   {
    "duration": 21,
    "start_time": "2023-02-25T10:16:06.172Z"
   },
   {
    "duration": 16,
    "start_time": "2023-02-25T10:16:06.195Z"
   },
   {
    "duration": 156,
    "start_time": "2023-02-25T10:16:06.213Z"
   },
   {
    "duration": 5,
    "start_time": "2023-02-25T10:16:06.372Z"
   },
   {
    "duration": 49,
    "start_time": "2023-02-25T10:20:47.674Z"
   },
   {
    "duration": 855,
    "start_time": "2023-02-26T11:45:59.794Z"
   },
   {
    "duration": 40,
    "start_time": "2023-02-26T11:46:00.651Z"
   },
   {
    "duration": 23,
    "start_time": "2023-02-26T11:46:00.693Z"
   },
   {
    "duration": 11,
    "start_time": "2023-02-26T11:46:00.718Z"
   },
   {
    "duration": 1960,
    "start_time": "2023-02-26T11:46:00.731Z"
   },
   {
    "duration": 15,
    "start_time": "2023-02-26T11:46:02.693Z"
   },
   {
    "duration": 12,
    "start_time": "2023-02-26T11:46:02.709Z"
   },
   {
    "duration": 6,
    "start_time": "2023-02-26T11:46:02.722Z"
   },
   {
    "duration": 11,
    "start_time": "2023-02-26T11:46:02.730Z"
   },
   {
    "duration": 9,
    "start_time": "2023-02-26T11:46:02.743Z"
   },
   {
    "duration": 11,
    "start_time": "2023-02-26T11:46:02.753Z"
   },
   {
    "duration": 7,
    "start_time": "2023-02-26T11:46:02.765Z"
   },
   {
    "duration": 33,
    "start_time": "2023-02-26T11:46:02.774Z"
   },
   {
    "duration": 6,
    "start_time": "2023-02-26T11:46:02.809Z"
   },
   {
    "duration": 9,
    "start_time": "2023-02-26T11:46:02.817Z"
   },
   {
    "duration": 12,
    "start_time": "2023-02-26T11:46:02.827Z"
   },
   {
    "duration": 112,
    "start_time": "2023-02-26T11:46:02.841Z"
   },
   {
    "duration": 36,
    "start_time": "2023-02-26T11:46:02.954Z"
   },
   {
    "duration": 15,
    "start_time": "2023-02-26T11:46:02.991Z"
   },
   {
    "duration": 142,
    "start_time": "2023-02-26T11:46:03.007Z"
   },
   {
    "duration": 9,
    "start_time": "2023-02-26T11:46:03.151Z"
   },
   {
    "duration": 27,
    "start_time": "2023-02-26T11:46:03.161Z"
   },
   {
    "duration": 16,
    "start_time": "2023-02-26T11:46:03.190Z"
   },
   {
    "duration": 10,
    "start_time": "2023-02-26T11:46:03.207Z"
   },
   {
    "duration": 35,
    "start_time": "2023-02-26T11:46:03.218Z"
   },
   {
    "duration": 5,
    "start_time": "2023-02-26T11:46:03.255Z"
   },
   {
    "duration": 44,
    "start_time": "2023-02-26T11:46:03.261Z"
   },
   {
    "duration": 6,
    "start_time": "2023-02-26T11:46:03.306Z"
   },
   {
    "duration": 18,
    "start_time": "2023-02-26T11:46:03.313Z"
   },
   {
    "duration": 21,
    "start_time": "2023-02-26T11:46:03.333Z"
   },
   {
    "duration": 6,
    "start_time": "2023-02-26T11:46:03.356Z"
   },
   {
    "duration": 26,
    "start_time": "2023-02-26T11:46:03.363Z"
   },
   {
    "duration": 14,
    "start_time": "2023-02-26T11:46:03.390Z"
   },
   {
    "duration": 6,
    "start_time": "2023-02-26T11:46:03.406Z"
   },
   {
    "duration": 5,
    "start_time": "2023-02-26T11:46:03.413Z"
   },
   {
    "duration": 36,
    "start_time": "2023-02-26T11:46:03.420Z"
   },
   {
    "duration": 6,
    "start_time": "2023-02-26T11:46:03.457Z"
   },
   {
    "duration": 11,
    "start_time": "2023-02-26T11:46:03.464Z"
   },
   {
    "duration": 28,
    "start_time": "2023-02-26T11:46:03.476Z"
   },
   {
    "duration": 5,
    "start_time": "2023-02-26T11:46:03.505Z"
   },
   {
    "duration": 5,
    "start_time": "2023-02-26T11:46:03.515Z"
   },
   {
    "duration": 10,
    "start_time": "2023-02-26T11:46:03.521Z"
   },
   {
    "duration": 6,
    "start_time": "2023-02-26T11:46:03.533Z"
   },
   {
    "duration": 5,
    "start_time": "2023-02-26T11:46:03.540Z"
   },
   {
    "duration": 25,
    "start_time": "2023-02-26T11:46:03.547Z"
   },
   {
    "duration": 138,
    "start_time": "2023-02-26T11:46:03.574Z"
   },
   {
    "duration": 108,
    "start_time": "2023-02-26T11:46:03.714Z"
   },
   {
    "duration": 8,
    "start_time": "2023-02-26T11:46:03.823Z"
   },
   {
    "duration": 128,
    "start_time": "2023-02-26T11:46:03.832Z"
   },
   {
    "duration": 109,
    "start_time": "2023-02-26T11:46:03.962Z"
   },
   {
    "duration": 8,
    "start_time": "2023-02-26T11:46:04.072Z"
   },
   {
    "duration": 210,
    "start_time": "2023-02-26T11:46:04.082Z"
   },
   {
    "duration": 113,
    "start_time": "2023-02-26T11:46:04.293Z"
   },
   {
    "duration": 9,
    "start_time": "2023-02-26T11:46:04.407Z"
   },
   {
    "duration": 154,
    "start_time": "2023-02-26T11:46:04.417Z"
   },
   {
    "duration": 117,
    "start_time": "2023-02-26T11:46:04.573Z"
   },
   {
    "duration": 13,
    "start_time": "2023-02-26T11:46:04.691Z"
   },
   {
    "duration": 137,
    "start_time": "2023-02-26T11:46:04.706Z"
   },
   {
    "duration": 115,
    "start_time": "2023-02-26T11:46:04.844Z"
   },
   {
    "duration": 6,
    "start_time": "2023-02-26T11:46:04.960Z"
   },
   {
    "duration": 156,
    "start_time": "2023-02-26T11:46:04.968Z"
   },
   {
    "duration": 121,
    "start_time": "2023-02-26T11:46:05.126Z"
   },
   {
    "duration": 10,
    "start_time": "2023-02-26T11:46:05.249Z"
   },
   {
    "duration": 154,
    "start_time": "2023-02-26T11:46:05.260Z"
   },
   {
    "duration": 114,
    "start_time": "2023-02-26T11:46:05.416Z"
   },
   {
    "duration": 8,
    "start_time": "2023-02-26T11:46:05.531Z"
   },
   {
    "duration": 83,
    "start_time": "2023-02-26T11:46:05.540Z"
   },
   {
    "duration": 199,
    "start_time": "2023-02-26T11:46:05.624Z"
   },
   {
    "duration": 9,
    "start_time": "2023-02-26T11:46:05.824Z"
   },
   {
    "duration": 230,
    "start_time": "2023-02-26T11:46:05.834Z"
   },
   {
    "duration": 113,
    "start_time": "2023-02-26T11:46:06.066Z"
   },
   {
    "duration": 7,
    "start_time": "2023-02-26T11:46:06.181Z"
   },
   {
    "duration": 134,
    "start_time": "2023-02-26T11:46:06.189Z"
   },
   {
    "duration": 110,
    "start_time": "2023-02-26T11:46:06.325Z"
   },
   {
    "duration": 8,
    "start_time": "2023-02-26T11:46:06.436Z"
   },
   {
    "duration": 158,
    "start_time": "2023-02-26T11:46:06.446Z"
   },
   {
    "duration": 148,
    "start_time": "2023-02-26T11:46:06.606Z"
   },
   {
    "duration": 11,
    "start_time": "2023-02-26T11:46:06.756Z"
   },
   {
    "duration": 154,
    "start_time": "2023-02-26T11:46:06.769Z"
   },
   {
    "duration": 106,
    "start_time": "2023-02-26T11:46:06.924Z"
   },
   {
    "duration": 9,
    "start_time": "2023-02-26T11:46:07.031Z"
   },
   {
    "duration": 146,
    "start_time": "2023-02-26T11:46:07.042Z"
   },
   {
    "duration": 148,
    "start_time": "2023-02-26T11:46:07.189Z"
   },
   {
    "duration": 114,
    "start_time": "2023-02-26T11:46:07.339Z"
   },
   {
    "duration": 126,
    "start_time": "2023-02-26T11:46:07.455Z"
   },
   {
    "duration": 131,
    "start_time": "2023-02-26T11:46:07.583Z"
   },
   {
    "duration": 120,
    "start_time": "2023-02-26T11:46:07.715Z"
   },
   {
    "duration": 9,
    "start_time": "2023-02-26T11:46:07.836Z"
   },
   {
    "duration": 4,
    "start_time": "2023-02-26T11:46:07.847Z"
   },
   {
    "duration": 12,
    "start_time": "2023-02-26T11:46:07.853Z"
   },
   {
    "duration": 6,
    "start_time": "2023-02-26T11:46:07.867Z"
   },
   {
    "duration": 168,
    "start_time": "2023-02-26T11:46:07.874Z"
   },
   {
    "duration": 36,
    "start_time": "2023-02-26T11:46:08.043Z"
   },
   {
    "duration": 23,
    "start_time": "2023-02-26T11:46:08.080Z"
   },
   {
    "duration": 142,
    "start_time": "2023-02-26T11:46:08.105Z"
   },
   {
    "duration": 145,
    "start_time": "2023-02-26T11:46:08.248Z"
   },
   {
    "duration": 141,
    "start_time": "2023-02-26T11:46:08.395Z"
   },
   {
    "duration": 129,
    "start_time": "2023-02-26T11:46:08.537Z"
   },
   {
    "duration": 143,
    "start_time": "2023-02-26T11:46:08.668Z"
   },
   {
    "duration": 217,
    "start_time": "2023-02-26T11:46:08.813Z"
   },
   {
    "duration": 157,
    "start_time": "2023-02-26T11:46:09.031Z"
   },
   {
    "duration": 39,
    "start_time": "2023-02-26T11:46:09.190Z"
   },
   {
    "duration": 4,
    "start_time": "2023-02-26T11:46:09.231Z"
   },
   {
    "duration": 24,
    "start_time": "2023-02-26T11:46:09.237Z"
   },
   {
    "duration": 13,
    "start_time": "2023-02-26T11:46:09.263Z"
   },
   {
    "duration": 30,
    "start_time": "2023-02-26T11:46:09.278Z"
   },
   {
    "duration": 17,
    "start_time": "2023-02-26T11:46:09.309Z"
   },
   {
    "duration": 153,
    "start_time": "2023-02-26T11:46:09.327Z"
   },
   {
    "duration": 6,
    "start_time": "2023-02-26T11:46:09.481Z"
   }
  ],
  "kernelspec": {
   "display_name": "Python 3 (ipykernel)",
   "language": "python",
   "name": "python3"
  },
  "language_info": {
   "codemirror_mode": {
    "name": "ipython",
    "version": 3
   },
   "file_extension": ".py",
   "mimetype": "text/x-python",
   "name": "python",
   "nbconvert_exporter": "python",
   "pygments_lexer": "ipython3",
   "version": "3.9.5"
  },
  "toc": {
   "base_numbering": 1,
   "nav_menu": {},
   "number_sections": true,
   "sideBar": true,
   "skip_h1_title": true,
   "title_cell": "Table of Contents",
   "title_sidebar": "Contents",
   "toc_cell": false,
   "toc_position": {},
   "toc_section_display": true,
   "toc_window_display": false
  }
 },
 "nbformat": 4,
 "nbformat_minor": 2
}
